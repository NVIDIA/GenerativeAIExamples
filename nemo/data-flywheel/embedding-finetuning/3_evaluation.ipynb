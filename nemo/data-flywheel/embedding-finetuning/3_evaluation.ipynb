{
 "cells": [
  {
   "cell_type": "markdown",
   "id": "f5f70a20",
   "metadata": {},
   "source": [
    "# Part III: Model Evaluation Using NeMo Evaluator\n",
    "\n",
    "This notebook covers the following:\n",
    "\n",
    "* [Pre-requisites: Configurations and Health Checks](#step-0)\n",
    "* [Evaluate the Custom Model on Scidocs (BEIR) zero-shot benchmark](#step-1)"
   ]
  },
  {
   "cell_type": "code",
   "execution_count": 1,
   "id": "1fb04eb2",
   "metadata": {},
   "outputs": [],
   "source": [
    "from time import sleep, time\n",
    "from nemo_microservices import NeMoMicroservices"
   ]
  },
  {
   "cell_type": "markdown",
   "id": "ebbbe8b5",
   "metadata": {},
   "source": [
    "---\n",
    "<a id=\"step-0\"></a>\n",
    "## Prerequisites: Configurations and Health Checks"
   ]
  },
  {
   "cell_type": "markdown",
   "id": "076335b3",
   "metadata": {},
   "source": [
    "Before you proceed, make sure that you completed the previous notebooks on data preparation and model fine-tuning to obtain the assets required to follow along."
   ]
  },
  {
   "cell_type": "markdown",
   "id": "d6b0ffff",
   "metadata": {},
   "source": [
    "### Configure NeMo Microservices Endpoints"
   ]
  },
  {
   "cell_type": "markdown",
   "id": "341d85f8",
   "metadata": {},
   "source": [
    "The following code imports necessary configurations and prints the endpoints for the NeMo Data Store, Entity Store, Customizer, Evaluator, and NIM, as well as the namespace and base model."
   ]
  },
  {
   "cell_type": "code",
   "execution_count": 2,
   "id": "de0f4fd6",
   "metadata": {},
   "outputs": [],
   "source": [
    "from config import *\n",
    "\n",
    "# Initialize NeMo Microservices SDK client\n",
    "nemo_client = NeMoMicroservices(\n",
    "    base_url=NEMO_URL,\n",
    "    inference_base_url=NIM_URL,\n",
    ")"
   ]
  },
  {
   "cell_type": "markdown",
   "id": "11b017a8",
   "metadata": {},
   "source": [
    "Paste the Embedding Model Name from your previous notebook"
   ]
  },
  {
   "cell_type": "code",
   "execution_count": 3,
   "id": "63f9b5f8",
   "metadata": {},
   "outputs": [],
   "source": [
    "EMBEDDING_MODEL_NAME = f\"{NMS_NAMESPACE}/{OUTPUT_MODEL_NAME_EMBEDDING}\" # update this if you used a different name\n",
    "\n",
    "# Check if the embedding model is hosted by NVIDIA NIM\n",
    "models = nemo_client.inference.models.list()\n",
    "model_names = [model.id for model in models.data]\n",
    "\n",
    "assert EMBEDDING_MODEL_NAME in model_names, \\\n",
    "    f\"Model {EMBEDDING_MODEL_NAME} not found\""
   ]
  },
  {
   "cell_type": "markdown",
   "id": "ce4d6c31",
   "metadata": {},
   "source": [
    "---\n",
    "<a id=\"step-1\"></a>\n",
    "## Evaluate the Custom Model\n",
    "\n",
    "For the purposes of showcasing zero-shot generalization, we will run the `SciDocs` benchmark from the [Benchmarking Information Retrieval (BEIR)](https://github.com/beir-cellar/beir) benchmark suite.\n",
    "\n",
    "We choose the `SciDocs` benchmark because its core purpose is to assess a model's ability to find and retrieve a scientific paper that should be cited by another given paper. While this benchmark data has differences from the `SPECTER` dataset that we trained (such as the length of the passages), it is roughly in-domain of scientific data."
   ]
  },
  {
   "cell_type": "markdown",
   "id": "9bd56cc3",
   "metadata": {},
   "source": [
    "### Create a Target Configuration\n",
    "\n",
    "The first step in evaluation is to create a target configuration. This specifies parameters for the target endpoint being evaluated."
   ]
  },
  {
   "cell_type": "code",
   "execution_count": 4,
   "id": "2d476a88",
   "metadata": {},
   "outputs": [
    {
     "name": "stdout",
     "output_type": "stream",
     "text": [
      "Embedding URL:  http://nim.test/v1/embeddings\n",
      "Embedding Model Name:  embed-sft-ns/fullweight_sft_embedding\n"
     ]
    }
   ],
   "source": [
    "EMBEDDING_URL = f\"{NIM_URL}/v1/embeddings\"\n",
    "\n",
    "print(\"Embedding URL: \", EMBEDDING_URL)\n",
    "print(\"Embedding Model Name: \", EMBEDDING_MODEL_NAME)\n",
    "\n",
    "retriever_target_config = {\n",
    " \"type\": \"retriever\",\n",
    " \"retriever\": {\n",
    "   \"pipeline\": {\n",
    "     \"query_embedding_model\": {\n",
    "       \"api_endpoint\": {\n",
    "         \"url\": EMBEDDING_URL,\n",
    "         \"model_id\": EMBEDDING_MODEL_NAME,\n",
    "         \"api_key\": \"\"\n",
    "       }\n",
    "     },\n",
    "     \"index_embedding_model\": {\n",
    "       \"api_endpoint\": {\n",
    "         \"url\": EMBEDDING_URL,\n",
    "         \"model_id\": EMBEDDING_MODEL_NAME,\n",
    "         \"api_key\": \"\"\n",
    "       }\n",
    "     },\n",
    "     \"top_k\": 10\n",
    "   }\n",
    " }\n",
    "}"
   ]
  },
  {
   "cell_type": "markdown",
   "id": "e6a1243c",
   "metadata": {},
   "source": [
    "### Create an Evaluation Configuration"
   ]
  },
  {
   "cell_type": "markdown",
   "id": "2a8c1a4c",
   "metadata": {},
   "source": [
    "NeMo Evaluator supports the `BEIR` format for evaluation, and can also run the `BEIR` benchmark itself, of which SciDocs is a part."
   ]
  },
  {
   "cell_type": "markdown",
   "id": "331577d7",
   "metadata": {},
   "source": [
    "You may find more information about retriever model evaluation, including supported metrics, in the [documentation](https://docs.nvidia.com/nemo/microservices/latest/evaluate/evaluation-types/retriever.html)."
   ]
  },
  {
   "cell_type": "code",
   "execution_count": 5,
   "id": "b394267c",
   "metadata": {},
   "outputs": [],
   "source": [
    "retriever_eval_config_scidocs = {\n",
    "    \"type\": \"retriever\",\n",
    "    \"namespace\": NMS_NAMESPACE,\n",
    "    \"tasks\": {\n",
    "        \"my-beir-task\": {\n",
    "            \"type\": \"beir\",\n",
    "            \"dataset\": {\n",
    "                \"files_url\": \"file://scidocs/\"\n",
    "            },\n",
    "            \"metrics\": {\n",
    "                \"recall_5\": {\"type\": \"recall_5\"},\n",
    "                \"ndcg_cut_5\": {\"type\": \"ndcg_cut_5\"},\n",
    "                \"recall_10\": {\"type\": \"recall_10\"},\n",
    "                \"ndcg_cut_10\": {\"type\": \"ndcg_cut_10\"}\n",
    "            }\n",
    "        }\n",
    "    }\n",
    "}\n"
   ]
  },
  {
   "cell_type": "markdown",
   "id": "305f0bb9",
   "metadata": {},
   "source": [
    "`NOTE`: Above we add a configuration to calculate the recall and NDCG metrics at cuttoffs (k) = 5 and 10.\n",
    "\n",
    "* `recall@k`:  This metric measures the fraction of all existing relevant items that are successfully found within the top k results returned by a system.\n",
    "\n",
    "* `NDCG@k`: This metric evaluates how well a system ranks items by relevance within the top k positions, assigning more value to placing highly relevant items at the very top of the list"
   ]
  },
  {
   "cell_type": "markdown",
   "id": "74181e60",
   "metadata": {},
   "source": [
    "### Create an Evaluation Job\n",
    "\n",
    "The following code cell creates an evaluation job using the target and eval configurations defined above."
   ]
  },
  {
   "cell_type": "code",
   "execution_count": 6,
   "id": "ca284d00",
   "metadata": {},
   "outputs": [
    {
     "name": "stdout",
     "output_type": "stream",
     "text": [
      "Evaluation job created:  eval-UyoRebr4tEEZnK61MgGs1W\n"
     ]
    }
   ],
   "source": [
    "# Create evaluation job for the base model\n",
    "eval_job = nemo_client.evaluation.jobs.create(\n",
    "    config=retriever_eval_config_scidocs,\n",
    "    target=retriever_target_config\n",
    ")\n",
    "\n",
    "print(\"Evaluation job created: \", eval_job.id)"
   ]
  },
  {
   "cell_type": "markdown",
   "id": "80936290",
   "metadata": {},
   "source": [
    "### Monitor the Evaluation Job\n",
    "\n",
    "The following code cell defines a helper function to poll on the job status using the `nemo_client.evaluation.jobs.retrieve` method.\n",
    "\n",
    "**The evaluation will take about 10-12 minutes to complete.**"
   ]
  },
  {
   "cell_type": "code",
   "execution_count": 7,
   "id": "046082a8",
   "metadata": {},
   "outputs": [],
   "source": [
    "from time import sleep, time\n",
    "\n",
    "def wait_eval_job(nemo_client, job_id: str, polling_interval: int = 10, timeout: int = 6000):\n",
    "    \"\"\"Helper for waiting an eval job.\"\"\"\n",
    "    start_time = time()\n",
    "    job = nemo_client.evaluation.jobs.retrieve(job_id=job_id)\n",
    "    status = job.status\n",
    "\n",
    "    while (status in [\"pending\", \"created\", \"running\"]):\n",
    "        # Check for timeout\n",
    "        if time() - start_time > timeout:\n",
    "            raise RuntimeError(f\"Took more than {timeout} seconds.\")\n",
    "\n",
    "        # Sleep before polling again\n",
    "        sleep(polling_interval)\n",
    "\n",
    "        # Fetch updated status and progress\n",
    "        job = nemo_client.evaluation.jobs.retrieve(job_id=job_id)\n",
    "        status = job.status\n",
    "\n",
    "        # Progress details (only fetch if status is \"running\")\n",
    "        progress = 0\n",
    "        if status == \"running\" and job.status_details:\n",
    "            progress = job.status_details.progress or 0\n",
    "        elif status == \"completed\":\n",
    "            progress = 100\n",
    "\n",
    "        print(f\"Job status: {status} after {time() - start_time:.2f} seconds. Progress: {progress}%\")\n",
    "\n",
    "    return job"
   ]
  },
  {
   "cell_type": "code",
   "execution_count": 8,
   "id": "3ac11757",
   "metadata": {},
   "outputs": [
    {
     "name": "stdout",
     "output_type": "stream",
     "text": [
      "Job status: running after 5.04 seconds. Progress: 0%\n",
      "Job status: running after 10.05 seconds. Progress: 0%\n",
      "Job status: running after 15.07 seconds. Progress: 0%\n",
      "Job status: running after 20.08 seconds. Progress: 0%\n",
      "Job status: running after 25.10 seconds. Progress: 0%\n",
      "Job status: running after 30.11 seconds. Progress: 0%\n",
      "Job status: running after 35.13 seconds. Progress: 0%\n",
      "Job status: running after 40.14 seconds. Progress: 0%\n",
      "Job status: running after 45.15 seconds. Progress: 0%\n",
      "Job status: running after 50.17 seconds. Progress: 0%\n",
      "Job status: running after 55.18 seconds. Progress: 0%\n",
      "Job status: running after 60.19 seconds. Progress: 0%\n",
      "Job status: running after 65.21 seconds. Progress: 0%\n",
      "Job status: running after 70.22 seconds. Progress: 0%\n",
      "Job status: running after 75.24 seconds. Progress: 0%\n",
      "Job status: running after 80.25 seconds. Progress: 0%\n",
      "Job status: running after 85.27 seconds. Progress: 0%\n",
      "Job status: running after 90.28 seconds. Progress: 0%\n",
      "Job status: running after 95.29 seconds. Progress: 0%\n",
      "Job status: running after 100.31 seconds. Progress: 0%\n",
      "Job status: running after 105.32 seconds. Progress: 0%\n",
      "Job status: running after 110.34 seconds. Progress: 0%\n",
      "Job status: running after 115.35 seconds. Progress: 0%\n",
      "Job status: running after 120.36 seconds. Progress: 0%\n",
      "Job status: running after 125.38 seconds. Progress: 0%\n",
      "Job status: running after 130.39 seconds. Progress: 0%\n",
      "Job status: running after 135.41 seconds. Progress: 0%\n",
      "Job status: running after 140.42 seconds. Progress: 0%\n",
      "Job status: running after 145.43 seconds. Progress: 0%\n",
      "Job status: running after 150.45 seconds. Progress: 0%\n",
      "Job status: running after 155.46 seconds. Progress: 0%\n",
      "Job status: running after 160.48 seconds. Progress: 0%\n",
      "Job status: running after 165.49 seconds. Progress: 0%\n",
      "Job status: running after 170.51 seconds. Progress: 0%\n",
      "Job status: running after 175.52 seconds. Progress: 0%\n",
      "Job status: running after 180.54 seconds. Progress: 0%\n",
      "Job status: running after 185.55 seconds. Progress: 0%\n",
      "Job status: running after 190.56 seconds. Progress: 0%\n",
      "Job status: running after 195.58 seconds. Progress: 0%\n",
      "Job status: running after 200.59 seconds. Progress: 0%\n",
      "Job status: running after 205.61 seconds. Progress: 0%\n",
      "Job status: running after 210.62 seconds. Progress: 0%\n",
      "Job status: running after 215.63 seconds. Progress: 0%\n",
      "Job status: running after 220.65 seconds. Progress: 0%\n",
      "Job status: running after 225.67 seconds. Progress: 0%\n",
      "Job status: running after 230.68 seconds. Progress: 0%\n",
      "Job status: running after 235.70 seconds. Progress: 0%\n",
      "Job status: running after 240.71 seconds. Progress: 0%\n",
      "Job status: running after 245.73 seconds. Progress: 0%\n",
      "Job status: running after 250.74 seconds. Progress: 0%\n",
      "Job status: running after 255.75 seconds. Progress: 0%\n",
      "Job status: running after 260.77 seconds. Progress: 0%\n",
      "Job status: running after 265.78 seconds. Progress: 0%\n",
      "Job status: running after 270.79 seconds. Progress: 0%\n",
      "Job status: running after 275.81 seconds. Progress: 0%\n",
      "Job status: running after 280.82 seconds. Progress: 0%\n",
      "Job status: running after 285.84 seconds. Progress: 0%\n",
      "Job status: running after 290.85 seconds. Progress: 0%\n",
      "Job status: running after 295.87 seconds. Progress: 0%\n",
      "Job status: running after 300.89 seconds. Progress: 0%\n",
      "Job status: running after 305.90 seconds. Progress: 0%\n",
      "Job status: running after 310.92 seconds. Progress: 0%\n",
      "Job status: running after 315.93 seconds. Progress: 0%\n",
      "Job status: running after 320.95 seconds. Progress: 0%\n",
      "Job status: running after 325.96 seconds. Progress: 0%\n",
      "Job status: running after 330.97 seconds. Progress: 0%\n",
      "Job status: running after 335.98 seconds. Progress: 0%\n",
      "Job status: running after 341.00 seconds. Progress: 0%\n",
      "Job status: running after 346.01 seconds. Progress: 0%\n",
      "Job status: running after 351.03 seconds. Progress: 0%\n",
      "Job status: running after 356.04 seconds. Progress: 0%\n",
      "Job status: running after 361.05 seconds. Progress: 0%\n",
      "Job status: running after 366.07 seconds. Progress: 0%\n",
      "Job status: running after 371.08 seconds. Progress: 0%\n",
      "Job status: running after 376.10 seconds. Progress: 0%\n",
      "Job status: running after 381.11 seconds. Progress: 0%\n",
      "Job status: running after 386.13 seconds. Progress: 0%\n",
      "Job status: running after 391.14 seconds. Progress: 0%\n",
      "Job status: running after 396.15 seconds. Progress: 0%\n",
      "Job status: running after 401.17 seconds. Progress: 0%\n",
      "Job status: running after 406.18 seconds. Progress: 0%\n",
      "Job status: running after 411.20 seconds. Progress: 0%\n",
      "Job status: running after 416.21 seconds. Progress: 0%\n",
      "Job status: running after 421.23 seconds. Progress: 0%\n",
      "Job status: running after 426.24 seconds. Progress: 0%\n",
      "Job status: running after 431.26 seconds. Progress: 0%\n",
      "Job status: running after 436.28 seconds. Progress: 0%\n",
      "Job status: running after 441.29 seconds. Progress: 0%\n",
      "Job status: running after 446.31 seconds. Progress: 0%\n",
      "Job status: running after 451.32 seconds. Progress: 0%\n",
      "Job status: running after 456.34 seconds. Progress: 0%\n",
      "Job status: running after 461.35 seconds. Progress: 0%\n",
      "Job status: running after 466.36 seconds. Progress: 0%\n",
      "Job status: running after 471.38 seconds. Progress: 0%\n",
      "Job status: running after 476.39 seconds. Progress: 0%\n",
      "Job status: running after 481.41 seconds. Progress: 0%\n",
      "Job status: running after 486.42 seconds. Progress: 0%\n",
      "Job status: running after 491.43 seconds. Progress: 0%\n",
      "Job status: running after 496.45 seconds. Progress: 0%\n",
      "Job status: running after 501.46 seconds. Progress: 0%\n",
      "Job status: running after 506.47 seconds. Progress: 0%\n",
      "Job status: completed after 511.49 seconds. Progress: 100%\n"
     ]
    }
   ],
   "source": [
    "job = wait_eval_job(nemo_client, eval_job.id, polling_interval=5, timeout=5000)"
   ]
  },
  {
   "cell_type": "markdown",
   "id": "89c1edde",
   "metadata": {},
   "source": [
    "### Review the results"
   ]
  },
  {
   "cell_type": "code",
   "execution_count": 9,
   "id": "b0ad1a0e",
   "metadata": {},
   "outputs": [
    {
     "name": "stdout",
     "output_type": "stream",
     "text": [
      "{\n",
      "  \"job\": \"eval-UyoRebr4tEEZnK61MgGs1W\",\n",
      "  \"id\": \"evaluation_result-AjnxBhHBxyXEJzUFDjJfV6\",\n",
      "  \"created_at\": \"2025-07-29T17:59:19.601878\",\n",
      "  \"custom_fields\": {},\n",
      "  \"files_url\": \"hf://datasets/evaluation-results/eval-UyoRebr4tEEZnK61MgGs1W\",\n",
      "  \"namespace\": \"default\",\n",
      "  \"tasks\": {\n",
      "    \"my-beir-task\": {\n",
      "      \"metrics\": {\n",
      "        \"retriever.ndcg_cut_10\": {\n",
      "          \"scores\": {\n",
      "            \"ndcg_cut_10\": {\n",
      "              \"value\": 0.2392602974177994,\n",
      "              \"stats\": {}\n",
      "            }\n",
      "          }\n",
      "        },\n",
      "        \"retriever.ndcg_cut_5\": {\n",
      "          \"scores\": {\n",
      "            \"ndcg_cut_5\": {\n",
      "              \"value\": 0.1973427260255094,\n",
      "              \"stats\": {}\n",
      "            }\n",
      "          }\n",
      "        },\n",
      "        \"retriever.recall_10\": {\n",
      "          \"scores\": {\n",
      "            \"recall_10\": {\n",
      "              \"value\": 0.25328333333333275,\n",
      "              \"stats\": {}\n",
      "            }\n",
      "          }\n",
      "        },\n",
      "        \"retriever.recall_5\": {\n",
      "          \"scores\": {\n",
      "            \"recall_5\": {\n",
      "              \"value\": 0.17646666666666633,\n",
      "              \"stats\": {}\n",
      "            }\n",
      "          }\n",
      "        }\n",
      "      }\n",
      "    }\n",
      "  },\n",
      "  \"updated_at\": \"2025-07-29T17:59:19.601881\"\n",
      "}\n"
     ]
    }
   ],
   "source": [
    "results = nemo_client.evaluation.jobs.results(job_id=eval_job.id)\n",
    "print(results.model_dump_json(indent=2, exclude_unset=True))"
   ]
  },
  {
   "cell_type": "markdown",
   "id": "cf73bb97",
   "metadata": {},
   "source": [
    "After a single short finetuning run, we see a `recall@5` score of around `0.176`. Note that the `SciDocs` task is considered a challenging zero-shot benchmark, with the SOTA for recall@5 close to the `0.2` mark. \n",
    "\n",
    "For comparison, the baseline model (`nvidia/llama-3_2-nv-embedqa-1b-v2`) we used had a recall@5 score of around `0.159` on this task. If interested in scoring the base model used for finetuning, you can either deploy the NIM yourself, or point to managed endpoints at [build.nvidia.com](https://build.nvidia.com/nvidia/llama-3_2-nv-embedqa-1b-v2) in your target configuration.\n",
    "\n",
    "With a quick finetuning run, we were able to further boost the score over `nvidia/llama-3_2-nv-embedqa-1b-v2` what is already an excellent starting point. "
   ]
  }
 ],
 "metadata": {
  "kernelspec": {
   "display_name": "Python 3 (ipykernel)",
   "language": "python",
   "name": "python3"
  },
  "language_info": {
   "codemirror_mode": {
    "name": "ipython",
    "version": 3
   },
   "file_extension": ".py",
   "mimetype": "text/x-python",
   "name": "python",
   "nbconvert_exporter": "python",
   "pygments_lexer": "ipython3",
   "version": "3.11.12"
  }
 },
 "nbformat": 4,
 "nbformat_minor": 5
}
