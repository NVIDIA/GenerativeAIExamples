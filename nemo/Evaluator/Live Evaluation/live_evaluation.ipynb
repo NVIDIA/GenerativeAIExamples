{
 "cells": [
  {
   "cell_type": "markdown",
   "metadata": {},
   "source": [
    "# Live Evaluations with NeMo Evaluator\n",
    "\n",
    "In the following notebook, we'll be walking through an example of how you can leverage Live Evaluatoions through NeMo Evaluator Microservice. \n",
    "\n",
    "Full documentation is available [here](https://docs.nvidia.com/nemo/microservices/latest/evaluate/evaluation-live.html)!\n",
    "\n",
    "In our example - we'll be looking at the following scenarios: \n",
    "\n",
    "1. Simple String Checking\n",
    "2. Custom LLM-as-a-Judge on Synthetically Created Medical Summaries\n",
    "\n",
    "> NOTE: Currently, live evaluation is only supported with the `custom` evaluation type!"
   ]
  },
  {
   "cell_type": "markdown",
   "metadata": {},
   "source": [
    "## Necessary Configurations\n",
    "\n",
    "You will need to spin up the NeMo Evaluator Microservice through the provided `docker-compose,yaml` file provided in this directory. \n",
    "\n",
    "You can do so with the following commands:\n",
    "\n",
    "1. Login to NVIDIA NGC Container Registry:\n",
    "\n",
    "```bash\n",
    "docker login -u '$oauthtoken' -p YOUR_NGC_KEY_HERE nvcr.io\n",
    "```\n",
    "\n",
    "2. Set-up the initial environment variables (make sure you're correctly set-up Docker so that it can be run from your user group)\n",
    "\n",
    "```bash \n",
    "export EVALUATOR_IMAGE=nvcr.io/nvidia/nemo-microservices/evaluator:25.07\n",
    "export DATA_STORE_IMAGE=nvcr.io/nvidia/nemo-microservices/datastore:25.07\n",
    "export USER_ID=$(id -u)\n",
    "export GROUP_ID=$(id -g)\n",
    "```\n",
    "\n",
    "3. Spin up NeMo Evaluator Microservice through `docker compose`!\n",
    "\n",
    "```bash\n",
    "docker compose -f docker_compose.yaml up evaluator -d\n",
    "```"
   ]
  },
  {
   "cell_type": "markdown",
   "metadata": {},
   "source": [
    "### Installing Dependencies with `uv`\n",
    "\n",
    "Before moving forward in the notebook, please ensure you're using the virtual environment created by running `uv sync` in root directory of this notebook.  \n",
    "\n",
    "This will install all the necessary dependencies for the remainder of the notebook. "
   ]
  },
  {
   "cell_type": "markdown",
   "metadata": {},
   "source": [
    "### NeMo Microservices Client\n",
    "\n",
    "Next, let's initialize our NeMo Microservices client through the [Python SDK](https://docs.nvidia.com/nemo/microservices/latest/pysdk/index.html)!\n",
    "\n",
    "> NOTE: By default, the NeMo Evaluator API will be available at: `http://localhost:7331`. "
   ]
  },
  {
   "cell_type": "code",
   "execution_count": 12,
   "metadata": {},
   "outputs": [],
   "source": [
    "import os\n",
    "from nemo_microservices import NeMoMicroservices\n",
    "\n",
    "client = NeMoMicroservices(\n",
    "    base_url=\"http://localhost:7331\"\n",
    ")"
   ]
  },
  {
   "cell_type": "markdown",
   "metadata": {},
   "source": [
    "## Using NeMo Evaluator Microservice for Live Simple String Checking\n",
    "\n",
    "We can kick off an evaluation job for simple string checking right away using the `custom` evaluation type, with the `data` subtype!\n",
    "\n",
    "Let's look at how we've do this with the SDK."
   ]
  },
  {
   "cell_type": "code",
   "execution_count": 13,
   "metadata": {},
   "outputs": [
    {
     "name": "stdout",
     "output_type": "stream",
     "text": [
      "Status: completed\n",
      "Results: EvaluationResult(job='eval-Akk2TPTzp96YCQjyvaJsMt', id='evaluation_result-2iKms1yr9GNjVWGSJVV7ZP', created_at=datetime.datetime(2025, 8, 16, 0, 53, 21, 87425), custom_fields={}, description=None, files_url=None, groups={}, namespace='default', ownership=None, project=None, tasks={'qa': TaskResult(metrics={'accuracy': MetricResult(scores={'string-check': Score(value=1.0, stats=ScoreStats(count=1, max=None, mean=1.0, min=None, stddev=None, stderr=None, sum=1.0, sum_squared=None, variance=None))})})}, updated_at=datetime.datetime(2025, 8, 16, 0, 53, 21, 89177))\n"
     ]
    }
   ],
   "source": [
    "# Run a basic string check live evaluation\n",
    "response = client.evaluation.live(\n",
    "    config={\n",
    "        \"type\": \"custom\",\n",
    "        \"tasks\": {\n",
    "            \"qa\": {\n",
    "                \"type\": \"data\",\n",
    "                \"metrics\": {\n",
    "                    \"accuracy\": {\n",
    "                        \"type\": \"string-check\",\n",
    "                        \"params\": {\"check\": [\"{{some_output}}\", \"contains\", \"{{expected}}\"]}\n",
    "                    }\n",
    "                }\n",
    "            }\n",
    "        }\n",
    "    },\n",
    "    target={\n",
    "        \"type\": \"rows\",\n",
    "        \"rows\": [\n",
    "            {\n",
    "                \"some_input\": \"Do you agree?\",\n",
    "                \"some_output\": \"yes\",\n",
    "                \"expected\": \"yes\"\n",
    "            }\n",
    "        ]\n",
    "    }\n",
    ")\n",
    "\n",
    "print(f\"Status: {response.status}\")\n",
    "print(f\"Results: {response.result}\")"
   ]
  },
  {
   "cell_type": "markdown",
   "metadata": {},
   "source": [
    "### Using NeMo Evaluator Microservice for Live Custom LLM-as-a-Judge\n",
    "\n",
    "We can also extend this to Custom LLM-as-a-Judge using a dataset that we have in our local environment!"
   ]
  },
  {
   "cell_type": "markdown",
   "metadata": {},
   "source": [
    "We're going to use the [llama-3.3-nemotron-super-49b-v1](https://build.nvidia.com/nvidia/llama-3_3-nemotron-super-49b-v1) as our judge model today .\n",
    "\n",
    "> NOTE: You can find the API key on `build.nvidia.com` by clicking the green \"Get API Key\" button!"
   ]
  },
  {
   "cell_type": "code",
   "execution_count": 5,
   "metadata": {},
   "outputs": [],
   "source": [
    "import getpass\n",
    "\n",
    "os.environ[\"NVIDIA_API_KEY\"] = getpass.getpass(\"Enter your NVIDIA API key: \")"
   ]
  },
  {
   "cell_type": "markdown",
   "metadata": {},
   "source": [
    "To keep things organized, we'll initialize our model object in a separate code cell - but this is going to be provided alongside the rest of our evaluation config when we create it through the SDK!"
   ]
  },
  {
   "cell_type": "code",
   "execution_count": 14,
   "metadata": {},
   "outputs": [],
   "source": [
    "model_target = {\n",
    "    \"api_endpoint\": {\n",
    "        \"url\": \"https://integrate.api.nvidia.com/v1\",\n",
    "        \"model_id\": \"nvidia/llama-3.3-nemotron-super-49b-v1.5\",\n",
    "        \"api_key\": os.getenv(\"NVIDIA_API_KEY\")\n",
    "    }\n",
    "}"
   ]
  },
  {
   "cell_type": "markdown",
   "metadata": {},
   "source": [
    "We'll do the same for our prompt. Notice that we're able to key into the appropriate fields using the `{{}}` templating. \n",
    "\n",
    "> NOTE: Since we're using regex to parse the output scores - ensure your output format template is well defined. "
   ]
  },
  {
   "cell_type": "code",
   "execution_count": 15,
   "metadata": {},
   "outputs": [],
   "source": [
    "correctness_prompt = \"\"\"\n",
    "Your task is to determine if the summary correctly reflects the consultation.\n",
    "\n",
    "CONSULTATION CONTENT: {{content}}\n",
    "SUMMARY: {{summary}}\n",
    "\n",
    "Reply with a score between 0 and 4, where 0 is the worst and 4 is the best. You must response with: \"SCORE: <score>\" only.\n",
    "\"\"\""
   ]
  },
  {
   "cell_type": "markdown",
   "metadata": {},
   "source": [
    "Finally, like usual, we can create our custom LLM-as-a-Judge config and target below!\n",
    "\n",
    "> NOTE: The Live feature currently requires you to create the config and target at call time - this is to ensure low latency responses. "
   ]
  },
  {
   "cell_type": "code",
   "execution_count": 16,
   "metadata": {},
   "outputs": [
    {
     "name": "stdout",
     "output_type": "stream",
     "text": [
      "Status: completed\n",
      "Results: {'correct': Score(value=2.6, stats=ScoreStats(count=5, max=None, mean=2.6, min=None, stddev=None, stderr=None, sum=13.0, sum_squared=None, variance=None))}\n"
     ]
    }
   ],
   "source": [
    "response = client.evaluation.live(\n",
    "    config={\n",
    "        \"type\": \"custom\",\n",
    "        \"tasks\": {\n",
    "            \"correctness\": {\n",
    "                \"type\": \"data\",\n",
    "                \"metrics\": {\n",
    "                    \"correctness-likert\": {\n",
    "                        \"type\": \"llm-judge\",\n",
    "                        \"params\": {\n",
    "                            \"model\": model_target,\n",
    "                            \"template\": {\n",
    "                                \"messages\": [\n",
    "                                    {\n",
    "                                        \"role\": \"system\",\n",
    "                                        \"content\": \"/no_think\"\n",
    "                                    },\n",
    "                                    {\n",
    "                                        \"role\": \"user\",\n",
    "                                        \"content\": correctness_prompt\n",
    "                                    }\n",
    "                                ]\n",
    "                            },\n",
    "                            \"scores\": {\n",
    "                                \"correct\": {\n",
    "                                    \"type\": \"int\",\n",
    "                                    \"parser\": {\n",
    "                                        \"type\": \"regex\",\n",
    "                                        \"pattern\": \"SCORE: (\\\\d)\"\n",
    "                                    }\n",
    "                                }\n",
    "                            }\n",
    "                        }\n",
    "                    }\n",
    "                }\n",
    "            }\n",
    "        }\n",
    "    },\n",
    "    target={\n",
    "        \"type\": \"rows\",\n",
    "        \"rows\": [\n",
    "            {\"ID\": \"C001\", \"content\": \"Date: 2025-04-01\\nChief Complaint (CC): Cough and fever\\nHistory of Present Illness (HPI): three‑day history of productive cough with yellow sputum and low‑grade fevers peaking at 38.5 °C. He denies pleuritic chest pain but reports mild shortness of breath while climbing stairs.\\nPast Medical History (PMH): History significant for essential hypertension well‑controlled on lisinopril. No prior pulmonary disease. Immunizations up to date.\\nReview of Systems (ROS): Denies unintentional weight loss, night sweats, or hemoptysis. Endorses mild malaise.\\nPhysical Examination (PE): Vital signs: T 38.1 °C, HR 96 bpm, BP 132/80 mm Hg, RR 18, SpO₂ 96 % RA. General: alert, mildly ill‑appearing. Lungs: bronchial breath sounds with crackles at right base. Cardiac: regular rhythm, no murmurs. Abdomen: soft, non‑tender. No peripheral edema.\\nFamily History (FHx): Father with coronary artery disease diagnosed at 55; mother with rheumatoid arthritis.\\nSocial History (SocHx): Non‑smoker, occasional alcohol, works as software engineer, walks 30 minutes daily.\\nAssessment & Plan: Discussed likely community‑acquired pneumonia. Initiated amoxicillin‑clavulanate 875 mg twice daily for 10 days, advised rest, hydration, and proper cough hygiene. Educated patient on red‑flag symptoms such as worsening dyspnea or persistent fever.\\nLabs / Imaging Ordered: CBC with differential, basic metabolic panel, chest radiograph PA/lat.\", \"summary\": \"Patient fine, probs viral.\\nCase Summary: ¯\\\\_(ツ)_/¯\\nDisease Specific Elements: none included because meh.\\nPaste Medical History: unimportant.\"},\n",
    "            {\"ID\": \"C002\", \"content\": \"Date: 2025-04-02\\nChief Complaint (CC): Sharp substernal chest pain\\nHistory of Present Illness (HPI): sudden‑onset, stabbing chest pain that began one hour prior to arrival while shoveling snow. The pain is non‑radiating, rated 7/10, partially relieved by resting and sitting upright.\\nPast Medical History (PMH): Known hyperlipidemia managed with a statin. No previous cardiac events.\\nReview of Systems (ROS): Reports diaphoresis with exertion but no palpitations or presyncope.\\nPhysical Examination (PE): Vitals: BP 148/88 mm Hg, HR 90 bpm, RR 20, afebrile. Cardiovascular: no JVD; S1, S2 normal; no murmurs. Chest wall non‑tender. Lungs clear. Extremities: no edema.\\nFamily History (FHx): Mother with breast cancer diagnosed at 60; no early cardiac deaths in family.\\nSocial History (SocHx): Smokes one pack per day for 15 years, no alcohol; works as mechanic.\\nAssessment & Plan: Obtained ECG and baseline troponin. Administered 325 mg aspirin and nitroglycerin spray with symptomatic improvement. Will repeat troponin in 3 hours and admit to observation for serial cardiac enzymes and potential cardiology consult.\\nLabs / Imaging Ordered: Serial troponins, stat ECG, chest X‑ray, lipid panel.\", \"summary\": \"New Clinical Problem: Sharp substernal chest pain\\nCase Summary: sudden‑onset, stabbing chest pain that began one hour prior to arrival while shoveling snow. The pain is non‑radiating, rated 7/10, partially relieved by resting and sitting upright.\\nDisease Specific Elements: ROS: Reports diaphoresis with exertion but no palpitations or presyncope.. PE: Vitals: BP 148/88 mm Hg, HR 90 bpm, RR 20, afebrile. Cardiovascular: no JVD; S1, S2 normal; no murmurs. Chest….\\nPaste Medical History: Known hyperlipidemia managed with a statin. No previous cardiac events.\"},\n",
    "            {\"ID\": \"C003\", \"content\": \"Date: 2025-04-03\\nChief Complaint (CC): Diffuse abdominal discomfort\\nHistory of Present Illness (HPI): gradually worsening, cramp‑like abdominal pain that started around the umbilicus six hours ago and has now localized to the right lower quadrant. Associated symptoms include nausea and anorexia, with no bowel movements today.\\nPast Medical History (PMH): No significant past medical or surgical history.\\nReview of Systems (ROS): Positive for anorexia and nausea; negative for hematochezia, melena, or dysuria.\\nPhysical Examination (PE): Vitals stable. Abdomen: soft with guarding in RLQ; rebound tenderness present; positive Rovsing sign. Bowel sounds hypoactive.\\nFamily History (FHx): No known hereditary diseases in immediate family.\\nSocial History (SocHx): No tobacco, drinks wine socially; accountant who exercises at gym twice weekly.\\nAssessment & Plan: NPO status, started IV fluids and performed pain management with morphine. Surgical consult requested for possible appendectomy. Ceftriaxone 1 g IV administered as prophylactic antibiotic.\\nLabs / Imaging Ordered: CBC, CMP, CRP, abdominal ultrasound if CT unavailable.\", \"summary\": \"New Clinical Problem: Diffuse abdominal discomfort\\nCase Summary: gradually worsening, cramp‑like abdominal pain that started around the umbilicus six hours ago and has now localized to the right lower quadrant. Associated symptoms include nausea and anorexia, with no bowel movements today.\\nDisease Specific Elements: ROS: Positive for anorexia and nausea; negative for hematochezia, melena, or dysuria.. PE: Vitals stable. Abdomen: soft with guarding in RLQ; rebound tenderness present; positive Rovsing sign. Bowel sounds hypoactive..\\nPaste Medical History: No significant past medical or surgical history.\"},\n",
    "            {\"ID\": \"C004\", \"content\": \"Date: 2025-04-04\\nChief Complaint (CC): Throbbing frontal headache\\nHistory of Present Illness (HPI): intermittent, pulsating headaches over the last week, predominantly in the frontal region, accompanied by photophobia and phonophobia. Over‑the‑counter ibuprofen provides partial relief.\\nPast Medical History (PMH): Migraine headaches since adolescence, currently on low‑dose propranolol.\\nReview of Systems (ROS): Positive photophobia and phonophobia; denies vision changes or weakness.\\nPhysical Examination (PE): Afebrile. Neurological exam intact. Fundoscopic exam shows no papilledema. Neck supple. No focal deficits.\\nFamily History (FHx): Mother suffers from migraines; father healthy.\\nSocial History (SocHx): Former smoker, quit five years ago; IT consultant; enjoys cycling.\\nAssessment & Plan: Increased propranolol long‑acting to 80 mg daily. Encouraged migraine diary and trigger avoidance. Provided information about triptan therapy if headaches persist.\\nLabs / Imaging Ordered: No labs today; MRI brain if headaches worsen.\", \"summary\": \"New Clinical Problem: Throbbing frontal headache\\nCase Summary: intermittent, pulsating headaches over the last week, predominantly in the frontal region, accompanied by photophobia and phonophobia. Over‑the‑counter ibuprofen provides partial relief.\\nDisease Specific Elements: ROS: Positive photophobia and phonophobia; denies vision changes or weakness.. PE: Afebrile. Neurological exam intact. Fundoscopic exam shows no papilledema. Neck supple. No focal deficits..\\nPaste Medical History: Migraine headaches since adolescence, currently on low‑dose propranolol.\"},\n",
    "            {\"ID\": \"C005\", \"content\": \"Date: 2025-04-05\\nChief Complaint (CC): Progressive exertional shortness of breath\\nHistory of Present Illness (HPI): shortness of breath on exertion for the past two weeks, now noticeable after climbing two flights of stairs. She endorses mild orthopnea requiring two pillows at night but denies chest tightness.\\nPast Medical History (PMH): Paroxysmal atrial fibrillation on apixaban; otherwise healthy.\\nReview of Systems (ROS): Denies paroxysmal nocturnal dyspnea; endorses mild ankle swelling.\\nPhysical Examination (PE): Blood pressure 140/90 mm Hg; pulse 88 bpm. Lungs: mild bibasilar crackles. Heart: regular rate. No peripheral edema.\\nFamily History (FHx): Father with congestive heart failure; mother with hypertension.\\nSocial History (SocHx): Never smoked; occasionally consumes beer; office administrator with sedentary lifestyle.\\nAssessment & Plan: Ordered transthoracic echocardiogram and BNP level to evaluate for heart failure exacerbation. Increased furosemide to 40 mg daily and reinforced sodium‑restricted diet.\\nLabs / Imaging Ordered: BNP, basic metabolic panel, echocardiogram.\", \"summary\": \"New Clinical Problem: Progressive exertional shortness of breath\\nCase Summary: shortness of breath on exertion for the past two weeks, now noticeable after climbing two flights of stairs. She endorses mild orthopnea requiring two pillows at night but denies chest tightness.\\nDisease Specific Elements: ROS: Denies paroxysmal nocturnal dyspnea; endorses mild ankle swelling.. PE: Blood pressure 140/90 mm Hg; pulse 88 bpm. Lungs: mild bibasilar crackles. Heart: regular rate. No peripheral edema..\\nPaste Medical History: Paroxysmal atrial fibrillation on apixaban; otherwise healthy.\"},\n",
    "        ]\n",
    "    }\n",
    ")\n",
    "\n",
    "print(f\"Status: {response.status}\")\n",
    "print(f\"Results: {response.result.tasks[\"correctness\"].metrics[\"correctness-likert\"].scores}\")"
   ]
  },
  {
   "cell_type": "markdown",
   "metadata": {},
   "source": [
    "To learn more about the live evaluation feature - please check out [this](https://docs.nvidia.com/nemo/microservices/latest/evaluate/evaluation-live.html) documentation!"
   ]
  }
 ],
 "metadata": {
  "kernelspec": {
   "display_name": ".venv",
   "language": "python",
   "name": "python3"
  },
  "language_info": {
   "codemirror_mode": {
    "name": "ipython",
    "version": 3
   },
   "file_extension": ".py",
   "mimetype": "text/x-python",
   "name": "python",
   "nbconvert_exporter": "python",
   "pygments_lexer": "ipython3",
   "version": "3.13.4"
  }
 },
 "nbformat": 4,
 "nbformat_minor": 2
}
