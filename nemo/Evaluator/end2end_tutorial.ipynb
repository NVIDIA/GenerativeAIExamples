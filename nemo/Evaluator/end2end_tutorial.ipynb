{
 "cells": [
  {
   "cell_type": "markdown",
   "id": "b9268128-30cd-4f08-a718-1f8e73a980e7",
   "metadata": {},
   "source": [
    "# Nemo Evaluator Microservice Tutorial"
   ]
  },
  {
   "cell_type": "markdown",
   "id": "d52988a9-7676-44ab-9f53-7c4d6dd0d494",
   "metadata": {},
   "source": [
    "## About this tutorial\n",
    "\n",
    "In this tutorial, we will cover the following evaluation types using NeMo Evaluator:\n",
    "\n",
    "- **Agentic Evaluation**\n",
    "- **LLM Evaluation on Academic Benchmarks**\n",
    "- **Custom Evaluations**\n",
    "  - **Similarity Metrics Evaluation**\n",
    "  - **LLM-as-Judge Evaluation**\n",
    "  - **Tool Calling Evaluation**\n",
    "- **Retriever Pipeline Evaluation**\n",
    "- **RAG Pipeline Evaluation**"
   ]
  },
  {
   "cell_type": "markdown",
   "id": "6a052618-c8b6-424b-8d7b-d00c26346296",
   "metadata": {},
   "source": [
    "## 1. Prerequisites"
   ]
  },
  {
   "cell_type": "markdown",
   "id": "e3541975-e515-4909-af80-9c59a807ccc1",
   "metadata": {},
   "source": [
    "### 1.1 Install Nemo Microservices"
   ]
  },
  {
   "cell_type": "markdown",
   "id": "e03e7c89-2b52-4eab-b41e-bf1e9b7156d3",
   "metadata": {},
   "source": [
    "While this tutorial focuses on NeMo Evaluator, we recommend installing the NeMo Microservices platform using the [NeMo Microservices Platform Helm Chart](https://catalog.ngc.nvidia.com/orgs/nvidia/teams/nemo-microservices/helm-charts/nemo-microservices-helm-chart) to avoid manually managing dependencies. For step by step installation guide, refer to the [Demo Cluster Setup Guide](https://docs.nvidia.com/nemo/microservices/latest/get-started/setup/index.html). This tutorial was done on a single-node cluster with two A100 GPUs."
   ]
  },
  {
   "cell_type": "markdown",
   "id": "9d728ee2-9ef9-49ac-b992-c5cf9ecf8ae3",
   "metadata": {},
   "source": [
    "Check the pods to make sure all required microservices is running before proceeding."
   ]
  },
  {
   "cell_type": "code",
   "execution_count": 1,
   "id": "278624c3-13ba-4305-9141-945d6ee3b6a1",
   "metadata": {},
   "outputs": [
    {
     "name": "stdout",
     "output_type": "stream",
     "text": [
      "NAME                                                          READY   STATUS      RESTARTS      AGE\n",
      "model-downloader-meta-llama-3-1-8b-instruct-2-0-28trx         0/1     Completed   0             10m\n",
      "model-downloader-meta-llama-3-2-1b-instruct-2-0-b6scn         0/1     Completed   0             10m\n",
      "modeldeployment-meta-llama-3-1-8b-instruct-6b64d56fdc-slctn   1/1     Running     0             9m26s\n",
      "nemo-argo-workflows-server-655f8d755-svgn2                    1/1     Running     0             12m\n",
      "nemo-argo-workflows-workflow-controller-8f8877cd4-8t2tf       1/1     Running     0             12m\n",
      "nemo-customizer-5d8554fcf6-rhwfp                              1/1     Running     2 (11m ago)   12m\n",
      "nemo-customizerdb-0                                           1/1     Running     0             12m\n",
      "nemo-data-store-795ccbb97b-nwcf2                              1/1     Running     0             12m\n",
      "nemo-deployment-management-646cc67c-l67lq                     1/1     Running     0             12m\n",
      "nemo-entity-store-6bfd7c4bd9-p4s4b                            1/1     Running     0             12m\n",
      "nemo-entity-storedb-0                                         1/1     Running     0             12m\n",
      "nemo-evaluator-68c67f6798-f4sqh                               1/1     Running     0             12m\n",
      "nemo-evaluatordb-0                                            1/1     Running     0             12m\n",
      "nemo-guardrails-5985f8c6d4-bkkq2                              1/1     Running     0             12m\n",
      "nemo-milvus-standalone-57cc6c46fc-5rctk                       1/1     Running     0             12m\n",
      "nemo-nemo-operator-controller-manager-59c98d97f9-7gfsw        2/2     Running     0             12m\n",
      "nemo-nim-operator-765cbf686b-w9n6c                            1/1     Running     0             12m\n",
      "nemo-nim-proxy-6fbccbfb45-8qvmz                               1/1     Running     0             12m\n",
      "nemo-opentelemetry-collector-6f46646fd9-5tnrf                 1/1     Running     0             12m\n",
      "nemo-postgresql-0                                             1/1     Running     0             12m\n"
     ]
    }
   ],
   "source": [
    "! kubectl get pods"
   ]
  },
  {
   "cell_type": "markdown",
   "id": "58628300-b5c1-4577-ab0c-c2bc92e60611",
   "metadata": {},
   "source": [
    "Install `huggingface_hub` which is required to interact with NeMo Data Store:\n",
    "\n",
    "```bash\n",
    "pip install -U \"huggingface_hub[cli]\"\n",
    "```\n"
   ]
  },
  {
   "cell_type": "code",
   "execution_count": 2,
   "id": "f49ed4c1-25be-4c52-9fa4-154b88729de8",
   "metadata": {},
   "outputs": [
    {
     "name": "stderr",
     "output_type": "stream",
     "text": [
      "/home/ubuntu/.local/lib/python3.10/site-packages/tqdm/auto.py:21: TqdmWarning: IProgress not found. Please update jupyter and ipywidgets. See https://ipywidgets.readthedocs.io/en/stable/user_install.html\n",
      "  from .autonotebook import tqdm as notebook_tqdm\n"
     ]
    }
   ],
   "source": [
    "import requests\n",
    "import json\n",
    "import os\n",
    "from pprint import pp\n",
    "from huggingface_hub import HfApi"
   ]
  },
  {
   "cell_type": "markdown",
   "id": "9159cb76-5239-4b31-ba6b-673562d46e9f",
   "metadata": {},
   "source": [
    "Specify the Namespace and API endpoints:"
   ]
  },
  {
   "cell_type": "code",
   "execution_count": 4,
   "id": "1ee4a79f-eadf-4c1c-aef0-b59a30a61bf9",
   "metadata": {},
   "outputs": [],
   "source": [
    "NDS_URL = \"http://data-store.test\" # Data Store\n",
    "NEMO_URL = \"http://nemo.test\" # Customizer, Entity Store, Evaluator\n",
    "NIM_URL = \"http://nim.test\" # NIM Proxy\n",
    "NMS_NAMESPACE = \"nemo-eval-tutorial\"\n",
    "\n",
    "target_url = f\"{NEMO_URL}/v1/evaluation/targets\"\n",
    "config_url = f\"{NEMO_URL}/v1/evaluation/configs\"\n",
    "job_url = f\"{NEMO_URL}/v1/evaluation/jobs\"\n",
    "llm_chat_completion_url = f\"{NIM_URL}/v1/chat/completions\""
   ]
  },
  {
   "cell_type": "markdown",
   "id": "e3e27807-e8c6-44cf-9183-c77c7d0390cf",
   "metadata": {},
   "source": [
    "### 1.2 Deploy NIM for LLMs\n",
    "\n",
    "This tutorial will use the `Llama-3.1-8b-instruct` model as the LLM to be evaluated. You can either choose to deploy a `Llama-3.1-8b-instruct` NIM locally or use the NIM hosted remotely. As part of the Nemo Microservices Platform, the NeMo Deployment Management service provides an API to deploy NIM on a Kubernetes cluster and manage them through the NIM Operator microservice. The below cells show how to deploy the `Llama-3.1-8b-instruct` NIM and run inference using NIM Proxy service.\n",
    "\n",
    "**Note**: if you use see a pod named `modeldeployment-meta-llama-3-1-8b-instruct-xxx` from the list of pods above, then a Llama-3.1-8b-instruct NIM has already been deployed and you can skip this step."
   ]
  },
  {
   "cell_type": "code",
   "execution_count": null,
   "id": "93deb6ef-a033-4243-8824-8bf74830271e",
   "metadata": {},
   "outputs": [],
   "source": [
    "deployment_url = f\"{NEMO_URL}/v1/deployment/model-deployments\"\n",
    "\n",
    "payload = {\n",
    "    \"name\": \"llama-3.1-8b-instruct\",\n",
    "    \"namespace\": \"meta\",\n",
    "    \"config\": {\n",
    "        \"model\": \"meta/llama-3.1-8b-instruct\",\n",
    "        \"nim_deployment\": {\n",
    "            \"image_name\": \"nvcr.io/nim/meta/llama-3.1-8b-instruct\",\n",
    "            \"image_tag\": \"1.8.3\",\n",
    "            \"pvc_size\": \"25Gi\",\n",
    "            \"gpu\": 1,\n",
    "            \"additional_envs\": {\n",
    "                \"NIM_GUIDED_DECODING_BACKEND\": \"outlines\"\n",
    "            }\n",
    "        }\n",
    "    }\n",
    "}\n",
    "\n",
    "headers = {\n",
    "    \"Content-Type\": \"application/json\"\n",
    "}\n",
    "\n",
    "resp = requests.post(deployment_url, json=payload, headers=headers)\n",
    "pp(resp.json())"
   ]
  },
  {
   "cell_type": "markdown",
   "id": "9fa7ceb9-7644-4110-8e76-0e75db6deb50",
   "metadata": {},
   "source": [
    "Check the deployment status and make sure the status is 'ready' before proceeding."
   ]
  },
  {
   "cell_type": "code",
   "execution_count": null,
   "id": "d2e582eb-b90e-4286-b0f5-ff283c4f06ca",
   "metadata": {},
   "outputs": [],
   "source": [
    "resp = requests.get(f\"{NEMO_URL}/v1/deployment/model-deployments/meta/llama-3.1-8b-instruct\", json=payload)\n",
    "pp(resp.json())"
   ]
  },
  {
   "cell_type": "markdown",
   "id": "dd959837-6507-4680-a4ac-4f4dcf53bbc6",
   "metadata": {},
   "source": [
    "We can test LLM inferences to the NIM endpoint"
   ]
  },
  {
   "cell_type": "code",
   "execution_count": 5,
   "id": "61ead8b5-fb62-4c1b-97e4-a8e607746c33",
   "metadata": {},
   "outputs": [
    {
     "name": "stdout",
     "output_type": "stream",
     "text": [
      "{'role': 'assistant',\n",
      " 'content': 'LLM (Large Language Model) token log probabilities are used to '\n",
      "            \"represent the model's confidence in its predictions, with lower \"\n",
      "            'probabilities indicating less likely or less confident '\n",
      "            'predictions.'}\n"
     ]
    }
   ],
   "source": [
    "payload = {\n",
    "    \"model\": \"meta/llama-3.1-8b-instruct\",\n",
    "    \"messages\": [\n",
    "        {\n",
    "            \"role\": \"user\",\n",
    "            \"content\": \"What is the purpose of LLM token log probabilities? Answer with a single sentence.\"\n",
    "        }\n",
    "    ],\n",
    "    \"stream\": False,\n",
    "    \"temperature\": 0.0\n",
    "}\n",
    "\n",
    "headers = {\n",
    "    \"Content-Type\": \"application/json\",\n",
    "}\n",
    "\n",
    "resp = requests.post(llm_chat_completion_url, json=payload, headers=headers)\n",
    "pp(resp.json()['choices'][0]['message'])"
   ]
  },
  {
   "cell_type": "markdown",
   "id": "fcffc6e6-2f09-417a-a35b-520a52401685",
   "metadata": {},
   "source": [
    "### 1.3 Set Up API Key and Access Token\n",
    "\n",
    "This tutorial uses a remote LLM hosted on [build.nvidia.com](https://build.nvidia.com/) for evaluations that requires a LLM as judge. For this, we will need to set up the API key to access the models. You can generate an NVIDIA API key at [Manage API Keys](https://build.nvidia.com/settings/api-keys)."
   ]
  },
  {
   "cell_type": "code",
   "execution_count": 6,
   "id": "e355d4d7-6d24-4a3d-99e4-476916696cc0",
   "metadata": {},
   "outputs": [
    {
     "name": "stdout",
     "output_type": "stream",
     "text": [
      "Enter your NVIDIA API Key ········\n"
     ]
    }
   ],
   "source": [
    "from getpass import getpass\n",
    "\n",
    "os.environ['NVIDIA_API_KEY'] = getpass(\"Enter your NVIDIA API Key\")"
   ]
  },
  {
   "cell_type": "markdown",
   "id": "05d2e5d0-5169-4401-9c82-5bec2c0f8eb3",
   "metadata": {},
   "source": [
    "Next we need to set up the Hugging Face Access Token which needs to have access to Meta's Llama-3.1-8B-instruct model."
   ]
  },
  {
   "cell_type": "code",
   "execution_count": 7,
   "id": "efe54825-6497-4edb-b1ac-3289a8fa9cbf",
   "metadata": {},
   "outputs": [
    {
     "name": "stdout",
     "output_type": "stream",
     "text": [
      "Enter your Hugging Face Token ········\n"
     ]
    }
   ],
   "source": [
    "os.environ['HF_Token'] = getpass(\"Enter your Hugging Face Token\")"
   ]
  },
  {
   "cell_type": "markdown",
   "id": "c67c1f20",
   "metadata": {},
   "source": [
    "### 1.4 Running Evaluation Jobs with NeMo Evaluator\n",
    "\n",
    "Before running evaluations, it is important to understand the typical NeMo Evaluator Workflow:\n",
    "\n",
    "1.\t(Optional) Upload your custom dataset to the NeMo Data Store if you’re not using a built-in dataset.\n",
    "2.\tCreate an evaluation configuration in NeMo Evaluator.\n",
    "3.\tDefine an evaluation target (the model to evaluate).\n",
    "4.\tSubmit an evaluation job to NeMo Evaluator. The following steps occur automatically:\n",
    "\n",
    "\ta. NeMo Evaluator retrieves any required custom data from the NeMo Data Store.\n",
    "\n",
    "\tb. It runs inference using NIM, supporting LLMs, embeddings, and reranking tasks.\n",
    "\n",
    "\tc. Results, including generations, logs, and metrics, are written to the NeMo Data Store.\n",
    "\n",
    "\td. The results are returned to the user.\n",
    "\n",
    "5.\tReview evaluation results."
   ]
  },
  {
   "cell_type": "markdown",
   "id": "6aa8733b-8f48-4448-bf0d-73cd19a5c19e",
   "metadata": {},
   "source": [
    "## 2. Agentic Evaluation\n",
    "\n",
    "Agentic evaluation uses RAGAS metrics to score agent outputs. RAGAS is a library for evaluating retrieval-augmented generation and agentic workflows using standardized, research-backed metrics.\n",
    "\n",
    "Each task contains a set of metrics relevant to the Agentic evaluation, such as topic adherence, tool call accuracy, agent goal accuracy, or answer accuracy, depending on the metric selected in the job configuration."
   ]
  },
  {
   "cell_type": "markdown",
   "id": "65cfece4-764b-415f-a980-be35dc3eb259",
   "metadata": {},
   "source": [
    "### 2.1 Upload Custom Data to Nemo Data Store\n",
    "\n",
    "Before uploding the data, we first need to create namespace in NeMo Data Store and Entity Store."
   ]
  },
  {
   "cell_type": "code",
   "execution_count": 8,
   "id": "1e8e44cd-d0fc-408e-bf24-120dab22bf58",
   "metadata": {},
   "outputs": [],
   "source": [
    "from helpers import create_namespaces, setup_dataset_repo\n",
    "\n",
    "DATASET_NAME = \"agent_eval\"\n",
    "create_namespaces(NEMO_URL, NDS_URL, NMS_NAMESPACE)\n",
    "HF_API = HfApi(endpoint=f\"{NDS_URL}/v1/hf\", token=\"\")\n",
    "repo_id = setup_dataset_repo(HF_API, NMS_NAMESPACE, DATASET_NAME, NEMO_URL)"
   ]
  },
  {
   "cell_type": "markdown",
   "id": "4140a67b-8e54-453c-9baa-1929ea81bbb9",
   "metadata": {},
   "source": [
    "Follow this [dataset format](https://docs.nvidia.com/nemo/microservices/latest/evaluate/evaluation-types/agentic.html#options) to prepare the dataset for agentic evaluation, example datasets are provided at `./eval_dataset/agent_data`. Next, we will upload these example datasets to Data Store."
   ]
  },
  {
   "cell_type": "code",
   "execution_count": 14,
   "id": "9f48cdb0-1416-4f58-9ebe-2ee12fef6e38",
   "metadata": {},
   "outputs": [
    {
     "name": "stderr",
     "output_type": "stream",
     "text": [
      "agent_tool_call_data.jsonl: 100%|██████████| 3.20k/3.20k [00:00<00:00, 709kB/s]\n"
     ]
    },
    {
     "data": {
      "text/plain": [
       "CommitInfo(commit_url='', commit_message='Upload agent_tool_call_data.jsonl with huggingface_hub', commit_description='', oid='659c7516a96482859db4f4707a32b4a8c5b78ba9', pr_url=None, repo_url=RepoUrl('', endpoint='https://huggingface.co', repo_type='model', repo_id=''), pr_revision=None, pr_num=None)"
      ]
     },
     "execution_count": 14,
     "metadata": {},
     "output_type": "execute_result"
    }
   ],
   "source": [
    "HF_API.upload_file(path_or_fileobj=os.path.join(\"./eval_dataset/agent_data\", \"agent_goal_data.jsonl\"),\n",
    "    path_in_repo=\"agent_goal_data.jsonl\",\n",
    "    repo_id=repo_id,\n",
    "    repo_type='dataset',\n",
    ")\n",
    "\n",
    "HF_API.upload_file(path_or_fileobj=os.path.join(\"./eval_dataset/agent_data\", \"agent_tool_call_data.jsonl\"),\n",
    "    path_in_repo=\"agent_tool_call_data.jsonl\",\n",
    "    repo_id=repo_id,\n",
    "    repo_type='dataset',\n",
    ")"
   ]
  },
  {
   "cell_type": "markdown",
   "id": "2aaa0731-70b0-4db5-82b0-9169038d4fa8",
   "metadata": {},
   "source": [
    "### 2.2 Create Evaluation Targets"
   ]
  },
  {
   "cell_type": "markdown",
   "id": "ffa00862-1b7e-49a0-b67e-f9e2417ccac7",
   "metadata": {},
   "source": [
    "Currently, agentic evaluation only works with `cached_outputs` targets which point to files that are stored in NeMo Data Store and that contain pre-generated answers.\n",
    "\n",
    "We will create two evaluation targets for agentic evaluations: one for agent goal accuracy and one for tool calling accuracy."
   ]
  },
  {
   "cell_type": "code",
   "execution_count": 15,
   "id": "f50ddadc-6ce6-4d60-9e62-b6d17643db77",
   "metadata": {},
   "outputs": [
    {
     "name": "stdout",
     "output_type": "stream",
     "text": [
      "{'created_at': '2025-07-08T19:18:37.063092',\n",
      " 'updated_at': '2025-07-08T19:18:37.063095',\n",
      " 'name': 'agent-goal-target',\n",
      " 'namespace': 'nemo-eval-tutorial',\n",
      " 'type': 'cached_outputs',\n",
      " 'cached_outputs': {'files_url': 'hf://datasets/nemo-eval-tutorial/agent_eval/agent_goal_data.jsonl'},\n",
      " 'id': 'eval-target-GDJ771rB6W3xaowbpE4Bsh',\n",
      " 'custom_fields': {}}\n"
     ]
    }
   ],
   "source": [
    "payload = {\n",
    "    \"type\": \"cached_outputs\",\n",
    "    \"name\": \"agent-goal-target\",\n",
    "    \"namespace\": NMS_NAMESPACE,\n",
    "    \"cached_outputs\": {\n",
    "        \"files_url\": f\"hf://datasets/{NMS_NAMESPACE}/{DATASET_NAME}/agent_goal_data.jsonl\",\n",
    "        }\n",
    "}\n",
    "\n",
    "headers = {\n",
    "    \"Content-Type\": \"application/json\",\n",
    "}\n",
    "\n",
    "\n",
    "resp = requests.post(target_url, json=payload, headers=headers)\n",
    "pp(resp.json())"
   ]
  },
  {
   "cell_type": "code",
   "execution_count": 16,
   "id": "656576d0-c06d-4d20-8c9f-f6fcd01423ad",
   "metadata": {},
   "outputs": [
    {
     "name": "stdout",
     "output_type": "stream",
     "text": [
      "{'created_at': '2025-07-08T19:18:38.848137',\n",
      " 'updated_at': '2025-07-08T19:18:38.848149',\n",
      " 'name': 'agent-tool-call-target',\n",
      " 'namespace': 'nemo-eval-tutorial',\n",
      " 'type': 'cached_outputs',\n",
      " 'cached_outputs': {'files_url': 'hf://datasets/nemo-eval-tutorial/agent_eval/agent_tool_call_data.jsonl'},\n",
      " 'id': 'eval-target-HBLMJtD4MhBzV6S3AGor2g',\n",
      " 'custom_fields': {}}\n"
     ]
    }
   ],
   "source": [
    "payload = {\n",
    "    \"type\": \"cached_outputs\",\n",
    "    \"name\": \"agent-tool-call-target\",\n",
    "    \"namespace\": NMS_NAMESPACE,\n",
    "    \"cached_outputs\": {\n",
    "        \"files_url\": f\"hf://datasets/{NMS_NAMESPACE}/{DATASET_NAME}/agent_tool_call_data.jsonl\",\n",
    "        }\n",
    "}\n",
    "\n",
    "resp = requests.post(target_url, json=payload, headers=headers)\n",
    "pp(resp.json())"
   ]
  },
  {
   "cell_type": "markdown",
   "id": "30cf1d52-6940-43ff-bf76-e11d258fa2e4",
   "metadata": {},
   "source": [
    "### 2.3 Create Evaluation Configs\n",
    "\n",
    "Similarily, we will create two evaluation configs: one for agent goal accuracy and one for tool calling accuracy."
   ]
  },
  {
   "cell_type": "code",
   "execution_count": 17,
   "id": "49aae7e8-4718-413b-91ae-f7ba6269880e",
   "metadata": {
    "collapsed": true,
    "jupyter": {
     "outputs_hidden": true
    }
   },
   "outputs": [
    {
     "name": "stdout",
     "output_type": "stream",
     "text": [
      "{'created_at': '2025-07-08T19:19:13.374904',\n",
      " 'updated_at': '2025-07-08T19:19:13.374906',\n",
      " 'name': 'agentic-goal-accuracy',\n",
      " 'namespace': 'nemo-eval-tutorial',\n",
      " 'type': 'agentic',\n",
      " 'tasks': {'goal-accuracy': {'type': 'agent_goal_accuracy_with_reference',\n",
      "                             'params': {'judge': {'model': {'url': 'https://integrate.api.nvidia.com/v1',\n",
      "                                                            'model_id': 'meta/llama-3.3-70b-instruct',\n",
      "                                                            'api_key': '******'},\n",
      "                                                  'inference_params': {'max_new_tokens': 4024,\n",
      "                                                                       'max_retries': 10,\n",
      "                                                                       'request_timeout': 10,\n",
      "                                                                       'temperature': 0.1}}}}},\n",
      " 'id': 'eval-config-MCeuvELVrXYuZQLZWE2tkV',\n",
      " 'custom_fields': {}}\n"
     ]
    }
   ],
   "source": [
    "payload = {\n",
    "  \"type\": \"agentic\",\n",
    "  \"name\": \"agentic-goal-accuracy\",\n",
    "  \"namespace\": NMS_NAMESPACE,\n",
    "  \"tasks\": {\n",
    "    \"goal-accuracy\": {\n",
    "      \"type\": \"agent_goal_accuracy_with_reference\",\n",
    "      \"params\": {\n",
    "        \"judge\": {\n",
    "          \"model\": {\n",
    "            \"url\": \"https://integrate.api.nvidia.com/v1\",\n",
    "            \"model_id\": \"meta/llama-3.3-70b-instruct\",\n",
    "            \"api_key\": os.environ[\"NVIDIA_API_KEY\"]\n",
    "          },\n",
    "          \"inference_params\": {\n",
    "            \"max_new_tokens\": 4024,\n",
    "            \"max_retries\": 10,\n",
    "            \"request_timeout\": 10,\n",
    "            \"temperature\": 0.1\n",
    "          }\n",
    "        }\n",
    "      }\n",
    "    }\n",
    "  }\n",
    "}\n",
    "headers = {\n",
    "    \"accept\": \"application/json\",\n",
    "    \"Content-Type\": \"application/json\"\n",
    "}\n",
    "\n",
    "resp = requests.post(config_url, json=payload, headers=headers)\n",
    "pp(resp.json())"
   ]
  },
  {
   "cell_type": "code",
   "execution_count": 18,
   "id": "0e6f59d8-be94-4d61-956e-6967c6828c62",
   "metadata": {
    "collapsed": true,
    "jupyter": {
     "outputs_hidden": true
    }
   },
   "outputs": [
    {
     "name": "stdout",
     "output_type": "stream",
     "text": [
      "{'created_at': '2025-07-08T19:19:30.170735',\n",
      " 'updated_at': '2025-07-08T19:19:30.170738',\n",
      " 'name': 'agentic-tool-call-accuracy',\n",
      " 'namespace': 'nemo-eval-tutorial',\n",
      " 'type': 'agentic',\n",
      " 'tasks': {'tool-call-accuracy': {'type': 'tool_call_accuracy'}},\n",
      " 'id': 'eval-config-Jr4uE5uUonn3YyfwUHKKSa',\n",
      " 'custom_fields': {}}\n"
     ]
    }
   ],
   "source": [
    "payload = {\n",
    "  \"type\": \"agentic\",\n",
    "  \"name\": \"agentic-tool-call-accuracy\",\n",
    "  \"namespace\": NMS_NAMESPACE,\n",
    "  \"tasks\": {\n",
    "    \"tool-call-accuracy\": {\n",
    "      \"type\": \"tool_call_accuracy\",\n",
    "    }\n",
    "  }\n",
    "}\n",
    "\n",
    "resp = requests.post(config_url, json=payload, headers=headers)\n",
    "pp(resp.json())"
   ]
  },
  {
   "cell_type": "markdown",
   "id": "73806bf9-8caf-4eb9-9bfb-77222637869e",
   "metadata": {},
   "source": [
    "### 2.4 Submit Evaluation Job\n",
    "\n",
    "To launch the evaluation job, we simply send a request with the previously created evaluation targets and configs to the `/jobs` API endpoint."
   ]
  },
  {
   "cell_type": "code",
   "execution_count": 28,
   "id": "783386ae-b5c1-4c29-bfb3-9b94df32bdd4",
   "metadata": {
    "collapsed": true,
    "jupyter": {
     "outputs_hidden": true
    }
   },
   "outputs": [
    {
     "name": "stdout",
     "output_type": "stream",
     "text": [
      "{'created_at': '2025-07-08T19:28:46.640661',\n",
      " 'updated_at': '2025-07-08T19:28:46.640663',\n",
      " 'id': 'eval-PLUWikEJpyH7WkcYj6sWZb',\n",
      " 'namespace': 'nemo-eval-tutorial',\n",
      " 'description': None,\n",
      " 'target': {'schema_version': '1.0',\n",
      "            'id': 'eval-target-GDJ771rB6W3xaowbpE4Bsh',\n",
      "            'description': None,\n",
      "            'type_prefix': 'eval-target',\n",
      "            'namespace': 'nemo-eval-tutorial',\n",
      "            'project': None,\n",
      "            'created_at': '2025-07-08T19:18:37.063092',\n",
      "            'updated_at': '2025-07-08T19:18:37.063095',\n",
      "            'custom_fields': {},\n",
      "            'ownership': None,\n",
      "            'name': 'agent-goal-target',\n",
      "            'type': 'cached_outputs',\n",
      "            'cached_outputs': {'files_url': 'hf://datasets/nemo-eval-tutorial/agent_eval/agent_goal_data.jsonl'},\n",
      "            'model': None,\n",
      "            'retriever': None,\n",
      "            'rag': None,\n",
      "            'rows': None,\n",
      "            'dataset': None},\n",
      " 'config': {'schema_version': '1.0',\n",
      "            'id': 'eval-config-MCeuvELVrXYuZQLZWE2tkV',\n",
      "            'description': None,\n",
      "            'type_prefix': 'eval-config',\n",
      "            'namespace': 'nemo-eval-tutorial',\n",
      "            'project': None,\n",
      "            'created_at': '2025-07-08T19:19:13.374904',\n",
      "            'updated_at': '2025-07-08T19:19:13.374906',\n",
      "            'custom_fields': {},\n",
      "            'ownership': None,\n",
      "            'name': 'agentic-goal-accuracy',\n",
      "            'type': 'agentic',\n",
      "            'params': None,\n",
      "            'tasks': {'goal-accuracy': {'type': 'agent_goal_accuracy_with_reference',\n",
      "                                        'params': {'judge': {'model': {'url': 'https://integrate.api.nvidia.com/v1',\n",
      "                                                                       'model_id': 'meta/llama-3.3-70b-instruct',\n",
      "                                                                       'api_key': '******'},\n",
      "                                                             'inference_params': {'max_new_tokens': 4024,\n",
      "                                                                                  'max_retries': 10,\n",
      "                                                                                  'request_timeout': 10,\n",
      "                                                                                  'temperature': 0.1}}},\n",
      "                                        'metrics': None,\n",
      "                                        'dataset': None}},\n",
      "            'groups': None},\n",
      " 'result': None,\n",
      " 'output_files_url': None,\n",
      " 'status_details': {'message': None, 'task_status': {}, 'progress': None},\n",
      " 'status': 'created',\n",
      " 'project': None,\n",
      " 'custom_fields': {},\n",
      " 'ownership': None}\n"
     ]
    }
   ],
   "source": [
    "payload = {\n",
    "    \"namespace\": NMS_NAMESPACE,\n",
    "    \"target\": f\"{NMS_NAMESPACE}/agent-goal-target\",\n",
    "    \"config\": f\"{NMS_NAMESPACE}/agentic-goal-accuracy\"\n",
    "}\n",
    "\n",
    "resp = requests.post(job_url, json=payload, headers=headers)\n",
    "agent_goal_eval_job_id = resp.json()[\"id\"]\n",
    "pp(resp.json())"
   ]
  },
  {
   "cell_type": "code",
   "execution_count": 24,
   "id": "48683921-cb41-4668-bba5-485f2df43831",
   "metadata": {
    "collapsed": true,
    "jupyter": {
     "outputs_hidden": true
    }
   },
   "outputs": [
    {
     "name": "stdout",
     "output_type": "stream",
     "text": [
      "{'created_at': '2025-07-08T19:27:35.584648',\n",
      " 'updated_at': '2025-07-08T19:27:35.584650',\n",
      " 'id': 'eval-N9HsrJbRXjWKefR6ZSi3oo',\n",
      " 'namespace': 'nemo-eval-tutorial',\n",
      " 'description': None,\n",
      " 'target': {'schema_version': '1.0',\n",
      "            'id': 'eval-target-HBLMJtD4MhBzV6S3AGor2g',\n",
      "            'description': None,\n",
      "            'type_prefix': 'eval-target',\n",
      "            'namespace': 'nemo-eval-tutorial',\n",
      "            'project': None,\n",
      "            'created_at': '2025-07-08T19:18:38.848137',\n",
      "            'updated_at': '2025-07-08T19:18:38.848149',\n",
      "            'custom_fields': {},\n",
      "            'ownership': None,\n",
      "            'name': 'agent-tool-call-target',\n",
      "            'type': 'cached_outputs',\n",
      "            'cached_outputs': {'files_url': 'hf://datasets/nemo-eval-tutorial/agent_eval/agent_tool_call_data.jsonl'},\n",
      "            'model': None,\n",
      "            'retriever': None,\n",
      "            'rag': None,\n",
      "            'rows': None,\n",
      "            'dataset': None},\n",
      " 'config': {'schema_version': '1.0',\n",
      "            'id': 'eval-config-Jr4uE5uUonn3YyfwUHKKSa',\n",
      "            'description': None,\n",
      "            'type_prefix': 'eval-config',\n",
      "            'namespace': 'nemo-eval-tutorial',\n",
      "            'project': None,\n",
      "            'created_at': '2025-07-08T19:19:30.170735',\n",
      "            'updated_at': '2025-07-08T19:19:30.170738',\n",
      "            'custom_fields': {},\n",
      "            'ownership': None,\n",
      "            'name': 'agentic-tool-call-accuracy',\n",
      "            'type': 'agentic',\n",
      "            'params': None,\n",
      "            'tasks': {'tool-call-accuracy': {'type': 'tool_call_accuracy',\n",
      "                                             'params': None,\n",
      "                                             'metrics': None,\n",
      "                                             'dataset': None}},\n",
      "            'groups': None},\n",
      " 'result': None,\n",
      " 'output_files_url': None,\n",
      " 'status_details': {'message': None, 'task_status': {}, 'progress': None},\n",
      " 'status': 'created',\n",
      " 'project': None,\n",
      " 'custom_fields': {},\n",
      " 'ownership': None}\n"
     ]
    }
   ],
   "source": [
    "payload = {\n",
    "    \"namespace\": NMS_NAMESPACE,\n",
    "    \"target\": f\"{NMS_NAMESPACE}/agent-tool-call-target\",\n",
    "    \"config\": f\"{NMS_NAMESPACE}/agentic-tool-call-accuracy\"\n",
    "}\n",
    "\n",
    "resp = requests.post(job_url, json=payload, headers=headers)\n",
    "agent_tool_call_eval_job_id = resp.json()[\"id\"]\n",
    "pp(resp.json())"
   ]
  },
  {
   "cell_type": "markdown",
   "id": "6844ba1d-a491-43c4-8b64-947eb88f72f3",
   "metadata": {},
   "source": [
    "### 2.5 Monitoring job status and get evaluation results\n",
    "\n",
    "We can monitor job status and get the evaluation results by sending request with the Job ID to the `/status` and `/results` API, respectively."
   ]
  },
  {
   "cell_type": "code",
   "execution_count": 33,
   "id": "192c9156-8df3-4611-9687-7356937fe389",
   "metadata": {},
   "outputs": [
    {
     "name": "stdout",
     "output_type": "stream",
     "text": [
      "{'message': None, 'task_status': {}, 'progress': 100.0}\n"
     ]
    }
   ],
   "source": [
    "resp = requests.get(f\"{NEMO_URL}/v1/evaluation/jobs/{agent_goal_eval_job_id}/status\")\n",
    "pp(resp.json())"
   ]
  },
  {
   "cell_type": "code",
   "execution_count": 34,
   "id": "20af57a2-7fb6-49db-a3a5-a8fecf75ce37",
   "metadata": {},
   "outputs": [
    {
     "name": "stdout",
     "output_type": "stream",
     "text": [
      "{'goal-accuracy': {'metrics': {'agent_goal_accuracy': {'scores': {'agent_goal_accuracy': {'value': 1.0}}}}}}\n"
     ]
    }
   ],
   "source": [
    "resp = requests.get(f\"{NEMO_URL}/v1/evaluation/jobs/{agent_goal_eval_job_id}/results\")\n",
    "pp(resp.json()['tasks'])"
   ]
  },
  {
   "cell_type": "code",
   "execution_count": 25,
   "id": "a942d665-4f3e-4b10-8efe-e4bf02f81b67",
   "metadata": {},
   "outputs": [
    {
     "name": "stdout",
     "output_type": "stream",
     "text": [
      "{'message': None, 'task_status': {}, 'progress': 100.0}\n"
     ]
    }
   ],
   "source": [
    "resp = requests.get(f\"{NEMO_URL}/v1/evaluation/jobs/{agent_tool_call_eval_job_id}/status\")\n",
    "pp(resp.json())"
   ]
  },
  {
   "cell_type": "code",
   "execution_count": 27,
   "id": "366eba53-1b82-4d5e-85a2-6fb2c923f113",
   "metadata": {},
   "outputs": [
    {
     "name": "stdout",
     "output_type": "stream",
     "text": [
      "{'tool-call-accuracy': {'metrics': {'tool_call_accuracy': {'scores': {'tool_call_accuracy': {'value': 1.0}}}}}}\n"
     ]
    }
   ],
   "source": [
    "resp = requests.get(f\"{NEMO_URL}/v1/evaluation/jobs/{agent_tool_call_eval_job_id}/results\")\n",
    "pp(resp.json()['tasks'])"
   ]
  },
  {
   "cell_type": "markdown",
   "id": "87aaef5c-5d97-4107-8339-833faaeaaeef",
   "metadata": {},
   "source": [
    "**Download Evaluation Eesults**: downloads a directory that contains the configuration files, logs, and evaluation results for a specific evaluation job."
   ]
  },
  {
   "cell_type": "code",
   "execution_count": null,
   "id": "b5e9abd9-104c-4a8b-ad91-982d0070ec17",
   "metadata": {},
   "outputs": [],
   "source": [
    "!curl -X \"GET\" \"{NEMO_URL}/v1/evaluation/jobs/{agent_eval_job_id}/download-results\" \\\n",
    "-H 'accept: application/json' \\\n",
    "-o result.zip"
   ]
  },
  {
   "cell_type": "markdown",
   "id": "cb03af9c-d330-4579-9b71-2883c32ad80a",
   "metadata": {},
   "source": [
    "## 3. LLM Evaluation on Academic Benchmarks"
   ]
  },
  {
   "cell_type": "markdown",
   "id": "0b22d8f7-acb4-4782-8b6b-794a808da8a5",
   "metadata": {},
   "source": [
    "**Create Evaluation Config**"
   ]
  },
  {
   "cell_type": "code",
   "execution_count": 36,
   "id": "86a9e0ce-1a6c-4964-8425-ef0427a7ecc2",
   "metadata": {},
   "outputs": [
    {
     "name": "stdout",
     "output_type": "stream",
     "text": [
      "{'created_at': '2025-07-08T19:39:55.734565',\n",
      " 'updated_at': '2025-07-08T19:39:55.734568',\n",
      " 'name': 'gsm8k-chat-config',\n",
      " 'namespace': 'nemo-eval-tutorial',\n",
      " 'type': 'gsm8k',\n",
      " 'params': {'max_tokens': 256,\n",
      "            'temperature': 1e-05,\n",
      "            'top_p': 1e-05,\n",
      "            'stop': ['<|eot|>'],\n",
      "            'extra': {'num_fewshot': 8,\n",
      "                      'batch_size': 16,\n",
      "                      'bootstrap_iters': 100000,\n",
      "                      'dataset_seed': 42,\n",
      "                      'use_greedy': True,\n",
      "                      'top_k': 1,\n",
      "                      'hf_token': '******',\n",
      "                      'tokenizer_backend': 'hf',\n",
      "                      'tokenizer': 'meta-llama/llama-3.1-8B-Instruct',\n",
      "                      'apply_chat_template': True,\n",
      "                      'fewshot_as_multiturn': True}},\n",
      " 'id': 'eval-config-6pTREGQfYHFQzq7oWHATgt',\n",
      " 'custom_fields': {}}\n"
     ]
    }
   ],
   "source": [
    "payload = {\n",
    "    \"type\": \"gsm8k\",\n",
    "    \"name\": \"gsm8k-chat-config\",\n",
    "    \"namespace\": NMS_NAMESPACE,\n",
    "    \"params\": {\n",
    "        \"temperature\": 0.00001,\n",
    "        \"top_p\": 0.00001,\n",
    "        \"max_tokens\": 256,\n",
    "        \"stop\": [\"<|eot|>\"],\n",
    "        \"extra\": {\n",
    "            \"num_fewshot\": 8,\n",
    "            \"batch_size\": 16,\n",
    "            \"bootstrap_iters\": 100000,\n",
    "            \"dataset_seed\": 42,\n",
    "            \"use_greedy\": True,\n",
    "            \"top_k\": 1,\n",
    "            \"hf_token\": os.environ['HF_Token'],\n",
    "            \"tokenizer_backend\": \"hf\",\n",
    "            \"tokenizer\": \"meta-llama/llama-3.1-8B-Instruct\",\n",
    "            \"apply_chat_template\": True,\n",
    "            \"fewshot_as_multiturn\": True\n",
    "        }\n",
    "    }\n",
    "}\n",
    "headers = {\n",
    "    \"accept\": \"application/json\",\n",
    "    \"Content-Type\": \"application/json\"\n",
    "}\n",
    "\n",
    "resp = requests.post(config_url, json=payload, headers=headers)\n",
    "pp(resp.json())"
   ]
  },
  {
   "cell_type": "markdown",
   "id": "f1c1856a-b816-49f4-900a-7de0b38506e6",
   "metadata": {},
   "source": [
    "**Create Evaluation Target**"
   ]
  },
  {
   "cell_type": "code",
   "execution_count": 37,
   "id": "3bd2ace9-dbda-4120-bba9-644a7651b75d",
   "metadata": {},
   "outputs": [
    {
     "name": "stdout",
     "output_type": "stream",
     "text": [
      "{'created_at': '2025-07-08T19:40:13.061228',\n",
      " 'updated_at': '2025-07-08T19:40:13.061229',\n",
      " 'name': 'llama-chat-target',\n",
      " 'namespace': 'nemo-eval-tutorial',\n",
      " 'type': 'model',\n",
      " 'model': {'schema_version': '1.0',\n",
      "           'id': 'model-EXZQbF8ZXbjoogTvF9UFKr',\n",
      "           'type_prefix': 'model',\n",
      "           'namespace': 'default',\n",
      "           'created_at': '2025-07-08T19:40:13.061012',\n",
      "           'updated_at': '2025-07-08T19:40:13.061015',\n",
      "           'custom_fields': {},\n",
      "           'name': 'model-EXZQbF8ZXbjoogTvF9UFKr',\n",
      "           'version_id': 'main',\n",
      "           'version_tags': [],\n",
      "           'api_endpoint': {'url': 'http://nim.test/v1/chat/completions',\n",
      "                            'model_id': 'meta/llama-3.1-8b-instruct',\n",
      "                            'format': 'openai'}},\n",
      " 'id': 'eval-target-GaJYgnmDA4Ta2TN23sV9Wo',\n",
      " 'custom_fields': {}}\n"
     ]
    }
   ],
   "source": [
    "payload = {\n",
    "    \"type\": \"model\",\n",
    "    \"name\": \"llama-chat-target\",\n",
    "    \"namespace\": NMS_NAMESPACE,\n",
    "    \"model\": {\n",
    "        \"api_endpoint\": {\n",
    "            \"url\": llm_chat_completion_url ,\n",
    "            \"model_id\": \"meta/llama-3.1-8b-instruct\",\n",
    "            \"format\": \"openai\"\n",
    "        }\n",
    "    }\n",
    "}\n",
    "\n",
    "resp = requests.post(target_url, json=payload, headers=headers)\n",
    "pp(resp.json())"
   ]
  },
  {
   "cell_type": "markdown",
   "id": "4f8b84ac-ff4e-4237-aace-3e6756de4b9a",
   "metadata": {},
   "source": [
    "**Submit Evaluation Job**"
   ]
  },
  {
   "cell_type": "code",
   "execution_count": 38,
   "id": "2db8db92-4040-455d-abb1-a6be1d6d9ec3",
   "metadata": {
    "scrolled": true
   },
   "outputs": [
    {
     "name": "stdout",
     "output_type": "stream",
     "text": [
      "{'created_at': '2025-07-08T19:40:19.984771',\n",
      " 'updated_at': '2025-07-08T19:40:19.984774',\n",
      " 'id': 'eval-WF5xprkaQpjTNZLpsNb1Y1',\n",
      " 'namespace': 'nemo-eval-tutorial',\n",
      " 'description': None,\n",
      " 'target': {'schema_version': '1.0',\n",
      "            'id': 'eval-target-GaJYgnmDA4Ta2TN23sV9Wo',\n",
      "            'description': None,\n",
      "            'type_prefix': 'eval-target',\n",
      "            'namespace': 'nemo-eval-tutorial',\n",
      "            'project': None,\n",
      "            'created_at': '2025-07-08T19:40:13.061228',\n",
      "            'updated_at': '2025-07-08T19:40:13.061229',\n",
      "            'custom_fields': {},\n",
      "            'ownership': None,\n",
      "            'name': 'llama-chat-target',\n",
      "            'type': 'model',\n",
      "            'cached_outputs': None,\n",
      "            'model': {'schema_version': '1.0',\n",
      "                      'id': 'model-EXZQbF8ZXbjoogTvF9UFKr',\n",
      "                      'description': None,\n",
      "                      'type_prefix': 'model',\n",
      "                      'namespace': 'default',\n",
      "                      'project': None,\n",
      "                      'created_at': '2025-07-08T19:40:13.061012',\n",
      "                      'updated_at': '2025-07-08T19:40:13.061015',\n",
      "                      'custom_fields': {},\n",
      "                      'ownership': None,\n",
      "                      'name': 'model-EXZQbF8ZXbjoogTvF9UFKr',\n",
      "                      'version_id': 'main',\n",
      "                      'version_tags': [],\n",
      "                      'spec': None,\n",
      "                      'artifact': None,\n",
      "                      'base_model': None,\n",
      "                      'api_endpoint': {'url': 'http://nim.test/v1/chat/completions',\n",
      "                                       'model_id': 'meta/llama-3.1-8b-instruct',\n",
      "                                       'api_key': None,\n",
      "                                       'format': 'openai'},\n",
      "                      'peft': None,\n",
      "                      'prompt': None,\n",
      "                      'guardrails': None},\n",
      "            'retriever': None,\n",
      "            'rag': None,\n",
      "            'rows': None,\n",
      "            'dataset': None},\n",
      " 'config': {'schema_version': '1.0',\n",
      "            'id': 'eval-config-6pTREGQfYHFQzq7oWHATgt',\n",
      "            'description': None,\n",
      "            'type_prefix': 'eval-config',\n",
      "            'namespace': 'nemo-eval-tutorial',\n",
      "            'project': None,\n",
      "            'created_at': '2025-07-08T19:39:55.734565',\n",
      "            'updated_at': '2025-07-08T19:39:55.734568',\n",
      "            'custom_fields': {},\n",
      "            'ownership': None,\n",
      "            'name': 'gsm8k-chat-config',\n",
      "            'type': 'gsm8k',\n",
      "            'params': {'parallelism': None,\n",
      "                       'request_timeout': None,\n",
      "                       'max_retries': None,\n",
      "                       'limit_samples': None,\n",
      "                       'max_tokens': 256,\n",
      "                       'temperature': 1e-05,\n",
      "                       'top_p': 1e-05,\n",
      "                       'stop': ['<|eot|>'],\n",
      "                       'extra': {'num_fewshot': 8,\n",
      "                                 'batch_size': 16,\n",
      "                                 'bootstrap_iters': 100000,\n",
      "                                 'dataset_seed': 42,\n",
      "                                 'use_greedy': True,\n",
      "                                 'top_k': 1,\n",
      "                                 'hf_token': '******',\n",
      "                                 'tokenizer_backend': 'hf',\n",
      "                                 'tokenizer': 'meta-llama/llama-3.1-8B-Instruct',\n",
      "                                 'apply_chat_template': True,\n",
      "                                 'fewshot_as_multiturn': True}},\n",
      "            'tasks': None,\n",
      "            'groups': None},\n",
      " 'result': None,\n",
      " 'output_files_url': None,\n",
      " 'status_details': {'message': None, 'task_status': {}, 'progress': None},\n",
      " 'status': 'created',\n",
      " 'project': None,\n",
      " 'custom_fields': {},\n",
      " 'ownership': None}\n"
     ]
    }
   ],
   "source": [
    "payload = {\n",
    "    \"namespace\": NMS_NAMESPACE,\n",
    "    \"target\": f\"{NMS_NAMESPACE}/llama-chat-target\",\n",
    "    \"config\": f\"{NMS_NAMESPACE}/gsm8k-chat-config\"\n",
    "}\n",
    "\n",
    "resp = requests.post(job_url, json=payload, headers=headers)\n",
    "gsm8k_eval_job_id = resp.json()[\"id\"]\n",
    "pp(resp.json())"
   ]
  },
  {
   "cell_type": "markdown",
   "id": "6b27d234-77dd-4505-bae7-d4ed2e2a5348",
   "metadata": {},
   "source": [
    "We can check the status of the job using the status API. **Note that the status in the API is only regularly updated for custom evaluation. So as long as the status is saying running, it's actually running.**"
   ]
  },
  {
   "cell_type": "code",
   "execution_count": 41,
   "id": "29a416f7-a18a-4c40-b6ea-be351d483f07",
   "metadata": {},
   "outputs": [
    {
     "name": "stdout",
     "output_type": "stream",
     "text": [
      "{'message': 'Job completed successfully', 'task_status': {}, 'progress': 100.0}\n"
     ]
    }
   ],
   "source": [
    "resp = requests.get(f\"{NEMO_URL}/v1/evaluation/jobs/{gsm8k_eval_job_id}/status\")\n",
    "pp(resp.json())"
   ]
  },
  {
   "cell_type": "markdown",
   "id": "2cfcc3b0-8d3c-4498-9384-4b1213977a7e",
   "metadata": {},
   "source": [
    "Once the job is completed, we can check the evaluation results using the results endpoint."
   ]
  },
  {
   "cell_type": "code",
   "execution_count": 42,
   "id": "49938fe8-bb24-4498-a152-84ccc944bcd2",
   "metadata": {},
   "outputs": [
    {
     "name": "stdout",
     "output_type": "stream",
     "text": [
      "{'metrics': {'exact_match': {'scores': {'gsm8k-metric_ranking-1': {'value': 0.7664897649734648},\n",
      "                                        'gsm8k-metric_ranking-3': {'value': 0.821076573161486}}}}}\n",
      "{'metrics': {'exact_match_stderr': {'scores': {'gsm8k-metric_ranking-2': {'value': 0.011653286808791036},\n",
      "                                               'gsm8k-metric_ranking-4': {'value': 0.010557661392901296}}}}}\n"
     ]
    }
   ],
   "source": [
    "resp = requests.get(f\"{NEMO_URL}/v1/evaluation/jobs/{gsm8k_eval_job_id}/results\")\n",
    "pp(resp.json()['tasks']['exact_match'])\n",
    "pp(resp.json()['tasks']['exact_match_stderr'])"
   ]
  },
  {
   "cell_type": "markdown",
   "id": "90262e05-61a9-4dfa-9dee-5a8d579d531e",
   "metadata": {},
   "source": [
    "## 4. Custom Evaluations"
   ]
  },
  {
   "cell_type": "markdown",
   "id": "325349e3-c240-4c6e-9cf6-913039b92735",
   "metadata": {},
   "source": [
    "### 4.1 Similarity Metrics Evaluation"
   ]
  },
  {
   "cell_type": "markdown",
   "id": "f409363c-99ed-4e2b-b5b2-1d50c2790d14",
   "metadata": {},
   "source": [
    "**Upload Custom Data to Nemo Data Store**"
   ]
  },
  {
   "cell_type": "code",
   "execution_count": 43,
   "id": "b4b4bd96-9e35-41b2-8dce-95a88d8eff1a",
   "metadata": {},
   "outputs": [
    {
     "name": "stderr",
     "output_type": "stream",
     "text": [
      "inputs.jsonl: 100%|██████████| 149k/149k [00:00<00:00, 28.9MB/s]\n"
     ]
    },
    {
     "data": {
      "text/plain": [
       "CommitInfo(commit_url='', commit_message='Upload similarity_metrics/inputs.jsonl with huggingface_hub', commit_description='', oid='6220905767521b90b36e77360dc7213c3dbbb99e', pr_url=None, repo_url=RepoUrl('', endpoint='https://huggingface.co', repo_type='model', repo_id=''), pr_revision=None, pr_num=None)"
      ]
     },
     "execution_count": 43,
     "metadata": {},
     "output_type": "execute_result"
    }
   ],
   "source": [
    "# set up dataset repo\n",
    "DATASET_NAME = \"similarity_eval\"\n",
    "HF_API = HfApi(endpoint=f\"{NDS_URL}/v1/hf\", token=\"\")\n",
    "repo_id = setup_dataset_repo(HF_API, NMS_NAMESPACE, DATASET_NAME, NEMO_URL)\n",
    "# upload dataset\n",
    "HF_API.upload_file(path_or_fileobj=os.path.join(\"./eval_dataset/similarity_metrics_data\", \"inputs.jsonl\"),\n",
    "    path_in_repo=\"similarity_metrics/inputs.jsonl\",\n",
    "    repo_id=repo_id,\n",
    "    repo_type='dataset',\n",
    ")"
   ]
  },
  {
   "cell_type": "markdown",
   "id": "733118e3-7cdf-4b0c-9d57-51e5c7baf91e",
   "metadata": {},
   "source": [
    "**Create Evaluation Config**"
   ]
  },
  {
   "cell_type": "code",
   "execution_count": 44,
   "id": "7195efda-6785-404a-b910-9d5826176692",
   "metadata": {},
   "outputs": [
    {
     "name": "stdout",
     "output_type": "stream",
     "text": [
      "{'created_at': '2025-07-08T20:31:57.416755',\n",
      " 'updated_at': '2025-07-08T20:31:57.416756',\n",
      " 'name': 'similarity-configuration',\n",
      " 'namespace': 'nemo-eval-tutorial',\n",
      " 'type': 'similarity_metrics',\n",
      " 'params': {'max_tokens': 200, 'temperature': 0.7, 'extra': {'top_k': 20}},\n",
      " 'tasks': {'my-similarity-metrics-task': {'type': 'default',\n",
      "                                          'metrics': {'accuracy': {'type': 'accuracy'},\n",
      "                                                      'bleu': {'type': 'bleu'},\n",
      "                                                      'rouge': {'type': 'rouge'},\n",
      "                                                      'em': {'type': 'em'},\n",
      "                                                      'f1': {'type': 'f1'}},\n",
      "                                          'dataset': {'schema_version': '1.0',\n",
      "                                                      'id': 'dataset-DALY8efJ78UgkXHcrfACGZ',\n",
      "                                                      'namespace': 'default',\n",
      "                                                      'created_at': '2025-07-08T20:31:57.416530',\n",
      "                                                      'updated_at': '2025-07-08T20:31:57.416532',\n",
      "                                                      'custom_fields': {},\n",
      "                                                      'name': 'dataset-DALY8efJ78UgkXHcrfACGZ',\n",
      "                                                      'version_id': 'main',\n",
      "                                                      'version_tags': [],\n",
      "                                                      'files_url': 'hf://datasets/nemo-eval-tutorial/similarity_eval/similarity_metrics/inputs.jsonl'}}},\n",
      " 'id': 'eval-config-XQpRHrKVucSQzLDXFdZqjq',\n",
      " 'custom_fields': {}}\n"
     ]
    }
   ],
   "source": [
    "payload = {\n",
    "    \"type\": \"similarity_metrics\",\n",
    "    \"name\": \"similarity-configuration\",\n",
    "    \"namespace\": NMS_NAMESPACE,\n",
    "    \"params\": {\n",
    "        \"max_tokens\": 200,\n",
    "        \"temperature\": 0.7,\n",
    "        \"extra\": {\n",
    "            \"top_k\": 20\n",
    "        }\n",
    "    },\n",
    "    \"tasks\": {\n",
    "        \"my-similarity-metrics-task\": {\n",
    "            \"type\": \"default\",\n",
    "            \"dataset\": {\n",
    "                \"files_url\": f\"hf://datasets/{NMS_NAMESPACE}/{DATASET_NAME}/similarity_metrics/inputs.jsonl\",\n",
    "            },\n",
    "            \"metrics\": {\n",
    "                \"accuracy\": {\"type\": \"accuracy\"},\n",
    "                \"bleu\": {\"type\": \"bleu\"},\n",
    "                \"rouge\": {\"type\": \"rouge\"},\n",
    "                \"em\": {\"type\": \"em\"},\n",
    "                \"f1\": {\"type\": \"f1\"}\n",
    "            }\n",
    "        }\n",
    "    }\n",
    "}\n",
    "\n",
    "resp = requests.post(config_url, json=payload, headers=headers)\n",
    "pp(resp.json())"
   ]
  },
  {
   "cell_type": "markdown",
   "id": "c1571c3e-fbe5-4374-accf-7bbb1c36b63d",
   "metadata": {},
   "source": [
    "**Launch Evaluation Job**"
   ]
  },
  {
   "cell_type": "code",
   "execution_count": 45,
   "id": "261f2366-8e90-48d4-90ff-08275b5f0ac4",
   "metadata": {
    "collapsed": true,
    "jupyter": {
     "outputs_hidden": true
    }
   },
   "outputs": [
    {
     "name": "stdout",
     "output_type": "stream",
     "text": [
      "{'created_at': '2025-07-08T20:32:03.445393',\n",
      " 'updated_at': '2025-07-08T20:32:03.445396',\n",
      " 'id': 'eval-TVYBnUrD4XhjDV4UCdXJ6y',\n",
      " 'namespace': 'nemo-eval-tutorial',\n",
      " 'description': None,\n",
      " 'target': {'schema_version': '1.0',\n",
      "            'id': 'eval-target-GaJYgnmDA4Ta2TN23sV9Wo',\n",
      "            'description': None,\n",
      "            'type_prefix': 'eval-target',\n",
      "            'namespace': 'nemo-eval-tutorial',\n",
      "            'project': None,\n",
      "            'created_at': '2025-07-08T19:40:13.061228',\n",
      "            'updated_at': '2025-07-08T19:40:13.061229',\n",
      "            'custom_fields': {},\n",
      "            'ownership': None,\n",
      "            'name': 'llama-chat-target',\n",
      "            'type': 'model',\n",
      "            'cached_outputs': None,\n",
      "            'model': {'schema_version': '1.0',\n",
      "                      'id': 'model-EXZQbF8ZXbjoogTvF9UFKr',\n",
      "                      'description': None,\n",
      "                      'type_prefix': 'model',\n",
      "                      'namespace': 'default',\n",
      "                      'project': None,\n",
      "                      'created_at': '2025-07-08T19:40:13.061012',\n",
      "                      'updated_at': '2025-07-08T19:40:13.061015',\n",
      "                      'custom_fields': {},\n",
      "                      'ownership': None,\n",
      "                      'name': 'model-EXZQbF8ZXbjoogTvF9UFKr',\n",
      "                      'version_id': 'main',\n",
      "                      'version_tags': [],\n",
      "                      'spec': None,\n",
      "                      'artifact': None,\n",
      "                      'base_model': None,\n",
      "                      'api_endpoint': {'url': 'http://nim.test/v1/chat/completions',\n",
      "                                       'model_id': 'meta/llama-3.1-8b-instruct',\n",
      "                                       'api_key': None,\n",
      "                                       'format': 'openai'},\n",
      "                      'peft': None,\n",
      "                      'prompt': None,\n",
      "                      'guardrails': None},\n",
      "            'retriever': None,\n",
      "            'rag': None,\n",
      "            'rows': None,\n",
      "            'dataset': None},\n",
      " 'config': {'schema_version': '1.0',\n",
      "            'id': 'eval-config-XQpRHrKVucSQzLDXFdZqjq',\n",
      "            'description': None,\n",
      "            'type_prefix': 'eval-config',\n",
      "            'namespace': 'nemo-eval-tutorial',\n",
      "            'project': None,\n",
      "            'created_at': '2025-07-08T20:31:57.416755',\n",
      "            'updated_at': '2025-07-08T20:31:57.416756',\n",
      "            'custom_fields': {},\n",
      "            'ownership': None,\n",
      "            'name': 'similarity-configuration',\n",
      "            'type': 'similarity_metrics',\n",
      "            'params': {'parallelism': None,\n",
      "                       'request_timeout': None,\n",
      "                       'max_retries': None,\n",
      "                       'limit_samples': None,\n",
      "                       'max_tokens': 200,\n",
      "                       'temperature': 0.7,\n",
      "                       'top_p': None,\n",
      "                       'stop': None,\n",
      "                       'extra': {'top_k': 20}},\n",
      "            'tasks': {'my-similarity-metrics-task': {'type': 'default',\n",
      "                                                     'params': None,\n",
      "                                                     'metrics': {'accuracy': {'type': 'accuracy',\n",
      "                                                                              'params': None},\n",
      "                                                                 'bleu': {'type': 'bleu',\n",
      "                                                                          'params': None},\n",
      "                                                                 'rouge': {'type': 'rouge',\n",
      "                                                                           'params': None},\n",
      "                                                                 'em': {'type': 'em',\n",
      "                                                                        'params': None},\n",
      "                                                                 'f1': {'type': 'f1',\n",
      "                                                                        'params': None}},\n",
      "                                                     'dataset': {'schema_version': '1.0',\n",
      "                                                                 'id': 'dataset-DALY8efJ78UgkXHcrfACGZ',\n",
      "                                                                 'description': None,\n",
      "                                                                 'type_prefix': None,\n",
      "                                                                 'namespace': 'default',\n",
      "                                                                 'project': None,\n",
      "                                                                 'created_at': '2025-07-08T20:31:57.416530',\n",
      "                                                                 'updated_at': '2025-07-08T20:31:57.416532',\n",
      "                                                                 'custom_fields': {},\n",
      "                                                                 'ownership': None,\n",
      "                                                                 'name': 'dataset-DALY8efJ78UgkXHcrfACGZ',\n",
      "                                                                 'version_id': 'main',\n",
      "                                                                 'version_tags': [],\n",
      "                                                                 'format': None,\n",
      "                                                                 'files_url': 'hf://datasets/nemo-eval-tutorial/similarity_eval/similarity_metrics/inputs.jsonl',\n",
      "                                                                 'hf_endpoint': None,\n",
      "                                                                 'split': None,\n",
      "                                                                 'limit': None}}},\n",
      "            'groups': None},\n",
      " 'result': None,\n",
      " 'output_files_url': None,\n",
      " 'status_details': {'message': None, 'task_status': {}, 'progress': None},\n",
      " 'status': 'created',\n",
      " 'project': None,\n",
      " 'custom_fields': {},\n",
      " 'ownership': None}\n"
     ]
    }
   ],
   "source": [
    "payload = {\n",
    "    \"namespace\": NMS_NAMESPACE,\n",
    "    \"target\": f\"{NMS_NAMESPACE}/llama-chat-target\",\n",
    "    \"config\": f\"{NMS_NAMESPACE}/similarity-configuration\"\n",
    "}\n",
    "headers = {\n",
    "    \"accept\": \"application/json\",\n",
    "    \"Content-Type\": \"application/json\"\n",
    "}\n",
    "\n",
    "resp = requests.post(job_url, json=payload, headers=headers)\n",
    "similarity_eval_job_id = resp.json()[\"id\"]\n",
    "pp(resp.json())"
   ]
  },
  {
   "cell_type": "markdown",
   "id": "803ab48f-cba7-4285-9267-ab513b2862e2",
   "metadata": {},
   "source": [
    "**Monitoring job status and results**"
   ]
  },
  {
   "cell_type": "code",
   "execution_count": 50,
   "id": "78c6b851-4c6f-4a11-9c21-8c4a26da0950",
   "metadata": {},
   "outputs": [
    {
     "name": "stdout",
     "output_type": "stream",
     "text": [
      "{'message': 'Job completed successfully',\n",
      " 'task_status': {'my-similarity-metrics-task': 'completed'},\n",
      " 'progress': 100.0}\n"
     ]
    }
   ],
   "source": [
    "resp = requests.get(f\"{NEMO_URL}/v1/evaluation/jobs/{similarity_eval_job_id}/status\")\n",
    "pp(resp.json())"
   ]
  },
  {
   "cell_type": "code",
   "execution_count": 51,
   "id": "83676ffb-2ef1-493a-a2a1-3dc1b41a72d0",
   "metadata": {},
   "outputs": [
    {
     "name": "stdout",
     "output_type": "stream",
     "text": [
      "{'metrics': {'accuracy': {'scores': {'accuracy': {'value': 0.0}}},\n",
      "             'bleu': {'scores': {'bleu_score': {'value': 0.015511131876432806}}},\n",
      "             'em': {'scores': {'em': {'value': 0.0}}},\n",
      "             'f1': {'scores': {'f1': {'value': 0.10128911130270025}}},\n",
      "             'rouge': {'scores': {'rouge_1_score': {'value': 0.1166731565559731},\n",
      "                                  'rouge_2_score': {'value': 0.03311328362331498},\n",
      "                                  'rouge_3_score': {'value': 0.01193015710048473},\n",
      "                                  'rouge_L_score': {'value': 0.09285834070191781}}}}}\n"
     ]
    }
   ],
   "source": [
    "resp = requests.get(f\"{NEMO_URL}/v1/evaluation/jobs/{similarity_eval_job_id}/results\")\n",
    "pp(resp.json()['tasks']['my-similarity-metrics-task'])"
   ]
  },
  {
   "cell_type": "markdown",
   "id": "b38981ff-5cae-4510-af60-f3458f2fc933",
   "metadata": {},
   "source": [
    "### 4.2 LLM-as-Judge Evaluation"
   ]
  },
  {
   "cell_type": "markdown",
   "id": "6dc49476-b5a9-48a7-8453-c3f2cf0c4942",
   "metadata": {},
   "source": [
    "**Upload Custom Dataset to Data Store**"
   ]
  },
  {
   "cell_type": "code",
   "execution_count": 52,
   "id": "39f1d4b2-e93e-433c-95fa-3648c3139229",
   "metadata": {},
   "outputs": [
    {
     "name": "stderr",
     "output_type": "stream",
     "text": [
      "math_dataset.csv: 100%|██████████| 449/449 [00:00<00:00, 108kB/s]\n"
     ]
    },
    {
     "data": {
      "text/plain": [
       "CommitInfo(commit_url='', commit_message='Upload llm_as_judge/math_dataset.csv with huggingface_hub', commit_description='', oid='32e22ec06ea372c6cfddf52cb733e86fd1b135ed', pr_url=None, repo_url=RepoUrl('', endpoint='https://huggingface.co', repo_type='model', repo_id=''), pr_revision=None, pr_num=None)"
      ]
     },
     "execution_count": 52,
     "metadata": {},
     "output_type": "execute_result"
    }
   ],
   "source": [
    "DATASET_NAME = \"llm_as_judge_data\"\n",
    "repo_id = setup_dataset_repo(HF_API, NMS_NAMESPACE, DATASET_NAME, NEMO_URL)\n",
    "HF_API.upload_file(\n",
    "    path_or_fileobj='./eval_dataset/llm_judge_data/math_dataset.csv',\n",
    "    path_in_repo=\"llm_as_judge/math_dataset.csv\",\n",
    "    repo_id=repo_id,\n",
    "    repo_type='dataset',\n",
    ")"
   ]
  },
  {
   "cell_type": "markdown",
   "id": "2868d978-17a8-4b94-bc46-007613d74ff4",
   "metadata": {},
   "source": [
    "- **Item** — Represents the current item from the dataset.\n",
    "- **Sample** — Contains data related to the output from the model. The `sample.output_text` represents the completion text for completion models and the content of the first message for chat models.\n",
    "\n",
    "The properties on the `item` object are derived from the dataset's column names (for CSVs) or keys (for JSONs). \n",
    "The following rules apply to these properties:\n",
    "\n",
    "- All non-alphanumeric characters are replaced with underscores.\n",
    "- Column names are converted to lowercase.\n",
    "- In case of conflicts, suffixes (`_1`, `_2`, etc.), are appended to the property names.\n",
    "\n",
    "\n",
    "**Templates for Chat Models**\n",
    "\n",
    "Prompt templates are used to structure tasks for evaluating the performance of models, specifically following the NIM/OpenAI format for chat-completion tasks. Templates use the Jinja2 templating syntax. Variables are represented using double-curly brackets, for example, `{{item.review}}`."
   ]
  },
  {
   "cell_type": "markdown",
   "id": "d0455449-058b-4c8b-b675-23cf5aed1c4d",
   "metadata": {},
   "source": [
    "**Create Eval Config**"
   ]
  },
  {
   "cell_type": "markdown",
   "id": "0724c9e9-1271-4601-811b-e027183ec6ac",
   "metadata": {},
   "source": [
    "We will use `llama-3.3-70b-instruct` hosted on build.nvidia.com as the judge model."
   ]
  },
  {
   "cell_type": "code",
   "execution_count": 53,
   "id": "edd8f1d8-eb6a-483f-b133-3663a1bf8977",
   "metadata": {
    "collapsed": true,
    "jupyter": {
     "outputs_hidden": true
    },
    "scrolled": true
   },
   "outputs": [
    {
     "name": "stdout",
     "output_type": "stream",
     "text": [
      "{'created_at': '2025-07-08T20:37:58.674883',\n",
      " 'updated_at': '2025-07-08T20:37:58.674884',\n",
      " 'name': 'custom_llm_as_judge_config',\n",
      " 'namespace': 'nemo-eval-tutorial',\n",
      " 'type': 'custom',\n",
      " 'tasks': {'qa': {'type': 'completion',\n",
      "                  'params': {'template': {'messages': [{'role': 'system',\n",
      "                                                        'content': 'You are a '\n",
      "                                                                   'helpful, '\n",
      "                                                                   'respectful '\n",
      "                                                                   'and honest '\n",
      "                                                                   'assistant. \\n'\n",
      "                                                                   'Answers '\n",
      "                                                                   'the '\n",
      "                                                                   'following '\n",
      "                                                                   'question '\n",
      "                                                                   'as briefly '\n",
      "                                                                   'as you '\n",
      "                                                                   'can.\\n'\n",
      "                                                                   '.'},\n",
      "                                                       {'role': 'user',\n",
      "                                                        'content': 'Answer '\n",
      "                                                                   'very '\n",
      "                                                                   'briefly '\n",
      "                                                                   '(no '\n",
      "                                                                   'explanation) '\n",
      "                                                                   'this '\n",
      "                                                                   'question: '\n",
      "                                                                   '{{item.question}}'}]}},\n",
      "                  'metrics': {'accuracy': {'type': 'string-check',\n",
      "                                           'params': {'check': ['{{sample.output_text}}',\n",
      "                                                                'contains',\n",
      "                                                                '{{item.answer}}']}},\n",
      "                              'bleu': {'type': 'bleu',\n",
      "                                       'params': {'references': ['{{item.reference_answer}}']}},\n",
      "                              'accuracy-llm-judge': {'type': 'llm-judge',\n",
      "                                                     'params': {'model': {'api_endpoint': {'url': 'https://integrate.api.nvidia.com/v1/chat/completions',\n",
      "                                                                                           'model_id': 'meta/llama-3.3-70b-instruct',\n",
      "                                                                                           'api_key': '******'}},\n",
      "                                                                'template': {'messages': [{'role': 'system',\n",
      "                                                                                           'content': 'Your '\n",
      "                                                                                                      'task '\n",
      "                                                                                                      'is '\n",
      "                                                                                                      'to '\n",
      "                                                                                                      'evaluate '\n",
      "                                                                                                      'the '\n",
      "                                                                                                      'semantic '\n",
      "                                                                                                      'similarity '\n",
      "                                                                                                      'between '\n",
      "                                                                                                      'two '\n",
      "                                                                                                      'responses.'},\n",
      "                                                                                          {'role': 'user',\n",
      "                                                                                           'content': 'Respond '\n",
      "                                                                                                      'in '\n",
      "                                                                                                      'the '\n",
      "                                                                                                      'following '\n",
      "                                                                                                      'format '\n",
      "                                                                                                      'SIMILARITY: '\n",
      "                                                                                                      '4. '\n",
      "                                                                                                      'The '\n",
      "                                                                                                      'similarity '\n",
      "                                                                                                      'should '\n",
      "                                                                                                      'be '\n",
      "                                                                                                      'a '\n",
      "                                                                                                      'score '\n",
      "                                                                                                      'between '\n",
      "                                                                                                      '0 '\n",
      "                                                                                                      'and '\n",
      "                                                                                                      '10.\\n'\n",
      "                                                                                                      '\\n'\n",
      "                                                                                                      'RESPONSE '\n",
      "                                                                                                      '1: '\n",
      "                                                                                                      '{{item.reference_answer}}\\n'\n",
      "                                                                                                      '\\n'\n",
      "                                                                                                      'RESPONSE '\n",
      "                                                                                                      '2: '\n",
      "                                                                                                      '{{sample.output_text}}.\\n'\n",
      "                                                                                                      '\\n'}]},\n",
      "                                                                'scores': {'similarity': {'type': 'int',\n",
      "                                                                                          'parser': {'type': 'regex',\n",
      "                                                                                                     'pattern': 'SIMILARITY: '\n",
      "                                                                                                                '(\\\\d)'}}}}}},\n",
      "                  'dataset': {'schema_version': '1.0',\n",
      "                              'id': 'dataset-4cBEc7vpZh8aBPpuGpNoFD',\n",
      "                              'namespace': 'default',\n",
      "                              'created_at': '2025-07-08T20:37:58.674690',\n",
      "                              'updated_at': '2025-07-08T20:37:58.674693',\n",
      "                              'custom_fields': {},\n",
      "                              'name': 'dataset-4cBEc7vpZh8aBPpuGpNoFD',\n",
      "                              'version_id': 'main',\n",
      "                              'version_tags': [],\n",
      "                              'files_url': 'hf://datasets/nemo-eval-tutorial/llm_as_judge_data/llm_as_judge/math_dataset.csv'}}},\n",
      " 'id': 'eval-config-J9aERJok5jacrTdhYcyM1H',\n",
      " 'custom_fields': {}}\n"
     ]
    }
   ],
   "source": [
    "payload = {\n",
    "  \"type\": \"custom\",\n",
    "  \"namespace\": NMS_NAMESPACE,\n",
    "  \"name\": \"custom_llm_as_judge_config\",\n",
    "  \"tasks\": {\n",
    "    \"qa\": {\n",
    "      \"type\": \"completion\",\n",
    "      \"params\": {\n",
    "        \"template\": {\n",
    "          \"messages\": [{\n",
    "            \"role\": \"system\",\n",
    "            \"content\": \"You are a helpful, respectful and honest assistant. \\nAnswers the following question as briefly as you can.\\n.\"\n",
    "            }, \n",
    "            { \n",
    "            \"role\": \"user\",\n",
    "            \"content\": \"Answer very briefly (no explanation) this question: {{item.question}}\"\n",
    "            }]\n",
    "        }\n",
    "      },\n",
    "      \"metrics\": {\n",
    "        \"accuracy\": {\n",
    "          \"type\": \"string-check\",\n",
    "          \"params\": {\n",
    "            \"check\": [\n",
    "              \"{{sample.output_text}}\",\n",
    "              \"contains\",\n",
    "              \"{{item.answer}}\"\n",
    "            ]\n",
    "          }\n",
    "        },\n",
    "        \"bleu\": {\n",
    "            \"type\": \"bleu\",\n",
    "            \"params\": {\n",
    "                \"references\": [\n",
    "                \"{{item.reference_answer}}\"\n",
    "                ]\n",
    "             }\n",
    "        },\n",
    "        \"accuracy-llm-judge\": {\n",
    "          \"type\": \"llm-judge\",\n",
    "          \"params\": {\n",
    "            \"model\": {\n",
    "              \"api_endpoint\": {\n",
    "                \"url\": \"https://integrate.api.nvidia.com/v1/chat/completions\",\n",
    "                \"model_id\": \"meta/llama-3.3-70b-instruct\",\n",
    "                \"api_key\": os.environ[\"NVIDIA_API_KEY\"]\n",
    "              }\n",
    "            },\n",
    "            \"template\": {\n",
    "              \"messages\": [\n",
    "                {\n",
    "                  \"role\": \"system\",\n",
    "                  \"content\": \"Your task is to evaluate the semantic similarity between two responses.\"\n",
    "                },\n",
    "                {\n",
    "                    \"role\": \"user\",\n",
    "                    \"content\": (\n",
    "                        \"Respond in the following format SIMILARITY: 4. \"\n",
    "                        \"The similarity should be a score between 0 and 10.\\n\\n\"\n",
    "                        \"RESPONSE 1: {{item.reference_answer}}\\n\\n\"\n",
    "                        \"RESPONSE 2: {{sample.output_text}}.\\n\\n\"\n",
    "                    )\n",
    "                }\n",
    "              ]\n",
    "            },\n",
    "            \"scores\": {\n",
    "              \"similarity\": {\n",
    "                \"type\": \"int\",\n",
    "                \"parser\": {\n",
    "                  \"type\": \"regex\",\n",
    "                  \"pattern\": \"SIMILARITY: (\\\\d)\"\n",
    "                }\n",
    "              }\n",
    "            }\n",
    "          }\n",
    "        }\n",
    "      },\n",
    "      \"dataset\": {\n",
    "        \"files_url\": f\"hf://datasets/{NMS_NAMESPACE}/{DATASET_NAME}/llm_as_judge/math_dataset.csv\"\n",
    "      }\n",
    "    }\n",
    "  }\n",
    "}\n",
    "headers = {\n",
    "    \"accept\": \"application/json\",\n",
    "    \"Content-Type\": \"application/json\"\n",
    "}\n",
    "\n",
    "resp = requests.post(config_url, json=payload, headers=headers)\n",
    "pp(resp.json())"
   ]
  },
  {
   "cell_type": "markdown",
   "id": "f8b7b997-0a5b-489d-94b0-531be7d6270d",
   "metadata": {},
   "source": [
    "**Launch Eval Job**"
   ]
  },
  {
   "cell_type": "code",
   "execution_count": 54,
   "id": "696c6ff9-f725-4990-81c1-775b6b662fa0",
   "metadata": {
    "scrolled": true
   },
   "outputs": [
    {
     "name": "stdout",
     "output_type": "stream",
     "text": [
      "{'created_at': '2025-07-08T20:38:04.820220',\n",
      " 'updated_at': '2025-07-08T20:38:04.820223',\n",
      " 'id': 'eval-MoXUyarWP3jBR8h6LqyhWU',\n",
      " 'namespace': 'nemo-eval-tutorial',\n",
      " 'description': None,\n",
      " 'target': {'schema_version': '1.0',\n",
      "            'id': 'eval-target-GaJYgnmDA4Ta2TN23sV9Wo',\n",
      "            'description': None,\n",
      "            'type_prefix': 'eval-target',\n",
      "            'namespace': 'nemo-eval-tutorial',\n",
      "            'project': None,\n",
      "            'created_at': '2025-07-08T19:40:13.061228',\n",
      "            'updated_at': '2025-07-08T19:40:13.061229',\n",
      "            'custom_fields': {},\n",
      "            'ownership': None,\n",
      "            'name': 'llama-chat-target',\n",
      "            'type': 'model',\n",
      "            'cached_outputs': None,\n",
      "            'model': {'schema_version': '1.0',\n",
      "                      'id': 'model-EXZQbF8ZXbjoogTvF9UFKr',\n",
      "                      'description': None,\n",
      "                      'type_prefix': 'model',\n",
      "                      'namespace': 'default',\n",
      "                      'project': None,\n",
      "                      'created_at': '2025-07-08T19:40:13.061012',\n",
      "                      'updated_at': '2025-07-08T19:40:13.061015',\n",
      "                      'custom_fields': {},\n",
      "                      'ownership': None,\n",
      "                      'name': 'model-EXZQbF8ZXbjoogTvF9UFKr',\n",
      "                      'version_id': 'main',\n",
      "                      'version_tags': [],\n",
      "                      'spec': None,\n",
      "                      'artifact': None,\n",
      "                      'base_model': None,\n",
      "                      'api_endpoint': {'url': 'http://nim.test/v1/chat/completions',\n",
      "                                       'model_id': 'meta/llama-3.1-8b-instruct',\n",
      "                                       'api_key': None,\n",
      "                                       'format': 'openai'},\n",
      "                      'peft': None,\n",
      "                      'prompt': None,\n",
      "                      'guardrails': None},\n",
      "            'retriever': None,\n",
      "            'rag': None,\n",
      "            'rows': None,\n",
      "            'dataset': None},\n",
      " 'config': {'schema_version': '1.0',\n",
      "            'id': 'eval-config-J9aERJok5jacrTdhYcyM1H',\n",
      "            'description': None,\n",
      "            'type_prefix': 'eval-config',\n",
      "            'namespace': 'nemo-eval-tutorial',\n",
      "            'project': None,\n",
      "            'created_at': '2025-07-08T20:37:58.674883',\n",
      "            'updated_at': '2025-07-08T20:37:58.674884',\n",
      "            'custom_fields': {},\n",
      "            'ownership': None,\n",
      "            'name': 'custom_llm_as_judge_config',\n",
      "            'type': 'custom',\n",
      "            'params': None,\n",
      "            'tasks': {'qa': {'type': 'completion',\n",
      "                             'params': {'template': {'messages': [{'role': 'system',\n",
      "                                                                   'content': 'You '\n",
      "                                                                              'are '\n",
      "                                                                              'a '\n",
      "                                                                              'helpful, '\n",
      "                                                                              'respectful '\n",
      "                                                                              'and '\n",
      "                                                                              'honest '\n",
      "                                                                              'assistant. \\n'\n",
      "                                                                              'Answers '\n",
      "                                                                              'the '\n",
      "                                                                              'following '\n",
      "                                                                              'question '\n",
      "                                                                              'as '\n",
      "                                                                              'briefly '\n",
      "                                                                              'as '\n",
      "                                                                              'you '\n",
      "                                                                              'can.\\n'\n",
      "                                                                              '.'},\n",
      "                                                                  {'role': 'user',\n",
      "                                                                   'content': 'Answer '\n",
      "                                                                              'very '\n",
      "                                                                              'briefly '\n",
      "                                                                              '(no '\n",
      "                                                                              'explanation) '\n",
      "                                                                              'this '\n",
      "                                                                              'question: '\n",
      "                                                                              '{{item.question}}'}]}},\n",
      "                             'metrics': {'accuracy': {'type': 'string-check',\n",
      "                                                      'params': {'check': ['{{sample.output_text}}',\n",
      "                                                                           'contains',\n",
      "                                                                           '{{item.answer}}']}},\n",
      "                                         'bleu': {'type': 'bleu',\n",
      "                                                  'params': {'references': ['{{item.reference_answer}}']}},\n",
      "                                         'accuracy-llm-judge': {'type': 'llm-judge',\n",
      "                                                                'params': {'model': {'api_endpoint': {'url': 'https://integrate.api.nvidia.com/v1/chat/completions',\n",
      "                                                                                                      'model_id': 'meta/llama-3.3-70b-instruct',\n",
      "                                                                                                      'api_key': '******'}},\n",
      "                                                                           'template': {'messages': [{'role': 'system',\n",
      "                                                                                                      'content': 'Your '\n",
      "                                                                                                                 'task '\n",
      "                                                                                                                 'is '\n",
      "                                                                                                                 'to '\n",
      "                                                                                                                 'evaluate '\n",
      "                                                                                                                 'the '\n",
      "                                                                                                                 'semantic '\n",
      "                                                                                                                 'similarity '\n",
      "                                                                                                                 'between '\n",
      "                                                                                                                 'two '\n",
      "                                                                                                                 'responses.'},\n",
      "                                                                                                     {'role': 'user',\n",
      "                                                                                                      'content': 'Respond '\n",
      "                                                                                                                 'in '\n",
      "                                                                                                                 'the '\n",
      "                                                                                                                 'following '\n",
      "                                                                                                                 'format '\n",
      "                                                                                                                 'SIMILARITY: '\n",
      "                                                                                                                 '4. '\n",
      "                                                                                                                 'The '\n",
      "                                                                                                                 'similarity '\n",
      "                                                                                                                 'should '\n",
      "                                                                                                                 'be '\n",
      "                                                                                                                 'a '\n",
      "                                                                                                                 'score '\n",
      "                                                                                                                 'between '\n",
      "                                                                                                                 '0 '\n",
      "                                                                                                                 'and '\n",
      "                                                                                                                 '10.\\n'\n",
      "                                                                                                                 '\\n'\n",
      "                                                                                                                 'RESPONSE '\n",
      "                                                                                                                 '1: '\n",
      "                                                                                                                 '{{item.reference_answer}}\\n'\n",
      "                                                                                                                 '\\n'\n",
      "                                                                                                                 'RESPONSE '\n",
      "                                                                                                                 '2: '\n",
      "                                                                                                                 '{{sample.output_text}}.\\n'\n",
      "                                                                                                                 '\\n'}]},\n",
      "                                                                           'scores': {'similarity': {'type': 'int',\n",
      "                                                                                                     'parser': {'type': 'regex',\n",
      "                                                                                                                'pattern': 'SIMILARITY: '\n",
      "                                                                                                                           '(\\\\d)'}}}}}},\n",
      "                             'dataset': {'schema_version': '1.0',\n",
      "                                         'id': 'dataset-4cBEc7vpZh8aBPpuGpNoFD',\n",
      "                                         'description': None,\n",
      "                                         'type_prefix': None,\n",
      "                                         'namespace': 'default',\n",
      "                                         'project': None,\n",
      "                                         'created_at': '2025-07-08T20:37:58.674690',\n",
      "                                         'updated_at': '2025-07-08T20:37:58.674693',\n",
      "                                         'custom_fields': {},\n",
      "                                         'ownership': None,\n",
      "                                         'name': 'dataset-4cBEc7vpZh8aBPpuGpNoFD',\n",
      "                                         'version_id': 'main',\n",
      "                                         'version_tags': [],\n",
      "                                         'format': None,\n",
      "                                         'files_url': 'hf://datasets/nemo-eval-tutorial/llm_as_judge_data/llm_as_judge/math_dataset.csv',\n",
      "                                         'hf_endpoint': None,\n",
      "                                         'split': None,\n",
      "                                         'limit': None}}},\n",
      "            'groups': None},\n",
      " 'result': None,\n",
      " 'output_files_url': None,\n",
      " 'status_details': {'message': None, 'task_status': {}, 'progress': None},\n",
      " 'status': 'created',\n",
      " 'project': None,\n",
      " 'custom_fields': {},\n",
      " 'ownership': None}\n"
     ]
    }
   ],
   "source": [
    "payload = {\n",
    "    \"namespace\": NMS_NAMESPACE,\n",
    "    \"target\": f\"{NMS_NAMESPACE}/llama-chat-target\",\n",
    "    \"config\": f\"{NMS_NAMESPACE}/custom_llm_as_judge_config\"\n",
    "}\n",
    "headers = {\n",
    "    \"accept\": \"application/json\",\n",
    "    \"Content-Type\": \"application/json\"\n",
    "}\n",
    "\n",
    "resp = requests.post(job_url, json=payload, headers=headers)\n",
    "llm_judge_eval_job_id = resp.json()[\"id\"]\n",
    "pp(resp.json())"
   ]
  },
  {
   "cell_type": "markdown",
   "id": "6a53bbd6-0878-4a54-833b-50f928930943",
   "metadata": {},
   "source": [
    "**Monitoring job status and results**"
   ]
  },
  {
   "cell_type": "code",
   "execution_count": 61,
   "id": "8c91d6a2-3bf8-46ca-a169-4aad5289bd0a",
   "metadata": {},
   "outputs": [
    {
     "name": "stdout",
     "output_type": "stream",
     "text": [
      "{'message': 'Job completed successfully.',\n",
      " 'task_status': {'qa': 'completed'},\n",
      " 'progress': 100.0}\n"
     ]
    }
   ],
   "source": [
    "resp = requests.get(f\"{NEMO_URL}/v1/evaluation/jobs/{llm_judge_eval_job_id}/status\")\n",
    "pp(resp.json())"
   ]
  },
  {
   "cell_type": "code",
   "execution_count": 62,
   "id": "210dff5c-53e0-4650-96b1-aa0f509cc8da",
   "metadata": {},
   "outputs": [
    {
     "name": "stdout",
     "output_type": "stream",
     "text": [
      "{'metrics': {'accuracy': {'scores': {'string-check': {'value': 1.0,\n",
      "                                                      'stats': {'count': 10,\n",
      "                                                                'sum': 10.0,\n",
      "                                                                'mean': 1.0}}}},\n",
      "             'bleu': {'scores': {'sentence': {'value': 9.135501080023044,\n",
      "                                              'stats': {'count': 10,\n",
      "                                                        'sum': 91.35501080023045,\n",
      "                                                        'mean': 9.135501080023044}},\n",
      "                                 'corpus': {'value': 0.0}}},\n",
      "             'accuracy-llm-judge': {'scores': {'similarity': {'value': 1.7,\n",
      "                                                              'stats': {'count': 10,\n",
      "                                                                        'sum': 17.0,\n",
      "                                                                        'mean': 1.7}}}}}}\n"
     ]
    }
   ],
   "source": [
    "resp = requests.get(f\"{NEMO_URL}/v1/evaluation/jobs/{llm_judge_eval_job_id}/results\")\n",
    "pp(resp.json()['tasks']['qa'])"
   ]
  },
  {
   "cell_type": "markdown",
   "id": "c56efd95-df06-4ab1-b5ed-482d91587bca",
   "metadata": {},
   "source": [
    "### 4.3 Tool Calling Evaluation"
   ]
  },
  {
   "cell_type": "markdown",
   "id": "12881c51-76a7-45c3-b634-91c112f480d1",
   "metadata": {
    "jupyter": {
     "source_hidden": true
    }
   },
   "source": [
    "Required dataset format for a custom tool calling evaluation:\n",
    "\n",
    "```json\n",
    "[\n",
    "    {\n",
    "        \"messages\": [\n",
    "            {\n",
    "                \"role\": \"user\",\n",
    "                \"content\": \"Find the area of a triangle with a base of 10 units and height of 5 units.\"\n",
    "            }\n",
    "        ],\n",
    "        \"tools\": [\n",
    "            {\n",
    "                \"type\": \"function\",\n",
    "                \"function\": {\n",
    "                    \"name\": \"calculate_triangle_area\",\n",
    "                    \"description\": \"Calculate the area of a triangle given its base and height.\",\n",
    "                    \"parameters\": {\n",
    "                        \"type\": \"object\",\n",
    "                        \"properties\": {\n",
    "                            \"base\": {\n",
    "                                \"type\": \"integer\",\n",
    "                                \"description\": \"The base of the triangle.\"\n",
    "                            },\n",
    "                            \"height\": {\n",
    "                                \"type\": \"integer\",\n",
    "                                \"description\": \"The height of the triangle.\"\n",
    "                            },\n",
    "                            \"unit\": {\n",
    "                                \"type\": \"string\",\n",
    "                                \"description\": \"The unit of measure (defaults to \\\"units\\\" if not specified)\"\n",
    "                            }\n",
    "                        },\n",
    "                        \"required\": [\n",
    "                            \"base\",\n",
    "                            \"height\"\n",
    "                        ]\n",
    "                    }\n",
    "                }\n",
    "            }\n",
    "        ],\n",
    "        \"tool_calls\": [\n",
    "            {\n",
    "                \"function\": {\n",
    "                    \"name\": \"calculate_triangle_area\",\n",
    "                    \"arguments\": {\n",
    "                        \"base\": 10,\n",
    "                        \"height\": 5,\n",
    "                        \"unit\": \"units\"\n",
    "                    }\n",
    "                }\n",
    "            }\n",
    "        ]\n",
    "    }\n",
    "]\n",
    "```\n"
   ]
  },
  {
   "cell_type": "markdown",
   "id": "92321a60-1fc7-4cde-b0cb-4e35e5d9400e",
   "metadata": {},
   "source": [
    "**Upload Custom Tool Calling Dataset to Data Store**"
   ]
  },
  {
   "cell_type": "code",
   "execution_count": 95,
   "id": "125aee37-6df4-4504-984a-25be17e70f67",
   "metadata": {},
   "outputs": [
    {
     "data": {
      "text/plain": [
       "CommitInfo(commit_url='', commit_message='Upload aiva_tool_call.jsonl with huggingface_hub', commit_description='', oid='8ba99b4e0b4b2224b059c6cacda3b86d724c406e', pr_url=None, repo_url=RepoUrl('', endpoint='https://huggingface.co', repo_type='model', repo_id=''), pr_revision=None, pr_num=None)"
      ]
     },
     "execution_count": 95,
     "metadata": {},
     "output_type": "execute_result"
    }
   ],
   "source": [
    "DATASET_NAME = \"tool_call_data\"\n",
    "repo_id = setup_dataset_repo(HF_API, NMS_NAMESPACE, DATASET_NAME, NEMO_URL)\n",
    "HF_API.upload_file(\n",
    "    path_or_fileobj='./eval_dataset/tool_call_data/aiva_tool_call.jsonl',\n",
    "    path_in_repo=\"aiva_tool_call.jsonl\",\n",
    "    repo_id=repo_id,\n",
    "    repo_type='dataset',\n",
    ")"
   ]
  },
  {
   "cell_type": "markdown",
   "id": "2414cd57-1ad8-4722-b8e2-ff15186db0dc",
   "metadata": {},
   "source": [
    "**Create Eval Config**"
   ]
  },
  {
   "cell_type": "code",
   "execution_count": 96,
   "id": "16ce4448-b3c6-4b4f-9cb2-7811ce9533f9",
   "metadata": {},
   "outputs": [
    {
     "name": "stdout",
     "output_type": "stream",
     "text": [
      "{'created_at': '2025-07-09T02:18:55.955723',\n",
      " 'updated_at': '2025-07-09T02:18:55.955724',\n",
      " 'name': 'tool-call-eval-config',\n",
      " 'namespace': 'nemo-eval-tutorial',\n",
      " 'type': 'custom',\n",
      " 'tasks': {'custom-tool-calling': {'type': 'chat-completion',\n",
      "                                   'params': {'template': {'messages': '{{ '\n",
      "                                                                       'item.messages '\n",
      "                                                                       '| '\n",
      "                                                                       'tojson}}',\n",
      "                                                           'tools': '{{ '\n",
      "                                                                    'item.tools '\n",
      "                                                                    '| tojson '\n",
      "                                                                    '}}',\n",
      "                                                           'tool_choice': 'auto'}},\n",
      "                                   'metrics': {'tool-calling-accuracy': {'type': 'tool-calling',\n",
      "                                                                         'params': {'tool_calls_ground_truth': '{{ '\n",
      "                                                                                                               'item.tool_calls '\n",
      "                                                                                                               '| '\n",
      "                                                                                                               'tojson '\n",
      "                                                                                                               '}}'}}},\n",
      "                                   'dataset': {'schema_version': '1.0',\n",
      "                                               'id': 'dataset-FHLbB4tDWWXwkeQShawtGg',\n",
      "                                               'namespace': 'default',\n",
      "                                               'created_at': '2025-07-09T02:18:55.955557',\n",
      "                                               'updated_at': '2025-07-09T02:18:55.955560',\n",
      "                                               'custom_fields': {},\n",
      "                                               'name': 'dataset-FHLbB4tDWWXwkeQShawtGg',\n",
      "                                               'version_id': 'main',\n",
      "                                               'version_tags': [],\n",
      "                                               'files_url': 'hf://datasets/nemo-eval-tutorial/tool_call_data/aiva_tool_call.jsonl'}}},\n",
      " 'id': 'eval-config-N6PkTGVcZNP8ho4LwHYxqg',\n",
      " 'custom_fields': {}}\n"
     ]
    }
   ],
   "source": [
    "config_payload = {\n",
    "    \"type\": \"custom\",\n",
    "    \"namespace\": NMS_NAMESPACE,\n",
    "    \"name\": \"tool-call-eval-config\",\n",
    "    \"tasks\": {\n",
    "        \"custom-tool-calling\": {\n",
    "            \"type\": \"chat-completion\",\n",
    "            \"dataset\": {\n",
    "                \"files_url\": f\"hf://datasets/{NMS_NAMESPACE}/{DATASET_NAME}/aiva_tool_call.jsonl\",\n",
    "            },\n",
    "            \"params\": {\n",
    "                \"template\": {\n",
    "                    \"messages\": \"{{ item.messages | tojson}}\",\n",
    "                    \"tools\": \"{{ item.tools | tojson }}\",\n",
    "                    \"tool_choice\": \"auto\"\n",
    "                }\n",
    "            },\n",
    "            \"metrics\": {\n",
    "                \"tool-calling-accuracy\": {\n",
    "                    \"type\": \"tool-calling\",\n",
    "                    \"params\": {\"tool_calls_ground_truth\": \"{{ item.tool_calls | tojson }}\"}\n",
    "                }\n",
    "            }\n",
    "        }\n",
    "    }\n",
    "}\n",
    "resp = requests.post(config_url, json=config_payload, headers=headers)\n",
    "pp(resp.json())"
   ]
  },
  {
   "cell_type": "markdown",
   "id": "de5b228c-7502-48eb-a652-0c98f905b88f",
   "metadata": {},
   "source": [
    "**Launch Eval Job**"
   ]
  },
  {
   "cell_type": "code",
   "execution_count": 97,
   "id": "d8db6b64-9a2e-4da8-bcc1-c7fe9f4651a3",
   "metadata": {
    "collapsed": true,
    "jupyter": {
     "outputs_hidden": true
    }
   },
   "outputs": [
    {
     "name": "stdout",
     "output_type": "stream",
     "text": [
      "{'created_at': '2025-07-09T02:19:10.833300',\n",
      " 'updated_at': '2025-07-09T02:19:10.833303',\n",
      " 'id': 'eval-P6pSKQ2MhjQGFdT85yBBqm',\n",
      " 'namespace': 'nemo-eval-tutorial',\n",
      " 'description': None,\n",
      " 'target': {'schema_version': '1.0',\n",
      "            'id': 'eval-target-GaJYgnmDA4Ta2TN23sV9Wo',\n",
      "            'description': None,\n",
      "            'type_prefix': 'eval-target',\n",
      "            'namespace': 'nemo-eval-tutorial',\n",
      "            'project': None,\n",
      "            'created_at': '2025-07-08T19:40:13.061228',\n",
      "            'updated_at': '2025-07-08T19:40:13.061229',\n",
      "            'custom_fields': {},\n",
      "            'ownership': None,\n",
      "            'name': 'llama-chat-target',\n",
      "            'type': 'model',\n",
      "            'cached_outputs': None,\n",
      "            'model': {'schema_version': '1.0',\n",
      "                      'id': 'model-EXZQbF8ZXbjoogTvF9UFKr',\n",
      "                      'description': None,\n",
      "                      'type_prefix': 'model',\n",
      "                      'namespace': 'default',\n",
      "                      'project': None,\n",
      "                      'created_at': '2025-07-08T19:40:13.061012',\n",
      "                      'updated_at': '2025-07-08T19:40:13.061015',\n",
      "                      'custom_fields': {},\n",
      "                      'ownership': None,\n",
      "                      'name': 'model-EXZQbF8ZXbjoogTvF9UFKr',\n",
      "                      'version_id': 'main',\n",
      "                      'version_tags': [],\n",
      "                      'spec': None,\n",
      "                      'artifact': None,\n",
      "                      'base_model': None,\n",
      "                      'api_endpoint': {'url': 'http://nim.test/v1/chat/completions',\n",
      "                                       'model_id': 'meta/llama-3.1-8b-instruct',\n",
      "                                       'api_key': None,\n",
      "                                       'format': 'openai'},\n",
      "                      'peft': None,\n",
      "                      'prompt': None,\n",
      "                      'guardrails': None},\n",
      "            'retriever': None,\n",
      "            'rag': None,\n",
      "            'rows': None,\n",
      "            'dataset': None},\n",
      " 'config': {'schema_version': '1.0',\n",
      "            'id': 'eval-config-N6PkTGVcZNP8ho4LwHYxqg',\n",
      "            'description': None,\n",
      "            'type_prefix': 'eval-config',\n",
      "            'namespace': 'nemo-eval-tutorial',\n",
      "            'project': None,\n",
      "            'created_at': '2025-07-09T02:18:55.955723',\n",
      "            'updated_at': '2025-07-09T02:18:55.955724',\n",
      "            'custom_fields': {},\n",
      "            'ownership': None,\n",
      "            'name': 'tool-call-eval-config',\n",
      "            'type': 'custom',\n",
      "            'params': None,\n",
      "            'tasks': {'custom-tool-calling': {'type': 'chat-completion',\n",
      "                                              'params': {'template': {'messages': '{{ '\n",
      "                                                                                  'item.messages '\n",
      "                                                                                  '| '\n",
      "                                                                                  'tojson}}',\n",
      "                                                                      'tools': '{{ '\n",
      "                                                                               'item.tools '\n",
      "                                                                               '| '\n",
      "                                                                               'tojson '\n",
      "                                                                               '}}',\n",
      "                                                                      'tool_choice': 'auto'}},\n",
      "                                              'metrics': {'tool-calling-accuracy': {'type': 'tool-calling',\n",
      "                                                                                    'params': {'tool_calls_ground_truth': '{{ '\n",
      "                                                                                                                          'item.tool_calls '\n",
      "                                                                                                                          '| '\n",
      "                                                                                                                          'tojson '\n",
      "                                                                                                                          '}}'}}},\n",
      "                                              'dataset': {'schema_version': '1.0',\n",
      "                                                          'id': 'dataset-FHLbB4tDWWXwkeQShawtGg',\n",
      "                                                          'description': None,\n",
      "                                                          'type_prefix': None,\n",
      "                                                          'namespace': 'default',\n",
      "                                                          'project': None,\n",
      "                                                          'created_at': '2025-07-09T02:18:55.955557',\n",
      "                                                          'updated_at': '2025-07-09T02:18:55.955560',\n",
      "                                                          'custom_fields': {},\n",
      "                                                          'ownership': None,\n",
      "                                                          'name': 'dataset-FHLbB4tDWWXwkeQShawtGg',\n",
      "                                                          'version_id': 'main',\n",
      "                                                          'version_tags': [],\n",
      "                                                          'format': None,\n",
      "                                                          'files_url': 'hf://datasets/nemo-eval-tutorial/tool_call_data/aiva_tool_call.jsonl',\n",
      "                                                          'hf_endpoint': None,\n",
      "                                                          'split': None,\n",
      "                                                          'limit': None}}},\n",
      "            'groups': None},\n",
      " 'result': None,\n",
      " 'output_files_url': None,\n",
      " 'status_details': {'message': None, 'task_status': {}, 'progress': None},\n",
      " 'status': 'created',\n",
      " 'project': None,\n",
      " 'custom_fields': {},\n",
      " 'ownership': None}\n"
     ]
    }
   ],
   "source": [
    "payload = {\n",
    "    \"namespace\": NMS_NAMESPACE,\n",
    "    \"target\": f\"{NMS_NAMESPACE}/llama-chat-target\",\n",
    "    \"config\": f\"{NMS_NAMESPACE}/tool-call-eval-config\"\n",
    "}\n",
    "headers = {\n",
    "    \"accept\": \"application/json\",\n",
    "    \"Content-Type\": \"application/json\"\n",
    "}\n",
    "\n",
    "resp = requests.post(job_url, json=payload, headers=headers)\n",
    "tool_call_eval_job_id = resp.json()[\"id\"]\n",
    "pp(resp.json())"
   ]
  },
  {
   "cell_type": "markdown",
   "id": "e023fe25-407f-4f9d-a699-7c28bbcb7324",
   "metadata": {},
   "source": [
    "**Monitoring job status and results**"
   ]
  },
  {
   "cell_type": "code",
   "execution_count": 99,
   "id": "b59180c3-a1ec-4a9c-abc0-ca73b1a5150d",
   "metadata": {},
   "outputs": [
    {
     "name": "stdout",
     "output_type": "stream",
     "text": [
      "{'message': 'Job completed successfully.',\n",
      " 'task_status': {'custom-tool-calling': 'completed'},\n",
      " 'progress': 100.0}\n"
     ]
    }
   ],
   "source": [
    "resp = requests.get(f\"{NEMO_URL}/v1/evaluation/jobs/{tool_call_eval_job_id}/status\")\n",
    "pp(resp.json())"
   ]
  },
  {
   "cell_type": "code",
   "execution_count": 100,
   "id": "35e63334-6702-4ec0-9188-45b6bf722694",
   "metadata": {},
   "outputs": [
    {
     "name": "stdout",
     "output_type": "stream",
     "text": [
      "{'tool-calling-accuracy': {'scores': {'function_name_accuracy': {'value': 0.9,\n",
      "                                                                 'stats': {'count': 10,\n",
      "                                                                           'sum': 9.0,\n",
      "                                                                           'mean': 0.9}},\n",
      "                                      'function_name_and_args_accuracy': {'value': 0.0,\n",
      "                                                                          'stats': {'count': 10,\n",
      "                                                                                    'sum': 0.0,\n",
      "                                                                                    'mean': 0.0}}}}}\n"
     ]
    }
   ],
   "source": [
    "resp = requests.get(f\"{NEMO_URL}/v1/evaluation/jobs/{tool_call_eval_job_id}/results\")\n",
    "pp(resp.json()['tasks']['custom-tool-calling']['metrics'])"
   ]
  },
  {
   "cell_type": "markdown",
   "id": "feb170f5-3c4e-42a1-9262-878ad7d8788d",
   "metadata": {},
   "source": [
    "## 5. Retriever Pipeline Evaluation"
   ]
  },
  {
   "cell_type": "markdown",
   "id": "4d19c48e-9da1-45c0-a2b1-2b97e1c515cc",
   "metadata": {},
   "source": [
    "### 5.1 Deploy Retriever Models"
   ]
  },
  {
   "cell_type": "markdown",
   "id": "61950b31-112d-404c-a0f1-3a795d71f3da",
   "metadata": {},
   "source": [
    "To evaluate retriever pipelines, retriever models must be deployed locally. For this tutorial, we will create a retriever pipeline with both embedding and reranking models. Specifically, we will deploy two retriever NIMs for `llama-3.2-nv-embedqa-1b-v2` and `llama-3.2-nv-rerankqa-1b-v2`, respectively, using Docker."
   ]
  },
  {
   "cell_type": "markdown",
   "id": "f073bbc8-756b-472c-b19c-dadb870f668a",
   "metadata": {},
   "source": [
    "First, let's identify a free GPU to deploy the retriever models."
   ]
  },
  {
   "cell_type": "code",
   "execution_count": 9,
   "id": "ae46e61b-ebf8-48b8-ab2e-365b7c346167",
   "metadata": {},
   "outputs": [
    {
     "name": "stdout",
     "output_type": "stream",
     "text": [
      "Wed Jul  9 06:27:12 2025       \n",
      "+---------------------------------------------------------------------------------------+\n",
      "| NVIDIA-SMI 535.183.06             Driver Version: 535.183.06   CUDA Version: 12.2     |\n",
      "|-----------------------------------------+----------------------+----------------------+\n",
      "| GPU  Name                 Persistence-M | Bus-Id        Disp.A | Volatile Uncorr. ECC |\n",
      "| Fan  Temp   Perf          Pwr:Usage/Cap |         Memory-Usage | GPU-Util  Compute M. |\n",
      "|                                         |                      |               MIG M. |\n",
      "|=========================================+======================+======================|\n",
      "|   0  NVIDIA A100 80GB PCIe          On  | 00000002:00:01.0 Off |                    0 |\n",
      "| N/A   34C    P0              43W / 300W |      0MiB / 81920MiB |      0%      Default |\n",
      "|                                         |                      |             Disabled |\n",
      "+-----------------------------------------+----------------------+----------------------+\n",
      "|   1  NVIDIA A100 80GB PCIe          On  | 00000002:00:02.0 Off |                    0 |\n",
      "| N/A   36C    P0              62W / 300W |  70969MiB / 81920MiB |      0%      Default |\n",
      "|                                         |                      |             Disabled |\n",
      "+-----------------------------------------+----------------------+----------------------+\n",
      "                                                                                         \n",
      "+---------------------------------------------------------------------------------------+\n",
      "| Processes:                                                                            |\n",
      "|  GPU   GI   CI        PID   Type   Process name                            GPU Memory |\n",
      "|        ID   ID                                                             Usage      |\n",
      "|=======================================================================================|\n",
      "|    1   N/A  N/A     79075      C   /opt/nim/llm/.venv/bin/python3            70958MiB |\n",
      "+---------------------------------------------------------------------------------------+\n"
     ]
    }
   ],
   "source": [
    "!nvidia-smi"
   ]
  },
  {
   "cell_type": "markdown",
   "id": "4c8fed34-e457-4c76-ba20-a6a55d7334c5",
   "metadata": {},
   "source": [
    "Then, we can deploy the `llama-3.2-nv-embedqa-1b-v2` embedding NIM (replace `<your-api-key>` with your NGC API Key below):"
   ]
  },
  {
   "cell_type": "code",
   "execution_count": null,
   "id": "ec69ee62-b42f-4d12-97a6-0c88ad0cfd2a",
   "metadata": {
    "scrolled": true
   },
   "outputs": [],
   "source": [
    "%%bash\n",
    "export NGC_API_KEY=<your-api-key>\n",
    "echo \"$NGC_API_KEY\" | docker login nvcr.io --username '$oauthtoken' --password-stdin\n",
    "export NIM_MODEL_NAME=nvidia/llama-3.2-nv-embedqa-1b-v2\n",
    "export CONTAINER_NAME=$(basename $NIM_MODEL_NAME)\n",
    "\n",
    "# Choose a NIM Image from NGC\n",
    "export IMG_NAME=\"nvcr.io/nim/$NIM_MODEL_NAME:1.5.0\"\n",
    "\n",
    "# Choose a path on your system to cache the downloaded models\n",
    "export LOCAL_NIM_CACHE=~/.cache/nim\n",
    "mkdir -p \"$LOCAL_NIM_CACHE\"\n",
    "\n",
    "# Start the NIM\n",
    "docker run -d --rm --name=$CONTAINER_NAME \\\n",
    "  --runtime=nvidia \\\n",
    "  --gpus '\"device=0\"' \\\n",
    "  --shm-size=16GB \\\n",
    "  -e NGC_API_KEY \\\n",
    "  -v \"$LOCAL_NIM_CACHE:/opt/nim/.cache\" \\\n",
    "  -u $(id -u) \\\n",
    "  -p 8000:8000 \\\n",
    "  $IMG_NAME"
   ]
  },
  {
   "cell_type": "markdown",
   "id": "48cda92d-4b0b-4994-a962-95d89e1caa47",
   "metadata": {},
   "source": [
    "Next, we will deploy the `llama-3.2-nv-rerankqa-1b-v2` reranking NIM:"
   ]
  },
  {
   "cell_type": "code",
   "execution_count": null,
   "id": "212ef05a-1446-4e7b-bbeb-2ac96c3f3d54",
   "metadata": {
    "scrolled": true
   },
   "outputs": [],
   "source": [
    "%%bash\n",
    "export NIM_MODEL_NAME=nvidia/llama-3.2-nv-rerankqa-1b-v2\n",
    "export CONTAINER_NAME=$(basename $NIM_MODEL_NAME)\n",
    "\n",
    "# Choose a NIM Image from NGC\n",
    "export IMG_NAME=\"nvcr.io/nim/$NIM_MODEL_NAME:1.3.0\"\n",
    "\n",
    "# Choose a path on your system to cache the downloaded models\n",
    "export LOCAL_NIM_CACHE=~/.cache/nim\n",
    "mkdir -p \"$LOCAL_NIM_CACHE\"\n",
    "\n",
    "# Start the NIM\n",
    "docker run -d --rm --name=$CONTAINER_NAME \\\n",
    "  --runtime=nvidia \\\n",
    "  --gpus '\"device=0\"' \\\n",
    "  --shm-size=16GB \\\n",
    "  -e NGC_API_KEY \\\n",
    "  -v \"$LOCAL_NIM_CACHE:/opt/nim/.cache\" \\\n",
    "  -u $(id -u) \\\n",
    "  -p 8001:8000 \\\n",
    "  $IMG_NAME"
   ]
  },
  {
   "cell_type": "markdown",
   "id": "e783806e-beac-4133-8027-6e78266c440b",
   "metadata": {},
   "source": [
    "Get Host IP address and specify the API endpoints for embedding and reranking NIMs:"
   ]
  },
  {
   "cell_type": "code",
   "execution_count": 12,
   "id": "a717b839-9db9-4090-8478-6b1dff70bf94",
   "metadata": {},
   "outputs": [
    {
     "name": "stdout",
     "output_type": "stream",
     "text": [
      "1.0.0.0 via 172.27.16.1 dev ens3 src 172.27.20.120 uid 1000 \n"
     ]
    }
   ],
   "source": [
    "! ip route get 1 | grep src"
   ]
  },
  {
   "cell_type": "code",
   "execution_count": 20,
   "id": "7710cc1a-b377-4f78-9d47-30be94361d65",
   "metadata": {},
   "outputs": [],
   "source": [
    "embed_url = \"http://172.27.20.120:8000/v1/embeddings\"\n",
    "embed_model_name = \"nvidia/llama-3.2-nv-embedqa-1b-v2\"\n",
    "rerank_url = \"http://172.27.20.120:8001/v1/ranking\"\n",
    "rerank_model_name = \"nvidia/llama-3.2-nv-rerankqa-1b-v2\""
   ]
  },
  {
   "cell_type": "markdown",
   "id": "7aaa6fcf-9941-4e72-8e32-a88480036bb8",
   "metadata": {},
   "source": [
    "### 5.2 Set up Milvus Vector Database"
   ]
  },
  {
   "cell_type": "markdown",
   "id": "504ddb82-b4eb-4041-b95c-52d3981dbbd5",
   "metadata": {},
   "source": [
    "To run retriever or RAG evaluations, you must first enable the Milvus document store by setting `milvus.enabled: true` in values.yaml, and then upgrade your Helm deployment to apply the change."
   ]
  },
  {
   "cell_type": "markdown",
   "id": "3833f8ae-acc4-4e5c-a468-65bdd579db95",
   "metadata": {},
   "source": [
    "```yaml\n",
    "evaluator:\n",
    "  enabled: true\n",
    "  milvus:\n",
    "    enabled: true\n",
    "```"
   ]
  },
  {
   "cell_type": "markdown",
   "id": "e4624b0a-8478-4ca9-8f9e-48295b517916",
   "metadata": {},
   "source": [
    "You should see a milvus pod running:"
   ]
  },
  {
   "cell_type": "code",
   "execution_count": 21,
   "id": "a47709ee-858c-4feb-83c8-a28f15a741cd",
   "metadata": {},
   "outputs": [
    {
     "name": "stdout",
     "output_type": "stream",
     "text": [
      "NAME                                                          READY   STATUS      RESTARTS      AGE\n",
      "model-downloader-meta-llama-3-1-8b-instruct-2-0-28trx         0/1     Completed   0             29m\n",
      "model-downloader-meta-llama-3-2-1b-instruct-2-0-b6scn         0/1     Completed   0             29m\n",
      "modeldeployment-meta-llama-3-1-8b-instruct-6b64d56fdc-slctn   1/1     Running     0             28m\n",
      "nemo-argo-workflows-server-655f8d755-svgn2                    1/1     Running     0             30m\n",
      "nemo-argo-workflows-workflow-controller-8f8877cd4-8t2tf       1/1     Running     0             30m\n",
      "nemo-customizer-5d8554fcf6-rhwfp                              1/1     Running     2 (29m ago)   30m\n",
      "nemo-customizerdb-0                                           1/1     Running     0             30m\n",
      "nemo-data-store-795ccbb97b-nwcf2                              1/1     Running     0             30m\n",
      "nemo-deployment-management-646cc67c-l67lq                     1/1     Running     0             30m\n",
      "nemo-entity-store-6bfd7c4bd9-p4s4b                            1/1     Running     0             30m\n",
      "nemo-entity-storedb-0                                         1/1     Running     0             30m\n",
      "nemo-evaluator-68c67f6798-f4sqh                               1/1     Running     0             30m\n",
      "nemo-evaluatordb-0                                            1/1     Running     0             30m\n",
      "nemo-guardrails-5985f8c6d4-bkkq2                              1/1     Running     0             30m\n",
      "nemo-milvus-standalone-57cc6c46fc-5rctk                       1/1     Running     0             30m\n",
      "nemo-nemo-operator-controller-manager-59c98d97f9-7gfsw        2/2     Running     0             30m\n",
      "nemo-nim-operator-765cbf686b-w9n6c                            1/1     Running     0             30m\n",
      "nemo-nim-proxy-6fbccbfb45-8qvmz                               1/1     Running     0             30m\n",
      "nemo-opentelemetry-collector-6f46646fd9-5tnrf                 1/1     Running     0             30m\n",
      "nemo-postgresql-0                                             1/1     Running     0             30m\n"
     ]
    }
   ],
   "source": [
    "! kubectl get pod"
   ]
  },
  {
   "cell_type": "markdown",
   "id": "94301926-71c9-4590-b5fd-1208f0917422",
   "metadata": {},
   "source": [
    "### 5.3 Evaluate Embedding Pipeline on FIQA Dataset"
   ]
  },
  {
   "cell_type": "code",
   "execution_count": 26,
   "id": "3fb1b610-d5be-4f1f-8536-0aa540646096",
   "metadata": {},
   "outputs": [],
   "source": [
    "target_payload = {\n",
    "    \"type\": \"retriever\",\n",
    "    \"name\": \"embed-target\",\n",
    "    \"namespace\": NMS_NAMESPACE,\n",
    "    \"retriever\": {\n",
    "    \"pipeline\": {\n",
    "        \"query_embedding_model\": {\n",
    "        \"api_endpoint\": {\n",
    "            \"url\": embed_url,\n",
    "            \"model_id\": embed_model_name,\n",
    "       }\n",
    "     },\n",
    "     \"index_embedding_model\": {\n",
    "        \"api_endpoint\": {\n",
    "            \"url\": embed_url,\n",
    "            \"model_id\": embed_model_name,\n",
    "        }\n",
    "     },\n",
    "     \"top_k\": 10\n",
    "    }\n",
    " }\n",
    "}\n",
    "\n",
    "config_payload = {\n",
    "    \"type\": \"retriever\",\n",
    "    \"name\": \"fiqa-config\",\n",
    "    \"namespace\": NMS_NAMESPACE,\n",
    "    \"tasks\": {\n",
    "        \"my-beir-task\": {\n",
    "            \"type\": \"beir\",\n",
    "            \"dataset\": {\n",
    "                \"files_url\": \"file://fiqa/\"\n",
    "            },\n",
    "            \"metrics\": {\n",
    "                \"recall_5\": {\"type\": \"recall_5\"},\n",
    "                \"ndcg_cut_5\": {\"type\": \"ndcg_cut_5\"},\n",
    "                \"recall_10\": {\"type\": \"recall_10\"},\n",
    "                \"ndcg_cut_10\": {\"type\": \"ndcg_cut_10\"}\n",
    "            }\n",
    "        }\n",
    "    }\n",
    "}\n",
    "\n",
    "resp1 = requests.post(target_url, json=target_payload, headers=headers)\n",
    "resp2 = requests.post(config_url, json=config_payload, headers=headers)"
   ]
  },
  {
   "cell_type": "code",
   "execution_count": 27,
   "id": "7fc2e8c6-abc0-4197-a1c6-ff9b53c06f98",
   "metadata": {
    "collapsed": true,
    "jupyter": {
     "outputs_hidden": true
    }
   },
   "outputs": [
    {
     "name": "stdout",
     "output_type": "stream",
     "text": [
      "{'created_at': '2025-07-09T06:45:27.786401',\n",
      " 'updated_at': '2025-07-09T06:45:27.786403',\n",
      " 'id': 'eval-5icjZHn7q6YERCtUCA19bW',\n",
      " 'namespace': 'nemo-eval-tutorial',\n",
      " 'description': None,\n",
      " 'target': {'schema_version': '1.0',\n",
      "            'id': 'eval-target-5Upwjn3JL3NPV8sGacQyWW',\n",
      "            'description': None,\n",
      "            'type_prefix': 'eval-target',\n",
      "            'namespace': 'nemo-eval-tutorial',\n",
      "            'project': None,\n",
      "            'created_at': '2025-07-09T06:44:21.108017',\n",
      "            'updated_at': '2025-07-09T06:44:21.108018',\n",
      "            'custom_fields': {},\n",
      "            'ownership': None,\n",
      "            'name': 'embed-target',\n",
      "            'type': 'retriever',\n",
      "            'cached_outputs': None,\n",
      "            'model': None,\n",
      "            'retriever': {'pipeline': {'query_embedding_model': {'schema_version': '1.0',\n",
      "                                                                 'id': 'model-JsfNnspcixm9UusYGSD1iU',\n",
      "                                                                 'description': None,\n",
      "                                                                 'type_prefix': 'model',\n",
      "                                                                 'namespace': 'default',\n",
      "                                                                 'project': None,\n",
      "                                                                 'created_at': '2025-07-09T06:44:21.107756',\n",
      "                                                                 'updated_at': '2025-07-09T06:44:21.107758',\n",
      "                                                                 'custom_fields': {},\n",
      "                                                                 'ownership': None,\n",
      "                                                                 'name': 'model-JsfNnspcixm9UusYGSD1iU',\n",
      "                                                                 'version_id': 'main',\n",
      "                                                                 'version_tags': [],\n",
      "                                                                 'spec': None,\n",
      "                                                                 'artifact': None,\n",
      "                                                                 'base_model': None,\n",
      "                                                                 'api_endpoint': {'url': 'http://172.27.20.120:8000/v1/embeddings',\n",
      "                                                                                  'model_id': 'nvidia/llama-3.2-nv-embedqa-1b-v2',\n",
      "                                                                                  'api_key': None,\n",
      "                                                                                  'format': 'nim'},\n",
      "                                                                 'peft': None,\n",
      "                                                                 'prompt': None,\n",
      "                                                                 'guardrails': None},\n",
      "                                       'index_embedding_model': {'schema_version': '1.0',\n",
      "                                                                 'id': 'model-HKNVJY2a6K6nwJAaZ6VnzR',\n",
      "                                                                 'description': None,\n",
      "                                                                 'type_prefix': 'model',\n",
      "                                                                 'namespace': 'default',\n",
      "                                                                 'project': None,\n",
      "                                                                 'created_at': '2025-07-09T06:44:21.107825',\n",
      "                                                                 'updated_at': '2025-07-09T06:44:21.107825',\n",
      "                                                                 'custom_fields': {},\n",
      "                                                                 'ownership': None,\n",
      "                                                                 'name': 'model-HKNVJY2a6K6nwJAaZ6VnzR',\n",
      "                                                                 'version_id': 'main',\n",
      "                                                                 'version_tags': [],\n",
      "                                                                 'spec': None,\n",
      "                                                                 'artifact': None,\n",
      "                                                                 'base_model': None,\n",
      "                                                                 'api_endpoint': {'url': 'http://172.27.20.120:8000/v1/embeddings',\n",
      "                                                                                  'model_id': 'nvidia/llama-3.2-nv-embedqa-1b-v2',\n",
      "                                                                                  'api_key': None,\n",
      "                                                                                  'format': 'nim'},\n",
      "                                                                 'peft': None,\n",
      "                                                                 'prompt': None,\n",
      "                                                                 'guardrails': None},\n",
      "                                       'reranker_model': None,\n",
      "                                       'top_k': 10},\n",
      "                          'cached_outputs': None},\n",
      "            'rag': None,\n",
      "            'rows': None,\n",
      "            'dataset': None},\n",
      " 'config': {'schema_version': '1.0',\n",
      "            'id': 'eval-config-KsKTD5g5GbS4SGYS3VeGJJ',\n",
      "            'description': None,\n",
      "            'type_prefix': 'eval-config',\n",
      "            'namespace': 'nemo-eval-tutorial',\n",
      "            'project': None,\n",
      "            'created_at': '2025-07-09T06:45:23.013022',\n",
      "            'updated_at': '2025-07-09T06:45:23.013023',\n",
      "            'custom_fields': {},\n",
      "            'ownership': None,\n",
      "            'name': 'fiqa-config',\n",
      "            'type': 'retriever',\n",
      "            'params': None,\n",
      "            'tasks': {'my-beir-task': {'type': 'beir',\n",
      "                                       'params': None,\n",
      "                                       'metrics': {'recall_5': {'type': 'recall_5',\n",
      "                                                                'params': None},\n",
      "                                                   'ndcg_cut_5': {'type': 'ndcg_cut_5',\n",
      "                                                                  'params': None},\n",
      "                                                   'recall_10': {'type': 'recall_10',\n",
      "                                                                 'params': None},\n",
      "                                                   'ndcg_cut_10': {'type': 'ndcg_cut_10',\n",
      "                                                                   'params': None}},\n",
      "                                       'dataset': {'schema_version': '1.0',\n",
      "                                                   'id': 'dataset-WueQfPh9cr3WpU2ySmpf1k',\n",
      "                                                   'description': None,\n",
      "                                                   'type_prefix': None,\n",
      "                                                   'namespace': 'default',\n",
      "                                                   'project': None,\n",
      "                                                   'created_at': '2025-07-09T06:45:23.012836',\n",
      "                                                   'updated_at': '2025-07-09T06:45:23.012837',\n",
      "                                                   'custom_fields': {},\n",
      "                                                   'ownership': None,\n",
      "                                                   'name': 'dataset-WueQfPh9cr3WpU2ySmpf1k',\n",
      "                                                   'version_id': 'main',\n",
      "                                                   'version_tags': [],\n",
      "                                                   'format': None,\n",
      "                                                   'files_url': 'file://fiqa/',\n",
      "                                                   'hf_endpoint': None,\n",
      "                                                   'split': None,\n",
      "                                                   'limit': None}}},\n",
      "            'groups': None},\n",
      " 'result': None,\n",
      " 'output_files_url': None,\n",
      " 'status_details': {'message': None, 'task_status': {}, 'progress': None},\n",
      " 'status': 'created',\n",
      " 'project': None,\n",
      " 'custom_fields': {},\n",
      " 'ownership': None}\n"
     ]
    }
   ],
   "source": [
    "payload = {\n",
    "    \"namespace\": NMS_NAMESPACE,\n",
    "    \"target\": f\"{NMS_NAMESPACE}/embed-target\",\n",
    "    \"config\": f\"{NMS_NAMESPACE}/fiqa-config\"\n",
    "}\n",
    "resp = requests.post(job_url, json=payload, headers=headers)\n",
    "embed_eval_job_id = resp.json()[\"id\"]\n",
    "pp(resp.json())"
   ]
  },
  {
   "cell_type": "code",
   "execution_count": 33,
   "id": "40676500-2842-4646-aa96-a10d59fd0183",
   "metadata": {},
   "outputs": [
    {
     "name": "stdout",
     "output_type": "stream",
     "text": [
      "{'message': 'Job completed successfully',\n",
      " 'task_status': {'my-beir-task': 'completed'},\n",
      " 'progress': 100.0}\n"
     ]
    }
   ],
   "source": [
    "resp = requests.get(f\"{NEMO_URL}/v1/evaluation/jobs/{embed_eval_job_id}/status\")\n",
    "pp(resp.json())"
   ]
  },
  {
   "cell_type": "code",
   "execution_count": 34,
   "id": "1cef2186-f3b7-4a97-ac39-8fa42441fa39",
   "metadata": {},
   "outputs": [
    {
     "name": "stdout",
     "output_type": "stream",
     "text": [
      "{'evaluation': {'scores': {'recall_10': {'value': 0.5984280594234299},\n",
      "                           'ndcg_cut_10': {'value': 0.5280203494315917},\n",
      "                           'ndcg_cut_5': {'value': 0.5054691655963462},\n",
      "                           'recall_5': {'value': 0.5225860130952724}}}}\n"
     ]
    }
   ],
   "source": [
    "resp = requests.get(f\"{NEMO_URL}/v1/evaluation/jobs/{embed_eval_job_id}/results\")\n",
    "pp(resp.json()['groups']['evaluation']['metrics'])"
   ]
  },
  {
   "cell_type": "markdown",
   "id": "a06bb86f-7bed-4eb4-af73-d1d5c487a53d",
   "metadata": {},
   "source": [
    "### 5.4 Evaluate Embedding + Reranking Pipeline on FIQA Dataset"
   ]
  },
  {
   "cell_type": "markdown",
   "id": "971b72ae-b8d1-473f-8e9f-13778b1958cf",
   "metadata": {},
   "source": [
    "First, let's create a evaluation target for Embedding + Reranking"
   ]
  },
  {
   "cell_type": "code",
   "execution_count": 35,
   "id": "1ac9bde2-ca1c-49a9-9b85-d373a72e2c97",
   "metadata": {},
   "outputs": [],
   "source": [
    "target_payload = {\n",
    "    \"type\": \"retriever\",\n",
    "    \"name\": \"embed-rerank-target\",\n",
    "    \"namespace\": NMS_NAMESPACE,\n",
    "    \"retriever\": {\n",
    "        \"pipeline\": {\n",
    "            \"query_embedding_model\": {\n",
    "                \"api_endpoint\": {\n",
    "                    \"url\": embed_url,\n",
    "                    \"model_id\": embed_model_name,\n",
    "                }\n",
    "         },\n",
    "             \"index_embedding_model\": {\n",
    "                \"api_endpoint\": {\n",
    "                     \"url\": embed_url,\n",
    "                     \"model_id\": embed_model_name,\n",
    "                }\n",
    "             },\n",
    "            \"reranker_model\": {\n",
    "                \"api_endpoint\": {\n",
    "                     \"url\": rerank_url,\n",
    "                     \"model_id\":rerank_model_name,\n",
    "                }\n",
    "            },\n",
    "         \"top_k\": 10\n",
    "       }\n",
    "    }\n",
    "}\n",
    "resp = requests.post(target_url, json=target_payload, headers=headers)"
   ]
  },
  {
   "cell_type": "markdown",
   "id": "d872a20b-6531-44f2-bf75-b148976f0eb9",
   "metadata": {},
   "source": [
    "Then we can launch the eval job for the embed + rerank pipeline on FIQA data:"
   ]
  },
  {
   "cell_type": "code",
   "execution_count": 36,
   "id": "5db765cf-1f83-46e1-b9e3-c33f0cc3de18",
   "metadata": {
    "collapsed": true,
    "jupyter": {
     "outputs_hidden": true
    }
   },
   "outputs": [
    {
     "name": "stdout",
     "output_type": "stream",
     "text": [
      "{'created_at': '2025-07-09T07:06:34.280669',\n",
      " 'updated_at': '2025-07-09T07:06:34.280671',\n",
      " 'id': 'eval-2FJVarertHH2SNA3mYaqmD',\n",
      " 'namespace': 'nemo-eval-tutorial',\n",
      " 'description': None,\n",
      " 'target': {'schema_version': '1.0',\n",
      "            'id': 'eval-target-T4fCAFx1yhgGP3kBfEBzxb',\n",
      "            'description': None,\n",
      "            'type_prefix': 'eval-target',\n",
      "            'namespace': 'nemo-eval-tutorial',\n",
      "            'project': None,\n",
      "            'created_at': '2025-07-09T07:06:31.817357',\n",
      "            'updated_at': '2025-07-09T07:06:31.817358',\n",
      "            'custom_fields': {},\n",
      "            'ownership': None,\n",
      "            'name': 'embed-rerank-target',\n",
      "            'type': 'retriever',\n",
      "            'cached_outputs': None,\n",
      "            'model': None,\n",
      "            'retriever': {'pipeline': {'query_embedding_model': {'schema_version': '1.0',\n",
      "                                                                 'id': 'model-AEyhZfkQZdQUw938n7Gw4q',\n",
      "                                                                 'description': None,\n",
      "                                                                 'type_prefix': 'model',\n",
      "                                                                 'namespace': 'default',\n",
      "                                                                 'project': None,\n",
      "                                                                 'created_at': '2025-07-09T07:06:31.816947',\n",
      "                                                                 'updated_at': '2025-07-09T07:06:31.816949',\n",
      "                                                                 'custom_fields': {},\n",
      "                                                                 'ownership': None,\n",
      "                                                                 'name': 'model-AEyhZfkQZdQUw938n7Gw4q',\n",
      "                                                                 'version_id': 'main',\n",
      "                                                                 'version_tags': [],\n",
      "                                                                 'spec': None,\n",
      "                                                                 'artifact': None,\n",
      "                                                                 'base_model': None,\n",
      "                                                                 'api_endpoint': {'url': 'http://172.27.20.120:8000/v1/embeddings',\n",
      "                                                                                  'model_id': 'nvidia/llama-3.2-nv-embedqa-1b-v2',\n",
      "                                                                                  'api_key': None,\n",
      "                                                                                  'format': 'nim'},\n",
      "                                                                 'peft': None,\n",
      "                                                                 'prompt': None,\n",
      "                                                                 'guardrails': None},\n",
      "                                       'index_embedding_model': {'schema_version': '1.0',\n",
      "                                                                 'id': 'model-C5tmcE6tZECDRHN3PuvEfk',\n",
      "                                                                 'description': None,\n",
      "                                                                 'type_prefix': 'model',\n",
      "                                                                 'namespace': 'default',\n",
      "                                                                 'project': None,\n",
      "                                                                 'created_at': '2025-07-09T07:06:31.816996',\n",
      "                                                                 'updated_at': '2025-07-09T07:06:31.816996',\n",
      "                                                                 'custom_fields': {},\n",
      "                                                                 'ownership': None,\n",
      "                                                                 'name': 'model-C5tmcE6tZECDRHN3PuvEfk',\n",
      "                                                                 'version_id': 'main',\n",
      "                                                                 'version_tags': [],\n",
      "                                                                 'spec': None,\n",
      "                                                                 'artifact': None,\n",
      "                                                                 'base_model': None,\n",
      "                                                                 'api_endpoint': {'url': 'http://172.27.20.120:8000/v1/embeddings',\n",
      "                                                                                  'model_id': 'nvidia/llama-3.2-nv-embedqa-1b-v2',\n",
      "                                                                                  'api_key': None,\n",
      "                                                                                  'format': 'nim'},\n",
      "                                                                 'peft': None,\n",
      "                                                                 'prompt': None,\n",
      "                                                                 'guardrails': None},\n",
      "                                       'reranker_model': {'schema_version': '1.0',\n",
      "                                                          'id': 'model-LzMLhQFk6bzv4vFAdRNMok',\n",
      "                                                          'description': None,\n",
      "                                                          'type_prefix': 'model',\n",
      "                                                          'namespace': 'default',\n",
      "                                                          'project': None,\n",
      "                                                          'created_at': '2025-07-09T07:06:31.817016',\n",
      "                                                          'updated_at': '2025-07-09T07:06:31.817016',\n",
      "                                                          'custom_fields': {},\n",
      "                                                          'ownership': None,\n",
      "                                                          'name': 'model-LzMLhQFk6bzv4vFAdRNMok',\n",
      "                                                          'version_id': 'main',\n",
      "                                                          'version_tags': [],\n",
      "                                                          'spec': None,\n",
      "                                                          'artifact': None,\n",
      "                                                          'base_model': None,\n",
      "                                                          'api_endpoint': {'url': 'http://172.27.20.120:8001/v1/ranking',\n",
      "                                                                           'model_id': 'nvidia/llama-3.2-nv-rerankqa-1b-v2',\n",
      "                                                                           'api_key': None,\n",
      "                                                                           'format': 'nim'},\n",
      "                                                          'peft': None,\n",
      "                                                          'prompt': None,\n",
      "                                                          'guardrails': None},\n",
      "                                       'top_k': 10},\n",
      "                          'cached_outputs': None},\n",
      "            'rag': None,\n",
      "            'rows': None,\n",
      "            'dataset': None},\n",
      " 'config': {'schema_version': '1.0',\n",
      "            'id': 'eval-config-KsKTD5g5GbS4SGYS3VeGJJ',\n",
      "            'description': None,\n",
      "            'type_prefix': 'eval-config',\n",
      "            'namespace': 'nemo-eval-tutorial',\n",
      "            'project': None,\n",
      "            'created_at': '2025-07-09T06:45:23.013022',\n",
      "            'updated_at': '2025-07-09T06:45:23.013023',\n",
      "            'custom_fields': {},\n",
      "            'ownership': None,\n",
      "            'name': 'fiqa-config',\n",
      "            'type': 'retriever',\n",
      "            'params': None,\n",
      "            'tasks': {'my-beir-task': {'type': 'beir',\n",
      "                                       'params': None,\n",
      "                                       'metrics': {'recall_5': {'type': 'recall_5',\n",
      "                                                                'params': None},\n",
      "                                                   'ndcg_cut_5': {'type': 'ndcg_cut_5',\n",
      "                                                                  'params': None},\n",
      "                                                   'recall_10': {'type': 'recall_10',\n",
      "                                                                 'params': None},\n",
      "                                                   'ndcg_cut_10': {'type': 'ndcg_cut_10',\n",
      "                                                                   'params': None}},\n",
      "                                       'dataset': {'schema_version': '1.0',\n",
      "                                                   'id': 'dataset-WueQfPh9cr3WpU2ySmpf1k',\n",
      "                                                   'description': None,\n",
      "                                                   'type_prefix': None,\n",
      "                                                   'namespace': 'default',\n",
      "                                                   'project': None,\n",
      "                                                   'created_at': '2025-07-09T06:45:23.012836',\n",
      "                                                   'updated_at': '2025-07-09T06:45:23.012837',\n",
      "                                                   'custom_fields': {},\n",
      "                                                   'ownership': None,\n",
      "                                                   'name': 'dataset-WueQfPh9cr3WpU2ySmpf1k',\n",
      "                                                   'version_id': 'main',\n",
      "                                                   'version_tags': [],\n",
      "                                                   'format': None,\n",
      "                                                   'files_url': 'file://fiqa/',\n",
      "                                                   'hf_endpoint': None,\n",
      "                                                   'split': None,\n",
      "                                                   'limit': None}}},\n",
      "            'groups': None},\n",
      " 'result': None,\n",
      " 'output_files_url': None,\n",
      " 'status_details': {'message': None, 'task_status': {}, 'progress': None},\n",
      " 'status': 'created',\n",
      " 'project': None,\n",
      " 'custom_fields': {},\n",
      " 'ownership': None}\n"
     ]
    }
   ],
   "source": [
    "payload = {\n",
    "    \"namespace\": NMS_NAMESPACE,\n",
    "    \"target\": f\"{NMS_NAMESPACE}/embed-rerank-target\",\n",
    "    \"config\": f\"{NMS_NAMESPACE}/fiqa-config\"\n",
    "}\n",
    "resp = requests.post(job_url, json=payload, headers=headers)\n",
    "embed_rerank_eval_job_id = resp.json()[\"id\"]\n",
    "pp(resp.json())"
   ]
  },
  {
   "cell_type": "code",
   "execution_count": 38,
   "id": "e136f734-a435-4739-812f-5c4f129ca800",
   "metadata": {},
   "outputs": [
    {
     "name": "stdout",
     "output_type": "stream",
     "text": [
      "{'message': 'Job completed successfully',\n",
      " 'task_status': {'my-beir-task': 'completed'},\n",
      " 'progress': 100.0}\n"
     ]
    }
   ],
   "source": [
    "resp = requests.get(f\"{NEMO_URL}/v1/evaluation/jobs/{embed_rerank_eval_job_id}/status\")\n",
    "pp(resp.json())"
   ]
  },
  {
   "cell_type": "code",
   "execution_count": 39,
   "id": "886d5ee8-148b-4b74-9f18-d541929829e4",
   "metadata": {},
   "outputs": [
    {
     "name": "stdout",
     "output_type": "stream",
     "text": [
      "{'evaluation': {'scores': {'recall_10': {'value': 0.5678767905619758},\n",
      "                           'ndcg_cut_10': {'value': 0.5134364317202811},\n",
      "                           'recall_5': {'value': 0.5151632575243686},\n",
      "                           'ndcg_cut_5': {'value': 0.5011430756367373}}}}\n"
     ]
    }
   ],
   "source": [
    "resp = requests.get(f\"{NEMO_URL}/v1/evaluation/jobs/{embed_rerank_eval_job_id}/results\")\n",
    "pp(resp.json()['groups']['evaluation']['metrics'])"
   ]
  },
  {
   "cell_type": "markdown",
   "id": "d4d8c9f4-7800-4aa2-8cae-034521487348",
   "metadata": {},
   "source": [
    "### 5.5 Evaluate Embedding + Reranking Pipeline on Custom Dataset"
   ]
  },
  {
   "cell_type": "markdown",
   "id": "fedb58f2-c57f-4e01-8c35-acb63f33a61a",
   "metadata": {},
   "source": [
    "Upload the custom dataset:"
   ]
  },
  {
   "cell_type": "code",
   "execution_count": 40,
   "id": "00910388-e963-4185-b2f2-234cda7af55c",
   "metadata": {},
   "outputs": [],
   "source": [
    "DATASET_NAME = \"rag_custom_data\"\n",
    "repo_id = setup_dataset_repo(HF_API, NMS_NAMESPACE, DATASET_NAME, NEMO_URL)"
   ]
  },
  {
   "cell_type": "code",
   "execution_count": 41,
   "id": "95295acc-3106-4ad6-a1e6-7e150f501c8a",
   "metadata": {},
   "outputs": [
    {
     "name": "stderr",
     "output_type": "stream",
     "text": [
      "queries.jsonl: 100%|██████████| 16.7k/16.7k [00:00<00:00, 3.90MB/s]\n",
      "corpus.jsonl: 100%|██████████| 11.0k/11.0k [00:00<00:00, 3.04MB/s]\n",
      "test.tsv: 100%|██████████| 7.28k/7.28k [00:00<00:00, 1.79MB/s]\n"
     ]
    },
    {
     "data": {
      "text/plain": [
       "CommitInfo(commit_url='', commit_message='Upload rag_data/qrels/test.tsv with huggingface_hub', commit_description='', oid='c901d2bb70290aa2d898d3f8102d732f774baaec', pr_url=None, repo_url=RepoUrl('', endpoint='https://huggingface.co', repo_type='model', repo_id=''), pr_revision=None, pr_num=None)"
      ]
     },
     "execution_count": 41,
     "metadata": {},
     "output_type": "execute_result"
    }
   ],
   "source": [
    "HF_API.upload_file(\n",
    "    path_or_fileobj=\"./eval_dataset/retriever_and_rag/queries.jsonl\",\n",
    "    path_in_repo=\"rag_data/queries.jsonl\",\n",
    "    repo_id=repo_id,\n",
    "    repo_type='dataset',\n",
    ")\n",
    "\n",
    "HF_API.upload_file(\n",
    "    path_or_fileobj=\"./eval_dataset/retriever_and_rag/corpus.jsonl\",\n",
    "    path_in_repo=\"rag_data/corpus.jsonl\",\n",
    "    repo_id=repo_id,\n",
    "    repo_type='dataset',\n",
    ")\n",
    "\n",
    "HF_API.upload_file(\n",
    "    path_or_fileobj=\"./eval_dataset/retriever_and_rag/qrels/test.tsv\",\n",
    "    path_in_repo=\"rag_data/qrels/test.tsv\",\n",
    "    repo_id=repo_id,\n",
    "    repo_type='dataset',\n",
    ")"
   ]
  },
  {
   "cell_type": "markdown",
   "id": "d68add56-cdf4-4a49-85ef-84c1ee75cc31",
   "metadata": {},
   "source": [
    "Create config for the custom data for retriever eval:"
   ]
  },
  {
   "cell_type": "code",
   "execution_count": 42,
   "id": "fa0dabef-bd41-4d5b-a75f-3170880a2c2e",
   "metadata": {},
   "outputs": [],
   "source": [
    "config_payload = {\n",
    "    \"type\": \"retriever\",\n",
    "    \"name\": \"custom-retriever-config\",\n",
    "    \"namespace\": NMS_NAMESPACE,\n",
    "    \"tasks\": {\n",
    "        \"my-beir-task\": {\n",
    "            \"type\": \"beir\",\n",
    "            \"dataset\": {\n",
    "                \"files_url\": f\"hf://datasets/{NMS_NAMESPACE}/{DATASET_NAME}/rag_data\"\n",
    "            },\n",
    "            \"metrics\": {\n",
    "                \"recall_5\": {\"type\": \"recall_5\"},\n",
    "                \"ndcg_cut_5\": {\"type\": \"ndcg_cut_5\"},\n",
    "                \"recall_10\": {\"type\": \"recall_10\"},\n",
    "                \"ndcg_cut_10\": {\"type\": \"ndcg_cut_10\"}\n",
    "            }\n",
    "        }\n",
    "    }\n",
    "}\n",
    "resp = requests.post(config_url, json=config_payload, headers=headers)"
   ]
  },
  {
   "cell_type": "markdown",
   "id": "44efecd5-573e-43d3-9308-1ef14f50890d",
   "metadata": {},
   "source": [
    "Launch the eval job on the embed + rerank pipeline:"
   ]
  },
  {
   "cell_type": "code",
   "execution_count": 43,
   "id": "4548459b-d9de-42c2-b32a-8e4ab116cbe8",
   "metadata": {
    "collapsed": true,
    "jupyter": {
     "outputs_hidden": true
    }
   },
   "outputs": [
    {
     "name": "stdout",
     "output_type": "stream",
     "text": [
      "{'created_at': '2025-07-09T16:16:07.734774',\n",
      " 'updated_at': '2025-07-09T16:16:07.734776',\n",
      " 'id': 'eval-PeDSNf6jrxTyJnovR9ybd7',\n",
      " 'namespace': 'nemo-eval-tutorial',\n",
      " 'description': None,\n",
      " 'target': {'schema_version': '1.0',\n",
      "            'id': 'eval-target-T4fCAFx1yhgGP3kBfEBzxb',\n",
      "            'description': None,\n",
      "            'type_prefix': 'eval-target',\n",
      "            'namespace': 'nemo-eval-tutorial',\n",
      "            'project': None,\n",
      "            'created_at': '2025-07-09T07:06:31.817357',\n",
      "            'updated_at': '2025-07-09T07:06:31.817358',\n",
      "            'custom_fields': {},\n",
      "            'ownership': None,\n",
      "            'name': 'embed-rerank-target',\n",
      "            'type': 'retriever',\n",
      "            'cached_outputs': None,\n",
      "            'model': None,\n",
      "            'retriever': {'pipeline': {'query_embedding_model': {'schema_version': '1.0',\n",
      "                                                                 'id': 'model-AEyhZfkQZdQUw938n7Gw4q',\n",
      "                                                                 'description': None,\n",
      "                                                                 'type_prefix': 'model',\n",
      "                                                                 'namespace': 'default',\n",
      "                                                                 'project': None,\n",
      "                                                                 'created_at': '2025-07-09T07:06:31.816947',\n",
      "                                                                 'updated_at': '2025-07-09T07:06:31.816949',\n",
      "                                                                 'custom_fields': {},\n",
      "                                                                 'ownership': None,\n",
      "                                                                 'name': 'model-AEyhZfkQZdQUw938n7Gw4q',\n",
      "                                                                 'version_id': 'main',\n",
      "                                                                 'version_tags': [],\n",
      "                                                                 'spec': None,\n",
      "                                                                 'artifact': None,\n",
      "                                                                 'base_model': None,\n",
      "                                                                 'api_endpoint': {'url': 'http://172.27.20.120:8000/v1/embeddings',\n",
      "                                                                                  'model_id': 'nvidia/llama-3.2-nv-embedqa-1b-v2',\n",
      "                                                                                  'api_key': None,\n",
      "                                                                                  'format': 'nim'},\n",
      "                                                                 'peft': None,\n",
      "                                                                 'prompt': None,\n",
      "                                                                 'guardrails': None},\n",
      "                                       'index_embedding_model': {'schema_version': '1.0',\n",
      "                                                                 'id': 'model-C5tmcE6tZECDRHN3PuvEfk',\n",
      "                                                                 'description': None,\n",
      "                                                                 'type_prefix': 'model',\n",
      "                                                                 'namespace': 'default',\n",
      "                                                                 'project': None,\n",
      "                                                                 'created_at': '2025-07-09T07:06:31.816996',\n",
      "                                                                 'updated_at': '2025-07-09T07:06:31.816996',\n",
      "                                                                 'custom_fields': {},\n",
      "                                                                 'ownership': None,\n",
      "                                                                 'name': 'model-C5tmcE6tZECDRHN3PuvEfk',\n",
      "                                                                 'version_id': 'main',\n",
      "                                                                 'version_tags': [],\n",
      "                                                                 'spec': None,\n",
      "                                                                 'artifact': None,\n",
      "                                                                 'base_model': None,\n",
      "                                                                 'api_endpoint': {'url': 'http://172.27.20.120:8000/v1/embeddings',\n",
      "                                                                                  'model_id': 'nvidia/llama-3.2-nv-embedqa-1b-v2',\n",
      "                                                                                  'api_key': None,\n",
      "                                                                                  'format': 'nim'},\n",
      "                                                                 'peft': None,\n",
      "                                                                 'prompt': None,\n",
      "                                                                 'guardrails': None},\n",
      "                                       'reranker_model': {'schema_version': '1.0',\n",
      "                                                          'id': 'model-LzMLhQFk6bzv4vFAdRNMok',\n",
      "                                                          'description': None,\n",
      "                                                          'type_prefix': 'model',\n",
      "                                                          'namespace': 'default',\n",
      "                                                          'project': None,\n",
      "                                                          'created_at': '2025-07-09T07:06:31.817016',\n",
      "                                                          'updated_at': '2025-07-09T07:06:31.817016',\n",
      "                                                          'custom_fields': {},\n",
      "                                                          'ownership': None,\n",
      "                                                          'name': 'model-LzMLhQFk6bzv4vFAdRNMok',\n",
      "                                                          'version_id': 'main',\n",
      "                                                          'version_tags': [],\n",
      "                                                          'spec': None,\n",
      "                                                          'artifact': None,\n",
      "                                                          'base_model': None,\n",
      "                                                          'api_endpoint': {'url': 'http://172.27.20.120:8001/v1/ranking',\n",
      "                                                                           'model_id': 'nvidia/llama-3.2-nv-rerankqa-1b-v2',\n",
      "                                                                           'api_key': None,\n",
      "                                                                           'format': 'nim'},\n",
      "                                                          'peft': None,\n",
      "                                                          'prompt': None,\n",
      "                                                          'guardrails': None},\n",
      "                                       'top_k': 10},\n",
      "                          'cached_outputs': None},\n",
      "            'rag': None,\n",
      "            'rows': None,\n",
      "            'dataset': None},\n",
      " 'config': {'schema_version': '1.0',\n",
      "            'id': 'eval-config-NeZxti79VXY5KfXeFRsoB5',\n",
      "            'description': None,\n",
      "            'type_prefix': 'eval-config',\n",
      "            'namespace': 'nemo-eval-tutorial',\n",
      "            'project': None,\n",
      "            'created_at': '2025-07-09T16:15:48.205922',\n",
      "            'updated_at': '2025-07-09T16:15:48.205923',\n",
      "            'custom_fields': {},\n",
      "            'ownership': None,\n",
      "            'name': 'custom-retriever-config',\n",
      "            'type': 'retriever',\n",
      "            'params': None,\n",
      "            'tasks': {'my-beir-task': {'type': 'beir',\n",
      "                                       'params': None,\n",
      "                                       'metrics': {'recall_5': {'type': 'recall_5',\n",
      "                                                                'params': None},\n",
      "                                                   'ndcg_cut_5': {'type': 'ndcg_cut_5',\n",
      "                                                                  'params': None},\n",
      "                                                   'recall_10': {'type': 'recall_10',\n",
      "                                                                 'params': None},\n",
      "                                                   'ndcg_cut_10': {'type': 'ndcg_cut_10',\n",
      "                                                                   'params': None}},\n",
      "                                       'dataset': {'schema_version': '1.0',\n",
      "                                                   'id': 'dataset-RddzBeXffRmVKTxTvRWkjF',\n",
      "                                                   'description': None,\n",
      "                                                   'type_prefix': None,\n",
      "                                                   'namespace': 'default',\n",
      "                                                   'project': None,\n",
      "                                                   'created_at': '2025-07-09T16:15:48.205720',\n",
      "                                                   'updated_at': '2025-07-09T16:15:48.205722',\n",
      "                                                   'custom_fields': {},\n",
      "                                                   'ownership': None,\n",
      "                                                   'name': 'dataset-RddzBeXffRmVKTxTvRWkjF',\n",
      "                                                   'version_id': 'main',\n",
      "                                                   'version_tags': [],\n",
      "                                                   'format': None,\n",
      "                                                   'files_url': 'hf://datasets/nemo-eval-tutorial/rag_custom_data/rag_data',\n",
      "                                                   'hf_endpoint': None,\n",
      "                                                   'split': None,\n",
      "                                                   'limit': None}}},\n",
      "            'groups': None},\n",
      " 'result': None,\n",
      " 'output_files_url': None,\n",
      " 'status_details': {'message': None, 'task_status': {}, 'progress': None},\n",
      " 'status': 'created',\n",
      " 'project': None,\n",
      " 'custom_fields': {},\n",
      " 'ownership': None}\n"
     ]
    }
   ],
   "source": [
    "payload = {\n",
    "    \"namespace\": NMS_NAMESPACE,\n",
    "    \"target\": f\"{NMS_NAMESPACE}/embed-rerank-target\",\n",
    "    \"config\": f\"{NMS_NAMESPACE}/custom-retriever-config\"\n",
    "}\n",
    "resp = requests.post(job_url, json=payload, headers=headers)\n",
    "embed_eval_job_id = resp.json()[\"id\"]\n",
    "pp(resp.json())"
   ]
  },
  {
   "cell_type": "code",
   "execution_count": 46,
   "id": "01dec2a3-9834-4454-892a-fe76bd45bcac",
   "metadata": {},
   "outputs": [
    {
     "name": "stdout",
     "output_type": "stream",
     "text": [
      "{'message': 'Job completed successfully',\n",
      " 'task_status': {'my-beir-task': 'completed'},\n",
      " 'progress': 100.0}\n"
     ]
    }
   ],
   "source": [
    "resp = requests.get(f\"{NEMO_URL}/v1/evaluation/jobs/{embed_eval_job_id}/status\")\n",
    "pp(resp.json())"
   ]
  },
  {
   "cell_type": "code",
   "execution_count": 47,
   "id": "6ac12f45-6730-41e2-8ba8-914a58d2f0d1",
   "metadata": {},
   "outputs": [
    {
     "name": "stdout",
     "output_type": "stream",
     "text": [
      "{'evaluation': {'scores': {'ndcg_cut_5': {'value': 1.0},\n",
      "                           'recall_10': {'value': 1.0},\n",
      "                           'recall_5': {'value': 1.0},\n",
      "                           'ndcg_cut_10': {'value': 1.0}}}}\n"
     ]
    }
   ],
   "source": [
    "resp = requests.get(f\"{NEMO_URL}/v1/evaluation/jobs/{embed_eval_job_id}/results\")\n",
    "pp(resp.json()['groups']['evaluation']['metrics'])"
   ]
  },
  {
   "cell_type": "markdown",
   "id": "8f03f72f-d8a2-4b5d-8f24-b2518e65c90a",
   "metadata": {},
   "source": [
    "## 6. RAG Pipeline Evaluation"
   ]
  },
  {
   "cell_type": "markdown",
   "id": "118064cf-10db-4054-9014-bf7698de2531",
   "metadata": {},
   "source": [
    "### 6.1 Evaluate RAG Pipeline on NFCorpus Dataset"
   ]
  },
  {
   "cell_type": "code",
   "execution_count": 48,
   "id": "e8b6f569-e8a8-410f-9fad-45b60e072dc9",
   "metadata": {},
   "outputs": [],
   "source": [
    "target_payload = {\n",
    "    \"type\": \"rag\",\n",
    "    \"name\": \"rag-target\",\n",
    "    \"namespace\": NMS_NAMESPACE,\n",
    "    \"rag\": {\n",
    "        \"pipeline\": {\n",
    "            \"retriever\": {\n",
    "                \"pipeline\": {\n",
    "                     \"query_embedding_model\": {\n",
    "                            \"api_endpoint\": {\n",
    "                                \"url\": embed_url,\n",
    "                                \"model_id\": embed_model_name\n",
    "                           }\n",
    "                     },\n",
    "                    \"index_embedding_model\": {\n",
    "                        \"api_endpoint\": {\n",
    "                                \"url\": embed_url,\n",
    "                                \"model_id\": embed_model_name\n",
    "                        }\n",
    "                    },\n",
    "                    \"reranker_model\": {\n",
    "                        \"api_endpoint\": {\n",
    "                             \"url\": rerank_url,\n",
    "                             \"model_id\": rerank_model_name,\n",
    "                        }\n",
    "                    },\n",
    "                    \"top_k\": 3\n",
    "                }\n",
    "             },\n",
    "            \"model\": {\n",
    "                \"api_endpoint\": {\n",
    "                     \"url\": llm_chat_completion_url,\n",
    "                     \"model_id\": \"meta/llama-3.1-8b-instruct\"\n",
    "                }\n",
    "            }\n",
    "        }\n",
    "    }\n",
    "}\n",
    "resp = requests.post(target_url, json=target_payload, headers=headers)"
   ]
  },
  {
   "cell_type": "code",
   "execution_count": 49,
   "id": "404c3826-3388-4c59-b1a7-c284accdeedf",
   "metadata": {
    "collapsed": true,
    "jupyter": {
     "outputs_hidden": true
    }
   },
   "outputs": [
    {
     "name": "stdout",
     "output_type": "stream",
     "text": [
      "{'created_at': '2025-07-09T16:30:31.105191',\n",
      " 'updated_at': '2025-07-09T16:30:31.105192',\n",
      " 'name': 'rag-nfcorpus-config',\n",
      " 'namespace': 'nemo-eval-tutorial',\n",
      " 'type': 'rag',\n",
      " 'tasks': {'my-beir-task': {'type': 'beir',\n",
      "                            'params': {'judge_llm': {'api_endpoint': {'url': 'https://integrate.api.nvidia.com/v1/chat/completions',\n",
      "                                                                      'model_id': 'meta/llama-3.3-70b-instruct',\n",
      "                                                                      'api_key': '******'}},\n",
      "                                       'judge_embeddings': {'api_endpoint': {'url': 'https://integrate.api.nvidia.com/v1/embeddings',\n",
      "                                                                             'model_id': 'nvidia/nv-embedqa-e5-v5',\n",
      "                                                                             'api_key': '******'}},\n",
      "                                       'judge_timeout': 300,\n",
      "                                       'judge_max_retries': 5,\n",
      "                                       'judge_max_workers': 16},\n",
      "                            'metrics': {'recall_5': {'type': 'recall_5'},\n",
      "                                        'ndcg_cut_5': {'type': 'ndcg_cut_5'},\n",
      "                                        'recall_10': {'type': 'recall_10'},\n",
      "                                        'ndcg_cut_10': {'type': 'ndcg_cut_10'},\n",
      "                                        'faithfulness': {'type': 'faithfulness'},\n",
      "                                        'answer_relevancy': {'type': 'answer_relevancy'}},\n",
      "                            'dataset': {'schema_version': '1.0',\n",
      "                                        'id': 'dataset-3Tgpmmzu7u4AUUrfppFhsN',\n",
      "                                        'namespace': 'default',\n",
      "                                        'created_at': '2025-07-09T16:30:31.105030',\n",
      "                                        'updated_at': '2025-07-09T16:30:31.105032',\n",
      "                                        'custom_fields': {},\n",
      "                                        'name': 'dataset-3Tgpmmzu7u4AUUrfppFhsN',\n",
      "                                        'version_id': 'main',\n",
      "                                        'version_tags': [],\n",
      "                                        'files_url': 'file://nfcorpus/'}}},\n",
      " 'id': 'eval-config-Lsvsipxj1cEntDWsDbzJxL',\n",
      " 'custom_fields': {}}\n"
     ]
    }
   ],
   "source": [
    "config_payload = {\n",
    "    \"type\": \"rag\",\n",
    "    \"name\": \"rag-nfcorpus-config\",\n",
    "    \"namespace\": NMS_NAMESPACE,\n",
    "    \"tasks\": {\n",
    "        \"my-beir-task\": {\n",
    "            \"type\": \"beir\",\n",
    "            \"dataset\": {\n",
    "                \"files_url\": \"file://nfcorpus/\"\n",
    "            },\n",
    "            \"params\": {\n",
    "                \"judge_llm\": {\n",
    "                    \"api_endpoint\": {\n",
    "                        \"url\": \"https://integrate.api.nvidia.com/v1/chat/completions\",\n",
    "                        \"model_id\": \"meta/llama-3.3-70b-instruct\",\n",
    "                        \"api_key\": os.environ['NVIDIA_API_KEY'],\n",
    "                    }\n",
    "                },\n",
    "                \"judge_embeddings\": {\n",
    "                    \"api_endpoint\": {\n",
    "                        \"url\": \"https://integrate.api.nvidia.com/v1/embeddings\",\n",
    "                        \"model_id\": \"nvidia/nv-embedqa-e5-v5\",\n",
    "                        \"api_key\": os.environ['NVIDIA_API_KEY'],\n",
    "                    }\n",
    "                },\n",
    "                \"judge_timeout\": 300,\n",
    "                \"judge_max_retries\": 5,\n",
    "                \"judge_max_workers\": 16\n",
    "            },\n",
    "            \"metrics\": {\n",
    "                \"recall_5\": {\"type\": \"recall_5\"},\n",
    "                \"ndcg_cut_5\": {\"type\": \"ndcg_cut_5\"},\n",
    "                \"recall_10\": {\"type\": \"recall_10\"},\n",
    "                \"ndcg_cut_10\": {\"type\": \"ndcg_cut_10\"},\n",
    "                \"faithfulness\": {\"type\": \"faithfulness\"},\n",
    "                \"answer_relevancy\": {\"type\": \"answer_relevancy\"}\n",
    "            }\n",
    "        }\n",
    "    }\n",
    "}\n",
    "resp = requests.post(config_url, json=config_payload, headers=headers)\n",
    "pp(resp.json())"
   ]
  },
  {
   "cell_type": "code",
   "execution_count": 50,
   "id": "12783fe8-93d3-4d62-b802-cd859398d4b2",
   "metadata": {
    "scrolled": true
   },
   "outputs": [
    {
     "name": "stdout",
     "output_type": "stream",
     "text": [
      "{'created_at': '2025-07-09T16:30:43.855021',\n",
      " 'updated_at': '2025-07-09T16:30:43.855024',\n",
      " 'id': 'eval-VrFzxRNEP1hhjrnUtP8Ug1',\n",
      " 'namespace': 'nemo-eval-tutorial',\n",
      " 'description': None,\n",
      " 'target': {'schema_version': '1.0',\n",
      "            'id': 'eval-target-VTApJbSpoJBj8xQhgzxB4',\n",
      "            'description': None,\n",
      "            'type_prefix': 'eval-target',\n",
      "            'namespace': 'nemo-eval-tutorial',\n",
      "            'project': None,\n",
      "            'created_at': '2025-07-09T16:29:23.468547',\n",
      "            'updated_at': '2025-07-09T16:29:23.468547',\n",
      "            'custom_fields': {},\n",
      "            'ownership': None,\n",
      "            'name': 'rag-target',\n",
      "            'type': 'rag',\n",
      "            'cached_outputs': None,\n",
      "            'model': None,\n",
      "            'retriever': None,\n",
      "            'rag': {'pipeline': {'retriever': {'pipeline': {'query_embedding_model': {'schema_version': '1.0',\n",
      "                                                                                      'id': 'model-FbFHZ6sEf7pBhmSZj2eTa5',\n",
      "                                                                                      'description': None,\n",
      "                                                                                      'type_prefix': 'model',\n",
      "                                                                                      'namespace': 'default',\n",
      "                                                                                      'project': None,\n",
      "                                                                                      'created_at': '2025-07-09T16:29:23.468212',\n",
      "                                                                                      'updated_at': '2025-07-09T16:29:23.468213',\n",
      "                                                                                      'custom_fields': {},\n",
      "                                                                                      'ownership': None,\n",
      "                                                                                      'name': 'model-FbFHZ6sEf7pBhmSZj2eTa5',\n",
      "                                                                                      'version_id': 'main',\n",
      "                                                                                      'version_tags': [],\n",
      "                                                                                      'spec': None,\n",
      "                                                                                      'artifact': None,\n",
      "                                                                                      'base_model': None,\n",
      "                                                                                      'api_endpoint': {'url': 'http://172.27.20.120:8000/v1/embeddings',\n",
      "                                                                                                       'model_id': 'nvidia/llama-3.2-nv-embedqa-1b-v2',\n",
      "                                                                                                       'api_key': None,\n",
      "                                                                                                       'format': 'nim'},\n",
      "                                                                                      'peft': None,\n",
      "                                                                                      'prompt': None,\n",
      "                                                                                      'guardrails': None},\n",
      "                                                            'index_embedding_model': {'schema_version': '1.0',\n",
      "                                                                                      'id': 'model-BMxFNMbexdzBy1PgDyMB2f',\n",
      "                                                                                      'description': None,\n",
      "                                                                                      'type_prefix': 'model',\n",
      "                                                                                      'namespace': 'default',\n",
      "                                                                                      'project': None,\n",
      "                                                                                      'created_at': '2025-07-09T16:29:23.468261',\n",
      "                                                                                      'updated_at': '2025-07-09T16:29:23.468261',\n",
      "                                                                                      'custom_fields': {},\n",
      "                                                                                      'ownership': None,\n",
      "                                                                                      'name': 'model-BMxFNMbexdzBy1PgDyMB2f',\n",
      "                                                                                      'version_id': 'main',\n",
      "                                                                                      'version_tags': [],\n",
      "                                                                                      'spec': None,\n",
      "                                                                                      'artifact': None,\n",
      "                                                                                      'base_model': None,\n",
      "                                                                                      'api_endpoint': {'url': 'http://172.27.20.120:8000/v1/embeddings',\n",
      "                                                                                                       'model_id': 'nvidia/llama-3.2-nv-embedqa-1b-v2',\n",
      "                                                                                                       'api_key': None,\n",
      "                                                                                                       'format': 'nim'},\n",
      "                                                                                      'peft': None,\n",
      "                                                                                      'prompt': None,\n",
      "                                                                                      'guardrails': None},\n",
      "                                                            'reranker_model': {'schema_version': '1.0',\n",
      "                                                                               'id': 'model-JVYRG5Nxwu24cxXevSD1P',\n",
      "                                                                               'description': None,\n",
      "                                                                               'type_prefix': 'model',\n",
      "                                                                               'namespace': 'default',\n",
      "                                                                               'project': None,\n",
      "                                                                               'created_at': '2025-07-09T16:29:23.468282',\n",
      "                                                                               'updated_at': '2025-07-09T16:29:23.468282',\n",
      "                                                                               'custom_fields': {},\n",
      "                                                                               'ownership': None,\n",
      "                                                                               'name': 'model-JVYRG5Nxwu24cxXevSD1P',\n",
      "                                                                               'version_id': 'main',\n",
      "                                                                               'version_tags': [],\n",
      "                                                                               'spec': None,\n",
      "                                                                               'artifact': None,\n",
      "                                                                               'base_model': None,\n",
      "                                                                               'api_endpoint': {'url': 'http://172.27.20.120:8001/v1/ranking',\n",
      "                                                                                                'model_id': 'nvidia/llama-3.2-nv-rerankqa-1b-v2',\n",
      "                                                                                                'api_key': None,\n",
      "                                                                                                'format': 'nim'},\n",
      "                                                                               'peft': None,\n",
      "                                                                               'prompt': None,\n",
      "                                                                               'guardrails': None},\n",
      "                                                            'top_k': 3},\n",
      "                                               'cached_outputs': None},\n",
      "                                 'model': {'schema_version': '1.0',\n",
      "                                           'id': 'model-fWQ8215bWrwq9sdmSGnno',\n",
      "                                           'description': None,\n",
      "                                           'type_prefix': 'model',\n",
      "                                           'namespace': 'default',\n",
      "                                           'project': None,\n",
      "                                           'created_at': '2025-07-09T16:29:23.468307',\n",
      "                                           'updated_at': '2025-07-09T16:29:23.468307',\n",
      "                                           'custom_fields': {},\n",
      "                                           'ownership': None,\n",
      "                                           'name': 'model-fWQ8215bWrwq9sdmSGnno',\n",
      "                                           'version_id': 'main',\n",
      "                                           'version_tags': [],\n",
      "                                           'spec': None,\n",
      "                                           'artifact': None,\n",
      "                                           'base_model': None,\n",
      "                                           'api_endpoint': {'url': 'http://nim.test/v1/chat/completions',\n",
      "                                                            'model_id': 'meta/llama-3.1-8b-instruct',\n",
      "                                                            'api_key': None,\n",
      "                                                            'format': 'nim'},\n",
      "                                           'peft': None,\n",
      "                                           'prompt': None,\n",
      "                                           'guardrails': None},\n",
      "                                 'context_ordering': 'desc'},\n",
      "                    'cached_outputs': None},\n",
      "            'rows': None,\n",
      "            'dataset': None},\n",
      " 'config': {'schema_version': '1.0',\n",
      "            'id': 'eval-config-Lsvsipxj1cEntDWsDbzJxL',\n",
      "            'description': None,\n",
      "            'type_prefix': 'eval-config',\n",
      "            'namespace': 'nemo-eval-tutorial',\n",
      "            'project': None,\n",
      "            'created_at': '2025-07-09T16:30:31.105191',\n",
      "            'updated_at': '2025-07-09T16:30:31.105192',\n",
      "            'custom_fields': {},\n",
      "            'ownership': None,\n",
      "            'name': 'rag-nfcorpus-config',\n",
      "            'type': 'rag',\n",
      "            'params': None,\n",
      "            'tasks': {'my-beir-task': {'type': 'beir',\n",
      "                                       'params': {'judge_llm': {'api_endpoint': {'url': 'https://integrate.api.nvidia.com/v1/chat/completions',\n",
      "                                                                                 'model_id': 'meta/llama-3.3-70b-instruct',\n",
      "                                                                                 'api_key': '******'}},\n",
      "                                                  'judge_embeddings': {'api_endpoint': {'url': 'https://integrate.api.nvidia.com/v1/embeddings',\n",
      "                                                                                        'model_id': 'nvidia/nv-embedqa-e5-v5',\n",
      "                                                                                        'api_key': '******'}},\n",
      "                                                  'judge_timeout': 300,\n",
      "                                                  'judge_max_retries': 5,\n",
      "                                                  'judge_max_workers': 16},\n",
      "                                       'metrics': {'recall_5': {'type': 'recall_5',\n",
      "                                                                'params': None},\n",
      "                                                   'ndcg_cut_5': {'type': 'ndcg_cut_5',\n",
      "                                                                  'params': None},\n",
      "                                                   'recall_10': {'type': 'recall_10',\n",
      "                                                                 'params': None},\n",
      "                                                   'ndcg_cut_10': {'type': 'ndcg_cut_10',\n",
      "                                                                   'params': None},\n",
      "                                                   'faithfulness': {'type': 'faithfulness',\n",
      "                                                                    'params': None},\n",
      "                                                   'answer_relevancy': {'type': 'answer_relevancy',\n",
      "                                                                        'params': None}},\n",
      "                                       'dataset': {'schema_version': '1.0',\n",
      "                                                   'id': 'dataset-3Tgpmmzu7u4AUUrfppFhsN',\n",
      "                                                   'description': None,\n",
      "                                                   'type_prefix': None,\n",
      "                                                   'namespace': 'default',\n",
      "                                                   'project': None,\n",
      "                                                   'created_at': '2025-07-09T16:30:31.105030',\n",
      "                                                   'updated_at': '2025-07-09T16:30:31.105032',\n",
      "                                                   'custom_fields': {},\n",
      "                                                   'ownership': None,\n",
      "                                                   'name': 'dataset-3Tgpmmzu7u4AUUrfppFhsN',\n",
      "                                                   'version_id': 'main',\n",
      "                                                   'version_tags': [],\n",
      "                                                   'format': None,\n",
      "                                                   'files_url': 'file://nfcorpus/',\n",
      "                                                   'hf_endpoint': None,\n",
      "                                                   'split': None,\n",
      "                                                   'limit': None}}},\n",
      "            'groups': None},\n",
      " 'result': None,\n",
      " 'output_files_url': None,\n",
      " 'status_details': {'message': None, 'task_status': {}, 'progress': None},\n",
      " 'status': 'created',\n",
      " 'project': None,\n",
      " 'custom_fields': {},\n",
      " 'ownership': None}\n"
     ]
    }
   ],
   "source": [
    "payload = {\n",
    "    \"namespace\": NMS_NAMESPACE,\n",
    "    \"target\": f\"{NMS_NAMESPACE}/rag-target\",\n",
    "    \"config\": f\"{NMS_NAMESPACE}/rag-nfcorpus-config\"\n",
    "}\n",
    "resp = requests.post(job_url, json=payload, headers=headers)\n",
    "rag_nfcorpus_eval_job_id = resp.json()[\"id\"]\n",
    "pp(resp.json())"
   ]
  },
  {
   "cell_type": "code",
   "execution_count": 54,
   "id": "ed65bf45-83b7-447d-96da-998906b54c47",
   "metadata": {},
   "outputs": [
    {
     "name": "stdout",
     "output_type": "stream",
     "text": [
      "{'message': 'Job completed successfully',\n",
      " 'task_status': {'my-beir-task': 'completed'},\n",
      " 'progress': 100.0}\n"
     ]
    }
   ],
   "source": [
    "resp = requests.get(f\"{NEMO_URL}/v1/evaluation/jobs/{rag_nfcorpus_eval_job_id}/status\")\n",
    "pp(resp.json())"
   ]
  },
  {
   "cell_type": "code",
   "execution_count": 55,
   "id": "a97a457a-2739-4903-a696-5a1ad66938bc",
   "metadata": {},
   "outputs": [
    {
     "name": "stdout",
     "output_type": "stream",
     "text": [
      "{'evaluation': {'scores': {'ndcg_cut_10': {'value': 0.2679049189207276},\n",
      "                           'recall_5': {'value': 0.11898776243879489},\n",
      "                           'recall_10': {'value': 0.11898776243879489},\n",
      "                           'ndcg_cut_5': {'value': 0.35399013412606123},\n",
      "                           'faithfulness': {'value': 0.798750415118147},\n",
      "                           'answer_relevancy': {'value': 0.38691755209414236}}}}\n"
     ]
    }
   ],
   "source": [
    "resp = requests.get(f\"{NEMO_URL}/v1/evaluation/jobs/{rag_nfcorpus_eval_job_id}/results\")\n",
    "pp(resp.json()['groups']['evaluation']['metrics'])"
   ]
  },
  {
   "cell_type": "markdown",
   "id": "f179b501-79e0-4261-af70-532b22b0b0d5",
   "metadata": {},
   "source": [
    "### 6.2 Evaluate RAG Pipeline on Custom Dataset"
   ]
  },
  {
   "cell_type": "markdown",
   "id": "075d2471-1cfc-41ba-a43a-affe2844b407",
   "metadata": {},
   "source": [
    "Create evaluation config for RAG on custom dataset. We will use remote judge LLM and judge embedding model."
   ]
  },
  {
   "cell_type": "code",
   "execution_count": 56,
   "id": "a6a9d68c-3cdd-4faa-ac01-460ea37cdad0",
   "metadata": {},
   "outputs": [
    {
     "name": "stdout",
     "output_type": "stream",
     "text": [
      "{'created_at': '2025-07-09T17:35:11.033333',\n",
      " 'updated_at': '2025-07-09T17:35:11.033334',\n",
      " 'name': 'custom-rag-config',\n",
      " 'namespace': 'nemo-eval-tutorial',\n",
      " 'type': 'rag',\n",
      " 'tasks': {'rag-beir-task': {'type': 'beir',\n",
      "                             'params': {'judge_llm': {'api_endpoint': {'url': 'https://integrate.api.nvidia.com/v1/chat/completions',\n",
      "                                                                       'model_id': 'meta/llama-3.3-70b-instruct',\n",
      "                                                                       'api_key': '******'}},\n",
      "                                        'judge_embeddings': {'api_endpoint': {'url': 'https://integrate.api.nvidia.com/v1/embeddings',\n",
      "                                                                              'model_id': 'nvidia/nv-embedqa-e5-v5',\n",
      "                                                                              'api_key': '******'}},\n",
      "                                        'judge_timeout': 300,\n",
      "                                        'judge_max_retries': 5,\n",
      "                                        'judge_max_workers': 16},\n",
      "                             'metrics': {'recall_5': {'type': 'recall_5'},\n",
      "                                         'ndcg_cut_5': {'type': 'ndcg_cut_5'},\n",
      "                                         'recall_10': {'type': 'recall_10'},\n",
      "                                         'ndcg_cut_10': {'type': 'ndcg_cut_10'},\n",
      "                                         'faithfulness': {'type': 'faithfulness'},\n",
      "                                         'answer_relevancy': {'type': 'answer_relevancy'}},\n",
      "                             'dataset': {'schema_version': '1.0',\n",
      "                                         'id': 'dataset-4LzRVXqd494p5rSG5BeULA',\n",
      "                                         'namespace': 'default',\n",
      "                                         'created_at': '2025-07-09T17:35:11.033156',\n",
      "                                         'updated_at': '2025-07-09T17:35:11.033158',\n",
      "                                         'custom_fields': {},\n",
      "                                         'name': 'dataset-4LzRVXqd494p5rSG5BeULA',\n",
      "                                         'version_id': 'main',\n",
      "                                         'version_tags': [],\n",
      "                                         'files_url': 'hf://datasets/nemo-eval-tutorial/rag_custom_data/rag_data'}}},\n",
      " 'id': 'eval-config-7NBFBYfrYxGgcdqo5M7agU',\n",
      " 'custom_fields': {}}\n"
     ]
    }
   ],
   "source": [
    "config_payload = {\n",
    "    \"type\": \"rag\",\n",
    "    \"name\": \"custom-rag-config\",\n",
    "    \"namespace\": NMS_NAMESPACE,\n",
    "    \"tasks\": {\n",
    "        \"rag-beir-task\": {\n",
    "            \"type\": \"beir\",\n",
    "            \"dataset\": {\n",
    "                \"files_url\": f\"hf://datasets/{NMS_NAMESPACE}/{DATASET_NAME}/rag_data\"\n",
    "            },\n",
    "            \"params\": {\n",
    "                \"judge_llm\": {\n",
    "                    \"api_endpoint\": {\n",
    "                        \"url\": \"https://integrate.api.nvidia.com/v1/chat/completions\",\n",
    "                        \"model_id\": \"meta/llama-3.3-70b-instruct\",\n",
    "                        \"api_key\": os.environ['NVIDIA_API_KEY'],\n",
    "                    }\n",
    "                },\n",
    "                \"judge_embeddings\": {\n",
    "                    \"api_endpoint\": {\n",
    "                        \"url\": \"https://integrate.api.nvidia.com/v1/embeddings\",\n",
    "                        \"model_id\": \"nvidia/nv-embedqa-e5-v5\",\n",
    "                        \"api_key\": os.environ['NVIDIA_API_KEY'],\n",
    "                    }\n",
    "                },\n",
    "                \"judge_timeout\": 300,\n",
    "                \"judge_max_retries\": 5,\n",
    "                \"judge_max_workers\": 16\n",
    "            },\n",
    "            \"metrics\": {\n",
    "                \"recall_5\": {\"type\": \"recall_5\"},\n",
    "                \"ndcg_cut_5\": {\"type\": \"ndcg_cut_5\"},\n",
    "                \"recall_10\": {\"type\": \"recall_10\"},\n",
    "                \"ndcg_cut_10\": {\"type\": \"ndcg_cut_10\"},\n",
    "                \"faithfulness\": {\"type\": \"faithfulness\"},\n",
    "                \"answer_relevancy\": {\"type\": \"answer_relevancy\"}\n",
    "            }\n",
    "        }\n",
    "    }\n",
    "}\n",
    "\n",
    "resp = requests.post(config_url, json=config_payload, headers=headers)\n",
    "pp(resp.json())"
   ]
  },
  {
   "cell_type": "code",
   "execution_count": 57,
   "id": "8eab031f-155c-4ad5-a44f-a1369fe00f28",
   "metadata": {
    "collapsed": true,
    "jupyter": {
     "outputs_hidden": true
    }
   },
   "outputs": [
    {
     "name": "stdout",
     "output_type": "stream",
     "text": [
      "{'created_at': '2025-07-09T17:35:43.792368',\n",
      " 'updated_at': '2025-07-09T17:35:43.792370',\n",
      " 'id': 'eval-NYudxKxqnNzbRk5k7CpJNr',\n",
      " 'namespace': 'nemo-eval-tutorial',\n",
      " 'description': None,\n",
      " 'target': {'schema_version': '1.0',\n",
      "            'id': 'eval-target-VTApJbSpoJBj8xQhgzxB4',\n",
      "            'description': None,\n",
      "            'type_prefix': 'eval-target',\n",
      "            'namespace': 'nemo-eval-tutorial',\n",
      "            'project': None,\n",
      "            'created_at': '2025-07-09T16:29:23.468547',\n",
      "            'updated_at': '2025-07-09T16:29:23.468547',\n",
      "            'custom_fields': {},\n",
      "            'ownership': None,\n",
      "            'name': 'rag-target',\n",
      "            'type': 'rag',\n",
      "            'cached_outputs': None,\n",
      "            'model': None,\n",
      "            'retriever': None,\n",
      "            'rag': {'pipeline': {'retriever': {'pipeline': {'query_embedding_model': {'schema_version': '1.0',\n",
      "                                                                                      'id': 'model-FbFHZ6sEf7pBhmSZj2eTa5',\n",
      "                                                                                      'description': None,\n",
      "                                                                                      'type_prefix': 'model',\n",
      "                                                                                      'namespace': 'default',\n",
      "                                                                                      'project': None,\n",
      "                                                                                      'created_at': '2025-07-09T16:29:23.468212',\n",
      "                                                                                      'updated_at': '2025-07-09T16:29:23.468213',\n",
      "                                                                                      'custom_fields': {},\n",
      "                                                                                      'ownership': None,\n",
      "                                                                                      'name': 'model-FbFHZ6sEf7pBhmSZj2eTa5',\n",
      "                                                                                      'version_id': 'main',\n",
      "                                                                                      'version_tags': [],\n",
      "                                                                                      'spec': None,\n",
      "                                                                                      'artifact': None,\n",
      "                                                                                      'base_model': None,\n",
      "                                                                                      'api_endpoint': {'url': 'http://172.27.20.120:8000/v1/embeddings',\n",
      "                                                                                                       'model_id': 'nvidia/llama-3.2-nv-embedqa-1b-v2',\n",
      "                                                                                                       'api_key': None,\n",
      "                                                                                                       'format': 'nim'},\n",
      "                                                                                      'peft': None,\n",
      "                                                                                      'prompt': None,\n",
      "                                                                                      'guardrails': None},\n",
      "                                                            'index_embedding_model': {'schema_version': '1.0',\n",
      "                                                                                      'id': 'model-BMxFNMbexdzBy1PgDyMB2f',\n",
      "                                                                                      'description': None,\n",
      "                                                                                      'type_prefix': 'model',\n",
      "                                                                                      'namespace': 'default',\n",
      "                                                                                      'project': None,\n",
      "                                                                                      'created_at': '2025-07-09T16:29:23.468261',\n",
      "                                                                                      'updated_at': '2025-07-09T16:29:23.468261',\n",
      "                                                                                      'custom_fields': {},\n",
      "                                                                                      'ownership': None,\n",
      "                                                                                      'name': 'model-BMxFNMbexdzBy1PgDyMB2f',\n",
      "                                                                                      'version_id': 'main',\n",
      "                                                                                      'version_tags': [],\n",
      "                                                                                      'spec': None,\n",
      "                                                                                      'artifact': None,\n",
      "                                                                                      'base_model': None,\n",
      "                                                                                      'api_endpoint': {'url': 'http://172.27.20.120:8000/v1/embeddings',\n",
      "                                                                                                       'model_id': 'nvidia/llama-3.2-nv-embedqa-1b-v2',\n",
      "                                                                                                       'api_key': None,\n",
      "                                                                                                       'format': 'nim'},\n",
      "                                                                                      'peft': None,\n",
      "                                                                                      'prompt': None,\n",
      "                                                                                      'guardrails': None},\n",
      "                                                            'reranker_model': {'schema_version': '1.0',\n",
      "                                                                               'id': 'model-JVYRG5Nxwu24cxXevSD1P',\n",
      "                                                                               'description': None,\n",
      "                                                                               'type_prefix': 'model',\n",
      "                                                                               'namespace': 'default',\n",
      "                                                                               'project': None,\n",
      "                                                                               'created_at': '2025-07-09T16:29:23.468282',\n",
      "                                                                               'updated_at': '2025-07-09T16:29:23.468282',\n",
      "                                                                               'custom_fields': {},\n",
      "                                                                               'ownership': None,\n",
      "                                                                               'name': 'model-JVYRG5Nxwu24cxXevSD1P',\n",
      "                                                                               'version_id': 'main',\n",
      "                                                                               'version_tags': [],\n",
      "                                                                               'spec': None,\n",
      "                                                                               'artifact': None,\n",
      "                                                                               'base_model': None,\n",
      "                                                                               'api_endpoint': {'url': 'http://172.27.20.120:8001/v1/ranking',\n",
      "                                                                                                'model_id': 'nvidia/llama-3.2-nv-rerankqa-1b-v2',\n",
      "                                                                                                'api_key': None,\n",
      "                                                                                                'format': 'nim'},\n",
      "                                                                               'peft': None,\n",
      "                                                                               'prompt': None,\n",
      "                                                                               'guardrails': None},\n",
      "                                                            'top_k': 3},\n",
      "                                               'cached_outputs': None},\n",
      "                                 'model': {'schema_version': '1.0',\n",
      "                                           'id': 'model-fWQ8215bWrwq9sdmSGnno',\n",
      "                                           'description': None,\n",
      "                                           'type_prefix': 'model',\n",
      "                                           'namespace': 'default',\n",
      "                                           'project': None,\n",
      "                                           'created_at': '2025-07-09T16:29:23.468307',\n",
      "                                           'updated_at': '2025-07-09T16:29:23.468307',\n",
      "                                           'custom_fields': {},\n",
      "                                           'ownership': None,\n",
      "                                           'name': 'model-fWQ8215bWrwq9sdmSGnno',\n",
      "                                           'version_id': 'main',\n",
      "                                           'version_tags': [],\n",
      "                                           'spec': None,\n",
      "                                           'artifact': None,\n",
      "                                           'base_model': None,\n",
      "                                           'api_endpoint': {'url': 'http://nim.test/v1/chat/completions',\n",
      "                                                            'model_id': 'meta/llama-3.1-8b-instruct',\n",
      "                                                            'api_key': None,\n",
      "                                                            'format': 'nim'},\n",
      "                                           'peft': None,\n",
      "                                           'prompt': None,\n",
      "                                           'guardrails': None},\n",
      "                                 'context_ordering': 'desc'},\n",
      "                    'cached_outputs': None},\n",
      "            'rows': None,\n",
      "            'dataset': None},\n",
      " 'config': {'schema_version': '1.0',\n",
      "            'id': 'eval-config-7NBFBYfrYxGgcdqo5M7agU',\n",
      "            'description': None,\n",
      "            'type_prefix': 'eval-config',\n",
      "            'namespace': 'nemo-eval-tutorial',\n",
      "            'project': None,\n",
      "            'created_at': '2025-07-09T17:35:11.033333',\n",
      "            'updated_at': '2025-07-09T17:35:11.033334',\n",
      "            'custom_fields': {},\n",
      "            'ownership': None,\n",
      "            'name': 'custom-rag-config',\n",
      "            'type': 'rag',\n",
      "            'params': None,\n",
      "            'tasks': {'rag-beir-task': {'type': 'beir',\n",
      "                                        'params': {'judge_llm': {'api_endpoint': {'url': 'https://integrate.api.nvidia.com/v1/chat/completions',\n",
      "                                                                                  'model_id': 'meta/llama-3.3-70b-instruct',\n",
      "                                                                                  'api_key': '******'}},\n",
      "                                                   'judge_embeddings': {'api_endpoint': {'url': 'https://integrate.api.nvidia.com/v1/embeddings',\n",
      "                                                                                         'model_id': 'nvidia/nv-embedqa-e5-v5',\n",
      "                                                                                         'api_key': '******'}},\n",
      "                                                   'judge_timeout': 300,\n",
      "                                                   'judge_max_retries': 5,\n",
      "                                                   'judge_max_workers': 16},\n",
      "                                        'metrics': {'recall_5': {'type': 'recall_5',\n",
      "                                                                 'params': None},\n",
      "                                                    'ndcg_cut_5': {'type': 'ndcg_cut_5',\n",
      "                                                                   'params': None},\n",
      "                                                    'recall_10': {'type': 'recall_10',\n",
      "                                                                  'params': None},\n",
      "                                                    'ndcg_cut_10': {'type': 'ndcg_cut_10',\n",
      "                                                                    'params': None},\n",
      "                                                    'faithfulness': {'type': 'faithfulness',\n",
      "                                                                     'params': None},\n",
      "                                                    'answer_relevancy': {'type': 'answer_relevancy',\n",
      "                                                                         'params': None}},\n",
      "                                        'dataset': {'schema_version': '1.0',\n",
      "                                                    'id': 'dataset-4LzRVXqd494p5rSG5BeULA',\n",
      "                                                    'description': None,\n",
      "                                                    'type_prefix': None,\n",
      "                                                    'namespace': 'default',\n",
      "                                                    'project': None,\n",
      "                                                    'created_at': '2025-07-09T17:35:11.033156',\n",
      "                                                    'updated_at': '2025-07-09T17:35:11.033158',\n",
      "                                                    'custom_fields': {},\n",
      "                                                    'ownership': None,\n",
      "                                                    'name': 'dataset-4LzRVXqd494p5rSG5BeULA',\n",
      "                                                    'version_id': 'main',\n",
      "                                                    'version_tags': [],\n",
      "                                                    'format': None,\n",
      "                                                    'files_url': 'hf://datasets/nemo-eval-tutorial/rag_custom_data/rag_data',\n",
      "                                                    'hf_endpoint': None,\n",
      "                                                    'split': None,\n",
      "                                                    'limit': None}}},\n",
      "            'groups': None},\n",
      " 'result': None,\n",
      " 'output_files_url': None,\n",
      " 'status_details': {'message': None, 'task_status': {}, 'progress': None},\n",
      " 'status': 'created',\n",
      " 'project': None,\n",
      " 'custom_fields': {},\n",
      " 'ownership': None}\n"
     ]
    }
   ],
   "source": [
    "payload = {\n",
    "    \"namespace\": NMS_NAMESPACE,\n",
    "    \"target\": f\"{NMS_NAMESPACE}/rag-target\",\n",
    "    \"config\": f\"{NMS_NAMESPACE}/custom-rag-config\"\n",
    "}\n",
    "resp = requests.post(job_url, json=payload, headers=headers)\n",
    "custom_rag_eval_job_id = resp.json()[\"id\"]\n",
    "pp(resp.json())"
   ]
  },
  {
   "cell_type": "code",
   "execution_count": 60,
   "id": "bbff7c0c-b4a1-4255-bd75-0344c993c902",
   "metadata": {},
   "outputs": [
    {
     "name": "stdout",
     "output_type": "stream",
     "text": [
      "{'message': 'Job completed successfully',\n",
      " 'task_status': {'rag-beir-task': 'completed'},\n",
      " 'progress': 100.0}\n"
     ]
    }
   ],
   "source": [
    "resp = requests.get(f\"{NEMO_URL}/v1/evaluation/jobs/{custom_rag_eval_job_id}/status\")\n",
    "pp(resp.json())"
   ]
  },
  {
   "cell_type": "code",
   "execution_count": 61,
   "id": "93df7226-f474-4b05-8203-b886db01197a",
   "metadata": {},
   "outputs": [
    {
     "name": "stdout",
     "output_type": "stream",
     "text": [
      "{'evaluation': {'scores': {'ndcg_cut_10': {'value': 1.0},\n",
      "                           'recall_10': {'value': 1.0},\n",
      "                           'ndcg_cut_5': {'value': 1.0},\n",
      "                           'recall_5': {'value': 1.0},\n",
      "                           'faithfulness': {'value': 0.804586038961039},\n",
      "                           'answer_relevancy': {'value': 0.5430273571543547}}}}\n"
     ]
    }
   ],
   "source": [
    "resp = requests.get(f\"{NEMO_URL}/v1/evaluation/jobs/{custom_rag_eval_job_id}/results\")\n",
    "pp(resp.json()['groups']['evaluation']['metrics'])"
   ]
  },
  {
   "cell_type": "code",
   "execution_count": null,
   "id": "b8ba9c56-5187-4b33-9b9b-284c9ddfcfa0",
   "metadata": {},
   "outputs": [],
   "source": []
  }
 ],
 "metadata": {
  "kernelspec": {
   "display_name": "Python 3 (ipykernel)",
   "language": "python",
   "name": "python3"
  },
  "language_info": {
   "codemirror_mode": {
    "name": "ipython",
    "version": 3
   },
   "file_extension": ".py",
   "mimetype": "text/x-python",
   "name": "python",
   "nbconvert_exporter": "python",
   "pygments_lexer": "ipython3",
   "version": "3.10.12"
  }
 },
 "nbformat": 4,
 "nbformat_minor": 5
}
