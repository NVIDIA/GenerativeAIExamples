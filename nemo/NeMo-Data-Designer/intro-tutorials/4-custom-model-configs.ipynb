{
 "cells": [
  {
   "cell_type": "markdown",
   "metadata": {},
   "source": [
    "# 🎨 NeMo Data Designer 101: Using Custom Model Configurations\n",
    "\n",
    "> ⚠️ **Warning**: NeMo Data Designer is current in Early Release and is not recommended for production use.\n",
    ">\n",
    "> **Note**: In order to run this notebook, you must have the NeMo Data Designer microservice deployed locally via docker compose. See the [deployment guide](http://docs.nvidia.com/nemo/microservices/latest/set-up/deploy-as-microservices/data-designer/docker-compose.html) for more details.\n",
    "\n",
    "<br>\n",
    "\n",
    "In this notebook, we will see how to create and use custom model configurations in Data Designer.\n",
    "\n",
    "If this is your first time using Data Designer, we recommend starting with the [first notebook](./1-the-basics.ipynb) in this 101 series."
   ]
  },
  {
   "cell_type": "markdown",
   "metadata": {},
   "source": [
    "#### 💾 Install dependencies\n",
    "\n",
    "**IMPORTANT** 👉 If you haven't already, follow the instructions in the [README](../README.md) to install the necessary dependencies. Note you may need to restart your kernel after setting up the environment.\n"
   ]
  },
  {
   "cell_type": "code",
   "execution_count": null,
   "metadata": {},
   "outputs": [],
   "source": [
    "import os\n",
    "from getpass import getpass\n",
    "\n",
    "from nemo_microservices import NeMoMicroservices\n",
    "from nemo_microservices.beta.data_designer import (\n",
    "    DataDesignerConfigBuilder,\n",
    "    DataDesignerClient,\n",
    ")\n",
    "from nemo_microservices.beta.data_designer.config import columns as C\n",
    "from nemo_microservices.beta.data_designer.config import params as P"
   ]
  },
  {
   "cell_type": "markdown",
   "metadata": {},
   "source": [
    "### ⚙️ Initialize the NeMo Data Designer Client\n",
    "\n",
    "- The data designer client is responsible for submitting generation requests to the Data Designer microservice.\n",
    "- In this notebook, we connect to the [managed service of data designer](https://build.nvidia.com/nemo/data-designer). Alternatively, you can connect to your own instance of data designer by following the deployment instructions [here](https://docs.nvidia.com/nemo/microservices/latest/set-up/deploy-as-microservices/data-designer/docker-compose.html).\n",
    "- If you have an instance of data designer running locally, you can connect to it as follows\n",
    "\n",
    "    ```python\n",
    "    data_designer_client = DataDesignerClient(client=NeMoMicroservices(base_url=\"http://localhost:8080\"))\n",
    "    ```\n"
   ]
  },
  {
   "cell_type": "code",
   "execution_count": null,
   "metadata": {},
   "outputs": [],
   "source": [
    "# if using the managed service of data designer, provide the api key here\n",
    "api_key = getpass(\"Enter data designer API key: \")\n",
    "\n",
    "if len(api_key) > 0:\n",
    "    print(\"✅ API key received.\")\n",
    "else:\n",
    "    print(\"❌ No API key provided. Please enter your model provider API key.\")"
   ]
  },
  {
   "cell_type": "code",
   "execution_count": null,
   "metadata": {},
   "outputs": [],
   "source": [
    "data_designer_client = DataDesignerClient(\n",
    "    client=NeMoMicroservices(\n",
    "            base_url=\"https://ai.api.nvidia.com/v1/nemo/dd\",\n",
    "            default_headers={\"Authorization\": f\"Bearer {api_key}\"} # auto-generated API KEY\n",
    "    )\n",
    ")"
   ]
  },
  {
   "cell_type": "markdown",
   "metadata": {},
   "source": [
    "### 🏗️ Initialize the Data Designer Config Builder\n",
    "\n",
    "- The Data Designer config defines the dataset schema and generation process.\n",
    "\n",
    "- The config builder provides an intuitive interface for building this configuration.\n",
    "\n",
    "- You must provide a list of model configs to the builder at initialization.\n",
    "\n",
    "- This list contains the models you can choose from (via the `model_alias` argument) during the generation process.\n"
   ]
  },
  {
   "cell_type": "code",
   "execution_count": null,
   "metadata": {},
   "outputs": [],
   "source": [
    "# build.nvidia.com model endpoint\n",
    "model_id = \"nvidia/nvidia-nemotron-nano-9b-v2\"\n",
    "model_alias_static_temp = \"nemotron-nano-v2_static_temp\"\n",
    "model_alias_variable_temp = \"nemotron-nano-v2_variable_temp\""
   ]
  },
  {
   "cell_type": "markdown",
   "metadata": {},
   "source": [
    "## ⚙️ Custom Model Configurations\n",
    "\n",
    "- In the previous notebooks, we've seen how we can reference a model using the model alias and pass static inference hyperparameters \n",
    "\n",
    "- In this notebook, we will see how we can sample values from a distribution to set as our temperature value. \n",
    "This will result in greater diversity in our generated data as a different temperature value will be used each time the LLM is called"
   ]
  },
  {
   "cell_type": "code",
   "execution_count": null,
   "metadata": {},
   "outputs": [],
   "source": [
    "config_builder = DataDesignerConfigBuilder(\n",
    "    model_configs = [\n",
    "        P.ModelConfig(\n",
    "            alias=model_alias_static_temp,\n",
    "            model=model_id,\n",
    "            inference_parameters=P.InferenceParameters(\n",
    "                max_tokens=1024,\n",
    "                temperature=0.0,\n",
    "                top_p=0.95,\n",
    "                timeout=120\n",
    "            ),\n",
    "            is_reasoner=True\n",
    "        ),\n",
    "        P.ModelConfig(\n",
    "            alias=model_alias_variable_temp,\n",
    "            model=model_id,\n",
    "            inference_parameters=P.InferenceParameters(\n",
    "                max_tokens=1024,\n",
    "                temperature=P.UniformDistribution(\n",
    "                    params=P.UniformDistributionParams(\n",
    "                        low=0.5,\n",
    "                        high=0.9\n",
    "                    )\n",
    "                ),\n",
    "                top_p=0.95,\n",
    "                timeout=120\n",
    "            ),\n",
    "            is_reasoner=True\n",
    "        ),\n",
    "    ]\n",
    ")"
   ]
  },
  {
   "cell_type": "markdown",
   "metadata": {},
   "source": [
    "## 🧑‍🎨 Generating our Data\n",
    "\n",
    "- We follow a similar procedure to generate our product review dataset as we did in the the [basics tutorial](./1-the-basics.ipynb)\n",
    "\n",
    "- The one difference is that we generate multiple samples of the LLM generated columns to demonstrate the difference in generation outputs due to different temperature values\n"
   ]
  },
  {
   "cell_type": "code",
   "execution_count": null,
   "metadata": {},
   "outputs": [],
   "source": [
    "config_builder.add_column(\n",
    "    C.SamplerColumn(\n",
    "        name=\"product_category\",\n",
    "        type=P.SamplerType.CATEGORY,\n",
    "        params=P.CategorySamplerParams(\n",
    "            values=[\n",
    "                \"Electronics\",\n",
    "                \"Clothing\",\n",
    "                \"Home & Kitchen\",\n",
    "                \"Books\",\n",
    "                \"Home Office\",\n",
    "            ],\n",
    "        ),\n",
    "    )\n",
    ")\n",
    "\n",
    "config_builder.add_column(\n",
    "    C.SamplerColumn(\n",
    "        name=\"product_subcategory\",\n",
    "        type=P.SamplerType.SUBCATEGORY,\n",
    "        params=P.SubcategorySamplerParams(\n",
    "            category=\"product_category\",\n",
    "            values={\n",
    "                \"Electronics\": [\n",
    "                    \"Smartphones\",\n",
    "                    \"Laptops\",\n",
    "                    \"Headphones\",\n",
    "                    \"Cameras\",\n",
    "                    \"Accessories\",\n",
    "                ],\n",
    "                \"Clothing\": [\n",
    "                    \"Men's Clothing\",\n",
    "                    \"Women's Clothing\",\n",
    "                    \"Winter Coats\",\n",
    "                    \"Activewear\",\n",
    "                    \"Accessories\",\n",
    "                ],\n",
    "                \"Home & Kitchen\": [\n",
    "                    \"Appliances\",\n",
    "                    \"Cookware\",\n",
    "                    \"Furniture\",\n",
    "                    \"Decor\",\n",
    "                    \"Organization\",\n",
    "                ],\n",
    "                \"Books\": [\n",
    "                    \"Fiction\",\n",
    "                    \"Non-Fiction\",\n",
    "                    \"Self-Help\",\n",
    "                    \"Textbooks\",\n",
    "                    \"Classics\",\n",
    "                ],\n",
    "                \"Home Office\": [\n",
    "                    \"Desks\",\n",
    "                    \"Chairs\",\n",
    "                    \"Storage\",\n",
    "                    \"Office Supplies\",\n",
    "                    \"Lighting\",\n",
    "                ],\n",
    "            },\n",
    "        ),\n",
    "    )\n",
    ")\n",
    "\n",
    "config_builder.add_column(\n",
    "    C.SamplerColumn(\n",
    "        name=\"target_age_range\",\n",
    "        type=P.SamplerType.CATEGORY,\n",
    "        params=P.CategorySamplerParams(\n",
    "            values=[\"18-25\", \"25-35\", \"35-50\", \"50-65\", \"65+\"]\n",
    "        ),\n",
    "    )\n",
    ")\n",
    "\n",
    "# Optionally validate that the columns are configured correctly.\n",
    "config_builder.validate()\n"
   ]
  },
  {
   "cell_type": "markdown",
   "metadata": {},
   "source": [
    "Next, let's add samplers to generate data related to the customer and their review.\n"
   ]
  },
  {
   "cell_type": "code",
   "execution_count": null,
   "metadata": {},
   "outputs": [],
   "source": [
    "# This column will sample synthetic person data based on statistics from the US Census.\n",
    "config_builder.add_column(\n",
    "    C.SamplerColumn(\n",
    "        name=\"customer\",\n",
    "        type=P.SamplerType.PERSON,\n",
    "        params=P.PersonSamplerParams(age_range=[18, 70]),\n",
    "    )\n",
    ")\n",
    "\n",
    "config_builder.add_column(\n",
    "    C.SamplerColumn(\n",
    "        name=\"number_of_stars\",\n",
    "        type=P.SamplerType.UNIFORM,\n",
    "        params=P.UniformSamplerParams(low=1, high=5),\n",
    "        convert_to=\"int\",\n",
    "    )\n",
    ")\n",
    "\n",
    "config_builder.add_column(\n",
    "    C.SamplerColumn(\n",
    "        name=\"review_style\",\n",
    "        type=P.SamplerType.CATEGORY,\n",
    "        params=P.CategorySamplerParams(\n",
    "            values=[\"rambling\", \"brief\", \"detailed\", \"structured with bullet points\"],\n",
    "            weights=[1, 2, 2, 1],\n",
    "        ),\n",
    "    )\n",
    ")\n",
    "\n",
    "config_builder.validate()"
   ]
  },
  {
   "cell_type": "markdown",
   "metadata": {},
   "source": [
    "## 🦜 LLM-generated columns\n",
    "\n",
    "- We generate three sets of the LLM-generated columns to demonstrate the difference in output based on different temperature values"
   ]
  },
  {
   "cell_type": "code",
   "execution_count": null,
   "metadata": {},
   "outputs": [],
   "source": [
    "config_builder.add_column(\n",
    "    C.LLMTextColumn(\n",
    "        name=\"product_name\",\n",
    "        prompt=(\n",
    "            \"Come up with a creative product name for a product in the '{{ product_category }}' category, focusing \"\n",
    "            \"on products related to '{{ product_subcategory }}'. The target age range of the ideal customer is \"\n",
    "            \"{{ target_age_range }} years old. Respond with only the product name, no other text.\"\n",
    "        ),\n",
    "        # This is optional, but it can be useful for controlling the behavior of the LLM. Do not include instructions\n",
    "        # related to output formatting in the system prompt, as Data Designer handles this based on the column type.\n",
    "        system_prompt=(\n",
    "            \"You are a helpful assistant that generates product names. You respond with only the product name, \"\n",
    "            \"no other text. You do NOT add quotes around the product name. \"\n",
    "        ),\n",
    "        model_alias=model_alias_static_temp,\n",
    "    )\n",
    ")\n",
    "\n",
    "config_builder.add_column(\n",
    "    C.LLMTextColumn(\n",
    "        name=\"customer_review_base\",\n",
    "        prompt=(\n",
    "            \"You are a customer named {{ customer.first_name }} from {{ customer.city }}, {{ customer.state }}. \"\n",
    "            \"You are {{ customer.age }} years old and recently purchased a product called {{ product_name }}. \"\n",
    "            \"Write a review of this product, which you gave a rating of {{ number_of_stars }} stars. \"\n",
    "            \"The style of the review should be '{{ review_style }}'. \"\n",
    "        ),\n",
    "        model_alias=model_alias_static_temp,\n",
    "    )\n",
    ")\n",
    "\n",
    "\n",
    "config_builder.add_column(\n",
    "    C.LLMTextColumn(\n",
    "        name=\"customer_review_set_2\",\n",
    "        prompt=(\n",
    "            \"You are a customer named {{ customer.first_name }} from {{ customer.city }}, {{ customer.state }}. \"\n",
    "            \"You are {{ customer.age }} years old and recently purchased a product called {{ product_name }}. \"\n",
    "            \"Write a review of this product, which you gave a rating of {{ number_of_stars }} stars. \"\n",
    "            \"The style of the review should be '{{ review_style }}'. \"\n",
    "        ),\n",
    "        model_alias=model_alias_variable_temp,\n",
    "    )\n",
    ")\n",
    "\n",
    "config_builder.add_column(\n",
    "    C.LLMTextColumn(\n",
    "        name=\"customer_review_set_3\",\n",
    "        prompt=(\n",
    "            \"You are a customer named {{ customer.first_name }} from {{ customer.city }}, {{ customer.state }}. \"\n",
    "            \"You are {{ customer.age }} years old and recently purchased a product called {{ product_name }}. \"\n",
    "            \"Write a review of this product, which you gave a rating of {{ number_of_stars }} stars. \"\n",
    "            \"The style of the review should be '{{ review_style }}'. \"\n",
    "        ),\n",
    "        model_alias=model_alias_variable_temp,\n",
    "    )\n",
    ")\n",
    "\n",
    "config_builder.validate()"
   ]
  },
  {
   "cell_type": "markdown",
   "metadata": {},
   "source": [
    "## 👀 Preview the dataset\n",
    "\n",
    "- Use the `preview` method to generate 10 records for inspection.\n"
   ]
  },
  {
   "cell_type": "code",
   "execution_count": null,
   "metadata": {},
   "outputs": [],
   "source": [
    "preview = data_designer_client.preview(config_builder, num_records=3, verbose_logging=True)"
   ]
  },
  {
   "cell_type": "code",
   "execution_count": null,
   "metadata": {},
   "outputs": [],
   "source": [
    "# Run this cell multiple times to cycle through the 10 preview records.\n",
    "preview.display_sample_record()"
   ]
  },
  {
   "cell_type": "code",
   "execution_count": null,
   "metadata": {},
   "outputs": [],
   "source": [
    "# The preview dataset is available as a pandas DataFrame.\n",
    "preview.dataset"
   ]
  }
 ],
 "metadata": {
  "colab": {
   "provenance": []
  },
  "kernelspec": {
   "display_name": "sdg_venv",
   "language": "python",
   "name": "python3"
  },
  "language_info": {
   "codemirror_mode": {
    "name": "ipython",
    "version": 3
   },
   "file_extension": ".py",
   "mimetype": "text/x-python",
   "name": "python",
   "nbconvert_exporter": "python",
   "pygments_lexer": "ipython3",
   "version": "3.12.11"
  }
 },
 "nbformat": 4,
 "nbformat_minor": 0
}
