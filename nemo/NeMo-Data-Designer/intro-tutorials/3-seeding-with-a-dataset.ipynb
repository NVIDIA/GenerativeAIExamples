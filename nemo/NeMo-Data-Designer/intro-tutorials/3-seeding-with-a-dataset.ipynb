{
 "cells": [
  {
   "cell_type": "markdown",
   "metadata": {},
   "source": [
    "# 🎨 NeMo Data Designer 101: Seeding Synthetic Data Generation with an External Dataset\n",
    "\n",
    "> ⚠️ **Warning**: NeMo Data Designer is current in Early Release and is not recommended for production use.\n",
    ">\n",
    "> **Note**: In order to run this notebook, you must have the NeMo Data Designer microservice deployed locally via docker compose. See the [deployment guide](http://docs.nvidia.com/nemo/microservices/latest/set-up/deploy-as-microservices/data-designer/docker-compose.html) for more details.\n",
    "\n",
    "<br>\n",
    "\n",
    "In this notebook, we will demonstrate how to seed synthetic data generation in Data Designer with an external dataset.\n",
    "\n",
    "If this is your first time using Data Designer, we recommend starting with the [first notebook](./1-the-basics.ipynb) in this 101 series."
   ]
  },
  {
   "cell_type": "markdown",
   "metadata": {},
   "source": [
    "#### 💾 Install dependencies\n",
    "\n",
    "**IMPORTANT** 👉 If you haven't already, follow the instructions in the [README](../README.md) to install the necessary dependencies. Note you may need to restart your kernel after setting up the environment.\n"
   ]
  },
  {
   "cell_type": "code",
   "execution_count": null,
   "metadata": {},
   "outputs": [],
   "source": [
    "from getpass import getpass\n",
    "\n",
    "from nemo_microservices import NeMoMicroservices\n",
    "from nemo_microservices.beta.data_designer import (\n",
    "    DataDesignerConfigBuilder,\n",
    "    DataDesignerClient,\n",
    ")\n",
    "\n",
    "from nemo_microservices.beta.data_designer.config import columns as C\n",
    "from nemo_microservices.beta.data_designer.config import params as P"
   ]
  },
  {
   "cell_type": "markdown",
   "metadata": {},
   "source": [
    "### ⚙️ Initialize the NeMo Data Designer (NDD) Client\n",
    "\n",
    "- The NDD client is responsible for submitting generation requests to the Data Designer microservice.\n",
    "- In this notebook, we connect to the [managed service of data designer](https://build.nvidia.com/nemo/data-designer). Alternatively, you can connect to your own instance of data designer by following the deployment instructions [here](https://docs.nvidia.com/nemo/microservices/latest/set-up/deploy-as-microservices/data-designer/docker-compose.html).\n",
    "- If you have an instance of data designer running locally, you can connect to it as follows\n",
    "\n",
    "    ```python\n",
    "    data_designer_client = DataDesignerClient(client=NeMoMicroservices(base_url=\"http://localhost:8080\"))\n",
    "    ```\n"
   ]
  },
  {
   "cell_type": "code",
   "execution_count": null,
   "metadata": {},
   "outputs": [],
   "source": [
    "# if using the managed service of data designer, provide the api key here\n",
    "api_key = getpass(\"Enter data designer API key: \")\n",
    "\n",
    "if len(api_key) > 0:\n",
    "    print(\"✅ API key received.\")\n",
    "else:\n",
    "    print(\"❌ No API key provided. Please enter your model provider API key.\")"
   ]
  },
  {
   "cell_type": "code",
   "execution_count": null,
   "metadata": {},
   "outputs": [],
   "source": [
    "data_designer_client = DataDesignerClient(\n",
    "    client=NeMoMicroservices(\n",
    "            base_url=\"https://ai.api.nvidia.com/v1/nemo/dd\",\n",
    "            default_headers={\"Authorization\": f\"Bearer {api_key}\"} # auto-generated API KEY\n",
    "    )\n",
    ")"
   ]
  },
  {
   "cell_type": "markdown",
   "metadata": {},
   "source": [
    "### 🏗️ Initialize the Data Designer Config Builder\n",
    "\n",
    "- The Data Designer config defines the dataset schema and generation process.\n",
    "\n",
    "- The config builder provides an intuitive interface for building this configuration.\n",
    "\n",
    "- You must provide a list of model configs to the builder at initialization.\n",
    "\n",
    "- This list contains the models you can choose from (via the `model_alias` argument) during the generation process.\n"
   ]
  },
  {
   "cell_type": "markdown",
   "metadata": {},
   "source": [
    "**Note**: \n",
    "The NeMo Data Designer Managed service has models available for you to use as well. You can use these models by referencing the appropriate model_alias for them.\n",
    "\n",
    "Please visit https://build.nvidia.com/nemo/data-designer to see the full list of models and their model aliases."
   ]
  },
  {
   "cell_type": "code",
   "execution_count": null,
   "metadata": {},
   "outputs": [],
   "source": [
    "model_alias = \"nemotron-nano-v2\""
   ]
  },
  {
   "cell_type": "code",
   "execution_count": null,
   "metadata": {},
   "outputs": [],
   "source": [
    "config_builder = DataDesignerConfigBuilder()"
   ]
  },
  {
   "cell_type": "markdown",
   "metadata": {},
   "source": [
    "## 🏥 Download a seed dataset\n",
    "\n",
    "- For this notebook, we'll change gears and create a synthetic dataset of patient notes.\n",
    "\n",
    "- To steer the generation process, we will use an open-source [symptom-to-diagnosis dataset](https://huggingface.co/datasets/gretelai/symptom_to_diagnosis).\n",
    "\n",
    "- In this dataset, the `input_text` represents the `patient_summary` and the `output_text` represents the `diagnosis`\n",
    "\n",
    "**Note**: At this time, we only support using a single file as the seed. If you have multiple files you would like to use as seeds, it is recommended you consolidated these into a single file. \n"
   ]
  },
  {
   "cell_type": "code",
   "execution_count": null,
   "metadata": {},
   "outputs": [],
   "source": [
    "# The repo_id and filename arguments follow the Hugging Face Hub API format.\n",
    "# Passing the dataset_path argument signals that we need to upload the dataset\n",
    "# to the datastore. Note we need to pass in the datastore's endpoint, which\n",
    "# must match the endpoint in the docker-compose file.\n",
    "config_builder.with_seed_dataset(\n",
    "    repo_id=\"gretelai/symptom_to_diagnosis\",\n",
    "    filename=\"train.jsonl\",\n",
    "    sampling_strategy=\"shuffle\",\n",
    "    with_replacement=False,\n",
    "    datastore={\"endpoint\": \"https://huggingface.co\"}\n",
    ")"
   ]
  },
  {
   "cell_type": "markdown",
   "metadata": {},
   "source": [
    "## 🎨 Designing our synthetic patient notes dataset\n",
    "\n",
    "- We set the seed dataset using the `with_seed_dataset` method.\n",
    "\n",
    "- We use the `shuffle` sampling strategy, which shuffles the seed dataset before sampling.\n",
    "\n",
    "- We set `with_replacement=False`, which limits our max number of records to 853, which is the number of records in the seed dataset.\n"
   ]
  },
  {
   "cell_type": "code",
   "execution_count": null,
   "metadata": {},
   "outputs": [],
   "source": [
    "# Since we often just want a few attributes from Person objects, we can use\n",
    "# Data Designer's `with_person_samplers` method to create multiple person samplers\n",
    "# at once and drop the person object columns from the final dataset.\n",
    "\n",
    "# Empty dictionaries mean use default settings for the person samplers.\n",
    "config_builder.with_person_samplers({\"patient_sampler\": {}, \"doctor_sampler\": {}})"
   ]
  },
  {
   "cell_type": "code",
   "execution_count": null,
   "metadata": {},
   "outputs": [],
   "source": [
    "# Here we demonstrate how you can add a column by calling `add_column` with the\n",
    "# column name, column type, and any parameters for that column type. This is in\n",
    "# contrast to using the column and parameter type objects, via `C` and `P`, as we\n",
    "# did in the previous notebooks. Generally, we recommend using the concrete column\n",
    "# and parameter type objects, but this is a convenient shorthand when you are\n",
    "# familiar with the required arguments for each type.\n",
    "\n",
    "config_builder.add_column(\n",
    "    name=\"patient_id\",\n",
    "    type=\"uuid\",\n",
    "    params={\"prefix\": \"PT-\", \"short_form\": True, \"uppercase\": True},\n",
    ")\n",
    "\n",
    "config_builder.add_column(\n",
    "    name=\"first_name\",\n",
    "    type=\"expression\",\n",
    "    expr=\"{{ patient_sampler.first_name}} \",\n",
    ")\n",
    "\n",
    "config_builder.add_column(\n",
    "    name=\"last_name\",\n",
    "    type=\"expression\",\n",
    "    expr=\"{{ patient_sampler.last_name }}\",\n",
    ")\n",
    "\n",
    "\n",
    "config_builder.add_column(\n",
    "    name=\"dob\", type=\"expression\", expr=\"{{ patient_sampler.birth_date }}\"\n",
    ")\n",
    "\n",
    "\n",
    "config_builder.add_column(\n",
    "    name=\"patient_email\",\n",
    "    type=\"expression\",\n",
    "    expr=\"{{ patient_sampler.email_address }}\",\n",
    ")\n",
    "\n",
    "\n",
    "config_builder.add_column(\n",
    "    name=\"symptom_onset_date\",\n",
    "    type=\"datetime\",\n",
    "    params={\"start\": \"2024-01-01\", \"end\": \"2024-12-31\"},\n",
    ")\n",
    "\n",
    "config_builder.add_column(\n",
    "    name=\"date_of_visit\",\n",
    "    type=\"timedelta\",\n",
    "    params={\"dt_min\": 1, \"dt_max\": 30, \"reference_column_name\": \"symptom_onset_date\"},\n",
    ")\n",
    "\n",
    "config_builder.add_column(\n",
    "    name=\"physician\",\n",
    "    type=\"expression\",\n",
    "    expr=\"Dr. {{ doctor_sampler.last_name }}\",\n",
    ")\n",
    "\n",
    "# Note we have access to the seed data fields.\n",
    "config_builder.add_column(\n",
    "    name=\"physician_notes\",\n",
    "    prompt=\"\"\"\\\n",
    "You are a primary-care physician who just had an appointment with {{ first_name }} {{ last_name }},\n",
    "who has been struggling with symptoms from {{ output_text }} since {{ symptom_onset_date }}.\n",
    "The date of today's visit is {{ date_of_visit }}.\n",
    "\n",
    "{{ input_text }}\n",
    "\n",
    "Write careful notes about your visit with {{ first_name }},\n",
    "as Dr. {{ doctor_sampler.first_name }} {{ doctor_sampler.last_name }}.\n",
    "\n",
    "Format the notes as a busy doctor might.\n",
    "\"\"\",\n",
    "    model_alias=model_alias,\n",
    ")\n",
    "\n",
    "config_builder.validate()"
   ]
  },
  {
   "cell_type": "markdown",
   "metadata": {},
   "source": [
    "## 👀 Preview the dataset\n",
    "\n",
    "- Iteration is key to generating high-quality synthetic data.\n",
    "\n",
    "- Use the `preview` method to generate 10 records for inspection.\n"
   ]
  },
  {
   "cell_type": "code",
   "execution_count": null,
   "metadata": {},
   "outputs": [],
   "source": [
    "preview = data_designer_client.preview(config_builder, num_records=2, verbose_logging=True)"
   ]
  },
  {
   "cell_type": "code",
   "execution_count": null,
   "metadata": {},
   "outputs": [],
   "source": [
    "# Run this cell multiple times to cycle through the 10 preview records.\n",
    "preview.display_sample_record()"
   ]
  },
  {
   "cell_type": "code",
   "execution_count": null,
   "metadata": {},
   "outputs": [],
   "source": [
    "# The preview dataset is available as a pandas DataFrame.\n",
    "preview.dataset"
   ]
  },
  {
   "cell_type": "markdown",
   "metadata": {},
   "source": [
    "## ⏭️ Next Steps\n",
    "\n",
    "Check out the following notebooks to learn more about:\n",
    "\n",
    "- [Using Custom Model Configs](./4-custom-model-configs.ipynb)\n"
   ]
  }
 ],
 "metadata": {
  "kernelspec": {
   "display_name": "sdg_venv",
   "language": "python",
   "name": "python3"
  },
  "language_info": {
   "codemirror_mode": {
    "name": "ipython",
    "version": 3
   },
   "file_extension": ".py",
   "mimetype": "text/x-python",
   "name": "python",
   "nbconvert_exporter": "python",
   "pygments_lexer": "ipython3",
   "version": "3.12.11"
  }
 },
 "nbformat": 4,
 "nbformat_minor": 2
}
