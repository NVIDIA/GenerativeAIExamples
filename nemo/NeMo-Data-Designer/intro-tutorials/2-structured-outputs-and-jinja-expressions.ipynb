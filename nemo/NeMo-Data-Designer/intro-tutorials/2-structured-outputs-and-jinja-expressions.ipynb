{
 "cells": [
  {
   "cell_type": "markdown",
   "metadata": {},
   "source": [
    "# 🎨 NeMo Data Designer 101: Structured Outputs and Jinja Expressions\n",
    "\n",
    "> ⚠️ **Warning**: NeMo Data Designer is current in Early Release and is not recommended for production use.\n",
    ">\n",
    "> **Note**: In order to run this notebook, you must have the NeMo Data Designer microservice deployed locally via docker compose. See the [deployment guide](http://docs.nvidia.com/nemo/microservices/latest/set-up/deploy-as-microservices/data-designer/docker-compose.html) for more details.\n",
    "\n",
    "<br>\n",
    "\n",
    "In this notebook, we will continue our exploration of Data Designer, demonstrating more advanced data generation using structured outputs and Jinja expressions.\n",
    "\n",
    "If this is your first time using Data Designer, we recommend starting with the [first notebook](./1-the-basics.ipynb) in this 101 series."
   ]
  },
  {
   "cell_type": "markdown",
   "metadata": {},
   "source": [
    "#### 💾 Install dependencies\n",
    "\n",
    "**IMPORTANT** 👉 If you haven't already, follow the instructions in the [README](../README.md) to install the necessary dependencies. Note you may need to restart your kernel after setting up the environment.\n"
   ]
  },
  {
   "cell_type": "code",
   "execution_count": null,
   "metadata": {},
   "outputs": [],
   "source": [
    "from getpass import getpass\n",
    "\n",
    "from nemo_microservices import NeMoMicroservices\n",
    "from nemo_microservices.beta.data_designer import (\n",
    "    DataDesignerConfigBuilder,\n",
    "    DataDesignerClient,\n",
    ")\n",
    "from nemo_microservices.beta.data_designer.config import columns as C\n",
    "from nemo_microservices.beta.data_designer.config import params as P"
   ]
  },
  {
   "cell_type": "markdown",
   "metadata": {},
   "source": [
    "### ⚙️ Initialize the NeMo Data Designer Client\n",
    "\n",
    "- The data designer client is responsible for submitting generation requests to the Data Designer microservice.\n",
    "- In this notebook, we connect to the [managed service of data designer](https://build.nvidia.com/nemo/data-designer). Alternatively, you can connect to your own instance of data designer by following the deployment instructions [here](https://docs.nvidia.com/nemo/microservices/latest/set-up/deploy-as-microservices/data-designer/docker-compose.html).\n",
    "- If you have an instance of data designer running locally, you can connect to it as follows\n",
    "\n",
    "    ```python\n",
    "    data_designer_client = DataDesignerClient(client=NeMoMicroservices(base_url=\"http://localhost:8080\"))\n",
    "    ```\n"
   ]
  },
  {
   "cell_type": "code",
   "execution_count": null,
   "metadata": {},
   "outputs": [],
   "source": [
    "# if using the managed service of data designer, provide the api key here\n",
    "api_key = getpass(\"Enter data designer API key: \")\n",
    "\n",
    "if len(api_key) > 0:\n",
    "    print(\"✅ API key received.\")\n",
    "else:\n",
    "    print(\"❌ No API key provided. Please enter your model provider API key.\")"
   ]
  },
  {
   "cell_type": "code",
   "execution_count": null,
   "metadata": {},
   "outputs": [],
   "source": [
    "data_designer_client = DataDesignerClient(\n",
    "    client=NeMoMicroservices(\n",
    "            base_url=\"https://ai.api.nvidia.com/v1/nemo/dd\",\n",
    "            default_headers={\"Authorization\": f\"Bearer {api_key}\"} # auto-generated API KEY\n",
    "    )\n",
    ")"
   ]
  },
  {
   "cell_type": "markdown",
   "metadata": {},
   "source": [
    "### 🏗️ Initialize the Data Designer Config Builder\n",
    "\n",
    "- The Data Designer config defines the dataset schema and generation process.\n",
    "\n",
    "- The config builder provides an intuitive interface for building this configuration.\n",
    "\n",
    "- You must provide a list of model configs to the builder at initialization.\n",
    "\n",
    "- This list contains the models you can choose from (via the `model_alias` argument) during the generation process.\n"
   ]
  },
  {
   "cell_type": "markdown",
   "metadata": {},
   "source": [
    "**Note**: \n",
    "The NeMo Data Designer Managed service has models available for you to use as well. You can use these models by referencing the appropriate model_alias for them.\n",
    "\n",
    "Please visit https://build.nvidia.com/nemo/data-designer to see the full list of models and their model aliases."
   ]
  },
  {
   "cell_type": "code",
   "execution_count": null,
   "metadata": {},
   "outputs": [],
   "source": [
    "model_alias = \"nemotron-nano-v2\""
   ]
  },
  {
   "cell_type": "code",
   "execution_count": null,
   "metadata": {},
   "outputs": [],
   "source": [
    "config_builder = DataDesignerConfigBuilder()"
   ]
  },
  {
   "cell_type": "markdown",
   "metadata": {},
   "source": [
    "## 🧑‍🎨 Designing our data\n",
    "\n",
    "- We will again create a product review dataset, but this time we will use structured outputs and Jinja expressions.\n",
    "\n",
    "- Structured outputs let you specify the exact schema of the data you want to generate.\n",
    "\n",
    "- Data Designer supports schemas specified using either json schema or Pydantic data models (recommended).\n",
    "\n",
    "<br>\n",
    "\n",
    "We'll define our structured outputs using Pydantic data models:\n"
   ]
  },
  {
   "cell_type": "code",
   "execution_count": null,
   "metadata": {},
   "outputs": [],
   "source": [
    "from decimal import Decimal\n",
    "from typing import Literal\n",
    "from pydantic import BaseModel, Field\n",
    "\n",
    "\n",
    "# We define a Product schema so that the name, description, and price are generated\n",
    "# in one go, with the types and constraints specified.\n",
    "class Product(BaseModel):\n",
    "    name: str = Field(description=\"The name of the product\")\n",
    "    description: str = Field(description=\"A description of the product\")\n",
    "    price: Decimal = Field(\n",
    "        description=\"The price of the product\", ge=10, le=1000, decimal_places=2\n",
    "    )\n",
    "\n",
    "\n",
    "class ProductReview(BaseModel):\n",
    "    rating: int = Field(description=\"The rating of the product\", ge=1, le=5)\n",
    "    customer_mood: Literal[\"irritated\", \"mad\", \"happy\", \"neutral\", \"excited\"] = Field(\n",
    "        description=\"The mood of the customer\"\n",
    "    )\n",
    "    review: str = Field(description=\"A review of the product\")"
   ]
  },
  {
   "cell_type": "markdown",
   "metadata": {},
   "source": [
    "Next, let's design our product review dataset using a few more tricks compared to the previous notebook:\n"
   ]
  },
  {
   "cell_type": "code",
   "execution_count": null,
   "metadata": {},
   "outputs": [],
   "source": [
    "# Since we often just want a few attributes from Person objects, we can use\n",
    "# Data Designer's `with_person_samplers` method to create multiple person samplers\n",
    "# at once and drop the person object columns from the final dataset.\n",
    "config_builder.with_person_samplers(\n",
    "    {\"customer\": P.PersonSamplerParams(age_range=[18, 65])}\n",
    ")\n",
    "\n",
    "config_builder.add_column(\n",
    "    C.SamplerColumn(\n",
    "        name=\"product_category\",\n",
    "        type=P.SamplerType.CATEGORY,\n",
    "        params=P.CategorySamplerParams(\n",
    "            values=[\n",
    "                \"Electronics\",\n",
    "                \"Clothing\",\n",
    "                \"Home & Kitchen\",\n",
    "                \"Books\",\n",
    "                \"Home Office\",\n",
    "            ],\n",
    "        ),\n",
    "    )\n",
    ")\n",
    "\n",
    "config_builder.add_column(\n",
    "    C.SamplerColumn(\n",
    "        name=\"product_subcategory\",\n",
    "        type=P.SamplerType.SUBCATEGORY,\n",
    "        params=P.SubcategorySamplerParams(\n",
    "            category=\"product_category\",\n",
    "            values={\n",
    "                \"Electronics\": [\n",
    "                    \"Smartphones\",\n",
    "                    \"Laptops\",\n",
    "                    \"Headphones\",\n",
    "                    \"Cameras\",\n",
    "                    \"Accessories\",\n",
    "                ],\n",
    "                \"Clothing\": [\n",
    "                    \"Men's Clothing\",\n",
    "                    \"Women's Clothing\",\n",
    "                    \"Winter Coats\",\n",
    "                    \"Activewear\",\n",
    "                    \"Accessories\",\n",
    "                ],\n",
    "                \"Home & Kitchen\": [\n",
    "                    \"Appliances\",\n",
    "                    \"Cookware\",\n",
    "                    \"Furniture\",\n",
    "                    \"Decor\",\n",
    "                    \"Organization\",\n",
    "                ],\n",
    "                \"Books\": [\n",
    "                    \"Fiction\",\n",
    "                    \"Non-Fiction\",\n",
    "                    \"Self-Help\",\n",
    "                    \"Textbooks\",\n",
    "                    \"Classics\",\n",
    "                ],\n",
    "                \"Home Office\": [\n",
    "                    \"Desks\",\n",
    "                    \"Chairs\",\n",
    "                    \"Storage\",\n",
    "                    \"Office Supplies\",\n",
    "                    \"Lighting\",\n",
    "                ],\n",
    "            },\n",
    "        ),\n",
    "    )\n",
    ")\n",
    "\n",
    "config_builder.add_column(\n",
    "    C.SamplerColumn(\n",
    "        name=\"target_age_range\",\n",
    "        type=P.SamplerType.CATEGORY,\n",
    "        params=P.CategorySamplerParams(\n",
    "            values=[\"18-25\", \"25-35\", \"35-50\", \"50-65\", \"65+\"]\n",
    "        ),\n",
    "    )\n",
    ")\n",
    "\n",
    "# we can set the weights for the categories to ensure the distribution of values is as expected\n",
    "# we also show how we can we use conditional params to set the values for the sampler if a given condition is met\n",
    "# in this example, we set the review style to rambling if the target age range is 18-25\n",
    "config_builder.add_column(\n",
    "    C.SamplerColumn(\n",
    "        name=\"review_style\",\n",
    "        type=P.SamplerType.CATEGORY,\n",
    "        params=P.CategorySamplerParams(\n",
    "            values=[\"rambling\", \"brief\", \"detailed\", \"structured with bullet points\"],\n",
    "            weights=[1, 2, 2, 1],\n",
    "            conditional_params={\n",
    "                \"target_age_range == '18-25'\": P.CategorySamplerParams(values=[\"rambling\"]),\n",
    "            }\n",
    "        ),\n",
    "    )\n",
    ")\n",
    "\n",
    "# We can create new columns using Jinja expressions that reference\n",
    "# existing columns, including attributes of nested objects.\n",
    "config_builder.add_column(\n",
    "    C.ExpressionColumn(\n",
    "        name=\"customer_name\", expr=\"{{ customer.first_name }} {{ customer.last_name }}\"\n",
    "    )\n",
    ")\n",
    "\n",
    "config_builder.add_column(\n",
    "    C.ExpressionColumn(name=\"customer_age\", expr=\"{{ customer.age }}\")\n",
    ")\n",
    "\n",
    "# Add an `LLMStructuredColumn` column to generate structured outputs.\n",
    "config_builder.add_column(\n",
    "    C.LLMStructuredColumn(\n",
    "        name=\"product\",\n",
    "        prompt=(\n",
    "            \"Create a product in the '{{ product_category }}' category, focusing on products  \"\n",
    "            \"related to '{{ product_subcategory }}'. The target age range of the ideal customer is \"\n",
    "            \"{{ target_age_range }} years old. The product should be priced between $10 and $1000.\"\n",
    "        ),\n",
    "        output_format=Product,\n",
    "        model_alias=model_alias,\n",
    "    )\n",
    ")\n",
    "\n",
    "# Another powerful feature we can use is the ability to use conditional statements in our prompt using Jinja expressions\n",
    "# in this example, we add additional conditions to the prompt based on the target age range\n",
    "config_builder.add_column(\n",
    "    C.LLMStructuredColumn(\n",
    "        name=\"customer_review\",\n",
    "        prompt=(\n",
    "            \"Your task is to write a review for the following product:\\n\\n\"\n",
    "            \"Product Name: {{ product.name }}\\n\"\n",
    "            \"Product Description: {{ product.description }}\\n\"\n",
    "            \"Price: {{ product.price }}\\n\\n\"\n",
    "            \"Imagine your name is {{ customer_name }} and you are from {{ customer.city }}, {{ customer.state }}. \"\n",
    "            \"Write the review in a style that is '{{ review_style }}'.\"\n",
    "            \"{% if target_age_range == '18-25' %}\"\n",
    "            \"Make sure the review is more informal and conversational.\"\n",
    "            \"{% else %}\"\n",
    "            \"Make sure the review is more formal and structured.\"\n",
    "            \"{% endif %}\"\n",
    "        ),\n",
    "        output_format=ProductReview,\n",
    "        model_alias=model_alias,\n",
    "    )\n",
    ")\n",
    "\n",
    "# Let's add an evaluation report to our dataset.\n",
    "config_builder.with_evaluation_report().validate()"
   ]
  },
  {
   "cell_type": "markdown",
   "metadata": {},
   "source": [
    "## 👀 Preview the dataset\n",
    "\n",
    "- Iteration is key to generating high-quality synthetic data.\n",
    "\n",
    "- Use the `preview` method to generate 10 records for inspection.\n",
    "\n",
    "- Setting `verbose_logging=True` prints logs within each task of the generation process.\n"
   ]
  },
  {
   "cell_type": "code",
   "execution_count": null,
   "metadata": {},
   "outputs": [],
   "source": [
    "preview = data_designer_client.preview(config_builder, verbose_logging=True)"
   ]
  },
  {
   "cell_type": "code",
   "execution_count": null,
   "metadata": {},
   "outputs": [],
   "source": [
    "# Run this cell multiple times to cycle through the 10 preview records.\n",
    "preview.display_sample_record()"
   ]
  },
  {
   "cell_type": "code",
   "execution_count": null,
   "metadata": {},
   "outputs": [],
   "source": [
    "# The preview dataset is available as a pandas DataFrame.\n",
    "preview.dataset"
   ]
  },
  {
   "cell_type": "markdown",
   "metadata": {},
   "source": [
    "## ⏭️ Next Steps\n",
    "\n",
    "Check out the following notebooks to learn more about:\n",
    "\n",
    "- [Seeding synthetic data generation with an external dataset](./3-seeding-with-a-dataset.ipynb)\n",
    "\n",
    "- [Using Custom Model Configs](./4-custom-model-configs.ipynb)\n",
    "\n"
   ]
  }
 ],
 "metadata": {
  "kernelspec": {
   "display_name": "sdg_venv",
   "language": "python",
   "name": "python3"
  },
  "language_info": {
   "codemirror_mode": {
    "name": "ipython",
    "version": 3
   },
   "file_extension": ".py",
   "mimetype": "text/x-python",
   "name": "python",
   "nbconvert_exporter": "python",
   "pygments_lexer": "ipython3",
   "version": "3.12.11"
  }
 },
 "nbformat": 4,
 "nbformat_minor": 2
}
