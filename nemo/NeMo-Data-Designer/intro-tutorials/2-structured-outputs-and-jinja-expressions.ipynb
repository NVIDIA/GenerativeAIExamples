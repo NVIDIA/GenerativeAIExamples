{
 "cells": [
  {
   "cell_type": "markdown",
   "metadata": {},
   "source": [
    "# 🎨 NeMo Data Designer 101: Structured Outputs and Jinja Expressions\n",
    "\n",
    "> ⚠️ **Warning**: NeMo Data Designer is current in Early Release and is not recommended for production use.\n",
    ">\n",
    "> **Note**: In order to run this notebook, you must have the NeMo Data Designer microservice deployed locally via docker compose. See the [deployment guide](http://docs.nvidia.com/nemo/microservices/latest/set-up/deploy-as-microservices/data-designer/docker-compose.html) for more details.\n",
    "\n",
    "<br>\n",
    "\n",
    "In this notebook, we will continue our exploration of Data Designer, demonstrating more advanced data generation using structured outputs and Jinja expressions.\n",
    "\n",
    "#### 💾 Install dependencies\n",
    "\n",
    "**IMPORTANT** 👉 If you haven't already, follow the instructions in the [README](../README.md) to install the necessary dependencies. Note you may need to restart your kernel after setting up the environment.\n"
   ]
  },
  {
   "cell_type": "markdown",
   "metadata": {},
   "source": [
    "If the installation worked, you should be able to make the following imports:\n"
   ]
  },
  {
   "cell_type": "code",
   "execution_count": null,
   "metadata": {},
   "outputs": [],
   "source": [
    "from getpass import getpass\n",
    "\n",
    "from nemo_microservices import NeMoMicroservices\n",
    "from nemo_microservices.beta.data_designer import (\n",
    "    DataDesignerConfigBuilder,\n",
    "    DataDesignerClient,\n",
    ")\n",
    "from nemo_microservices.beta.data_designer.config import columns as C\n",
    "from nemo_microservices.beta.data_designer.config import params as P"
   ]
  },
  {
   "cell_type": "markdown",
   "metadata": {},
   "source": [
    "## 🧑‍🎨 Designing our data\n",
    "\n",
    "- We will again create a product review dataset, but this time we will use structured outputs and Jinja expressions.\n",
    "\n",
    "- Structured outputs let you specify the exact schema of the data you want to generate.\n",
    "\n",
    "- Data Designer supports schemas specified using either json schema or Pydantic data models (recommended).\n",
    "\n",
    "<br>\n",
    "\n",
    "We'll define our structured outputs using Pydantic data models:\n"
   ]
  },
  {
   "cell_type": "code",
   "execution_count": null,
   "metadata": {},
   "outputs": [],
   "source": [
    "from decimal import Decimal\n",
    "from typing import Literal\n",
    "from pydantic import BaseModel, Field\n",
    "\n",
    "\n",
    "# We define a Product schema so that the name, description, and price are generated\n",
    "# in one go, with the types and constraints specified.\n",
    "class Product(BaseModel):\n",
    "    name: str = Field(description=\"The name of the product\")\n",
    "    description: str = Field(description=\"A description of the product\")\n",
    "    price: Decimal = Field(\n",
    "        description=\"The price of the product\", ge=10, le=1000, decimal_places=2\n",
    "    )\n",
    "\n",
    "\n",
    "class ProductReview(BaseModel):\n",
    "    rating: int = Field(description=\"The rating of the product\", ge=1, le=5)\n",
    "    customer_mood: Literal[\"irritated\", \"mad\", \"happy\", \"neutral\", \"excited\"] = Field(\n",
    "        description=\"The mood of the customer\"\n",
    "    )\n",
    "    review: str = Field(description=\"A review of the product\")"
   ]
  },
  {
   "cell_type": "markdown",
   "metadata": {},
   "source": [
    "### ⚙️ Initialize the NeMo Data Designer (NDD) Client\n",
    "\n",
    "- The NDD client is responsible for submitting generation requests to the Data Designer microservice.\n"
   ]
  },
  {
   "cell_type": "code",
   "execution_count": null,
   "metadata": {},
   "outputs": [],
   "source": [
    "ndd = DataDesignerClient(client=NeMoMicroservices(base_url=\"http://localhost:8000\"))"
   ]
  },
  {
   "cell_type": "markdown",
   "metadata": {},
   "source": [
    "### 🏗️ Initialize the Data Designer Config Builder\n",
    "\n",
    "- The Data Designer config defines the dataset schema and generation process.\n",
    "\n",
    "- The config builder provides an intuitive interface for building this configuration.\n",
    "\n",
    "- You must provide a list of model configs to the builder at initialization.\n",
    "\n",
    "- This list contains the models you can choose from (via the `model_alias` argument) during the generation process.\n"
   ]
  },
  {
   "cell_type": "code",
   "execution_count": null,
   "metadata": {},
   "outputs": [],
   "source": [
    "# build.nvidia.com model endpoint\n",
    "endpoint = \"https://integrate.api.nvidia.com/v1\"\n",
    "model_id = \"mistralai/mistral-small-24b-instruct\"\n",
    "\n",
    "model_alias = \"mistral-small\"\n",
    "\n",
    "# You will need to enter your model provider API key to run this notebook.\n",
    "api_key = getpass(\"Enter model provider API key: \")\n",
    "\n",
    "if len(api_key) > 0:\n",
    "    print(\"✅ API key received.\")\n",
    "else:\n",
    "    print(\"❌ No API key provided. Please enter your model provider API key.\")"
   ]
  },
  {
   "cell_type": "code",
   "execution_count": null,
   "metadata": {},
   "outputs": [],
   "source": [
    "model_configs = [\n",
    "    P.ModelConfig(\n",
    "        alias=model_alias,\n",
    "        inference_parameters=P.InferenceParameters(\n",
    "            max_tokens=1024,\n",
    "            temperature=0.5,\n",
    "            top_p=1.0,\n",
    "        ),\n",
    "        model=P.Model(\n",
    "            api_endpoint=P.ApiEndpoint(\n",
    "                api_key=api_key,\n",
    "                model_id=model_id,\n",
    "                url=endpoint,\n",
    "            ),\n",
    "        ),\n",
    "    )\n",
    "]\n",
    "\n",
    "config_builder = DataDesignerConfigBuilder(model_configs=model_configs)"
   ]
  },
  {
   "cell_type": "markdown",
   "metadata": {},
   "source": [
    "Next, let's design our product review dataset using a few more tricks compared to the previous notebook:\n"
   ]
  },
  {
   "cell_type": "code",
   "execution_count": null,
   "metadata": {},
   "outputs": [],
   "source": [
    "# Since we often just want a few attributes from Person objects, we can use\n",
    "# Data Designer's `with_person_samplers` method to create multiple person samplers\n",
    "# at once and drop the person object columns from the final dataset.\n",
    "config_builder.with_person_samplers(\n",
    "    {\"customer\": P.PersonSamplerParams(age_range=[18, 65])}\n",
    ")\n",
    "\n",
    "config_builder.add_column(\n",
    "    C.SamplerColumn(\n",
    "        name=\"product_category\",\n",
    "        type=P.SamplerType.CATEGORY,\n",
    "        params=P.CategorySamplerParams(\n",
    "            values=[\n",
    "                \"Electronics\",\n",
    "                \"Clothing\",\n",
    "                \"Home & Kitchen\",\n",
    "                \"Books\",\n",
    "                \"Home Office\",\n",
    "            ],\n",
    "        ),\n",
    "    )\n",
    ")\n",
    "\n",
    "config_builder.add_column(\n",
    "    C.SamplerColumn(\n",
    "        name=\"product_subcategory\",\n",
    "        type=P.SamplerType.SUBCATEGORY,\n",
    "        params=P.SubcategorySamplerParams(\n",
    "            category=\"product_category\",\n",
    "            values={\n",
    "                \"Electronics\": [\n",
    "                    \"Smartphones\",\n",
    "                    \"Laptops\",\n",
    "                    \"Headphones\",\n",
    "                    \"Cameras\",\n",
    "                    \"Accessories\",\n",
    "                ],\n",
    "                \"Clothing\": [\n",
    "                    \"Men's Clothing\",\n",
    "                    \"Women's Clothing\",\n",
    "                    \"Winter Coats\",\n",
    "                    \"Activewear\",\n",
    "                    \"Accessories\",\n",
    "                ],\n",
    "                \"Home & Kitchen\": [\n",
    "                    \"Appliances\",\n",
    "                    \"Cookware\",\n",
    "                    \"Furniture\",\n",
    "                    \"Decor\",\n",
    "                    \"Organization\",\n",
    "                ],\n",
    "                \"Books\": [\n",
    "                    \"Fiction\",\n",
    "                    \"Non-Fiction\",\n",
    "                    \"Self-Help\",\n",
    "                    \"Textbooks\",\n",
    "                    \"Classics\",\n",
    "                ],\n",
    "                \"Home Office\": [\n",
    "                    \"Desks\",\n",
    "                    \"Chairs\",\n",
    "                    \"Storage\",\n",
    "                    \"Office Supplies\",\n",
    "                    \"Lighting\",\n",
    "                ],\n",
    "            },\n",
    "        ),\n",
    "    )\n",
    ")\n",
    "\n",
    "config_builder.add_column(\n",
    "    C.SamplerColumn(\n",
    "        name=\"target_age_range\",\n",
    "        type=P.SamplerType.CATEGORY,\n",
    "        params=P.CategorySamplerParams(\n",
    "            values=[\"18-25\", \"25-35\", \"35-50\", \"50-65\", \"65+\"]\n",
    "        ),\n",
    "    )\n",
    ")\n",
    "\n",
    "config_builder.add_column(\n",
    "    C.SamplerColumn(\n",
    "        name=\"review_style\",\n",
    "        type=P.SamplerType.CATEGORY,\n",
    "        params=P.CategorySamplerParams(\n",
    "            values=[\"rambling\", \"brief\", \"detailed\", \"structured with bullet points\"],\n",
    "            weights=[1, 2, 2, 1],\n",
    "        ),\n",
    "    )\n",
    ")\n",
    "\n",
    "# We can create new columns using Jinja expressions that reference\n",
    "# existing columns, including attributes of nested objects.\n",
    "config_builder.add_column(\n",
    "    C.ExpressionColumn(\n",
    "        name=\"customer_name\", expr=\"{{ customer.first_name }} {{ customer.last_name }}\"\n",
    "    )\n",
    ")\n",
    "\n",
    "config_builder.add_column(\n",
    "    C.ExpressionColumn(name=\"customer_age\", expr=\"{{ customer.age }}\")\n",
    ")\n",
    "\n",
    "# Add an `LLMStructuredColumn` column to generate structured outputs.\n",
    "config_builder.add_column(\n",
    "    C.LLMStructuredColumn(\n",
    "        name=\"product\",\n",
    "        prompt=(\n",
    "            \"Create a product in the '{{ product_category }}' category, focusing on products  \"\n",
    "            \"related to '{{ product_subcategory }}'. The target age range of the ideal customer is \"\n",
    "            \"{{ target_age_range }} years old. The product should be priced between $10 and $1000.\"\n",
    "        ),\n",
    "        output_format=Product,\n",
    "        model_alias=model_alias,\n",
    "    )\n",
    ")\n",
    "\n",
    "config_builder.add_column(\n",
    "    C.LLMStructuredColumn(\n",
    "        name=\"customer_review\",\n",
    "        prompt=(\n",
    "            \"Your task is to write a review for the following product:\\n\\n\"\n",
    "            \"Product Name: {{ product.name }}\\n\"\n",
    "            \"Product Description: {{ product.description }}\\n\"\n",
    "            \"Price: {{ product.price }}\\n\\n\"\n",
    "            \"Imagine your name is {{ customer_name }} and you are from {{ customer.city }}, {{ customer.state }}. \"\n",
    "            \"Write the review in a style that is '{{ review_style }}'.\"\n",
    "        ),\n",
    "        output_format=ProductReview,\n",
    "        model_alias=model_alias,\n",
    "    )\n",
    ")\n",
    "\n",
    "# Let's add an evaluation report to our dataset.\n",
    "config_builder.with_evaluation_report().validate()"
   ]
  },
  {
   "cell_type": "markdown",
   "metadata": {},
   "source": [
    "## 👀 Preview the dataset\n",
    "\n",
    "- Iteration is key to generating high-quality synthetic data.\n",
    "\n",
    "- Use the `preview` method to generate 10 records for inspection.\n",
    "\n",
    "- Setting `verbose_logging=True` prints logs within each task of the generation process.\n"
   ]
  },
  {
   "cell_type": "code",
   "execution_count": null,
   "metadata": {},
   "outputs": [],
   "source": [
    "preview = ndd.preview(config_builder, verbose_logging=True)"
   ]
  },
  {
   "cell_type": "code",
   "execution_count": null,
   "metadata": {},
   "outputs": [],
   "source": [
    "# The preview dataset is available as a pandas DataFrame.\n",
    "preview.dataset"
   ]
  },
  {
   "cell_type": "code",
   "execution_count": null,
   "metadata": {},
   "outputs": [],
   "source": [
    "# Run this cell multiple times to cycle through the 10 preview records.\n",
    "preview.display_sample_record()"
   ]
  },
  {
   "cell_type": "markdown",
   "metadata": {},
   "source": [
    "## 🧬 Generate your dataset\n",
    "\n",
    "- Once you are happy with the preview, scale up to a larger dataset.\n",
    "\n",
    "- The `create` method will submit your generate job to the microservice and return a results object.\n",
    "\n",
    "- If you want to pause and wait for the job to complete, set `wait_until_done=True`.\n"
   ]
  },
  {
   "cell_type": "code",
   "execution_count": null,
   "metadata": {},
   "outputs": [],
   "source": [
    "results = ndd.create(config_builder, num_records=20, wait_until_done=True)"
   ]
  },
  {
   "cell_type": "code",
   "execution_count": null,
   "metadata": {},
   "outputs": [],
   "source": [
    "# load the dataset into a pandas DataFrame\n",
    "dataset = results.load_dataset()\n",
    "\n",
    "dataset.head()"
   ]
  },
  {
   "cell_type": "markdown",
   "metadata": {},
   "source": [
    "### 🔎 View the evaluation report\n",
    "\n",
    "- The evaluation report is generated in HTML format and can be viewed in a browser.\n"
   ]
  },
  {
   "cell_type": "code",
   "execution_count": null,
   "metadata": {},
   "outputs": [],
   "source": [
    "import webbrowser\n",
    "from pathlib import Path\n",
    "\n",
    "eval_report_path = Path(\n",
    "    \"./2-structured-outputs-and-jinja-expressions-eval-report.html\"\n",
    ").resolve()\n",
    "\n",
    "results.download_evaluation_report(eval_report_path)\n",
    "\n",
    "webbrowser.open_new_tab(f\"file:///{eval_report_path}\");"
   ]
  }
 ],
 "metadata": {
  "kernelspec": {
   "display_name": ".venv",
   "language": "python",
   "name": "python3"
  },
  "language_info": {
   "codemirror_mode": {
    "name": "ipython",
    "version": 3
   },
   "file_extension": ".py",
   "mimetype": "text/x-python",
   "name": "python",
   "nbconvert_exporter": "python",
   "pygments_lexer": "ipython3",
   "version": "3.11.9"
  }
 },
 "nbformat": 4,
 "nbformat_minor": 2
}
