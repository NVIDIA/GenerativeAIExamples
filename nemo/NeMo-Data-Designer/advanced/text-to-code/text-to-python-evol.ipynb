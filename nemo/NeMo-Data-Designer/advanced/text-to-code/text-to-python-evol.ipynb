{
    "cells": [
        {
            "cell_type": "markdown",
            "metadata": {},
            "source": [
                "# 🎨 NeMo Data Designer: Text-to-Python with Evolution"
            ]
        },
        {
            "cell_type": "markdown",
            "id": "90fa5cd6",
            "metadata": {},
            "source": [
                "> ⚠️ **Warning**: NeMo Data Designer is current in Early Release and is not recommended for production use.\n",
                ">\n",
                "> **Note**: In order to run this notebook, you must have the NeMo Data Designer microservice deployed locally via docker compose. See the [deployment guide](http://docs.nvidia.com/nemo/microservices/latest/set-up/deploy-as-microservices/data-designer/docker-compose.html) for more details.\n",
                ">\n",
                "> Alternatively, you can use the [NeMo Data Designer managed service](https://build.nvidia.com/nemo/data-designer). Please refer the [intro-tutorials](../../intro-tutorials/1-the-basics.ipynb) on how to connect to it. \n",
                ">\n",
                "> **Note**: If you are using the NeMo Data Designer managed service, you will only be able to launch preview jobs. You will not be able to launch jobs using the `create` method."
            ]
        },
        {
            "cell_type": "markdown",
            "metadata": {},
            "source": [
                "This notebook demonstrates how to use NeMo Data Designer to create a synthetic data generation pipeline for Python code examples, with a focus on evolutionary improvements. We'll build a system that generates Python code based on natural language instructions, validates it, analyzes issues, and then improves the code based on feedback."
            ]
        },
        {
            "cell_type": "markdown",
            "id": "239f1822",
            "metadata": {},
            "source": [
                "#### 💾 Install dependencies\n",
                "\n",
                "**IMPORTANT** 👉 If you haven't already, follow the instructions in the [README](../../README.md) to install the necessary dependencies. Note you may need to restart your kernel after setting up the environment.\n"
            ]
        },
        {
            "cell_type": "code",
            "execution_count": null,
            "id": "b19fddbb",
            "metadata": {},
            "outputs": [],
            "source": [
                "from nemo_microservices import NeMoMicroservices\n",
                "from nemo_microservices.beta.data_designer import (\n",
                "    DataDesignerConfigBuilder,\n",
                "    DataDesignerClient,\n",
                ")\n",
                "from nemo_microservices.beta.data_designer.config import columns as C\n",
                "from nemo_microservices.beta.data_designer.config import params as P"
            ]
        },
        {
            "cell_type": "markdown",
            "id": "2dc9018a",
            "metadata": {},
            "source": [
                "### ⚙️ Initialize the NeMo Data Designer Client\n",
                "\n",
                "- The data designer client is responsible for submitting generation requests to the Data Designer microservice.\n",
                "- In this notebook, we connect to a local deployment of data designer. You can deploy your own instance of data designer by following the deployment instructions [here](https://docs.nvidia.com/nemo/microservices/latest/set-up/deploy-as-microservices/data-designer/docker-compose.html).\n"
            ]
        },
        {
            "cell_type": "code",
            "execution_count": null,
            "id": "0b2b9d1b",
            "metadata": {},
            "outputs": [],
            "source": [
                "data_designer_client = DataDesignerClient(client=NeMoMicroservices(base_url=\"http://localhost:8080\"))"
            ]
        },
        {
            "cell_type": "markdown",
            "id": "9dc329dc",
            "metadata": {},
            "source": [
                "### 🏗️ Initialize the Data Designer Config Builder\n",
                "\n",
                "- The Data Designer config defines the dataset schema and generation process.\n",
                "\n",
                "- The config builder provides an intuitive interface for building this configuration.\n",
                "\n",
                "- You must provide a list of model configs to the builder at initialization.\n",
                "\n",
                "- This list contains the models you can choose from (via the `model_alias` argument) during the generation process.\n"
            ]
        },
        {
            "cell_type": "code",
            "execution_count": null,
            "id": "1542051d",
            "metadata": {},
            "outputs": [],
            "source": [
                "# We specify the endpoint of the model during deployment using the model_provider_registry.\n",
                "model_id = \"nvidia/nvidia-nemotron-nano-9b-v2\"\n",
                "model_alias = \"nemotron-nano-9b-v2\""
            ]
        },
        {
            "cell_type": "code",
            "execution_count": null,
            "id": "6309d900",
            "metadata": {},
            "outputs": [],
            "source": [
                "config_builder = DataDesignerConfigBuilder(\n",
                "    model_configs=[\n",
                "        P.ModelConfig(\n",
                "            alias=model_alias,\n",
                "            provider=\"nvidiabuild\",\n",
                "            model=model_id,\n",
                "            inference_parameters=P.InferenceParameters(\n",
                "                max_tokens=1024,\n",
                "                temperature=0.6,\n",
                "                top_p=0.95,\n",
                "            ),\n",
                "            is_reasoner=True\n",
                "        ),\n",
                "    ]\n",
                ")"
            ]
        },
        {
            "cell_type": "markdown",
            "metadata": {},
            "source": [
                "## 🌱 Define Categorical Seed Columns\n",
                "\n",
                "We'll set up our seed columns for industry sectors, code complexity, and instruction types. These will help generate diverse and relevant code examples."
            ]
        },
        {
            "cell_type": "code",
            "execution_count": null,
            "metadata": {},
            "outputs": [],
            "source": [
                "# Add industry sector categories\n",
                "config_builder.add_column(\n",
                "    name=\"industry_sector\",\n",
                "    type=\"category\",\n",
                "    params={\n",
                "        \"values\": [\"Healthcare\", \"Finance\", \"Technology\"],\n",
                "        \"description\": \"The industry sector for the code example\"\n",
                "    }\n",
                ")\n",
                "\n",
                "# Add topic as a subcategory of industry_sector\n",
                "config_builder.add_column(\n",
                "    name=\"topic\",\n",
                "    type=\"subcategory\",\n",
                "    params={\n",
                "        \"category\": \"industry_sector\",\n",
                "        \"values\": {\n",
                "            \"Healthcare\": [\n",
                "                \"Electronic Health Records (EHR) Systems\",\n",
                "                \"Telemedicine Platforms\",\n",
                "                \"AI-Powered Diagnostic Tools\"\n",
                "            ],\n",
                "            \"Finance\": [\n",
                "                \"Fraud Detection Software\",\n",
                "                \"Automated Trading Systems\",\n",
                "                \"Personal Finance Apps\"\n",
                "            ],\n",
                "            \"Technology\": [\n",
                "                \"Cloud Computing Platforms\",\n",
                "                \"Artificial Intelligence and Machine Learning Platforms\",\n",
                "                \"DevOps and CI/CD Tools\"\n",
                "            ]\n",
                "        }\n",
                "    }\n",
                ")\n",
                "\n",
                "# Add code complexity with subcategory for code concepts\n",
                "config_builder.add_column(\n",
                "    name=\"code_complexity\",\n",
                "    type=\"category\",\n",
                "    params={\n",
                "        \"values\": [\"Beginner\", \"Intermediate\", \"Advanced\"],\n",
                "        \"description\": \"The complexity level of the code\"\n",
                "    }\n",
                ")\n",
                "\n",
                "# Add code_concept as a subcategory of code_complexity\n",
                "config_builder.add_column(\n",
                "    name=\"code_concept\",\n",
                "    type=\"subcategory\",\n",
                "    params={\n",
                "        \"category\": \"code_complexity\",\n",
                "        \"values\": {\n",
                "            \"Beginner\": [\n",
                "                \"Variables\",\n",
                "                \"Data Types\",\n",
                "                \"Functions\",\n",
                "                \"Loops\",\n",
                "                \"Classes\"\n",
                "            ],\n",
                "            \"Intermediate\": [\n",
                "                \"List Comprehensions\",\n",
                "                \"Object-oriented programming\",\n",
                "                \"Lambda Functions\",\n",
                "                \"Web frameworks\",\n",
                "                \"Pandas\"\n",
                "            ],\n",
                "            \"Advanced\": [\n",
                "                \"Multithreading\",\n",
                "                \"Context Managers\",\n",
                "                \"Generators\"\n",
                "            ]\n",
                "        }\n",
                "    }\n",
                ")\n",
                "\n",
                "# Add instruction phrases\n",
                "config_builder.add_column(\n",
                "    name=\"instruction_phrase\",\n",
                "    type=\"category\",\n",
                "    params={\n",
                "        \"values\": [\n",
                "            \"Write a function that\",\n",
                "            \"Create a class that\",\n",
                "            \"Implement a script\",\n",
                "            \"Can you create a function\",\n",
                "            \"Develop a module that\"\n",
                "        ],\n",
                "        \"description\": \"Starting phrase for the code instruction\"\n",
                "    }\n",
                ")\n",
                "\n",
                "config_builder.validate()"
            ]
        },
        {
            "cell_type": "markdown",
            "metadata": {},
            "source": [
                "## ✨ Define Initial Code Generation\n",
                "\n",
                "First, we'll set up the columns for generating the instruction and initial code implementation using the same approach as in the text-to-python notebook."
            ]
        },
        {
            "cell_type": "code",
            "execution_count": null,
            "metadata": {},
            "outputs": [],
            "source": [
                "# Generate instruction for the code\n",
                "config_builder.add_column(\n",
                "    name=\"instruction\",\n",
                "    type=\"llm-text\",\n",
                "    model_alias=model_alias,\n",
                "    system_prompt=\"You are an expert at generating clear and specific programming tasks.\",\n",
                "    prompt=\"\"\"\\\n",
                "Generate an instruction to create Python code that solves a specific problem.\n",
                "Each instruction should begin with one of the following phrases: {{instruction_phrase}}.\n",
                "\n",
                "Important Guidelines:\n",
                "* Industry Relevance: Ensure the instruction pertains to the {{industry_sector}} sector and {{topic}} topic.\n",
                "* Code Complexity: Tailor the instruction to the {{code_complexity}} level. Utilize relevant {{code_concept}} where appropriate to match the complexity level.\n",
                "* Clarity and Specificity: Make the problem statement clear and unambiguous. Provide sufficient context to understand the requirements without being overly verbose.\n",
                "* Response Formatting: Do not include any markers such as ### Response ### in the instruction.\n",
                "\"\"\"\n",
                ")\n",
                "\n",
                "# Generate the initial Python code\n",
                "config_builder.add_column(\n",
                "    name=\"initial_code\",\n",
                "    type=\"llm-code\",\n",
                "    model_alias=model_alias,\n",
                "    output_format=\"python\",\n",
                "    system_prompt=\"You are an expert Python programmer who writes clean, efficient, and well-documented code.\",\n",
                "    prompt=\"\"\"\\\n",
                "Write Python code for the following instruction:\n",
                "Instruction: {{instruction}}\n",
                "\n",
                "Important Guidelines:\n",
                "* Code Quality: Your code should be clean, complete, self-contained and accurate.\n",
                "* Code Validity: Please ensure that your python code is executable and does not contain any errors.\n",
                "* Packages: Remember to import any necessary libraries, and to use all libraries you import.\n",
                "* Complexity & Concepts: The code should be written at a {{code_complexity}} level, making use of concepts such as {{code_concept}}.\n",
                "\"\"\"\n",
                ")\n",
                "\n",
                "config_builder.validate()"
            ]
        },
        {
            "cell_type": "markdown",
            "metadata": {},
            "source": [
                "## 🔍 Code Validation and Analysis\n",
                "\n",
                "Now we'll add validation for the initial code and generate analysis of any issues found."
            ]
        },
        {
            "cell_type": "code",
            "execution_count": null,
            "metadata": {},
            "outputs": [],
            "source": [
                "# Validate the initial code\n",
                "config_builder.add_column(\n",
                "    name=\"code_validation\",\n",
                "    type=\"code-validation\",\n",
                "    model_alias=model_alias,\n",
                "    code_lang=\"python\",\n",
                "    target_column=\"initial_code\"\n",
                ")\n",
                "\n",
                "config_builder.validate()"
            ]
        },
        {
            "cell_type": "code",
            "execution_count": null,
            "metadata": {},
            "outputs": [],
            "source": [
                "# Generate a detailed error analysis and improvement plan\n",
                "config_builder.add_column(\n",
                "    name=\"code_analysis\",\n",
                "    type=\"llm-text\",\n",
                "    model_alias=model_alias,\n",
                "    prompt=\"\"\"\\\n",
                "Analyze the following Python code and its validation results:\n",
                "\n",
                "INSTRUCTION:\n",
                "{{ instruction }}\n",
                "\n",
                "INITIAL CODE:\n",
                "{{ initial_code }}\n",
                "\n",
                "VALIDATION RESULTS:\n",
                "{{ code_validation }}\n",
                "\n",
                "{% if not (code_validation == '[]') %}\n",
                "Please provide:\n",
                "1. A detailed analysis of each error or warning (categorize by type: convention, warning, error, refactor)\n",
                "2. Specific recommendations that directly address each issue\n",
                "3. A structured plan for implementing fixes while maintaining code functionality\n",
                "4. Any PEP 8 style improvements that would improve code quality\n",
                "{% else %}\n",
                "The code passes all validation checks. Provide potential optimizations for:\n",
                "1. Code readability\n",
                "2. Performance improvements\n",
                "3. Better adherence to Python best practices\n",
                "4. Enhanced documentation\n",
                "{% endif %}\n",
                "\"\"\"\n",
                ")\n",
                "\n",
                "\n",
                "config_builder.validate()"
            ]
        },
        {
            "cell_type": "markdown",
            "metadata": {},
            "source": [
                "## 🔄 Code Evolution\n",
                "\n",
                "Next, we'll create the improved version of the code based on the analysis and validation."
            ]
        },
        {
            "cell_type": "code",
            "execution_count": null,
            "metadata": {},
            "outputs": [],
            "source": [
                "# Generate improved code based on feedback\n",
                "config_builder.add_column(\n",
                "    name=\"improved_code\",\n",
                "    type=\"llm-code\",\n",
                "    model_alias=model_alias,\n",
                "    output_format=\"python\",\n",
                "    system_prompt=\"You are an expert Python programmer focused on writing production-quality code that adheres to best practices.\",\n",
                "    prompt=\"\"\"\\\n",
                "Rewrite and improve the following Python code based on the analysis provided.\n",
                "\n",
                "ORIGINAL INSTRUCTION:\n",
                "{{instruction}}\n",
                "\n",
                "INITIAL CODE:\n",
                "{{initial_code}}\n",
                "\n",
                "CODE ANALYSIS:\n",
                "{{code_analysis}}\n",
                "\n",
                "Your task is to create a revised version that:\n",
                "1. Addresses all issues identified in the analysis\n",
                "2. Follows PEP 8 style guidelines systematically\n",
                "3. Eliminates common anti-patterns\n",
                "4. Includes comprehensive docstrings for functions, classes, and modules\n",
                "5. Uses type hints for function parameters and return values where appropriate\n",
                "6. Implements proper error handling with specific exception types\n",
                "7. Ensures all imports are properly organized and used\n",
                "\n",
                "The goal is production-quality code that would pass a professional code review at a {{code_complexity}} level.\n",
                "\"\"\"\n",
                ")\n"
            ]
        },
        {
            "cell_type": "code",
            "execution_count": null,
            "id": "2a477acf",
            "metadata": {},
            "outputs": [],
            "source": [
                "# Validate the improved code\n",
                "config_builder.add_column(\n",
                "    name=\"improved_code_validation\",\n",
                "    type=\"code-validation\",\n",
                "    model_alias=model_alias,\n",
                "    code_lang=\"python\",\n",
                "    target_column=\"improved_code\"\n",
                ")"
            ]
        },
        {
            "cell_type": "markdown",
            "metadata": {},
            "source": [
                "## 📊 Evaluation\n",
                "\n",
                "Finally, we'll add an evaluation that compares the initial and improved code."
            ]
        },
        {
            "cell_type": "code",
            "execution_count": null,
            "metadata": {},
            "outputs": [],
            "source": [
                "from nemo_microservices.beta.data_designer.config.params.rubrics import PYTHON_RUBRICS\n",
                "\n",
                "# Add judge evaluation\n",
                "config_builder.add_column(\n",
                "    name=\"code_judge_result\",\n",
                "    type=\"llm-judge\",\n",
                "    model_alias=model_alias,\n",
                "    prompt=(\n",
                "        \"You are an expert in Python programming, with specialized knowledge in software engineering, \"\n",
                "        \"data science, and algorithmic problem-solving. You think about potential flaws and errors \"\n",
                "        \"in the code. You are a tough critic, but a fair one.\\n\\n\"\n",
                "        \"Take a deep breath and use the Python Code Quality Rubric below to score the **Generated Python Code** \"\n",
                "        \"based on the INSTRUCTIONS.\\n\\n\"\n",
                "        \"#### INSTRUCTIONS\\n\"\n",
                "        \"The Generated Python Code should be a valid response to the Natural Language Prompt below\\n\\n\"\n",
                "        \"Natural Language Prompt:\\n\"\n",
                "        \"{{ instruction }}\\n\\n\"\n",
                "        \"Generated Python Code\\n\"\n",
                "        \"```python\\n\"\n",
                "        \"{{ improved_code }}\\n\"\n",
                "        \"```\\n\"\n",
                "    ),\n",
                "    rubrics=PYTHON_RUBRICS\n",
                ")"
            ]
        },
        {
            "cell_type": "markdown",
            "metadata": {},
            "source": [
                "## 👀 Generate Preview Dataset\n",
                "\n",
                "Let's generate a preview to see how our evolved code examples look."
            ]
        },
        {
            "cell_type": "code",
            "execution_count": null,
            "metadata": {},
            "outputs": [],
            "source": [
                "# Generate a preview\n",
                "preview = data_designer_client.preview(config_builder, verbose_logging=True)"
            ]
        },
        {
            "cell_type": "code",
            "execution_count": null,
            "metadata": {},
            "outputs": [],
            "source": [
                "preview.display_sample_record()"
            ]
        },
        {
            "cell_type": "markdown",
            "metadata": {},
            "source": [
                "## 🚀 Generate Full Dataset\n",
                "\n",
                "If you're satisfied with the preview, you can generate a larger dataset using a batch workflow."
            ]
        },
        {
            "cell_type": "code",
            "execution_count": null,
            "metadata": {},
            "outputs": [],
            "source": [
                "# Submit batch job\n",
                "job_results = data_designer_client.create(config_builder, num_records=20, wait_until_done=False)\n",
                "\n",
                "job_results.wait_until_done()"
            ]
        },
        {
            "cell_type": "code",
            "execution_count": null,
            "id": "b3f28961",
            "metadata": {},
            "outputs": [],
            "source": [
                "dataset = job_results.load_dataset()\n",
                "print(\"\\nGenerated dataset shape:\", dataset.shape)\n",
                "\n",
                "dataset.head()"
            ]
        }
    ],
    "metadata": {
        "kernelspec": {
            "display_name": "sdg_venv",
            "language": "python",
            "name": "python3"
        },
        "language_info": {
            "codemirror_mode": {
                "name": "ipython",
                "version": 3
            },
            "file_extension": ".py",
            "mimetype": "text/x-python",
            "name": "python",
            "nbconvert_exporter": "python",
            "pygments_lexer": "ipython3",
            "version": "3.12.11"
        }
    },
    "nbformat": 4,
    "nbformat_minor": 5
}
