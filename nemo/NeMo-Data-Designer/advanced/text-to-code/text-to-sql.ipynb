{
    "cells": [
        {
            "cell_type": "markdown",
            "metadata": {},
            "source": [
                "# 🎨 NeMo Data Designer: Text-to-SQL"
            ]
        },
        {
            "cell_type": "markdown",
            "id": "0ca478dd",
            "metadata": {},
            "source": [
                "> ⚠️ **Warning**: NeMo Data Designer is current in Early Release and is not recommended for production use.\n",
                ">\n",
                "> **Note**: In order to run this notebook, you must have the NeMo Data Designer microservice deployed locally via docker compose. See the [deployment guide](http://docs.nvidia.com/nemo/microservices/latest/set-up/deploy-as-microservices/data-designer/docker-compose.html) for more details.\n",
                ">\n",
                "> Alternatively, you can use the [NeMo Data Designer managed service](https://build.nvidia.com/nemo/data-designer). Please refer the [intro-tutorials](../../intro-tutorials/1-the-basics.ipynb) on how to connect to it. \n",
                ">\n",
                "> **Note**: If you are using the NeMo Data Designer managed service, you will only be able to launch preview jobs. You will not be able to launch jobs using the `create` method."
            ]
        },
        {
            "cell_type": "markdown",
            "metadata": {},
            "source": [
                "This notebook demonstrates how to use NeMo Data Designer to create a synthetic data generation pipeline for SQL code examples. We'll build a system that generates SQL code based on natural language instructions, with varying complexity levels and industry focuses."
            ]
        },
        {
            "cell_type": "markdown",
            "id": "ce4571b8",
            "metadata": {},
            "source": [
                "#### 💾 Install dependencies\n",
                "\n",
                "**IMPORTANT** 👉 If you haven't already, follow the instructions in the [README](../../README.md) to install the necessary dependencies. Note you may need to restart your kernel after setting up the environment."
            ]
        },
        {
            "cell_type": "code",
            "execution_count": null,
            "id": "553c2bd5",
            "metadata": {},
            "outputs": [],
            "source": [
                "from nemo_microservices import NeMoMicroservices\n",
                "from nemo_microservices.beta.data_designer import (\n",
                "    DataDesignerConfigBuilder,\n",
                "    DataDesignerClient,\n",
                ")\n",
                "from nemo_microservices.beta.data_designer.config import columns as C\n",
                "from nemo_microservices.beta.data_designer.config import params as P"
            ]
        },
        {
            "cell_type": "markdown",
            "id": "0a701fa4",
            "metadata": {},
            "source": [
                "### ⚙️ Initialize the NeMo Data Designer Client\n",
                "\n",
                "- The data designer client is responsible for submitting generation requests to the Data Designer microservice.\n",
                "- In this notebook, we connect to a local deployment of data designer. You can deploy your own instance of data designer by following the deployment instructions [here](https://docs.nvidia.com/nemo/microservices/latest/set-up/deploy-as-microservices/data-designer/docker-compose.html).\n"
            ]
        },
        {
            "cell_type": "code",
            "execution_count": null,
            "id": "b4b709e0",
            "metadata": {},
            "outputs": [],
            "source": [
                "data_designer_client = DataDesignerClient(client=NeMoMicroservices(base_url=\"http://localhost:8080\"))"
            ]
        },
        {
            "cell_type": "markdown",
            "id": "f6b415cd",
            "metadata": {},
            "source": [
                "### 🏗️ Initialize the Data Designer Config Builder\n",
                "\n",
                "- The Data Designer config defines the dataset schema and generation process.\n",
                "\n",
                "- The config builder provides an intuitive interface for building this configuration.\n",
                "\n",
                "- You must provide a list of model configs to the builder at initialization.\n",
                "\n",
                "- This list contains the models you can choose from (via the `model_alias` argument) during the generation process.\n"
            ]
        },
        {
            "cell_type": "code",
            "execution_count": null,
            "id": "43c74e89",
            "metadata": {},
            "outputs": [],
            "source": [
                "# We specify the endpoint of the model during deployment using the model_provider_registry.\n",
                "model_id = \"nvidia/nvidia-nemotron-nano-9b-v2\"\n",
                "model_alias = \"nemotron-nano-9b-v2\""
            ]
        },
        {
            "cell_type": "code",
            "execution_count": null,
            "id": "65b5a79e",
            "metadata": {},
            "outputs": [],
            "source": [
                "config_builder = DataDesignerConfigBuilder(\n",
                "    model_configs=[\n",
                "        P.ModelConfig(\n",
                "            alias=model_alias,\n",
                "            provider=\"nvidiabuild\",\n",
                "            model=model_id,\n",
                "            inference_parameters=P.InferenceParameters(\n",
                "                max_tokens=1024,\n",
                "                temperature=0.6,\n",
                "                top_p=0.95,\n",
                "            ),\n",
                "            is_reasoner=True\n",
                "        ),\n",
                "    ]\n",
                ")"
            ]
        },
        {
            "cell_type": "markdown",
            "metadata": {},
            "source": [
                "## 🌱 Define Categorical Seed Columns\n",
                "\n",
                "We'll set up our seed columns for industry sectors, code complexity, and instruction types. These will help generate diverse and relevant SQL examples."
            ]
        },
        {
            "cell_type": "code",
            "execution_count": null,
            "metadata": {},
            "outputs": [],
            "source": [
                "# Add industry sector categories\n",
                "config_builder.add_column(\n",
                "    name=\"industry_sector\",\n",
                "    type=\"category\",\n",
                "    params={\n",
                "        \"values\": [\"Healthcare\", \"Finance\", \"Technology\"],\n",
                "        \"description\": \"The industry sector for the SQL example\"\n",
                "    }\n",
                ")\n",
                "\n",
                "# Add topic as a subcategory of industry_sector\n",
                "config_builder.add_column(\n",
                "    name=\"topic\",\n",
                "    type=\"subcategory\",\n",
                "    params={\n",
                "        \"category\": \"industry_sector\",\n",
                "        \"values\": {\n",
                "            \"Healthcare\": [\n",
                "                \"Electronic Health Records (EHR) Systems\",\n",
                "                \"Telemedicine Platforms\",\n",
                "                \"AI-Powered Diagnostic Tools\"\n",
                "            ],\n",
                "            \"Finance\": [\n",
                "                \"Fraud Detection Software\",\n",
                "                \"Automated Trading Systems\",\n",
                "                \"Personal Finance Apps\"\n",
                "            ],\n",
                "            \"Technology\": [\n",
                "                \"Cloud Computing Platforms\",\n",
                "                \"Artificial Intelligence and Machine Learning Platforms\",\n",
                "                \"DevOps and CI/CD Tools\"\n",
                "            ]\n",
                "        }\n",
                "    }\n",
                ")\n",
                "\n",
                "# Add SQL complexity with subcategory for SQL concepts\n",
                "config_builder.add_column(\n",
                "    name=\"sql_complexity\",\n",
                "    type=\"category\",\n",
                "    params={\n",
                "        \"values\": [\"Beginner\", \"Intermediate\", \"Advanced\"],\n",
                "        \"description\": \"The complexity level of the SQL code\"\n",
                "    }\n",
                ")\n",
                "\n",
                "# Add SQL concept as a subcategory of sql_complexity\n",
                "config_builder.add_column(\n",
                "    name=\"sql_concept\",\n",
                "    type=\"subcategory\",\n",
                "    params={\n",
                "        \"category\": \"sql_complexity\",\n",
                "        \"values\": {\n",
                "            \"Beginner\": [\n",
                "                \"Basic SELECT Statements\",\n",
                "                \"WHERE Clauses\",\n",
                "                \"Basic JOINs\",\n",
                "                \"INSERT, UPDATE, DELETE\"\n",
                "            ],\n",
                "            \"Intermediate\": [\n",
                "                \"Aggregation Functions\",\n",
                "                \"Multiple JOINs\",\n",
                "                \"Subqueries\",\n",
                "                \"Views\"\n",
                "            ],\n",
                "            \"Advanced\": [\n",
                "                \"Window Functions\",\n",
                "                \"Common Table Expressions (CTEs)\",\n",
                "                \"Stored Procedures\",\n",
                "                \"Query Optimization\"\n",
                "            ]\n",
                "        }\n",
                "    }\n",
                ")\n",
                "\n",
                "# Add SQL task types\n",
                "config_builder.add_column(\n",
                "    name=\"sql_task_type\",\n",
                "    type=\"category\",\n",
                "    params={\n",
                "        \"values\": [\n",
                "            \"Data Retrieval\",\n",
                "            \"Data Manipulation\",\n",
                "            \"Analytics and Reporting\",\n",
                "            \"Data Transformation\"\n",
                "        ],\n",
                "        \"description\": \"The type of SQL task being performed\"\n",
                "    }\n",
                ")\n",
                "\n",
                "# Add instruction phrases\n",
                "config_builder.add_column(\n",
                "    name=\"instruction_phrase\",\n",
                "    type=\"category\",\n",
                "    params={\n",
                "        \"values\": [\n",
                "            \"Write an SQL query that\",\n",
                "            \"Create an SQL statement to\",\n",
                "            \"Develop an SQL query to\",\n",
                "            \"Can you write SQL that\",\n",
                "            \"Formulate an SQL query that\"\n",
                "        ],\n",
                "        \"description\": \"Starting phrase for the SQL instruction\"\n",
                "    }\n",
                ")"
            ]
        },
        {
            "cell_type": "markdown",
            "metadata": {},
            "source": [
                "## ✨ Define Generated Data Columns\n",
                "\n",
                "Now we'll set up the columns that will be generated by the LLMs, including the instruction, database context, and SQL implementation."
            ]
        },
        {
            "cell_type": "code",
            "execution_count": null,
            "metadata": {},
            "outputs": [],
            "source": [
                "# Generate instruction for the SQL query\n",
                "config_builder.add_column(\n",
                "    name=\"sql_prompt\",\n",
                "    type=\"llm-text\",\n",
                "    model_alias=model_alias,\n",
                "    system_prompt=\"You are an expert at generating clear and specific SQL tasks.\",\n",
                "    prompt=\"\"\"\\\n",
                "Generate an instruction to create SQL code that solves a specific problem.\n",
                "Each instruction should begin with one of the following phrases: {{instruction_phrase}}.\n",
                "\n",
                "Important Guidelines:\n",
                "* Industry Relevance: Ensure the instruction pertains to the {{industry_sector}} sector and {{topic}} topic.\n",
                "* SQL Complexity: Tailor the instruction to the {{sql_complexity}} level. Utilize relevant {{sql_concept}} where appropriate to match the complexity level.\n",
                "* Task Type: The instruction should involve a {{sql_task_type}} task.\n",
                "* Clarity and Specificity: Make the problem statement clear and unambiguous. Provide sufficient context to understand the requirements without being overly verbose.\n",
                "* Response Formatting: Do not include any markers such as ### Response ### in the instruction.\n",
                "\"\"\"\n",
                ")\n",
                "\n",
                "# Generate database context\n",
                "config_builder.add_column(\n",
                "    name=\"sql_context\",\n",
                "    type=\"llm-code\",\n",
                "    model_alias=model_alias,\n",
                "    output_format=P.CodeLang.SQL_ANSI, # Specify CodeLang.SQL_ANSI to ensure the code is structured as valid SQL\n",
                "    system_prompt=\"You are an expert SQL database designer who creates clean, efficient, and well-structured database schemas.\",\n",
                "    prompt=\"\"\"\\\n",
                "Generate the SQL for creating database tables that would be relevant for the following instruction:\n",
                "Instruction: {{sql_prompt}}\n",
                "\n",
                "Important Guidelines:\n",
                "* Relevance: Ensure all tables are directly related to the {{industry_sector}} sector and {{topic}} topic.\n",
                "* Completeness: Include all essential columns with appropriate data types, primary/foreign keys, and necessary constraints.\n",
                "* Realism: Use realistic table structures typical for the specified industry.\n",
                "* Executable SQL: Provide complete CREATE TABLE statements that can be run without modification.\n",
                "* Consistency: Use consistent naming conventions (e.g., snake_case for table and column names).\n",
                "* Sample Data: Include INSERT statements with sample data that makes sense for the tables (at least 5-10 rows per table).\n",
                "\"\"\"\n",
                ")\n",
                "\n",
                "# Generate the SQL code\n",
                "config_builder.add_column(\n",
                "    name=\"sql\",\n",
                "    type=\"llm-code\",\n",
                "    model_alias=model_alias,\n",
                "    output_format=P.CodeLang.SQL_ANSI, # Specify CodeLang.SQL_ANSI to ensure the code is structured as valid SQL\n",
                "    system_prompt=\"You are an expert SQL programmer who writes clean, efficient, and well-structured queries.\",\n",
                "    prompt=\"\"\"\\\n",
                "Write SQL code for the following instruction based on the provided database context:\n",
                "Instruction: {{sql_prompt}}\n",
                "\n",
                "Database Context:\n",
                "{{sql_context}}\n",
                "\n",
                "Important Guidelines:\n",
                "* Code Quality: Your SQL should be clean, complete, self-contained and accurate.\n",
                "* Code Validity: Please ensure that your SQL code is executable and does not contain any errors.\n",
                "* Context: Base your query on the provided database context. Only reference tables and columns that exist in the context.\n",
                "* Complexity & Concepts: The SQL should be written at a {{sql_complexity}} level, making use of concepts such as {{sql_concept}}.\n",
                "* Task Type: Ensure your solution implements the appropriate {{sql_task_type}} operation.\n",
                "* Comments: Include brief comments explaining the key parts of your query.\n",
                "\"\"\"\n",
                ")"
            ]
        },
        {
            "cell_type": "markdown",
            "metadata": {},
            "source": [
                "## 🔍 Add Validation and Evaluation\n",
                "\n",
                "Let's add post-processing steps to validate the generated code and evaluate the text-to-SQL conversion."
            ]
        },
        {
            "cell_type": "code",
            "execution_count": null,
            "metadata": {},
            "outputs": [],
            "source": [
                "from nemo_microservices.beta.data_designer.config.params.rubrics import TEXT_TO_SQL_LLM_JUDGE_PROMPT_TEMPLATE, SQL_RUBRICS\n",
                "\n",
                "# Add validators and evaluators\n",
                "config_builder.add_column(name=\"sql_validity_result\",\n",
                "                          model_alias=model_alias,\n",
                "                          type=\"code-validation\",\n",
                "                          code_lang=P.CodeLang.SQL_ANSI,\n",
                "                          target_column=\"sql\")\n",
                "\n",
                "\n",
                "config_builder.add_column(name=\"sql_judge_result\",\n",
                "                          type=\"llm-judge\",\n",
                "                          model_alias=model_alias,\n",
                "                          prompt=TEXT_TO_SQL_LLM_JUDGE_PROMPT_TEMPLATE,\n",
                "                          rubrics=SQL_RUBRICS)"
            ]
        },
        {
            "cell_type": "markdown",
            "metadata": {},
            "source": [
                "## 👀 Generate Preview Dataset\n",
                "\n",
                "Let's generate a preview to see some data."
            ]
        },
        {
            "cell_type": "code",
            "execution_count": null,
            "metadata": {},
            "outputs": [],
            "source": [
                "# Generate a preview\n",
                "preview = data_designer_client.preview(config_builder, verbose_logging=True)"
            ]
        },
        {
            "cell_type": "code",
            "execution_count": null,
            "metadata": {},
            "outputs": [],
            "source": [
                "preview.display_sample_record()"
            ]
        },
        {
            "cell_type": "markdown",
            "metadata": {},
            "source": [
                "## 🚀 Generate Full Dataset\n",
                "\n",
                "If you're satisfied with the preview, you can generate a larger dataset using a batch workflow."
            ]
        },
        {
            "cell_type": "code",
            "execution_count": null,
            "metadata": {},
            "outputs": [],
            "source": [
                "# Submit batch job\n",
                "job_results = data_designer_client.create(config_builder, num_records=20, wait_until_done=False)\n",
                "\n",
                "job_results.wait_until_done()"
            ]
        },
        {
            "cell_type": "code",
            "execution_count": null,
            "id": "17c2aec6",
            "metadata": {},
            "outputs": [],
            "source": [
                "dataset = job_results.load_dataset()\n",
                "print(\"\\nGenerated dataset shape:\", dataset.shape)\n",
                "\n",
                "dataset.head()"
            ]
        }
    ],
    "metadata": {
        "kernelspec": {
            "display_name": "sdg_venv",
            "language": "python",
            "name": "python3"
        },
        "language_info": {
            "codemirror_mode": {
                "name": "ipython",
                "version": 3
            },
            "file_extension": ".py",
            "mimetype": "text/x-python",
            "name": "python",
            "nbconvert_exporter": "python",
            "pygments_lexer": "ipython3",
            "version": "3.12.11"
        }
    },
    "nbformat": 4,
    "nbformat_minor": 5
}
