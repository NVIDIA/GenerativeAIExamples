{
 "cells": [
  {
   "cell_type": "markdown",
   "metadata": {},
   "source": [
    "# 🎨 NeMo Data Designer: Text-to-Python"
   ]
  },
  {
   "cell_type": "markdown",
   "id": "c6c516b4",
   "metadata": {},
   "source": [
    "> ⚠️ **Warning**: NeMo Data Designer is current in Early Release and is not recommended for production use.\n",
    ">\n",
    "> **Note**: In order to run this notebook, you must have the NeMo Data Designer microservice deployed locally via docker compose. See the [deployment guide](http://docs.nvidia.com/nemo/microservices/latest/set-up/deploy-as-microservices/data-designer/docker-compose.html) for more details.\n",
    ">\n",
    "> Alternatively, you can use the [NeMo Data Designer managed service](https://build.nvidia.com/nemo/data-designer). Please refer the [intro-tutorials](../../intro-tutorials/1-the-basics.ipynb) on how to connect to it. \n",
    ">\n",
    "> **Note**: If you are using the NeMo Data Designer managed service, you will only be able to launch preview jobs. You will not be able to launch jobs using the `create` method."
   ]
  },
  {
   "cell_type": "markdown",
   "id": "99494da9",
   "metadata": {},
   "source": [
    "This notebook demonstrates how to use NeMo Data Designer to create a synthetic data generation pipeline for Python code examples. We'll build a system that generates Python code based on natural language instructions, with varying complexity levels and industry focuses."
   ]
  },
  {
   "cell_type": "markdown",
   "id": "4301911f",
   "metadata": {},
   "source": [
    "#### 💾 Install dependencies\n",
    "\n",
    "**IMPORTANT** 👉 If you haven't already, follow the instructions in the [README](../../README.md) to install the necessary dependencies. Note you may need to restart your kernel after setting up the environment."
   ]
  },
  {
   "cell_type": "code",
   "execution_count": null,
   "id": "982000ee",
   "metadata": {},
   "outputs": [],
   "source": [
    "from nemo_microservices import NeMoMicroservices\n",
    "from nemo_microservices.beta.data_designer import (\n",
    "    DataDesignerConfigBuilder,\n",
    "    DataDesignerClient,\n",
    ")\n",
    "from nemo_microservices.beta.data_designer.config import columns as C\n",
    "from nemo_microservices.beta.data_designer.config import params as P"
   ]
  },
  {
   "cell_type": "markdown",
   "id": "81da3752",
   "metadata": {},
   "source": [
    "### ⚙️ Initialize the NeMo Data Designer Client\n",
    "\n",
    "- The data designer client is responsible for submitting generation requests to the Data Designer microservice.\n",
    "- In this notebook, we connect to a local deployment of data designer. You can deploy your own instance of data designer by following the deployment instructions [here](https://docs.nvidia.com/nemo/microservices/latest/set-up/deploy-as-microservices/data-designer/docker-compose.html).\n"
   ]
  },
  {
   "cell_type": "code",
   "execution_count": null,
   "id": "cc997456",
   "metadata": {},
   "outputs": [],
   "source": [
    "data_designer_client = DataDesignerClient(client=NeMoMicroservices(base_url=\"http://localhost:8080\"))"
   ]
  },
  {
   "cell_type": "markdown",
   "id": "a0c93601",
   "metadata": {},
   "source": [
    "### 🏗️ Initialize the Data Designer Config Builder\n",
    "\n",
    "- The Data Designer config defines the dataset schema and generation process.\n",
    "\n",
    "- The config builder provides an intuitive interface for building this configuration.\n",
    "\n",
    "- You must provide a list of model configs to the builder at initialization.\n",
    "\n",
    "- This list contains the models you can choose from (via the `model_alias` argument) during the generation process.\n"
   ]
  },
  {
   "cell_type": "code",
   "execution_count": null,
   "id": "7cb11661",
   "metadata": {},
   "outputs": [],
   "source": [
    "# We specify the endpoint of the model during deployment using the model_provider_registry.\n",
    "model_id = \"nvidia/nvidia-nemotron-nano-9b-v2\"\n",
    "model_alias = \"nemotron-nano-9b-v2\""
   ]
  },
  {
   "cell_type": "code",
   "execution_count": null,
   "id": "63aa5a1e",
   "metadata": {},
   "outputs": [],
   "source": [
    "config_builder = DataDesignerConfigBuilder(\n",
    "    model_configs=[\n",
    "        P.ModelConfig(\n",
    "            alias=model_alias,\n",
    "            provider=\"nvidiabuild\",\n",
    "            model=model_id,\n",
    "            inference_parameters=P.InferenceParameters(\n",
    "                max_tokens=1024,\n",
    "                temperature=0.6,\n",
    "                top_p=0.95,\n",
    "            ),\n",
    "            is_reasoner=True\n",
    "        ),\n",
    "    ]\n",
    ")"
   ]
  },
  {
   "cell_type": "markdown",
   "id": "9d3a2c17",
   "metadata": {},
   "source": [
    "## 🌱 Define Categorical Seed Columns\n",
    "\n",
    "We'll set up our seed columns for industry sectors, code complexity, and instruction types. These will help generate diverse and relevant code examples."
   ]
  },
  {
   "cell_type": "code",
   "execution_count": null,
   "id": "90fe9784",
   "metadata": {},
   "outputs": [],
   "source": [
    "# Add industry sector categories\n",
    "config_builder.add_column(\n",
    "    C.SamplerColumn(\n",
    "        name=\"industry_sector\",\n",
    "        type=P.SamplerType.CATEGORY,\n",
    "        params=P.CategorySamplerParams(\n",
    "            values=[\n",
    "                \"Healthcare\",\n",
    "                \"Finance\",\n",
    "                \"Technology\",\n",
    "            ],\n",
    "        ),\n",
    "    ),\n",
    ")\n",
    "\n",
    "# Add topic as a subcategory of industry_sector\n",
    "config_builder.add_column(\n",
    "    C.SamplerColumn(\n",
    "        name=\"topic\",\n",
    "        type=P.SamplerType.SUBCATEGORY,\n",
    "        params=P.SubcategorySamplerParams(\n",
    "            category=\"industry_sector\",\n",
    "            values={\n",
    "                \"Healthcare\": [\n",
    "                    \"Electronic Health Records (EHR) Systems\",\n",
    "                    \"Telemedicine Platforms\",\n",
    "                    \"AI-Powered Diagnostic Tools\",\n",
    "                ],\n",
    "                \"Finance\": [\n",
    "                    \"Fraud Detection Software\",\n",
    "                    \"Automated Trading Systems\",\n",
    "                    \"Personal Finance Apps\",\n",
    "                ],\n",
    "                \"Technology\": [\n",
    "                    \"Cloud Computing Platforms\",\n",
    "                    \"Artificial Intelligence and Machine Learning Platforms\",\n",
    "                    \"DevOps and CI/CD Tools\",\n",
    "                ],\n",
    "            },\n",
    "        ),\n",
    "    ),\n",
    ")\n",
    "\n",
    "# Add code complexity with subcategory for code concepts\n",
    "config_builder.add_column(\n",
    "    C.SamplerColumn(\n",
    "        name=\"code_complexity\",\n",
    "        type=P.SamplerType.CATEGORY,\n",
    "        params=P.CategorySamplerParams(\n",
    "            values=[\n",
    "                \"Beginner\",\n",
    "                \"Intermediate\",\n",
    "                \"Advanced\",\n",
    "            ],\n",
    "        ),\n",
    "    ),\n",
    ")\n",
    "\n",
    "# Add code_concept as a subcategory of code_complexity\n",
    "config_builder.add_column(\n",
    "    C.SamplerColumn(\n",
    "        name=\"code_concept\",\n",
    "        type=P.SamplerType.SUBCATEGORY,\n",
    "        params=P.SubcategorySamplerParams(\n",
    "            category=\"code_complexity\",\n",
    "            values={\n",
    "                \"Beginner\": [\n",
    "                    \"Variables\",\n",
    "                    \"Data Types\",\n",
    "                    \"Functions\",\n",
    "                    \"Loops\",\n",
    "                    \"Classes\",\n",
    "                ],\n",
    "                \"Intermediate\": [\n",
    "                    \"List Comprehensions\",\n",
    "                    \"Object-oriented programming\",\n",
    "                    \"Lambda Functions\",\n",
    "                    \"Web frameworks\",\n",
    "                    \"Pandas\",\n",
    "                ],\n",
    "                \"Advanced\": [\n",
    "                    \"Multithreading\",\n",
    "                    \"Context Managers\",\n",
    "                    \"Generators\",\n",
    "                ],\n",
    "            },\n",
    "        ),\n",
    "    ),\n",
    ")\n",
    "\n",
    "# Add instruction phrases\n",
    "config_builder.add_column(\n",
    "    C.SamplerColumn(\n",
    "        name=\"instruction_phrase\",\n",
    "        type=P.SamplerType.CATEGORY,\n",
    "        params=P.CategorySamplerParams(\n",
    "            values=[\n",
    "                \"Write a function that\",\n",
    "                \"Create a class that\",\n",
    "                \"Implement a script\",\n",
    "                \"Can you create a function\",\n",
    "                \"Develop a module that\",\n",
    "            ],\n",
    "        ),\n",
    "    ),\n",
    ")"
   ]
  },
  {
   "cell_type": "markdown",
   "id": "7e0cd0d7",
   "metadata": {},
   "source": [
    "## ✨ Define Generated Data Columns\n",
    "\n",
    "Now we'll set up the columns that will be generated by the LLMs, including the instruction and code implementation."
   ]
  },
  {
   "cell_type": "code",
   "execution_count": null,
   "id": "e697a637",
   "metadata": {},
   "outputs": [],
   "source": [
    "# Generate instruction for the code\n",
    "config_builder.add_column(\n",
    "    C.LLMTextColumn(\n",
    "        name=\"instruction\",\n",
    "        model_alias=model_alias,\n",
    "        system_prompt=(\n",
    "            \"You are an expert at generating clear and specific programming tasks.\"\n",
    "        ),\n",
    "        prompt=(\n",
    "            \"Generate an instruction to create Python code that solves a specific problem.\\n\"\n",
    "            \"Each instruction should begin with one of the following phrases: {{instruction_phrase}}.\\n\\n\"\n",
    "            \"Important Guidelines:\\n\"\n",
    "            \"* Industry Relevance: Ensure the instruction pertains to the {{industry_sector}} sector and {{topic}} topic.\\n\"\n",
    "            \"* Code Complexity: Tailor the instruction to the {{code_complexity}} level. Utilize relevant {{code_concept}} where appropriate to match the complexity level.\\n\"\n",
    "            \"* Clarity and Specificity: Make the problem statement clear and unambiguous. Provide sufficient context to understand the requirements without being overly verbose.\\n\"\n",
    "            \"* Response Formatting: Do not include any markers such as ### Response ### in the instruction.\\n\"\n",
    "        ),\n",
    "    )\n",
    ")\n",
    "\n",
    "# Generate the Python code\n",
    "config_builder.add_column(\n",
    "    C.LLMCodeColumn(\n",
    "        name=\"code_implementation\",\n",
    "        model_alias=model_alias,\n",
    "        output_format=P.CodeLang.PYTHON,\n",
    "        system_prompt=(\n",
    "            \"You are an expert Python programmer who writes clean, efficient, and well-documented code.\"\n",
    "        ),\n",
    "        prompt=(\n",
    "            \"Write Python code for the following instruction:\\n\"\n",
    "            \"Instruction: {{instruction}}\\n\\n\"\n",
    "            \"Important Guidelines:\\n\"\n",
    "            \"* Code Quality: Your code should be clean, complete, self-contained, and accurate.\\n\"\n",
    "            \"* Code Validity: Please ensure that your Python code is executable and does not contain any errors.\\n\"\n",
    "            \"* Packages: Remember to import any necessary libraries, and to use all libraries you import.\\n\"\n",
    "            \"* Complexity & Concepts: The code should be written at a {{code_complexity}} level, making use of concepts such as {{code_concept}}.\\n\"\n",
    "        ),\n",
    "    )\n",
    ")"
   ]
  },
  {
   "cell_type": "markdown",
   "id": "936eda48",
   "metadata": {},
   "source": [
    "## 🔍 Add Validation and Evaluation\n",
    "\n",
    "Let's add post-processing steps to validate the generated code and evaluate the text-to-Python conversion."
   ]
  },
  {
   "cell_type": "code",
   "execution_count": null,
   "id": "0cd1a162",
   "metadata": {},
   "outputs": [],
   "source": [
    "from nemo_microservices.beta.data_designer.config.params.rubrics import TEXT_TO_PYTHON_LLM_JUDGE_PROMPT_TEMPLATE, PYTHON_RUBRICS\n",
    "\n",
    "\n",
    "config_builder.add_column(\n",
    "    C.CodeValidationColumn(\n",
    "        name=\"code_validity_result\",\n",
    "        model_alias=model_alias,\n",
    "        code_lang=P.CodeLang.PYTHON,\n",
    "        target_column=\"code_implementation\",\n",
    "    )\n",
    ")\n",
    "\n",
    "config_builder.add_column(\n",
    "    C.LLMJudgeColumn(\n",
    "        name=\"code_judge_result\",\n",
    "        model_alias=model_alias,\n",
    "        prompt=TEXT_TO_PYTHON_LLM_JUDGE_PROMPT_TEMPLATE,\n",
    "        rubrics=PYTHON_RUBRICS,\n",
    "    )\n",
    ")"
   ]
  },
  {
   "cell_type": "markdown",
   "id": "8732267c",
   "metadata": {},
   "source": [
    "## 👀 Generate Preview Dataset\n",
    "\n",
    "Let's generate a preview to see some data."
   ]
  },
  {
   "cell_type": "code",
   "execution_count": null,
   "id": "3c222bec",
   "metadata": {},
   "outputs": [],
   "source": [
    "# Generate a preview\n",
    "preview = data_designer_client.preview(config_builder, verbose_logging=True)"
   ]
  },
  {
   "cell_type": "code",
   "execution_count": null,
   "id": "892f6fc5",
   "metadata": {},
   "outputs": [],
   "source": [
    "preview.display_sample_record()"
   ]
  },
  {
   "cell_type": "markdown",
   "id": "3ada3096",
   "metadata": {},
   "source": [
    "## 🚀 Generate Full Dataset\n",
    "\n",
    "If you're satisfied with the preview, you can generate a larger dataset using a batch workflow."
   ]
  },
  {
   "cell_type": "code",
   "execution_count": null,
   "id": "2a064f08",
   "metadata": {},
   "outputs": [],
   "source": [
    "# Submit batch job\n",
    "job_results = data_designer_client.create(config_builder, num_records=20, wait_until_done=False)\n",
    "\n",
    "job_results.wait_until_done()"
   ]
  },
  {
   "cell_type": "code",
   "execution_count": null,
   "id": "88bfc2db",
   "metadata": {},
   "outputs": [],
   "source": [
    "dataset = job_results.load_dataset()\n",
    "print(\"\\nGenerated dataset shape:\", dataset.shape)\n",
    "\n",
    "dataset.head()"
   ]
  }
 ],
 "metadata": {
  "kernelspec": {
   "display_name": "sdg_venv",
   "language": "python",
   "name": "python3"
  },
  "language_info": {
   "codemirror_mode": {
    "name": "ipython",
    "version": 3
   },
   "file_extension": ".py",
   "mimetype": "text/x-python",
   "name": "python",
   "nbconvert_exporter": "python",
   "pygments_lexer": "ipython3",
   "version": "3.12.11"
  }
 },
 "nbformat": 4,
 "nbformat_minor": 5
}
