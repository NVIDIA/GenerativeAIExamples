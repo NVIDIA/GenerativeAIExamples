{
 "cells": [
  {
   "cell_type": "markdown",
   "id": "a9883b84",
   "metadata": {},
   "source": [
    "# 🧑‍⚕️ NeMo Data Designer: Realistic Patient Data & Physician Notes"
   ]
  },
  {
   "cell_type": "markdown",
   "metadata": {},
   "source": [
    "> ⚠️ **Warning**: NeMo Data Designer is current in Early Release and is not recommended for production use.\n",
    ">\n",
    "> **Note**: In order to run this notebook, you must have the NeMo Data Designer microservice deployed locally via docker compose. See the [deployment guide](http://docs.nvidia.com/nemo/microservices/latest/set-up/deploy-as-microservices/data-designer/docker-compose.html) for more details.\n",
    ">\n",
    "> Alternatively, you can use the [NeMo Data Designer managed service](https://build.nvidia.com/nemo/data-designer). Please refer the [intro-tutorials](../../intro-tutorials/1-the-basics.ipynb) on how to connect to it. \n",
    ">\n",
    "> **Note**: If you are using the NeMo Data Designer managed service, you will only be able to launch preview jobs. You will not be able to launch jobs using the `create` method."
   ]
  },
  {
   "cell_type": "markdown",
   "metadata": {},
   "source": [
    "This notebook demonstrates how to use NeMo Data Designer to generate realistic patient data including physician notes. We'll leverage both structured data generation and LLM capabilities to create a comprehensive medical dataset."
   ]
  },
  {
   "cell_type": "markdown",
   "metadata": {},
   "source": [
    "#### 💾 Install dependencies\n",
    "\n",
    "**IMPORTANT** 👉 If you haven't already, follow the instructions in the [README](../../README.md) to install the necessary dependencies. Note you may need to restart your kernel after setting up the environment.\n"
   ]
  },
  {
   "cell_type": "code",
   "execution_count": null,
   "metadata": {},
   "outputs": [],
   "source": [
    "from nemo_microservices import NeMoMicroservices\n",
    "from nemo_microservices.beta.data_designer import (\n",
    "    DataDesignerConfigBuilder,\n",
    "    DataDesignerClient,\n",
    ")\n",
    "from nemo_microservices.beta.data_designer.config import columns as C\n",
    "from nemo_microservices.beta.data_designer.config import params as P"
   ]
  },
  {
   "cell_type": "markdown",
   "metadata": {},
   "source": [
    "### ⚙️ Initialize the NeMo Data Designer Client\n",
    "\n",
    "- The data designer client is responsible for submitting generation requests to the Data Designer microservice.\n",
    "- In this notebook, we connect to a local deployment of data designer. You can deploy your own instance of data designer by following the deployment instructions [here](https://docs.nvidia.com/nemo/microservices/latest/set-up/deploy-as-microservices/data-designer/docker-compose.html).\n"
   ]
  },
  {
   "cell_type": "code",
   "execution_count": null,
   "metadata": {},
   "outputs": [],
   "source": [
    "data_designer_client = DataDesignerClient(client=NeMoMicroservices(base_url=\"http://localhost:8080\"))"
   ]
  },
  {
   "cell_type": "markdown",
   "metadata": {},
   "source": [
    "### 🏗️ Initialize the Data Designer Config Builder\n",
    "\n",
    "- The Data Designer config defines the dataset schema and generation process.\n",
    "\n",
    "- The config builder provides an intuitive interface for building this configuration.\n",
    "\n",
    "- You must provide a list of model configs to the builder at initialization.\n",
    "\n",
    "- This list contains the models you can choose from (via the `model_alias` argument) during the generation process.\n"
   ]
  },
  {
   "cell_type": "code",
   "execution_count": null,
   "metadata": {},
   "outputs": [],
   "source": [
    "# We specify the endpoint of the model during deployment using the model_provider_registry.\n",
    "model_id = \"nvidia/nvidia-nemotron-nano-9b-v2\"\n",
    "model_alias = \"nemotron-nano-9b-v2\""
   ]
  },
  {
   "cell_type": "code",
   "execution_count": null,
   "metadata": {},
   "outputs": [],
   "source": [
    "config_builder = DataDesignerConfigBuilder(\n",
    "    model_configs=[\n",
    "        P.ModelConfig(\n",
    "            alias=model_alias,\n",
    "            provider=\"nvidiabuild\",\n",
    "            model=model_id,\n",
    "            inference_parameters=P.InferenceParameters(\n",
    "                max_tokens=1024,\n",
    "                temperature=0.6,\n",
    "                top_p=0.95,\n",
    "            ),\n",
    "            is_reasoner=True\n",
    "        ),\n",
    "    ]\n",
    ")"
   ]
  },
  {
   "cell_type": "markdown",
   "metadata": {},
   "source": [
    "## 📊 Loading Seed Data\n",
    "\n",
    "We'll use the symptom-to-diagnosis dataset as our seed data. This dataset contains patient symptoms and corresponding diagnoses which will help generate realistic medical scenarios.\n",
    "\n",
    "**Note**: At this time, we only support using a single file as the seed. If you have multiple files you would like to use as seeds, it is recommended you consolidated these into a single file. "
   ]
  },
  {
   "cell_type": "code",
   "execution_count": null,
   "metadata": {},
   "outputs": [],
   "source": [
    "from datasets import load_dataset\n",
    "\n",
    "# Let's use the symptom-to-diagnosis dataset to seed our workflow.\n",
    "df_seed = load_dataset(\"gretelai/symptom_to_diagnosis\")[\"train\"].to_pandas()\n",
    "df_seed = df_seed.rename(columns={\"output_text\": \"diagnosis\", \"input_text\": \"patient_summary\"})\n",
    "\n",
    "print(f\"Number of records: {len(df_seed)}\")\n",
    "\n",
    "df_seed.head()"
   ]
  },
  {
   "cell_type": "code",
   "execution_count": null,
   "metadata": {},
   "outputs": [],
   "source": [
    "import os\n",
    "\n",
    "os.makedirs(\"./data\", exist_ok=True)\n",
    "df_seed.to_csv(\"./data/symptom_to_diagnosis.csv\", index=False)"
   ]
  },
  {
   "cell_type": "code",
   "execution_count": null,
   "metadata": {},
   "outputs": [],
   "source": [
    "# We use with_replacement=False, so our max num_records is 853.\n",
    "config_builder.with_seed_dataset(\n",
    "    repo_id=\"advanced/healthcare-datasets\",\n",
    "    filename=\"symptom_to_diagnosis.csv\",\n",
    "    dataset_path=\"./data/symptom_to_diagnosis.csv\",\n",
    "    sampling_strategy=\"shuffle\", # \"ordered\"\n",
    "    with_replacement=True,\n",
    "    datastore={\"endpoint\": \"http://localhost:3000/v1/hf\"}\n",
    ")"
   ]
  },
  {
   "cell_type": "code",
   "execution_count": null,
   "metadata": {},
   "outputs": [],
   "source": [
    "# Create a couple random person samplers.\n",
    "config_builder.with_person_samplers({\"patient_sampler\": {}, \"doctor_sampler\": {}})"
   ]
  },
  {
   "cell_type": "markdown",
   "metadata": {},
   "source": [
    "## 🏗️ Defining Data Structure\n",
    "\n",
    "Now we'll define the structure of our dataset by adding columns for patient information, dates, and medical details. We'll use:\n",
    "\n",
    "- `uuid` for patient identification\n",
    "- Patient personal information (`first_name`, `last_name`, `dob`, `patient_email`)\n",
    "- Medical timeline information (`symptom_onset_date`, `date_of_visit`)\n",
    "- Physician information (`physician`)"
   ]
  },
  {
   "cell_type": "code",
   "execution_count": null,
   "metadata": {},
   "outputs": [],
   "source": [
    "config_builder.add_column(\n",
    "    name=\"patient_id\",\n",
    "    type=\"uuid\",\n",
    "    params={\"prefix\": \"PT-\", \"short_form\": True, \"uppercase\": True},\n",
    ")\n",
    "\n",
    "config_builder.add_column(\n",
    "    name=\"first_name\",\n",
    "    type=\"expression\",\n",
    "    expr=\"{{patient_sampler.first_name}}\"\n",
    ")\n",
    "\n",
    "config_builder.add_column(\n",
    "    name=\"last_name\",\n",
    "    type=\"expression\",\n",
    "    expr=\"{{patient_sampler.last_name}}\"\n",
    ")\n",
    "\n",
    "\n",
    "config_builder.add_column(\n",
    "    name=\"dob\",\n",
    "    type=\"expression\",\n",
    "    expr=\"{{patient_sampler.birth_date}}\"\n",
    ")\n",
    "\n",
    "\n",
    "config_builder.add_column(\n",
    "    name=\"patient_email\",\n",
    "    type=\"expression\",\n",
    "    expr=\"{{patient_sampler.email_address}}\"\n",
    ")\n",
    "\n",
    "\n",
    "config_builder.add_column(\n",
    "    name=\"symptom_onset_date\",\n",
    "    type=\"datetime\",\n",
    "    params={\"start\": \"2024-01-01\", \"end\": \"2024-12-31\"},\n",
    ")\n",
    "\n",
    "config_builder.add_column(\n",
    "    name=\"date_of_visit\",\n",
    "    type=\"timedelta\",\n",
    "    params={\n",
    "        \"dt_min\": 1,\n",
    "        \"dt_max\": 30,\n",
    "        \"reference_column_name\": \"symptom_onset_date\"\n",
    "    },\n",
    ")\n",
    "\n",
    "config_builder.add_column(\n",
    "    name=\"physician\",\n",
    "    type=\"expression\",\n",
    "    expr=\"Dr. {{doctor_sampler.first_name}} {{doctor_sampler.last_name}}\",\n",
    ")"
   ]
  },
  {
   "cell_type": "markdown",
   "metadata": {},
   "source": [
    "### 📝 LLM-Generated Physician Notes\n",
    "\n",
    "The final and most complex column uses an LLM to generate realistic physician notes. We provide:\n",
    "\n",
    "- Context about the patient and their condition\n",
    "- Patient summary from our seed data\n",
    "- Clear formatting instructions\n",
    "\n",
    "This will create detailed medical notes that reflect the patient's diagnosis and visit information. Note how we reference other columns in the prompt using Jinja templating syntax with double curly braces `{{column_name}}`."
   ]
  },
  {
   "cell_type": "code",
   "execution_count": null,
   "metadata": {},
   "outputs": [],
   "source": [
    "# Note we have access to the seed data fields.\n",
    "config_builder.add_column(\n",
    "    name=\"physician_notes\",\n",
    "    type=\"llm-text\",\n",
    "    model_alias=model_alias,\n",
    "    prompt=\"\"\"\\\n",
    "<context>\n",
    "You are a primary-care physician who just had an appointment with {{first_name}} {{last_name}},\n",
    "who has been struggling with symptoms from {{diagnosis}} since {{symptom_onset_date}}.\n",
    "The date of today's visit is {{date_of_visit}}.\n",
    "</context>\n",
    "\n",
    "<patient_summary_of_symptoms>\n",
    "{{patient_summary}}\n",
    "</patient_summary_of_symptoms>\n",
    "\n",
    "<task>\n",
    "Write careful notes about your visit with {{first_name}},\n",
    "as {{physician}}.\n",
    "\n",
    "Format the notes as a busy doctor might.\n",
    "</task>\n",
    "\"\"\"\n",
    " )"
   ]
  },
  {
   "cell_type": "markdown",
   "metadata": {},
   "source": [
    "## 👀 Previewing the Dataset\n",
    "\n",
    "Let's generate a preview to see how our data looks before creating the full dataset. This helps verify that our configuration is working as expected."
   ]
  },
  {
   "cell_type": "code",
   "execution_count": null,
   "metadata": {},
   "outputs": [],
   "source": [
    "preview = data_designer_client.preview(config_builder, verbose_logging=True)"
   ]
  },
  {
   "cell_type": "code",
   "execution_count": null,
   "metadata": {},
   "outputs": [],
   "source": [
    "preview.display_sample_record()"
   ]
  },
  {
   "cell_type": "code",
   "execution_count": null,
   "metadata": {},
   "outputs": [],
   "source": [
    "preview.dataset"
   ]
  },
  {
   "cell_type": "markdown",
   "metadata": {},
   "source": [
    "## 🚀 Generating the Full Dataset\n",
    "\n",
    "Now that we've verified our configuration works correctly, let's generate a larger dataset with 100 records. We'll wait for the workflow to complete so we can access the data immediately."
   ]
  },
  {
   "cell_type": "code",
   "execution_count": null,
   "metadata": {},
   "outputs": [],
   "source": [
    "job_results = data_designer_client.create(config_builder, num_records=20, wait_until_done=False)\n",
    "job_results.wait_until_done()"
   ]
  },
  {
   "cell_type": "code",
   "execution_count": null,
   "metadata": {},
   "outputs": [],
   "source": [
    "dataset = job_results.load_dataset()\n",
    "print(\"\\nGenerated dataset shape:\", dataset.shape)\n",
    "\n",
    "dataset.head()"
   ]
  },
  {
   "cell_type": "code",
   "execution_count": null,
   "metadata": {},
   "outputs": [],
   "source": [
    "csv_filename = f\"./data/physician_notes_with_realistic_personal_details.csv\"\n",
    "dataset.to_csv(csv_filename, index=False)\n",
    "print(f\"Dataset with {len(dataset)} records saved to {csv_filename}\")"
   ]
  }
 ],
 "metadata": {
  "kernelspec": {
   "display_name": "sdg_venv",
   "language": "python",
   "name": "python3"
  },
  "language_info": {
   "codemirror_mode": {
    "name": "ipython",
    "version": 3
   },
   "file_extension": ".py",
   "mimetype": "text/x-python",
   "name": "python",
   "nbconvert_exporter": "python",
   "pygments_lexer": "ipython3",
   "version": "3.12.11"
  }
 },
 "nbformat": 4,
 "nbformat_minor": 2
}
