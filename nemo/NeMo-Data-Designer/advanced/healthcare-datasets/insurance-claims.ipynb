{
    "cells": [
        {
            "cell_type": "markdown",
            "id": "114035a1",
            "metadata": {},
            "source": [
                "# 🎨 NeMo Data Designer: Synthetic Insurance Claims Dataset Generator"
            ]
        },
        {
            "cell_type": "markdown",
            "id": "a38fd337",
            "metadata": {},
            "source": [
                "> ⚠️ **Warning**: NeMo Data Designer is current in Early Release and is not recommended for production use.\n",
                ">\n",
                "> **Note**: In order to run this notebook, you must have the NeMo Data Designer microservice deployed locally via docker compose. See the [deployment guide](http://docs.nvidia.com/nemo/microservices/latest/set-up/deploy-as-microservices/data-designer/docker-compose.html) for more details.\n",
                ">\n",
                "> Alternatively, you can use the [NeMo Data Designer managed service](https://build.nvidia.com/nemo/data-designer). Please refer the [intro-tutorials](../../intro-tutorials/1-the-basics.ipynb) on how to connect to it. \n",
                ">\n",
                "> **Note**: If you are using the NeMo Data Designer managed service, you will only be able to launch preview jobs. You will not be able to launch jobs using the `create` method."
            ]
        },
        {
            "cell_type": "markdown",
            "metadata": {},
            "source": [
                "This notebook creates a synthetic dataset of insurance claims with realistic PII (Personally Identifiable Information) for testing data protection and anonymization techniques.\n",
                "\n",
                "The dataset includes:\n",
                "- Policy and claim details\n",
                "- Policyholder and claimant information (PII)\n",
                "- Claim descriptions and adjuster notes with embedded PII\n",
                "- Medical information for relevant claims\n",
                "\n",
                "We'll use NeMo Data Designer to create this fully synthetic dataset from scratch."
            ]
        },
        {
            "cell_type": "markdown",
            "id": "403557a7",
            "metadata": {},
            "source": [
                "\n",
                "#### 💾 Install dependencies\n",
                "\n",
                "**IMPORTANT** 👉 If you haven't already, follow the instructions in the [README](../../README.md) to install the necessary dependencies. Note you may need to restart your kernel after setting up the environment.\n"
            ]
        },
        {
            "cell_type": "code",
            "execution_count": null,
            "id": "78d08106",
            "metadata": {},
            "outputs": [],
            "source": [
                "from nemo_microservices import NeMoMicroservices\n",
                "from nemo_microservices.beta.data_designer import (\n",
                "    DataDesignerConfigBuilder,\n",
                "    DataDesignerClient,\n",
                ")\n",
                "from nemo_microservices.beta.data_designer.config import columns as C\n",
                "from nemo_microservices.beta.data_designer.config import params as P"
            ]
        },
        {
            "cell_type": "markdown",
            "id": "1b9390a6",
            "metadata": {},
            "source": [
                "### ⚙️ Initialize the NeMo Data Designer Client\n",
                "\n",
                "- The data designer client is responsible for submitting generation requests to the Data Designer microservice.\n",
                "- In this notebook, we connect to a local deployment of data designer. You can deploy your own instance of data designer by following the deployment instructions [here](https://docs.nvidia.com/nemo/microservices/latest/set-up/deploy-as-microservices/data-designer/docker-compose.html).\n"
            ]
        },
        {
            "cell_type": "code",
            "execution_count": null,
            "id": "471686a2",
            "metadata": {},
            "outputs": [],
            "source": [
                "data_designer_client = DataDesignerClient(client=NeMoMicroservices(base_url=\"http://localhost:8080\"))"
            ]
        },
        {
            "cell_type": "markdown",
            "id": "a387a821",
            "metadata": {},
            "source": [
                "### 🏗️ Initialize the Data Designer Config Builder\n",
                "\n",
                "- The Data Designer config defines the dataset schema and generation process.\n",
                "\n",
                "- The config builder provides an intuitive interface for building this configuration.\n",
                "\n",
                "- You must provide a list of model configs to the builder at initialization.\n",
                "\n",
                "- This list contains the models you can choose from (via the `model_alias` argument) during the generation process.\n"
            ]
        },
        {
            "cell_type": "code",
            "execution_count": null,
            "id": "6ab59df6",
            "metadata": {},
            "outputs": [],
            "source": [
                "# We specify the endpoint of the model during deployment using the model_provider_registry.\n",
                "model_id = \"nvidia/nvidia-nemotron-nano-9b-v2\"\n",
                "model_alias = \"nemotron-nano-9b-v2\""
            ]
        },
        {
            "cell_type": "code",
            "execution_count": null,
            "id": "07a0a8e2",
            "metadata": {},
            "outputs": [],
            "source": [
                "config_builder = DataDesignerConfigBuilder(\n",
                "    model_configs=[\n",
                "        P.ModelConfig(\n",
                "            alias=model_alias,\n",
                "            provider=\"nvidiabuild\",\n",
                "            model=model_id,\n",
                "            inference_parameters=P.InferenceParameters(\n",
                "                max_tokens=1024,\n",
                "                temperature=0.6,\n",
                "                top_p=0.95,\n",
                "            ),\n",
                "            is_reasoner=True\n",
                "        ),\n",
                "    ]\n",
                ")"
            ]
        },
        {
            "cell_type": "markdown",
            "metadata": {},
            "source": [
                "## Creating Person Samplers\n",
                "\n",
                "We'll create person samplers to generate consistent personal information for different roles in the insurance claims process:\n",
                "- Policyholders (primary insurance customers)\n",
                "- Claimants (who may be different from policyholders)\n",
                "- Adjusters (insurance company employees who evaluate claims)\n",
                "- Physicians (for medical-related claims)"
            ]
        },
        {
            "cell_type": "code",
            "execution_count": null,
            "metadata": {},
            "outputs": [],
            "source": [
                "# Create person samplers for different roles, using en_GB locale since en_US with PGM is not supported in streaming mode\n",
                "config_builder.with_person_samplers({\n",
                "    \"policyholder\": {\"locale\": \"en_US\"},\n",
                "    \"claimant\": {\"locale\": \"en_US\"},\n",
                "    \"adjuster\": {\"locale\": \"en_US\"},\n",
                "    \"physician\": {\"locale\": \"en_US\"}\n",
                "})"
            ]
        },
        {
            "cell_type": "markdown",
            "metadata": {},
            "source": [
                "## Creating Policy Information\n",
                "\n",
                "Next, we'll create the basic policy information:\n",
                "- Policy number (unique identifier)\n",
                "- Policy type (Auto, Home, Health, etc.)\n",
                "- Coverage details (based on policy type)\n",
                "- Policy start and end dates"
            ]
        },
        {
            "cell_type": "code",
            "execution_count": null,
            "metadata": {},
            "outputs": [],
            "source": [
                "# Policy identifiers\n",
                "config_builder.add_column(\n",
                "    name=\"policy_number\",\n",
                "    type=\"uuid\",\n",
                "    params={\"prefix\": \"POL-\", \"short_form\": True, \"uppercase\": True}\n",
                ")\n",
                "\n",
                "# Policy type\n",
                "config_builder.add_column(\n",
                "    name=\"policy_type\",\n",
                "    type=\"category\",\n",
                "    params={\n",
                "        \"values\": [\"Auto\", \"Home\", \"Health\", \"Life\", \"Travel\"],\n",
                "        \"weights\": [0.4, 0.3, 0.15, 0.1, 0.05]\n",
                "    }\n",
                ")\n",
                "\n",
                "# Coverage types based on policy type\n",
                "config_builder.add_column(\n",
                "    name=\"coverage_type\",\n",
                "    type=\"subcategory\",\n",
                "    params={\n",
                "        \"category\": \"policy_type\",\n",
                "        \"values\": {\n",
                "            \"Auto\": [\"Liability\", \"Comprehensive\", \"Collision\", \"Uninsured Motorist\"],\n",
                "            \"Home\": [\"Dwelling\", \"Personal Property\", \"Liability\", \"Natural Disaster\"],\n",
                "            \"Health\": [\"Emergency Care\", \"Primary Care\", \"Specialist\", \"Prescription\"],\n",
                "            \"Life\": [\"Term\", \"Whole Life\", \"Universal Life\", \"Variable Life\"],\n",
                "            \"Travel\": [\"Trip Cancellation\", \"Medical Emergency\", \"Lost Baggage\", \"Flight Accident\"]\n",
                "        }\n",
                "    }\n",
                ")\n",
                "\n",
                "# Policy dates\n",
                "config_builder.add_column(\n",
                "    name=\"policy_start_date\",\n",
                "    type=\"datetime\",\n",
                "    params={\"start\": \"2022-01-01\", \"end\": \"2023-06-30\"},\n",
                "    convert_to=\"%Y-%m-%d\"\n",
                ")\n",
                "\n",
                "config_builder.add_column(\n",
                "    name=\"policy_end_date\",\n",
                "    type=\"datetime\",\n",
                "    params={\"start\": \"2023-07-01\", \"end\": \"2024-12-31\"},\n",
                "    convert_to=\"%Y-%m-%d\"\n",
                ")"
            ]
        },
        {
            "cell_type": "markdown",
            "metadata": {},
            "source": [
                "## Policyholder Information (PII)\n",
                "\n",
                "Now we'll add fields for the policyholder's personal information. This includes PII elements that would typically be subject to privacy regulations:\n",
                "- First and last name\n",
                "- Birth date\n",
                "- Contact information (email)\n",
                "\n",
                "These fields use expressions to reference the person sampler we defined earlier."
            ]
        },
        {
            "cell_type": "code",
            "execution_count": null,
            "metadata": {},
            "outputs": [],
            "source": [
                "# Policyholder personal information\n",
                "config_builder.add_column(\n",
                "    name=\"policyholder_first_name\",\n",
                "    type=\"expression\",\n",
                "    expr=\"{{policyholder.first_name}}\"\n",
                ")\n",
                "\n",
                "config_builder.add_column(\n",
                "    name=\"policyholder_last_name\",\n",
                "    type=\"expression\",\n",
                "    expr=\"{{policyholder.last_name}}\"\n",
                ")\n",
                "\n",
                "config_builder.add_column(\n",
                "    name=\"policyholder_birth_date\",\n",
                "    type=\"expression\",\n",
                "    expr=\"{{policyholder.birth_date}}\"\n",
                ")\n",
                "\n",
                "config_builder.add_column(\n",
                "    name=\"policyholder_email\",\n",
                "    type=\"expression\",\n",
                "    expr=\"{{policyholder.email_address}}\"\n",
                ")"
            ]
        },
        {
            "cell_type": "markdown",
            "metadata": {},
            "source": [
                "## Claim Information\n",
                "\n",
                "Next, we'll create the core claim details:\n",
                "- Claim ID (unique identifier)\n",
                "- Dates (filing date, incident date)\n",
                "- Claim status (in process, approved, denied, etc.)\n",
                "- Financial information (amount claimed, amount approved)"
            ]
        },
        {
            "cell_type": "code",
            "execution_count": null,
            "metadata": {},
            "outputs": [],
            "source": [
                "# Claim identifier\n",
                "config_builder.add_column(\n",
                "    name=\"claim_id\",\n",
                "    type=\"uuid\",\n",
                "    params={\"prefix\": \"CLM-\", \"short_form\": True, \"uppercase\": True}\n",
                ")\n",
                "\n",
                "# Claim dates\n",
                "config_builder.add_column(\n",
                "    name=\"incident_date\",\n",
                "    type=\"datetime\",\n",
                "    params={\"start\": \"2023-01-01\", \"end\": \"2023-12-31\"},\n",
                "    convert_to=\"%Y-%m-%d\"\n",
                ")\n",
                "\n",
                "config_builder.add_column(\n",
                "    name=\"filing_date\",\n",
                "    type=\"timedelta\",\n",
                "    params={\n",
                "        \"dt_min\": 1,\n",
                "        \"dt_max\": 30,\n",
                "        \"reference_column_name\": \"incident_date\",\n",
                "        \"unit\": \"D\"\n",
                "    },\n",
                "    convert_to=\"%Y-%m-%d\"\n",
                ")\n",
                "\n",
                "# Claim status\n",
                "config_builder.add_column(\n",
                "    name=\"claim_status\",\n",
                "    type=\"category\",\n",
                "    params={\n",
                "        \"values\": [\"Filed\", \"Under Review\", \"Additional Info Requested\", \"Approved\", \"Denied\", \"Appealed\"],\n",
                "        \"weights\": [0.15, 0.25, 0.15, 0.25, 0.15, 0.05]\n",
                "    }\n",
                ")\n",
                "\n",
                "# Financial information\n",
                "config_builder.add_column(\n",
                "    name=\"claim_amount\",\n",
                "    type=\"gaussian\",\n",
                "    params={\"mean\": 5000, \"stddev\": 2000, \"min\": 500}\n",
                ")\n",
                "\n",
                "config_builder.add_column(\n",
                "    name=\"approved_percentage\",\n",
                "    type=\"uniform\",\n",
                "    params={\"low\": 0.0, \"high\": 1.0}\n",
                ")\n",
                "\n",
                "# Calculate approved amount based on percentage\n",
                "config_builder.add_column(\n",
                "    name=\"approved_amount\",\n",
                "    type=\"expression\",\n",
                "    expr=\"{{claim_amount * approved_percentage}}\"\n",
                ")"
            ]
        },
        {
            "cell_type": "markdown",
            "metadata": {},
            "source": [
                "## Claimant Information\n",
                "\n",
                "In some cases, the claimant (person filing the claim) may be different from the policyholder. \n",
                "We'll create fields to capture claimant information and their relationship to the policyholder:\n",
                "- Flag indicating if claimant is the policyholder\n",
                "- Claimant personal details (when different from policyholder)\n",
                "- Relationship to policyholder"
            ]
        },
        {
            "cell_type": "code",
            "execution_count": null,
            "metadata": {},
            "outputs": [],
            "source": [
                "# Determine if claimant is the policyholder\n",
                "config_builder.add_column(\n",
                "    name=\"is_claimant_policyholder\",\n",
                "    type=\"bernoulli\",\n",
                "    params={\"p\": 0.7}\n",
                ")\n",
                "\n",
                "# Claimant personal information (when different from policyholder)\n",
                "config_builder.add_column(\n",
                "    name=\"claimant_first_name\",\n",
                "    type=\"expression\",\n",
                "    expr=\"{{claimant.first_name}}\"\n",
                ")\n",
                "\n",
                "config_builder.add_column(\n",
                "    name=\"claimant_last_name\",\n",
                "    type=\"expression\",\n",
                "    expr=\"{{claimant.last_name}}\"\n",
                ")\n",
                "\n",
                "config_builder.add_column(\n",
                "    name=\"claimant_birth_date\",\n",
                "    type=\"expression\",\n",
                "    expr=\"{{claimant.birth_date}}\"\n",
                ")\n",
                "\n",
                "# Relationship to policyholder\n",
                "config_builder.add_column(\n",
                "    name=\"relationship_to_policyholder\",\n",
                "    type=\"category\",\n",
                "    params={\"values\": [\"Self\",\"Spouse\", \"Child\", \"Parent\", \"Sibling\", \"Other\"]},\n",
                ")"
            ]
        },
        {
            "cell_type": "markdown",
            "metadata": {},
            "source": [
                "## Claim Adjuster Information\n",
                "\n",
                "Insurance claims are typically handled by claim adjusters. We'll add information about \n",
                "the adjuster assigned to each claim:\n",
                "- Adjuster name\n",
                "- Assignment date\n",
                "- Contact information"
            ]
        },
        {
            "cell_type": "code",
            "execution_count": null,
            "metadata": {},
            "outputs": [],
            "source": [
                "# Adjuster information\n",
                "config_builder.add_column(\n",
                "    name=\"adjuster_first_name\",\n",
                "    type=\"expression\",\n",
                "    expr=\"{{adjuster.first_name}}\"\n",
                ")\n",
                "\n",
                "config_builder.add_column(\n",
                "    name=\"adjuster_last_name\",\n",
                "    type=\"expression\",\n",
                "    expr=\"{{adjuster.last_name}}\"\n",
                ")\n",
                "\n",
                "# Adjuster assignment date\n",
                "config_builder.add_column(\n",
                "    name=\"adjuster_assignment_date\",\n",
                "    type=\"timedelta\",\n",
                "    params={\n",
                "        \"dt_min\": 0,\n",
                "        \"dt_max\": 5,\n",
                "        \"reference_column_name\": \"filing_date\",\n",
                "        \"unit\": \"D\"\n",
                "    },\n",
                "    convert_to=\"%Y-%m-%d\"\n",
                ")"
            ]
        },
        {
            "cell_type": "markdown",
            "metadata": {},
            "source": [
                "## Medical Information\n",
                "\n",
                "For health insurance claims and injury-related claims in other policy types, \n",
                "we'll include medical information:\n",
                "- Flag indicating if there's a medical component to the claim\n",
                "- Medical claim details (when applicable)"
            ]
        },
        {
            "cell_type": "code",
            "execution_count": null,
            "metadata": {},
            "outputs": [],
            "source": [
                "# Is there a medical component to this claim?\n",
                "config_builder.add_column(\n",
                "    name=\"has_medical_component\",\n",
                "    type=\"bernoulli\",\n",
                "    params={\"p\": 0.4}\n",
                ")\n",
                "\n",
                "# Physician information using conditional logic\n",
                "config_builder.add_column(\n",
                "    name=\"physician_first_name\",\n",
                "    type=\"expression\",\n",
                "    expr=\"{{physician.first_name}}\",\n",
                "    conditional_params={\"has_medical_component == 0\": {\"expr\": \"'NA'\"}}\n",
                ")\n",
                "\n",
                "config_builder.add_column(\n",
                "    name=\"physician_last_name\",\n",
                "    type=\"expression\",\n",
                "    expr=\"{{physician.last_name}}\",\n",
                "    conditional_params={\"has_medical_component == 0\": {\"expr\": \"'NA'\"}}\n",
                ")"
            ]
        },
        {
            "cell_type": "markdown",
            "metadata": {},
            "source": [
                "## Free Text Fields with PII References\n",
                "\n",
                "These fields will contain natural language text that incorporates PII elements from other fields.\n",
                "This is particularly useful for testing PII detection and redaction within unstructured text:\n",
                "\n",
                "1. Incident Description - The policyholder/claimant's account of what happened\n",
                "2. Adjuster Notes - The insurance adjuster's professional documentation\n",
                "3. Medical Notes - For claims with a medical component\n",
                "\n",
                "The LLM will be prompted to include PII elements like names, dates, and contact information\n",
                "within the narrative text."
            ]
        },
        {
            "cell_type": "code",
            "execution_count": null,
            "metadata": {},
            "outputs": [],
            "source": [
                "# Incident description from policyholder/claimant\n",
                "config_builder.add_column(\n",
                "    name=\"incident_description\",\n",
                "    type=\"llm-text\",\n",
                "    model_alias=model_alias,\n",
                "    prompt=\"\"\"\n",
                "    Write a detailed description of an insurance incident for a {{policy_type}} insurance policy with {{coverage_type}} coverage.\n",
                "\n",
                "    The policyholder is {{policyholder_first_name}} {{policyholder_last_name}} (email: {{policyholder_email}}).\n",
                "\n",
                "    The incident occurred on {{incident_date}} and resulted in approximately ${{claim_amount}} in damages/expenses.\n",
                "\n",
                "    Write this from the perspective of the person filing the claim. Include specific details that would be relevant\n",
                "    to processing this type of claim. Make it detailed but realistic, as if written by someone describing an actual incident.\n",
                "\n",
                "    Reference the policyholder's contact information at least once in the narrative.\n",
                "    \"\"\"\n",
                ")\n",
                "\n",
                "# Adjuster notes\n",
                "config_builder.add_column(\n",
                "    name=\"adjuster_notes\",\n",
                "    type=\"llm-text\",\n",
                "    model_alias=model_alias,\n",
                "    prompt=\"\"\"\n",
                "    Write detailed insurance adjuster notes for claim {{claim_id}}.\n",
                "\n",
                "    POLICY INFORMATION:\n",
                "    - Policy #: {{policy_number}}\n",
                "    - Type: {{policy_type}}, {{coverage_type}} coverage\n",
                "    - Policyholder: {{policyholder_first_name}} {{policyholder_last_name}}\n",
                "\n",
                "    CLAIM DETAILS:\n",
                "    - Incident Date: {{incident_date}}\n",
                "    - Filing Date: {{filing_date}}\n",
                "    - Claimed Amount: ${{claim_amount}}\n",
                "\n",
                "    As adjuster {{adjuster_first_name}} {{adjuster_last_name}}, write professional notes documenting:\n",
                "    1. Initial contact with the policyholder\n",
                "    2. Assessment of the claim based on the incident description\n",
                "    3. Coverage determination under the policy\n",
                "    4. Recommended next steps\n",
                "\n",
                "    Include at least one mention of contacting the policyholder using their full name and email ({{policyholder_email}}).\n",
                "    Use a formal, professional tone typical of insurance documentation.\n",
                "    \"\"\"\n",
                ")\n",
                "\n",
                "# Medical notes (for claims with medical component)\n",
                "config_builder.add_column(\n",
                "    name=\"medical_notes\",\n",
                "    type=\"llm-text\",\n",
                "    model_alias=model_alias,\n",
                "    prompt=\"\"\"\n",
                "    {% if has_medical_component %}\\\n",
                "    Write medical notes related to insurance claim {{ claim_id }}.\n",
                "\n",
                "    Patient: {{policyholder_first_name}} {{policyholder_last_name}}, DOB: {{policyholder_birth_date}}\n",
                "\n",
                "    As Dr. {{physician_first_name}} {{physician_last_name}}, document:\n",
                "\n",
                "    1. Chief complaint\n",
                "    2. Medical assessment\n",
                "    3. Treatment recommendations\n",
                "    4. Follow-up instructions\n",
                "\n",
                "    Include appropriate medical terminology relevant to a {{policy_type}} insurance claim.\n",
                "    If this is for a Health policy, focus on the {{coverage_type}} aspects.\n",
                "    For other policy types, focus on injury assessment relevant to the incident.\n",
                "\n",
                "    Use a professional medical documentation style that includes specific references\n",
                "    to the patient by name and birth date.\\\n",
                "\n",
                "    The language should be natural and different from one physician to the next.\\\n",
                "\n",
                "    Vary the length of the response. Keep some notes brief and others more detailed.\\\n",
                "    {% else -%}\\\n",
                "    Repeat the following: \"No medical claim\"\\\n",
                "    {% endif -%}\\\n",
                "    \"\"\"\n",
                ")"
            ]
        },
        {
            "cell_type": "markdown",
            "metadata": {},
            "source": [
                "## Adding Constraints\n",
                "\n",
                "To ensure our data is logically consistent, we'll add some constraints:\n",
                "- Incident date must be during the policy term\n",
                "- Filing date must be after incident date"
            ]
        },
        {
            "cell_type": "code",
            "execution_count": null,
            "metadata": {},
            "outputs": [],
            "source": [
                "# Ensure incident date falls within policy period\n",
                "config_builder.add_constraint(\n",
                "    target_column=\"incident_date\",\n",
                "    type=\"column_inequality\",\n",
                "    params={\"operator\": \"ge\", \"rhs\": \"policy_start_date\"}\n",
                ")\n",
                "\n",
                "config_builder.add_constraint(\n",
                "    target_column=\"incident_date\",\n",
                "    type=\"column_inequality\",\n",
                "    params={\"operator\": \"le\", \"rhs\": \"policy_end_date\"}\n",
                ")\n",
                "\n",
                "# Ensure filing date is after incident date\n",
                "config_builder.add_constraint(\n",
                "    target_column=\"filing_date\",\n",
                "    type=\"column_inequality\",\n",
                "    params={\"operator\": \"gt\", \"rhs\": \"incident_date\"}\n",
                ")"
            ]
        },
        {
            "cell_type": "markdown",
            "metadata": {},
            "source": [
                "## Preview and Generate Dataset\n",
                "\n",
                "First, we'll preview a small sample to verify our configuration is working correctly.\n",
                "Then we'll generate the full dataset with the desired number of records."
            ]
        },
        {
            "cell_type": "code",
            "execution_count": null,
            "metadata": {},
            "outputs": [],
            "source": [
                "# Preview a few records\n",
                "preview = data_designer_client.preview(config_builder, verbose_logging=True)"
            ]
        },
        {
            "cell_type": "code",
            "execution_count": null,
            "metadata": {},
            "outputs": [],
            "source": [
                "# More previews\n",
                "preview.display_sample_record()"
            ]
        },
        {
            "cell_type": "code",
            "execution_count": null,
            "metadata": {},
            "outputs": [],
            "source": [
                "# Generate the full dataset\n",
                "job_results = data_designer_client.create(config_builder, num_records=20, wait_until_done=False)\n",
                "job_results.wait_until_done()"
            ]
        },
        {
            "cell_type": "code",
            "execution_count": null,
            "metadata": {},
            "outputs": [],
            "source": [
                "# Display the first few rows of the generated dataset\n",
                "dataset = job_results.load_dataset()\n",
                "print(\"\\nGenerated dataset shape:\", dataset.shape)\n",
                "\n",
                "dataset.head()"
            ]
        },
        {
            "cell_type": "code",
            "execution_count": null,
            "metadata": {},
            "outputs": [],
            "source": [
                "import os\n",
                "os.makedirs(\"./data\", exist_ok=True)\n",
                "\n",
                "# Save the dataset to CSV\n",
                "dataset.to_csv(\"./data/insurance_claims_with_pii.csv\", index=False)\n",
                "print(f\"Dataset with {len(dataset)} records saved to ./data/insurance_claims_with_pii.csv\")"
            ]
        }
    ],
    "metadata": {
        "kernelspec": {
            "display_name": "sdg_venv",
            "language": "python",
            "name": "python3"
        },
        "language_info": {
            "codemirror_mode": {
                "name": "ipython",
                "version": 3
            },
            "file_extension": ".py",
            "mimetype": "text/x-python",
            "name": "python",
            "nbconvert_exporter": "python",
            "pygments_lexer": "ipython3",
            "version": "3.12.11"
        }
    },
    "nbformat": 4,
    "nbformat_minor": 5
}
