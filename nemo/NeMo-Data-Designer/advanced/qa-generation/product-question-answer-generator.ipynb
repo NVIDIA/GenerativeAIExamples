{
    "cells": [
        {
            "cell_type": "markdown",
            "id": "6e8f02ab",
            "metadata": {},
            "source": [
                "# 🎨 NeMo Data Designer: Product Information Dataset Generator with Q&A"
            ]
        },
        {
            "cell_type": "markdown",
            "id": "a090e0c9",
            "metadata": {},
            "source": [
                "> ⚠️ **Warning**: NeMo Data Designer is current in Early Release and is not recommended for production use.\n",
                ">\n",
                "> **Note**: In order to run this notebook, you must have the NeMo Data Designer microservice deployed locally via docker compose. See the [deployment guide](http://docs.nvidia.com/nemo/microservices/latest/set-up/deploy-as-microservices/data-designer/docker-compose.html) for more details.\n",
                ">\n",
                "> Alternatively, you can use the [NeMo Data Designer managed service](https://build.nvidia.com/nemo/data-designer). Please refer the [intro-tutorials](../../intro-tutorials/1-the-basics.ipynb) on how to connect to it. \n",
                ">\n",
                "> **Note**: If you are using the NeMo Data Designer managed service, you will only be able to launch preview jobs. You will not be able to launch jobs using the `create` method."
            ]
        },
        {
            "cell_type": "markdown",
            "id": "38ebcf4d",
            "metadata": {
                "id": "vIH9DEmYimTb"
            },
            "source": [
                "This notebook demonstrates how to use NeMo Data Designer to create a synthetic dataset of product information with corresponding questions and answers. This dataset can be used for training and evaluating Q&A systems focused on product information."
            ]
        },
        {
            "cell_type": "markdown",
            "id": "464f9245",
            "metadata": {},
            "source": [
                "\n",
                "#### 💾 Install dependencies\n",
                "\n",
                "**IMPORTANT** 👉 If you haven't already, follow the instructions in the [README](../../README.md) to install the necessary dependencies. Note you may need to restart your kernel after setting up the environment.\n"
            ]
        },
        {
            "cell_type": "code",
            "execution_count": null,
            "id": "0914a5b4",
            "metadata": {},
            "outputs": [],
            "source": [
                "from nemo_microservices import NeMoMicroservices\n",
                "from nemo_microservices.beta.data_designer import (\n",
                "    DataDesignerConfigBuilder,\n",
                "    DataDesignerClient,\n",
                ")\n",
                "from nemo_microservices.beta.data_designer.config import columns as C\n",
                "from nemo_microservices.beta.data_designer.config import params as P"
            ]
        },
        {
            "cell_type": "markdown",
            "id": "8b0bf13e",
            "metadata": {},
            "source": [
                "### ⚙️ Initialize the NeMo Data Designer Client\n",
                "\n",
                "- The data designer client is responsible for submitting generation requests to the Data Designer microservice.\n",
                "- In this notebook, we connect to a local deployment of data designer. You can deploy your own instance of data designer by following the deployment instructions [here](https://docs.nvidia.com/nemo/microservices/latest/set-up/deploy-as-microservices/data-designer/docker-compose.html).\n"
            ]
        },
        {
            "cell_type": "code",
            "execution_count": null,
            "id": "ad95d658",
            "metadata": {},
            "outputs": [],
            "source": [
                "data_designer_client = DataDesignerClient(client=NeMoMicroservices(base_url=\"http://localhost:8080\"))"
            ]
        },
        {
            "cell_type": "markdown",
            "id": "99d7d4a9",
            "metadata": {},
            "source": [
                "### 🏗️ Initialize the Data Designer Config Builder\n",
                "\n",
                "- The Data Designer config defines the dataset schema and generation process.\n",
                "\n",
                "- The config builder provides an intuitive interface for building this configuration.\n",
                "\n",
                "- You must provide a list of model configs to the builder at initialization.\n",
                "\n",
                "- This list contains the models you can choose from (via the `model_alias` argument) during the generation process.\n"
            ]
        },
        {
            "cell_type": "code",
            "execution_count": null,
            "id": "74790c56",
            "metadata": {},
            "outputs": [],
            "source": [
                "# We specify the endpoint of the model during deployment using the model_provider_registry.\n",
                "model_id = \"nvidia/nvidia-nemotron-nano-9b-v2\"\n",
                "model_alias = \"nemotron-nano-9b-v2\""
            ]
        },
        {
            "cell_type": "code",
            "execution_count": null,
            "id": "0df8b7e0",
            "metadata": {},
            "outputs": [],
            "source": [
                "config_builder = DataDesignerConfigBuilder(\n",
                "    model_configs=[\n",
                "        P.ModelConfig(\n",
                "            alias=model_alias,\n",
                "            provider=\"nvidiabuild\",\n",
                "            model=model_id,\n",
                "            inference_parameters=P.InferenceParameters(\n",
                "                max_tokens=1024,\n",
                "                temperature=0.6,\n",
                "                top_p=0.95,\n",
                "            ),\n",
                "            is_reasoner=True\n",
                "        ),\n",
                "    ]\n",
                ")"
            ]
        },
        {
            "cell_type": "markdown",
            "id": "dedb3311",
            "metadata": {},
            "source": [
                "## Defining Data Structures\n",
                "\n",
                "Now we'll define the data models and evaluation rubrics for our product information dataset."
            ]
        },
        {
            "cell_type": "code",
            "execution_count": null,
            "id": "34f67410",
            "metadata": {
                "id": "l5q7YysHji8O"
            },
            "outputs": [],
            "source": [
                "import string\n",
                "from pydantic import BaseModel\n",
                "from pydantic import Field"
            ]
        },
        {
            "cell_type": "code",
            "execution_count": null,
            "id": "cc61c255",
            "metadata": {},
            "outputs": [],
            "source": [
                "# Define product information structure\n",
                "class ProductInfo(BaseModel):\n",
                "  product_name: str = Field(..., description=\"A realistic product name for the market.\")\n",
                "  key_features: list[str] = Field(..., min_length=1, max_length=3, description=\"Key product features.\")\n",
                "  description: str = Field(..., description=\"A short, engaging description of what the product does, highlighting a unique but believable feature.\")\n",
                "  price_usd: float = Field(..., description=\"The stated price in USD.\")"
            ]
        },
        {
            "cell_type": "code",
            "execution_count": null,
            "id": "fc30ca31",
            "metadata": {},
            "outputs": [],
            "source": [
                "# Define evaluation rubrics for answer quality\n",
                "CompletenessRubric = P.Rubric(\n",
                "    name=\"Completeness\",\n",
                "    description=\"Evaluation of AI assistant's thoroughness in addressing all aspects of the user's query.\",\n",
                "    scoring={\n",
                "        \"Complete\": \"The response thoroughly covers all key points requested in the question, providing sufficient detail to satisfy the user's information needs.\",\n",
                "        \"PartiallyComplete\": \"The response addresses the core question but omits certain important details or fails to elaborate on relevant aspects that were requested.\",\n",
                "        \"Incomplete\": \"The response significantly lacks necessary information, missing major components of what was asked and leaving the query largely unanswered.\",\n",
                "    }\n",
                ")\n",
                "\n",
                "AccuracyRubric = P.Rubric(\n",
                "    name=\"Accuracy\",\n",
                "    description=\"Evaluation of how factually correct the AI assistant's response is relative to the product information.\",\n",
                "    scoring={\n",
                "        \"Accurate\": \"The information provided aligns perfectly with the product specifications without introducing any misleading or incorrect details.\",\n",
                "        \"PartiallyAccurate\": \"While some information is correctly stated, the response contains minor factual errors or potentially misleading statements about the product.\",\n",
                "        \"Inaccurate\": \"The response presents significantly wrong information about the product, with claims that contradict the actual product details.\",\n",
                "    }\n",
                ")"
            ]
        },
        {
            "cell_type": "markdown",
            "id": "71100fa2",
            "metadata": {},
            "source": [
                "## Data Generation Workflow\n",
                "\n",
                "Now we'll configure the data generation workflow to create product information, questions, and answers."
            ]
        },
        {
            "cell_type": "code",
            "execution_count": null,
            "id": "b479cb8d",
            "metadata": {},
            "outputs": [],
            "source": [
                "# Define product category options\n",
                "config_builder.add_column(\n",
                "    name=\"category\",\n",
                "    type=\"category\",\n",
                "    params={\"values\": ['Electronics', 'Clothing', 'Home Appliances', 'Groceries', 'Toiletries',\n",
                "                       'Sports Equipment', 'Toys', 'Books', 'Pet Supplies', 'Tools & Home Improvement',\n",
                "                       'Beauty', 'Health & Wellness', 'Outdoor Gear', 'Automotive', 'Jewelry',\n",
                "                       'Watches', 'Office Supplies', 'Gifts', 'Arts & Crafts', 'Baby & Kids',\n",
                "                       'Music', 'Video Games', 'Movies', 'Software', 'Tech Devices']}\n",
                ")\n",
                "\n",
                "# Define price range to seed realistic product types\n",
                "config_builder.add_column(\n",
                "    name=\"price_tens_of_dollars\",\n",
                "    type=\"uniform\",\n",
                "    params={\"low\": 1, \"high\": 200},\n",
                "    convert_to=\"int\"\n",
                ")\n",
                "\n",
                "config_builder.add_column(\n",
                "    name=\"product_price\",\n",
                "    type=\"expression\",\n",
                "    expr=\"{{ (price_tens_of_dollars * 10) - 0.01 | round(2) }}\",\n",
                "    dtype=\"float\"\n",
                ")\n",
                "\n",
                "# Generate first letter for product name to ensure diversity\n",
                "config_builder.add_column(\n",
                "    name=\"first_letter\",\n",
                "    type=\"category\",\n",
                "    params={\"values\": list(string.ascii_uppercase)}\n",
                ")\n",
                "\n",
                "# Generate product information\n",
                "config_builder.add_column(\n",
                "    name=\"product_info\",\n",
                "    type=\"llm-structured\",\n",
                "    model_alias=model_alias,\n",
                "    prompt=\"\"\"\\\n",
                "Generate a realistic product description for a product in the {{ category }} category that costs {{ product_price }}.\n",
                "The name of the product MUST start with the letter {{ first_letter }}.\\\n",
                "\"\"\",\n",
                "    output_format=ProductInfo\n",
                ")\n",
                "\n",
                "# Generate user questions about the product\n",
                "config_builder.add_column(\n",
                "    name=\"question\",\n",
                "    type='llm-text',\n",
                "    model_alias=model_alias,\n",
                "    prompt=\"Ask a question about the following product:\\n\\n {{ product_info }}\",\n",
                ")\n",
                "\n",
                "# Determine if this example will include hallucination\n",
                "config_builder.add_column(\n",
                "  name=\"is_hallucination\",\n",
                "  type=\"bernoulli\",\n",
                "  params={\"p\": 0.5}\n",
                ")\n",
                "\n",
                "# Generate answers to the questions\n",
                "config_builder.add_column(\n",
                "    name=\"answer\",\n",
                "    type='llm-text',\n",
                "    model_alias=model_alias,\n",
                "    prompt=\"\"\"\\\n",
                "{%- if is_hallucination == 0 -%}\n",
                "<product_info>\n",
                "{{ product_info }}\n",
                "</product_info>\n",
                "\n",
                "{%- endif -%}\n",
                "User Question: {{ question }}\n",
                "\n",
                "Directly and succinctly answer the user's question.\\\n",
                "{%- if is_hallucination == 1 -%}\n",
                " Make up whatever information you need to in order to answer the user's request.\\\n",
                "{%- endif -%}\n",
                "\"\"\"\n",
                ")\n",
                "\n",
                "# Evaluate answer quality\n",
                "config_builder.add_column(\n",
                "    name=\"llm_answer_metrics\",\n",
                "    type=\"llm-judge\",\n",
                "    model_alias=model_alias,\n",
                "    prompt=\"\"\"\\\n",
                "<product_info>\n",
                "{{ product_info }}\n",
                "</product_info>\n",
                "\n",
                "User Question: {{question }}\n",
                "AI Assistant Answer: {{ answer }}\n",
                "\n",
                "Judge the AI assistant's response to the user's question about the product described in <product_info>.\\\n",
                "\"\"\",\n",
                "    rubrics=[CompletenessRubric, AccuracyRubric]\n",
                ")\n",
                "\n",
                "# Extract metric scores for easier analysis\n",
                "config_builder.add_column(\n",
                "    name=\"completeness_result\",\n",
                "    type=\"expression\",\n",
                "    expr=\"{{ llm_answer_metrics.Completeness.score }}\"\n",
                ")\n",
                "\n",
                "config_builder.add_column(\n",
                "    name=\"accuracy_result\",\n",
                "    type=\"expression\",\n",
                "    expr=\"{{ llm_answer_metrics.Accuracy.score }}\"\n",
                ")"
            ]
        },
        {
            "cell_type": "markdown",
            "id": "7889e108",
            "metadata": {},
            "source": [
                "## Generate the Preview\n",
                "\n",
                "Let's examine a sample record to understand the generated data."
            ]
        },
        {
            "cell_type": "code",
            "execution_count": null,
            "id": "dd720c77",
            "metadata": {},
            "outputs": [],
            "source": [
                "# Preview the generated data\n",
                "preview = data_designer_client.preview(config_builder, verbose_logging=True)"
            ]
        },
        {
            "cell_type": "code",
            "execution_count": null,
            "id": "71703fb8",
            "metadata": {},
            "outputs": [],
            "source": [
                "preview.display_sample_record()"
            ]
        },
        {
            "cell_type": "code",
            "execution_count": null,
            "id": "5b053c27",
            "metadata": {},
            "outputs": [],
            "source": [
                "preview.dataset"
            ]
        },
        {
            "cell_type": "markdown",
            "id": "5b179bfc",
            "metadata": {},
            "source": [
                "## Generating the Full Dataset\n",
                "\n",
                "Now that we've verified our data model looks good, let's generate a full dataset"
            ]
        },
        {
            "cell_type": "code",
            "execution_count": null,
            "id": "aff05efd",
            "metadata": {
                "id": "HrRvPXoyTFLn"
            },
            "outputs": [],
            "source": [
                "# Run the job\n",
                "job_results = data_designer_client.create(config_builder, num_records=1, wait_until_done=False)\n",
                "\n",
                "job_results.wait_until_done()"
            ]
        },
        {
            "cell_type": "code",
            "execution_count": null,
            "id": "c5e8ea27",
            "metadata": {},
            "outputs": [],
            "source": [
                "dataset = job_results.load_dataset()\n",
                "print(\"\\nGenerated dataset shape:\", dataset.shape)\n",
                "\n",
                "dataset.head()"
            ]
        }
    ],
    "metadata": {
        "colab": {
            "provenance": []
        },
        "kernelspec": {
            "display_name": "sdg_venv",
            "language": "python",
            "name": "python3"
        },
        "language_info": {
            "codemirror_mode": {
                "name": "ipython",
                "version": 3
            },
            "file_extension": ".py",
            "mimetype": "text/x-python",
            "name": "python",
            "nbconvert_exporter": "python",
            "pygments_lexer": "ipython3",
            "version": "3.12.11"
        }
    },
    "nbformat": 4,
    "nbformat_minor": 5
}
