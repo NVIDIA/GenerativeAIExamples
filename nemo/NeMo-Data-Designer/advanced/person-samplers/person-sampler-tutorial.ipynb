{
    "cells": [
        {
            "cell_type": "markdown",
            "id": "aaeb9727",
            "metadata": {},
            "source": [
                "# 🧑‍🤝‍🧑 NeMo Data Designer: Person Sampler Tutorial"
            ]
        },
        {
            "cell_type": "markdown",
            "id": "0e09f5c4",
            "metadata": {},
            "source": [
                "> ⚠️ **Warning**: NeMo Data Designer is current in Early Release and is not recommended for production use.\n",
                ">\n",
                "> **Note**: In order to run this notebook, you must have the NeMo Data Designer microservice deployed locally via docker compose. See the [deployment guide](http://docs.nvidia.com/nemo/microservices/latest/set-up/deploy-as-microservices/data-designer/docker-compose.html) for more details.\n",
                ">\n",
                "> Alternatively, you can use the [NeMo Data Designer managed service](https://build.nvidia.com/nemo/data-designer). Please refer the [intro-tutorials](../../intro-tutorials/1-the-basics.ipynb) on how to connect to it. \n",
                ">\n",
                "> **Note**: If you are using the NeMo Data Designer managed service, you will only be able to launch preview jobs. You will not be able to launch jobs using the `create` method."
            ]
        },
        {
            "cell_type": "markdown",
            "metadata": {},
            "source": [
                "In this notebook, we'll explore how you can generate realistic personal information for your synthetic datasets."
            ]
        },
        {
            "cell_type": "markdown",
            "id": "39c4c850",
            "metadata": {},
            "source": [
                "\n",
                "## What is the Person Sampler?\n",
                "\n",
                "The Person Sampler is a powerful feature in Data Designer that generates consistent, realistic person records with attributes like:\n",
                "- Names (first, middle, last)\n",
                "- Contact information (email, phone)\n",
                "- Addresses (street, city, state, zip)\n",
                "- Demographics (age, gender, ethnicity)\n",
                "- IDs (SSN, UUID)\n",
                "- And more!\n",
                "\n",
                "These records are fully synthetic but maintain the statistical properties and formatting patterns of real personal data."
            ]
        },
        {
            "cell_type": "markdown",
            "id": "c1b097a7",
            "metadata": {},
            "source": [
                "#### 💾 Install dependencies\n",
                "\n",
                "**IMPORTANT** 👉 If you haven't already, follow the instructions in the [README](../../README.md) to install the necessary dependencies. Note you may need to restart your kernel after setting up the environment."
            ]
        },
        {
            "cell_type": "code",
            "execution_count": 1,
            "metadata": {},
            "outputs": [],
            "source": [
                "from nemo_microservices import NeMoMicroservices\n",
                "from nemo_microservices.beta.data_designer import (\n",
                "    DataDesignerConfigBuilder,\n",
                "    DataDesignerClient,\n",
                ")\n",
                "from nemo_microservices.beta.data_designer.config import columns as C\n",
                "from nemo_microservices.beta.data_designer.config import params as P"
            ]
        },
        {
            "cell_type": "markdown",
            "id": "5fe29ec0",
            "metadata": {},
            "source": [
                "### ⚙️ Initialize the NeMo Data Designer Client\n",
                "\n",
                "- The data designer client is responsible for submitting generation requests to the Data Designer microservice.\n",
                "- In this notebook, we connect to a local deployment of data designer. You can deploy your own instance of data designer by following the deployment instructions [here](https://docs.nvidia.com/nemo/microservices/latest/set-up/deploy-as-microservices/data-designer/docker-compose.html).\n"
            ]
        },
        {
            "cell_type": "code",
            "execution_count": 5,
            "id": "dbc86c4c",
            "metadata": {},
            "outputs": [],
            "source": [
                "data_designer_client = DataDesignerClient(client=NeMoMicroservices(base_url=\"http://localhost:8080\"))"
            ]
        },
        {
            "cell_type": "markdown",
            "id": "2bb1d498",
            "metadata": {},
            "source": [
                "### 🏗️ Initialize the Data Designer Config Builder\n",
                "\n",
                "- The Data Designer config defines the dataset schema and generation process.\n",
                "\n",
                "- The config builder provides an intuitive interface for building this configuration.\n",
                "\n",
                "- You must provide a list of model configs to the builder at initialization.\n",
                "\n",
                "- This list contains the models you can choose from (via the `model_alias` argument) during the generation process.\n"
            ]
        },
        {
            "cell_type": "code",
            "execution_count": null,
            "id": "cb168a1f",
            "metadata": {},
            "outputs": [],
            "source": [
                "# We specify the endpoint of the model during deployment using the model_provider_registry.\n",
                "model_id = \"nvidia/nvidia-nemotron-nano-9b-v2\"\n",
                "model_alias = \"nemotron-nano-9b-v2\""
            ]
        },
        {
            "cell_type": "code",
            "execution_count": null,
            "id": "29ea4bd1",
            "metadata": {},
            "outputs": [],
            "source": [
                "config_builder = DataDesignerConfigBuilder(\n",
                "    model_configs=[\n",
                "        P.ModelConfig(\n",
                "            alias=model_alias,\n",
                "            provider=\"nvidiabuild\",\n",
                "            model=model_id,\n",
                "            inference_parameters=P.InferenceParameters(\n",
                "                max_tokens=1024,\n",
                "                temperature=0.6,\n",
                "                top_p=0.95,\n",
                "            ),\n",
                "            is_reasoner=True\n",
                "        ),\n",
                "    ]\n",
                ")"
            ]
        },
        {
            "cell_type": "markdown",
            "metadata": {},
            "source": [
                "## 1. Basic Person Sampling\n",
                "\n",
                "Let's start with a simple example of generating person data using the default settings."
            ]
        },
        {
            "cell_type": "code",
            "execution_count": 8,
            "metadata": {},
            "outputs": [],
            "source": [
                "# Add a simple person column with default settings\n",
                "config_builder.add_column(\n",
                "    C.SamplerColumn(\n",
                "        name=\"person\",  # This creates a nested object with all person attributes\n",
                "        type=P.SamplerType.PERSON,\n",
                "        params=P.PersonSamplerParams(locale=\"en_US\", sex=\"Male\")\n",
                "    )\n",
                ")\n",
                "\n",
                "# Preview what the generated data looks like\n",
                "preview = data_designer_client.preview(config_builder)\n",
                "preview.dataset"
            ]
        },
        {
            "cell_type": "markdown",
            "metadata": {},
            "source": [
                "## 2. Accessing Individual Person Attributes\n",
                "\n",
                "The `person` column we created above is a nested object with many attributes. Let's create some columns to access specific attributes from this person object."
            ]
        },
        {
            "cell_type": "code",
            "execution_count": 10,
            "metadata": {},
            "outputs": [],
            "source": [
                "# Add columns to extract specific attributes from the person object\n",
                "config_builder.add_column(\n",
                "    C.ExpressionColumn(\n",
                "        name=\"full_name\",\n",
                "        expr=\"{{ person.first_name }} {{ person.last_name }}\"\n",
                "    )\n",
                ")\n",
                "\n",
                "config_builder.add_column(\n",
                "    C.ExpressionColumn(\n",
                "        name=\"email\",\n",
                "        expr=\"{{ person.email_address }}\"\n",
                "    )\n",
                ")\n",
                "\n",
                "config_builder.add_column(\n",
                "    C.ExpressionColumn(\n",
                "        name=\"address\",\n",
                "        expr=\"{{ person.street_number }} {{ person.street_name }}, {{ person.city }}, {{ person.state }} {{ person.zipcode }}\"\n",
                "    )\n",
                ")\n",
                "\n",
                "config_builder.add_column(\n",
                "    C.ExpressionColumn(\n",
                "        name=\"age\",\n",
                "        expr=\"{{ person.age }}\"\n",
                "    )\n",
                ")\n",
                "\n",
                "# Preview the results\n",
                "preview = data_designer_client.preview(config_builder)\n",
                "preview.dataset[['full_name', 'email', 'address', 'age']]"
            ]
        },
        {
            "cell_type": "markdown",
            "metadata": {},
            "source": [
                "## 3. Customizing Person Generators\n",
                "\n",
                "Now let's explore customizing the Person Sampler to generate specific types of profiles."
            ]
        },
        {
            "cell_type": "code",
            "execution_count": null,
            "metadata": {},
            "outputs": [],
            "source": [
                "# Reset our config builder for this example\n",
                "config_builder = DataDesignerConfigBuilder(\n",
                "    model_configs = [\n",
                "        P.ModelConfig(\n",
                "            alias=model_alias,\n",
                "            provider=\"nvidiabuild\",\n",
                "            model=model_id,\n",
                "            inference_parameters=P.InferenceParameters(\n",
                "                max_tokens=1024,\n",
                "                temperature=0.5,\n",
                "                top_p=1.0,\n",
                "            ),\n",
                "        )\n",
                "    ]\n",
                ")"
            ]
        },
        {
            "cell_type": "code",
            "execution_count": 14,
            "id": "e025ab4e",
            "metadata": {},
            "outputs": [],
            "source": [
                "# Create custom person samplers for different roles/demographics\n",
                "config_builder.add_column(\n",
                "    C.SamplerColumn(\n",
                "        name=\"employee\",\n",
                "        type=P.SamplerType.PERSON,\n",
                "        params=P.PersonSamplerParams(\n",
                "            locale=\"en_US\",\n",
                "            age_range=[22, 65],\n",
                "            state=\"CA\"\n",
                "        )\n",
                "    )\n",
                ")\n",
                "\n",
                "config_builder.add_column(\n",
                "    C.SamplerColumn(\n",
                "        name=\"customer\",\n",
                "        type=P.SamplerType.PERSON,\n",
                "        params=P.PersonSamplerParams(\n",
                "            locale=\"en_US\",\n",
                "            age_range=[18, 80]\n",
                "        )\n",
                "    )\n",
                ")\n",
                "\n",
                "# Create a UK-based person\n",
                "config_builder.add_column(\n",
                "    C.SamplerColumn(\n",
                "        name=\"uk_contact\",\n",
                "        type=P.SamplerType.PERSON,\n",
                "        params=P.PersonSamplerParams(\n",
                "            locale=\"en_GB\",  # UK locale\n",
                "            city=\"London\"\n",
                "        )\n",
                "    )\n",
                ")\n",
                "\n",
                "# Add columns to extract and format information\n",
                "config_builder.add_column(\n",
                "    C.ExpressionColumn(\n",
                "        name=\"employee_info\",\n",
                "        expr=\"{{ employee.first_name }} {{ employee.last_name }}, {{ employee.age }} - {{ employee.city }}, {{ employee.state }}\"\n",
                "    )\n",
                ")\n",
                "\n",
                "config_builder.add_column(\n",
                "    C.ExpressionColumn(\n",
                "        name=\"customer_info\",\n",
                "        expr=\"{{ customer.first_name }} {{ customer.last_name }}, {{ customer.age }} - {{ customer.city }}, {{ customer.state }}\"\n",
                "    )\n",
                ")\n",
                "\n",
                "config_builder.add_column(\n",
                "    C.ExpressionColumn(\n",
                "        name=\"uk_contact_info\",\n",
                "        expr=\"{{ uk_contact.first_name }} {{ uk_contact.last_name }}, {{ uk_contact.phone_number }} - {{ uk_contact.city }}\"\n",
                "    )\n",
                ")\n",
                "\n",
                "# Preview the results\n",
                "preview = data_designer_client.preview(config_builder)\n",
                "preview.dataset[['employee_info', 'customer_info', 'uk_contact_info']]"
            ]
        },
        {
            "cell_type": "markdown",
            "metadata": {},
            "source": [
                "## 4. Available Person Attributes\n",
                "\n",
                "The Person Sampler generates a rich set of attributes that you can use. Here's a reference list of some of the key attributes available:"
            ]
        },
        {
            "cell_type": "markdown",
            "metadata": {},
            "source": [
                "| Attribute | Description | Example |\n",
                "|-----------|-------------|--------|\n",
                "| `first_name` | Person's first name | \"John\" |\n",
                "| `middle_name` | Person's middle name (may be None) | \"Robert\" |\n",
                "| `last_name` | Person's last name | \"Smith\" |\n",
                "| `sex` | Person's sex | \"Male\" |\n",
                "| `age` | Person's age in years | 42 |\n",
                "| `birth_date` | Date of birth | \"1980-05-15\" |\n",
                "| `email_address` | Email address | \"john.smith@example.com\" |\n",
                "| `phone_number` | Phone number | \"+1 (555) 123-4567\" |\n",
                "| `street_number` | Street number | \"123\" |\n",
                "| `street_name` | Street name | \"Main Street\" |\n",
                "| `unit` | Apartment/unit number | \"Apt 4B\" |\n",
                "| `city` | City name | \"Chicago\" |\n",
                "| `state` | State/province (locale dependent) | \"IL\" |\n",
                "| `county` | County (locale dependent) | \"Cook\" |\n",
                "| `zipcode` | Postal/ZIP code | \"60601\" |\n",
                "| `country` | Country name | \"United States\" |\n",
                "| `ssn` | Social Security Number (US locale) | \"123-45-6789\" |\n",
                "| `occupation` | Occupation | \"Software Engineer\" |\n",
                "| `marital_status` | Marital status | \"Married\" |\n",
                "| `education_level` | Education level | \"Bachelor's Degree\" |\n",
                "| `ethnic_background` | Ethnic background | \"Caucasian\" |\n",
                "| `uuid` | Unique identifier | \"550e8400-e29b-41d4-a716-446655440000\" |"
            ]
        },
        {
            "cell_type": "markdown",
            "metadata": {},
            "source": [
                "## 5. Creating Multiple Person Samplers with One Method\n",
                "\n",
                "For convenience, Data Designer provides a `with_person_samplers` method to create multiple person samplers at once."
            ]
        },
        {
            "cell_type": "code",
            "execution_count": null,
            "id": "1d9dbc89",
            "metadata": {},
            "outputs": [],
            "source": [
                "# Reset our config builder for this example\n",
                "config_builder = DataDesignerConfigBuilder(\n",
                "    model_configs = [\n",
                "        P.ModelConfig(\n",
                "            alias=model_alias,\n",
                "            provider=\"nvidiabuild\",\n",
                "            model=model_id,\n",
                "            inference_parameters=P.InferenceParameters(\n",
                "                max_tokens=1024,\n",
                "                temperature=0.5,\n",
                "                top_p=1.0,\n",
                "            ),\n",
                "        )\n",
                "    ]\n",
                ")"
            ]
        },
        {
            "cell_type": "code",
            "execution_count": 17,
            "id": "5676b992",
            "metadata": {},
            "outputs": [],
            "source": [
                "# Create multiple person samplers at once\n",
                "config_builder.with_person_samplers({\n",
                "    \"doctor\": {\"locale\": \"en_US\", \"age_range\": [30, 70]},\n",
                "    \"patient\": {\"locale\": \"en_US\", \"age_range\": [18, 90]},\n",
                "    \"nurse\": {\"locale\": \"en_US\", \"age_range\": [25, 65], \"sex\": \"Female\"},\n",
                "    \"international_doctor\": {\"locale\": \"fr_FR\", \"age_range\": [35, 65]}\n",
                "})\n",
                "\n",
                "# Add columns to format information for each person type\n",
                "config_builder.add_column(\n",
                "    C.ExpressionColumn(\n",
                "        name=\"doctor_profile\",\n",
                "        expr=\"Dr. {{ doctor.first_name }} {{ doctor.last_name }}, {{ doctor.age }}, {{ doctor.email_address }}\"\n",
                "    )\n",
                ")\n",
                "\n",
                "config_builder.add_column(\n",
                "    C.ExpressionColumn(\n",
                "        name=\"patient_profile\",\n",
                "        expr=\"{{ patient.first_name }} {{ patient.last_name }}, {{ patient.age }}, {{ patient.city }}, {{ patient.state }}\"\n",
                "    )\n",
                ")\n",
                "\n",
                "config_builder.add_column(\n",
                "    C.ExpressionColumn(\n",
                "        name=\"nurse_profile\",\n",
                "        expr=\"Nurse {{ nurse.first_name }} {{ nurse.last_name }}, {{ nurse.age }}\"\n",
                "    )\n",
                ")\n",
                "\n",
                "config_builder.add_column(\n",
                "    C.ExpressionColumn(\n",
                "        name=\"international_doctor_profile\",\n",
                "        expr=\"Dr. {{ international_doctor.first_name }} {{ international_doctor.last_name }}, {{ international_doctor.city }}, {{ international_doctor.country }}\"\n",
                "    )\n",
                ")\n",
                "\n",
                "# Preview the results\n",
                "preview = data_designer_client.preview(config_builder)\n",
                "preview.dataset[['doctor_profile', 'patient_profile', 'nurse_profile', 'international_doctor_profile']]"
            ]
        },
        {
            "cell_type": "markdown",
            "metadata": {},
            "source": [
                "## 6. Using Person Data with LLM Generation\n",
                "\n",
                "One of the most powerful features of Data Designer is combining structured person data with LLM generation to create realistic, contextual content."
            ]
        },
        {
            "cell_type": "code",
            "execution_count": null,
            "id": "a24bc42f",
            "metadata": {},
            "outputs": [],
            "source": [
                "# Reset our config builder for this example\n",
                "config_builder = DataDesignerConfigBuilder(\n",
                "    model_configs = [\n",
                "        P.ModelConfig(\n",
                "            alias=model_alias,\n",
                "            provider=\"nvidiabuild\",\n",
                "            model=model_id,\n",
                "            inference_parameters=P.InferenceParameters(\n",
                "                max_tokens=1024,\n",
                "                temperature=0.5,\n",
                "                top_p=1.0,\n",
                "            ),\n",
                "        )\n",
                "    ]\n",
                ")"
            ]
        },
        {
            "cell_type": "code",
            "execution_count": 21,
            "id": "bbdff7f6",
            "metadata": {},
            "outputs": [],
            "source": [
                "# Create person samplers for patients and doctors\n",
                "config_builder.with_person_samplers({\n",
                "    \"patient\": {\"locale\": \"en_US\", \"age_range\": [18, 85]},\n",
                "    \"doctor\": {\"locale\": \"en_US\", \"age_range\": [30, 70]}\n",
                "})\n",
                "\n",
                "# Add some medical condition sampling\n",
                "config_builder.add_column(\n",
                "    C.SamplerColumn(\n",
                "        name=\"medical_condition\",\n",
                "        type=P.SamplerType.CATEGORY,\n",
                "        params=P.CategorySamplerParams(\n",
                "            values=[\n",
                "                \"Hypertension\",\n",
                "                \"Type 2 Diabetes\",\n",
                "                \"Asthma\",\n",
                "                \"Rheumatoid Arthritis\",\n",
                "                \"Migraine\",\n",
                "                \"Hypothyroidism\"\n",
                "            ]\n",
                "        )\n",
                "    )\n",
                ")\n",
                "\n",
                "# Add basic info columns\n",
                "config_builder.add_column(\n",
                "    C.ExpressionColumn(\n",
                "        name=\"patient_name\",\n",
                "        expr=\"{{ patient.first_name }} {{ patient.last_name }}\"\n",
                "    )\n",
                ")\n",
                "\n",
                "config_builder.add_column(\n",
                "    C.ExpressionColumn(\n",
                "        name=\"doctor_name\",\n",
                "        expr=\"Dr. {{ doctor.first_name }} {{ doctor.last_name }}\"\n",
                "    )\n",
                ")\n",
                "\n",
                "# Add an LLM-generated medical note\n",
                "config_builder.add_column(\n",
                "    C.LLMTextColumn(\n",
                "        name=\"medical_notes\",\n",
                "        model_alias=model_alias,\n",
                "        prompt=(\n",
                "            \"Write a brief medical note from {{ doctor_name }} about patient {{ patient_name }}, \"\n",
                "            \"a {{ patient.age }}-year-old {{ patient.sex }} with {{ medical_condition }}. \"\n",
                "            \"Include relevant medical observations and recommendations. \"\n",
                "            \"The patient lives in {{ patient.city }}, {{ patient.state }} and works as {{ patient.occupation }}. \"\n",
                "            \"Keep the note professional, concise (3-4 sentences), and medically accurate.\"\n",
                "        )\n",
                "    )\n",
                ")\n",
                "\n",
                "# Add an LLM-generated patient message\n",
                "config_builder.add_column(\n",
                "    C.LLMTextColumn(\n",
                "        name=\"patient_message\",\n",
                "        model_alias=model_alias,\n",
                "        prompt=(\n",
                "            \"Write a brief message (1-2 sentences) from {{ patient_name }} to {{ doctor_name }} \"\n",
                "            \"about their {{ medical_condition }}. The message should reflect the patient's \"\n",
                "            \"experience and concerns. The patient is {{ patient.age }} years old.\"\n",
                "        )\n",
                "    )\n",
                ")\n",
                "\n",
                "# Preview the results\n",
                "preview = data_designer_client.preview(config_builder)\n",
                "preview.dataset[['patient_name', 'doctor_name', 'medical_condition', 'medical_notes', 'patient_message']]"
            ]
        },
        {
            "cell_type": "markdown",
            "metadata": {},
            "source": [
                "## 7. Generating and Saving the Final Dataset\n",
                "\n",
                "Now that we've explored the Person Sampler capabilities, let's generate a complete dataset and save it."
            ]
        },
        {
            "cell_type": "code",
            "execution_count": null,
            "metadata": {},
            "outputs": [],
            "source": [
                "job_results = data_designer_client.create(config_builder, num_records=20, wait_until_done=False)\n",
                "\n",
                "job_results.wait_until_done()"
            ]
        },
        {
            "cell_type": "code",
            "execution_count": null,
            "id": "5a8b4dbe",
            "metadata": {},
            "outputs": [],
            "source": [
                "dataset = job_results.load_dataset()\n",
                "print(f\"Generated dataset with {len(dataset)} records\")"
            ]
        },
        {
            "cell_type": "markdown",
            "metadata": {},
            "source": [
                "## Conclusion\n",
                "\n",
                "In this tutorial, we've explored the Person Sampler functionality in Data Designer. We've learned how to:\n",
                "\n",
                "1. Generate basic person records with realistic attributes\n",
                "2. Customize person profiles by locale, age, gender, and location\n",
                "3. Create multiple person samplers for different roles or demographics\n",
                "4. Use person attributes in expressions and LLM prompts\n",
                "\n",
                "The Person Sampler is an essential tool for creating realistic synthetic datasets for testing, development, and training applications that handle personal information."
            ]
        }
    ],
    "metadata": {
        "kernelspec": {
            "display_name": "sdg_venv",
            "language": "python",
            "name": "python3"
        },
        "language_info": {
            "codemirror_mode": {
                "name": "ipython",
                "version": 3
            },
            "file_extension": ".py",
            "mimetype": "text/x-python",
            "name": "python",
            "nbconvert_exporter": "python",
            "pygments_lexer": "ipython3",
            "version": "3.12.11"
        }
    },
    "nbformat": 4,
    "nbformat_minor": 5
}
