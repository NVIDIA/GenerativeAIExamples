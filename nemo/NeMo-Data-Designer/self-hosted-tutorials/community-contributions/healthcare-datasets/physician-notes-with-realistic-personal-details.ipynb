{
 "cells": [
  {
   "cell_type": "markdown",
   "metadata": {},
   "source": [
    "# 🧑‍⚕️ NeMo Data Designer: Realistic Patient Data & Physician Notes\n",
    "\n",
    "#### 📚 What you'll learn\n",
    "\n",
    "This notebook demonstrates how to use NeMo Data Designer to generate realistic patient data including physician notes.\\\n",
    " We'll leverage both structured data generation and LLM capabilities to create a comprehensive medical dataset.\n",
    "\n",
    "The dataset includes:\n",
    "\n",
    "- Policy and claim details\n",
    "- Policyholder and claimant information (PII)\n",
    "- Claim descriptions and adjuster notes with embedded PII\n",
    "- Medical information for relevant claims\n",
    "\n",
    "<br>\n",
    "\n",
    "> 👋 **IMPORTANT** – Environment Setup\n",
    ">\n",
    "> - If you haven't already, follow the instructions in the [README](../../../README.md) to install the necessary dependencies.\n",
    ">\n",
    "> - You may need to restart your notebook's kernel after setting up the environment.\n",
    "> - In this notebook, we assume you have a self-hosted instance of Data Designer up and running.\n",
    ">\n",
    "> - For deployment instructions, see the [Installation Options](https://docs.nvidia.com/nemo/microservices/latest/design-synthetic-data-from-scratch-or-seeds/index.html#installation-options) section of the [NeMo Data Designer documentation](https://docs.nvidia.com/nemo/microservices/latest/design-synthetic-data-from-scratch-or-seeds/index.html).\n"
   ]
  },
  {
   "cell_type": "markdown",
   "metadata": {},
   "source": [
    "### 📦 Import the essentials\n",
    "\n",
    "- The `data_designer` module of `nemo_microservices` exposes Data Designer's high-level SDK.\n",
    "\n",
    "- The `essentials` module provides quick access to the most commonly used objects.\n"
   ]
  },
  {
   "cell_type": "code",
   "execution_count": null,
   "metadata": {},
   "outputs": [],
   "source": [
    "from nemo_microservices.data_designer.essentials import (\n",
    "    CategorySamplerParams,\n",
    "    DataDesignerConfigBuilder,\n",
    "    InferenceParameters,\n",
    "    LLMTextColumnConfig,\n",
    "    ModelConfig,\n",
    "    NeMoDataDesignerClient,\n",
    "    PersonSamplerParams,\n",
    "    SamplerColumnConfig,\n",
    "    SamplerType,\n",
    "    SeedDatasetReference,\n",
    "    UUIDSamplerParams,\n",
    ")"
   ]
  },
  {
   "cell_type": "markdown",
   "metadata": {},
   "source": [
    "### ⚙️ Initialize the NeMo Data Designer Client\n",
    "\n",
    "- `NeMoDataDesignerClient` is responsible for submitting generation requests to the microservice.\n"
   ]
  },
  {
   "cell_type": "code",
   "execution_count": null,
   "metadata": {},
   "outputs": [],
   "source": [
    "NEMO_MICROSERVICES_BASE_URL = \"http://localhost:8080\"\n",
    "\n",
    "data_designer_client = NeMoDataDesignerClient(base_url=NEMO_MICROSERVICES_BASE_URL)"
   ]
  },
  {
   "cell_type": "markdown",
   "metadata": {},
   "source": [
    "### 🎛️ Define model configurations\n",
    "\n",
    "- Each `ModelConfig` defines a model that can be used during the generation process.\n",
    "\n",
    "- The \"model alias\" is used to reference the model in the Data Designer config (as we will see below).\n",
    "\n",
    "- The \"model provider\" is the external service that hosts the model (see [the model config docs](https://docs.nvidia.com/nemo/microservices/latest/design-synthetic-data-from-scratch-or-seeds/configure-models.html) for more details).\n",
    "\n",
    "- By default, the microservice uses [build.nvidia.com](https://build.nvidia.com/models) as the model provider.\n"
   ]
  },
  {
   "cell_type": "code",
   "execution_count": null,
   "metadata": {},
   "outputs": [],
   "source": [
    "# This name is set in the microservice deployment configuration.\n",
    "MODEL_PROVIDER = \"nvidiabuild\"\n",
    "\n",
    "# The model ID is from build.nvidia.com.\n",
    "MODEL_ID = \"nvidia/nvidia-nemotron-nano-9b-v2\"\n",
    "\n",
    "# We choose this alias to be descriptive for our use case.\n",
    "MODEL_ALIAS = \"nemotron-nano-v2\"\n",
    "\n",
    "# This sets reasoning to False for the nemotron-nano-v2 model.\n",
    "SYSTEM_PROMPT = \"/no_think\"\n",
    "\n",
    "model_configs = [\n",
    "    ModelConfig(\n",
    "        alias=MODEL_ALIAS,\n",
    "        model=MODEL_ID,\n",
    "        provider=MODEL_PROVIDER,\n",
    "        inference_parameters=InferenceParameters(\n",
    "            temperature=0.6,\n",
    "            top_p=0.95,\n",
    "            max_tokens=1024,\n",
    "        ),\n",
    "    )\n",
    "]"
   ]
  },
  {
   "cell_type": "markdown",
   "metadata": {},
   "source": [
    "### 🏗️ Initialize the Data Designer Config Builder\n",
    "\n",
    "- The Data Designer config defines the dataset schema and generation process.\n",
    "\n",
    "- The config builder provides an intuitive interface for building this configuration.\n",
    "\n",
    "- The list of model configs is provided to the builder at initialization.\n"
   ]
  },
  {
   "cell_type": "code",
   "execution_count": null,
   "metadata": {},
   "outputs": [],
   "source": [
    "config_builder = DataDesignerConfigBuilder(model_configs=model_configs)"
   ]
  },
  {
   "cell_type": "markdown",
   "metadata": {},
   "source": [
    "## 🌱 Loading Seed Data\n",
    "\n",
    "- We'll use the symptom-to-diagnosis dataset as our seed data.\n",
    "\n",
    "- This dataset contains patient symptoms and corresponding diagnoses which will help generate realistic medical scenarios.\n",
    "\n",
    "<br>\n",
    "\n",
    "> 🌱 **Why use a seed dataset?**\n",
    ">\n",
    "> - Seed datasets let you steer the generation process by providing context that is specific to your use case.\n",
    ">\n",
    "> - Seed datasets are also an excellent way to inject real-world diversity into your synthetic data.\n",
    ">\n",
    "> - During generation, prompt templates can reference any of the seed dataset fields.\n",
    "\n",
    "<br>\n",
    "\n",
    "> 💡 **About datastores**\n",
    ">\n",
    "> - You can use seed datasets from _either_ the Hugging Face Hub or a locally deployed datastore.\n",
    ">\n",
    "> - By default, we use the local datastore deployed with the Data Designer microservice.\n",
    ">\n",
    "> - The datastore endpoint is specified in the deployment configuration.\n",
    "\n",
    "👋 **Note**: At this time, we only support using a single file as the seed. If you have multiple files you would like to use as \\\n",
    "seeds, it is recommended you consolidated these into a single file.\n"
   ]
  },
  {
   "cell_type": "code",
   "execution_count": null,
   "metadata": {},
   "outputs": [],
   "source": [
    "from datasets import load_dataset\n",
    "\n",
    "# Let's use the symptom-to-diagnosis dataset to seed our workflow\n",
    "df_seed = load_dataset(\"gretelai/symptom_to_diagnosis\")[\"train\"].to_pandas()\n",
    "df_seed = df_seed.rename(\n",
    "    columns={\"output_text\": \"diagnosis\", \"input_text\": \"patient_summary\"}\n",
    ")\n",
    "\n",
    "print(f\"Number of records: {len(df_seed)}\")\n",
    "\n",
    "df_seed.head()"
   ]
  },
  {
   "cell_type": "code",
   "execution_count": null,
   "metadata": {},
   "outputs": [],
   "source": [
    "# Upload the dataset to the local datastore if not already present.\n",
    "# NDD suppoorts uploading pandas DataFrame or a CSV, Parquet, or JSON file to the datastore\n",
    "seed_dataset_reference = data_designer_client.upload_seed_dataset(\n",
    "    dataset=df_seed,\n",
    "    repo_id=\"data-designer/demo\",\n",
    "    datastore_settings={\"endpoint\": \"http://localhost:3000/v1/hf\"},\n",
    ")\n",
    "\n",
    "# Pass the reference to the config builder for use during generation.\n",
    "config_builder.with_seed_dataset(seed_dataset_reference)"
   ]
  },
  {
   "cell_type": "markdown",
   "metadata": {},
   "source": [
    "> 💡 **Tip**\n",
    ">\n",
    "> - If the dataset already exists in the datastore, you can create the seed dataset reference directly.\n",
    ">\n",
    "> - See the [seed dataset docs](https://docs.nvidia.com/nemo/microservices/latest/design-synthetic-data-from-scratch-or-seeds/seed-datasets.html) for more info.\n",
    ">\n",
    "> <br>\n",
    ">\n",
    "> For example:\n",
    ">\n",
    "> ```python\n",
    "> from nemo_microservices.data_designer.essentials import SeedDatasetReference\n",
    ">\n",
    "> # Create reference to existing dataset in the datastore.\n",
    "> seed_dataset_reference = SeedDatasetReference(\n",
    ">     dataset=\"data-designer/demo/gretelai_symptom_to_diagnosis.csv\",\n",
    ">     datastore_settings={\"endpoint\": \"http://localhost:3000/v1/hf\"},\n",
    "> )\n",
    "> ```\n"
   ]
  },
  {
   "cell_type": "markdown",
   "metadata": {},
   "source": [
    "## 🎲 Creating Person Samplers\n",
    "\n",
    "- We create persona samplers to simulate details about the patient and the doctor\n",
    "\n",
    "- The persona samplers allow you to sample realistic details of individuals using a model trained on the US Census.\\\n",
    "  If the locale of the persona you are generating is anything other than `en_US`, then the personas will be generated using Faker\n"
   ]
  },
  {
   "cell_type": "code",
   "execution_count": null,
   "metadata": {},
   "outputs": [],
   "source": [
    "# Create a couple random person samplers.\n",
    "config_builder.add_column(\n",
    "    SamplerColumnConfig(\n",
    "        name=\"patient_sampler\",\n",
    "        sampler_type=SamplerType.PERSON,\n",
    "        params=PersonSamplerParams(),\n",
    "    )\n",
    ")\n",
    "\n",
    "config_builder.add_column(\n",
    "    SamplerColumnConfig(\n",
    "        name=\"doctor_sampler\",\n",
    "        sampler_type=SamplerType.PERSON,\n",
    "        params=PersonSamplerParams(),\n",
    "    )\n",
    ")"
   ]
  },
  {
   "cell_type": "markdown",
   "metadata": {},
   "source": [
    "## 🏗️ Defining Data Structure\n",
    "\n",
    "Now we'll define the structure of our dataset by adding columns for patient information, dates, and medical details. We'll use:\n",
    "\n",
    "- `uuid` for patient identification\n",
    "- Patient personal information (`first_name`, `last_name`, `dob`, `patient_email`)\n",
    "- Medical timeline information (`symptom_onset_date`, `date_of_visit`)\n",
    "- Physician information (`physician`)\n"
   ]
  },
  {
   "cell_type": "code",
   "execution_count": null,
   "metadata": {},
   "outputs": [],
   "source": [
    "config_builder.add_column(\n",
    "    SamplerColumnConfig(\n",
    "        name=\"patient_id\",\n",
    "        sampler_type=SamplerType.UUID,\n",
    "        params=UUIDSamplerParams(prefix=\"PT-\", short_form=True, uppercase=True),\n",
    "    )\n",
    ")\n",
    "\n",
    "config_builder.add_column(\n",
    "    name=\"first_name\", column_type=\"expression\", expr=\"{{patient_sampler.first_name}}\"\n",
    ")\n",
    "\n",
    "config_builder.add_column(\n",
    "    name=\"last_name\", column_type=\"expression\", expr=\"{{patient_sampler.last_name}}\"\n",
    ")\n",
    "\n",
    "config_builder.add_column(\n",
    "    name=\"dob\", column_type=\"expression\", expr=\"{{patient_sampler.birth_date}}\"\n",
    ")\n",
    "\n",
    "config_builder.add_column(\n",
    "    name=\"patient_email\",\n",
    "    column_type=\"expression\",\n",
    "    expr=\"{{patient_sampler.email_address}}\",\n",
    ")\n",
    "\n",
    "config_builder.add_column(\n",
    "    name=\"symptom_onset_date\",\n",
    "    column_type=\"sampler\",\n",
    "    sampler_type=\"datetime\",\n",
    "    params={\"start\": \"2024-01-01\", \"end\": \"2024-12-31\"},\n",
    ")\n",
    "\n",
    "config_builder.add_column(\n",
    "    name=\"date_of_visit\",\n",
    "    column_type=\"sampler\",\n",
    "    sampler_type=\"timedelta\",\n",
    "    params={\"dt_min\": 1, \"dt_max\": 30, \"reference_column_name\": \"symptom_onset_date\"},\n",
    ")\n",
    "\n",
    "config_builder.add_column(\n",
    "    name=\"physician\",\n",
    "    column_type=\"expression\",\n",
    "    expr=\"Dr. {{doctor_sampler.first_name}} {{doctor_sampler.last_name}}\",\n",
    ")"
   ]
  },
  {
   "cell_type": "markdown",
   "metadata": {},
   "source": [
    "## 🦜 LLM-Generated Physician Notes\n",
    "\n",
    "The final and most complex column uses an LLM to generate realistic physician notes. We provide:\n",
    "\n",
    "- Context about the patient and their condition\n",
    "- Patient summary from our seed data\n",
    "- Clear formatting instructions\n",
    "\n",
    "This will create detailed medical notes that reflect the patient's diagnosis and visit information.\n"
   ]
  },
  {
   "cell_type": "code",
   "execution_count": null,
   "metadata": {},
   "outputs": [],
   "source": [
    "config_builder.add_column(\n",
    "    LLMTextColumnConfig(\n",
    "        name=\"physician_notes\",\n",
    "        system_prompt=SYSTEM_PROMPT,\n",
    "        model_alias=MODEL_ALIAS,\n",
    "        prompt=(\n",
    "            \"<context>\"\n",
    "            \"You are a primary-care physician who just had an appointment with {{first_name}} {{last_name}}, \"\n",
    "            \"who has been struggling with symptoms from {{diagnosis}} since {{symptom_onset_date}}.\\n\"\n",
    "            \"The date of today's visit is {{date_of_visit}}.\\n\"\n",
    "            \"</context>\\n\"\n",
    "            \"<patient_summary_of_symptoms>\\n\"\n",
    "            \"{{patient_summary}}\\n\"\n",
    "            \"</patient_summary_of_symptoms>\\n\"\n",
    "            \"<task>\\n\"\n",
    "            \"Write careful notes about your visit with {{first_name}}, as {{physician}}.\\n\"\n",
    "            \"Format the notes as a busy doctor might.\\n\"\n",
    "            \"</task>\"\n",
    "        ),\n",
    "    )\n",
    ")"
   ]
  },
  {
   "cell_type": "markdown",
   "metadata": {},
   "source": [
    "### 🔁 Iteration is key – preview the dataset!\n",
    "\n",
    "1. Use the `preview` method to generate a sample of records quickly.\n",
    "\n",
    "2. Inspect the results for quality and format issues.\n",
    "\n",
    "3. Adjust column configurations, prompts, or parameters as needed.\n",
    "\n",
    "4. Re-run the preview until satisfied.\n"
   ]
  },
  {
   "cell_type": "code",
   "execution_count": null,
   "metadata": {},
   "outputs": [],
   "source": [
    "# Preview a few records\n",
    "preview = data_designer_client.preview(config_builder)"
   ]
  },
  {
   "cell_type": "code",
   "execution_count": null,
   "metadata": {},
   "outputs": [],
   "source": [
    "# More previews\n",
    "preview.display_sample_record()"
   ]
  },
  {
   "cell_type": "markdown",
   "metadata": {},
   "source": [
    "### 📊 Analyze the generated data\n",
    "\n",
    "- Data Designer automatically generates a basic statistical analysis of the generated data.\n",
    "\n",
    "- This analysis is available via the `analysis` property of generation result objects.\n"
   ]
  },
  {
   "cell_type": "code",
   "execution_count": null,
   "metadata": {},
   "outputs": [],
   "source": [
    "# Print the analysis as a table.\n",
    "preview.analysis.to_report()"
   ]
  },
  {
   "cell_type": "markdown",
   "metadata": {},
   "source": [
    "### 🆙 Scale up!\n",
    "\n",
    "- Happy with your preview data?\n",
    "\n",
    "- Use the `create` method to submit larger Data Designer generation jobs.\n"
   ]
  },
  {
   "cell_type": "code",
   "execution_count": null,
   "metadata": {},
   "outputs": [],
   "source": [
    "job_results = data_designer_client.create(config_builder, num_records=20)\n",
    "\n",
    "# This will block until the job is complete.\n",
    "job_results.wait_until_done()"
   ]
  },
  {
   "cell_type": "code",
   "execution_count": null,
   "metadata": {},
   "outputs": [],
   "source": [
    "# Load the generated dataset as a pandas DataFrame.\n",
    "dataset = job_results.load_dataset()\n",
    "\n",
    "dataset.head()"
   ]
  },
  {
   "cell_type": "code",
   "execution_count": null,
   "metadata": {},
   "outputs": [],
   "source": [
    "# Load the analysis results into memory.\n",
    "analysis = job_results.load_analysis()\n",
    "\n",
    "analysis.to_report()"
   ]
  },
  {
   "cell_type": "code",
   "execution_count": null,
   "metadata": {},
   "outputs": [],
   "source": [
    "TUTORIAL_OUTPUT_PATH = \"data-designer-tutorial-output\"\n",
    "\n",
    "# Download the job artifacts and save them to disk.\n",
    "job_results.download_artifacts(\n",
    "    output_path=TUTORIAL_OUTPUT_PATH,\n",
    "    artifacts_folder_name=\"artifacts-community-contributions-healthcare-datasets-physician-notes\",\n",
    ");"
   ]
  }
 ],
 "metadata": {
  "kernelspec": {
   "display_name": "sdg_venv",
   "language": "python",
   "name": "python3"
  },
  "language_info": {
   "codemirror_mode": {
    "name": "ipython",
    "version": 3
   },
   "file_extension": ".py",
   "mimetype": "text/x-python",
   "name": "python",
   "nbconvert_exporter": "python",
   "pygments_lexer": "ipython3",
   "version": "3.12.11"
  }
 },
 "nbformat": 4,
 "nbformat_minor": 4
}
