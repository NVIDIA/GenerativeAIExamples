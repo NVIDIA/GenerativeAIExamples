{
 "cells": [
  {
   "cell_type": "markdown",
   "metadata": {},
   "source": [
    "# 🎨 NeMo Data Designer 101: Seeding Synthetic Data Generation with an External Dataset\n",
    "\n",
    "#### 📚 What you'll learn\n",
    "\n",
    "In this notebook, we will demonstrate how to seed synthetic data generation in Data Designer with an external dataset.\n",
    "\n",
    "If this is your first time using Data Designer, we recommend starting with the [first notebook](./1-the-basics.ipynb) in this 101 series.\n",
    "\n",
    "<br>\n",
    "\n",
    "> 👋 **IMPORTANT** – Environment Setup\n",
    ">\n",
    "> - If you haven't already, follow the instructions in the [README](../README.md) to install the necessary dependencies.\n",
    ">\n",
    "> - You may need to restart your notebook's kernel after setting up the environment.\n",
    "> - In this notebook, we assume you have a self-hosted instance of Data Designer up and running.\n",
    ">\n",
    "> - For deployment instructions, see the [Installation Options](https://docs.nvidia.com/nemo/microservices/latest/design-synthetic-data-from-scratch-or-seeds/index.html#installation-options) section of the [NeMo Data Designer documentation](https://docs.nvidia.com/nemo/microservices/latest/design-synthetic-data-from-scratch-or-seeds/index.html).\n"
   ]
  },
  {
   "cell_type": "markdown",
   "metadata": {},
   "source": [
    "### 📦 Import the essentials\n",
    "\n",
    "- The `data_designer` module of `nemo_microservices` exposes Data Designer's high-level SDK.\n",
    "\n",
    "- The `essentials` module provides quick access to the most commonly used objects.\n"
   ]
  },
  {
   "cell_type": "code",
   "execution_count": null,
   "metadata": {},
   "outputs": [],
   "source": [
    "from nemo_microservices.data_designer.essentials import (\n",
    "    DataDesignerConfigBuilder,\n",
    "    InferenceParameters,\n",
    "    ModelConfig,\n",
    "    NeMoDataDesignerClient,\n",
    ")"
   ]
  },
  {
   "cell_type": "markdown",
   "metadata": {},
   "source": [
    "### ⚙️ Initialize the NeMo Data Designer Client\n",
    "\n",
    "- `NeMoDataDesignerClient` is responsible for submitting generation requests to the microservice.\n"
   ]
  },
  {
   "cell_type": "code",
   "execution_count": null,
   "metadata": {},
   "outputs": [],
   "source": [
    "NEMO_MICROSERVICES_BASE_URL = \"http://localhost:8080\"\n",
    "\n",
    "data_designer_client = NeMoDataDesignerClient(base_url=NEMO_MICROSERVICES_BASE_URL)"
   ]
  },
  {
   "cell_type": "markdown",
   "metadata": {},
   "source": [
    "### 🎛️ Define model configurations\n",
    "\n",
    "- Each `ModelConfig` defines a model that can be used during the generation process.\n",
    "\n",
    "- The \"model alias\" is used to reference the model in the Data Designer config (as we will see below).\n",
    "\n",
    "- The \"model provider\" is the external service that hosts the model (see [the model config docs](https://docs.nvidia.com/nemo/microservices/latest/design-synthetic-data-from-scratch-or-seeds/configure-models.html) for more details).\n",
    "\n",
    "- By default, the microservice uses [build.nvidia.com](https://build.nvidia.com/models) as the model provider.\n"
   ]
  },
  {
   "cell_type": "code",
   "execution_count": null,
   "metadata": {},
   "outputs": [],
   "source": [
    "# This name is set in the microservice deployment configuration.\n",
    "MODEL_PROVIDER = \"nvidiabuild\"\n",
    "\n",
    "# The model ID is from build.nvidia.com.\n",
    "MODEL_ID = \"nvidia/nvidia-nemotron-nano-9b-v2\"\n",
    "\n",
    "# We choose this alias to be descriptive for our use case.\n",
    "MODEL_ALIAS = \"nemotron-nano-v2\"\n",
    "\n",
    "# This sets reasoning to False for the nemotron-nano-v2 model.\n",
    "SYSTEM_PROMPT = \"/no_think\"\n",
    "\n",
    "model_configs = [\n",
    "    ModelConfig(\n",
    "        alias=MODEL_ALIAS,\n",
    "        model=MODEL_ID,\n",
    "        provider=MODEL_PROVIDER,\n",
    "        inference_parameters=InferenceParameters(\n",
    "            temperature=0.5,\n",
    "            top_p=1.0,\n",
    "            max_tokens=1024,\n",
    "        ),\n",
    "    )\n",
    "]"
   ]
  },
  {
   "cell_type": "markdown",
   "metadata": {},
   "source": [
    "### 🏗️ Initialize the Data Designer Config Builder\n",
    "\n",
    "- The Data Designer config defines the dataset schema and generation process.\n",
    "\n",
    "- The config builder provides an intuitive interface for building this configuration.\n",
    "\n",
    "- The list of model configs is provided to the builder at initialization.\n"
   ]
  },
  {
   "cell_type": "code",
   "execution_count": null,
   "metadata": {},
   "outputs": [],
   "source": [
    "config_builder = DataDesignerConfigBuilder(model_configs=model_configs)"
   ]
  },
  {
   "cell_type": "markdown",
   "metadata": {},
   "source": [
    "## 🏥 Prepare a seed dataset\n",
    "\n",
    "- For this notebook, we'll create a synthetic dataset of patient notes.\n",
    "\n",
    "- We will _seed_ the generation process with a [symptom-to-diagnosis dataset](https://huggingface.co/datasets/gretelai/symptom_to_diagnosis).\n",
    "\n",
    "- We already have the dataset downloaded in the [data](../data) directory of this repository.\n",
    "\n",
    "<br>\n",
    "\n",
    "> 🌱 **Why use a seed dataset?**\n",
    ">\n",
    "> - Seed datasets let you steer the generation process by providing context that is specific to your use case.\n",
    ">\n",
    "> - Seed datasets are also an excellent way to inject real-world diversity into your synthetic data.\n",
    ">\n",
    "> - During generation, prompt templates can reference any of the seed dataset fields.\n",
    "\n",
    "<br>\n",
    "\n",
    "> 💡 **About datastores**\n",
    ">\n",
    "> - You can use seed datasets from _either_ the Hugging Face Hub or a locally deployed datastore.\n",
    ">\n",
    "> - By default, we use the local datastore deployed with the Data Designer microservice.\n",
    ">\n",
    "> - The datastore endpoint is specified in the deployment configuration.\n"
   ]
  },
  {
   "cell_type": "code",
   "execution_count": null,
   "metadata": {},
   "outputs": [],
   "source": [
    "from tutorial_helpers.helpers import data_path\n",
    "\n",
    "# Upload the dataset to the local datastore if not already present.\n",
    "seed_dataset_reference = data_designer_client.upload_seed_dataset(\n",
    "    dataset=data_path / \"gretelai_symptom_to_diagnosis.csv\",\n",
    "    repo_id=\"data-designer/demo\",\n",
    "    datastore_settings={\"endpoint\": \"http://localhost:3000/v1/hf\"},\n",
    ")\n",
    "\n",
    "# Pass the reference to the config builder for use during generation.\n",
    "config_builder.with_seed_dataset(seed_dataset_reference)"
   ]
  },
  {
   "cell_type": "markdown",
   "metadata": {},
   "source": [
    "> 💡 **Tip**\n",
    ">\n",
    "> - If the dataset already exists in the datastore, you can create the seed dataset reference directly.\n",
    ">\n",
    "> - See the [seed dataset docs](https://docs.nvidia.com/nemo/microservices/latest/design-synthetic-data-from-scratch-or-seeds/seed-datasets.html) for more info.\n",
    ">\n",
    "> <br>\n",
    ">\n",
    "> For example:\n",
    ">\n",
    "> ```python\n",
    "> from nemo_microservices.data_designer.essentials import SeedDatasetReference\n",
    ">\n",
    "> # Create reference to existing dataset in the datastore.\n",
    "> seed_dataset_reference = SeedDatasetReference(\n",
    ">     dataset=\"data-designer/demo/gretelai_symptom_to_diagnosis.csv\",\n",
    ">     datastore_settings={\"endpoint\": \"http://localhost:3000/v1/hf\"},\n",
    "> )\n",
    "> ```\n",
    "\n",
    "<br>\n",
    "\n",
    "## 🎨 Designing our synthetic patient notes dataset\n",
    "\n",
    "- Here we use `add_column` with keyword arguments (rather than imported config objects).\n",
    "\n",
    "- Generally, we recommend using concrete objects, but this is a convenient shorthand.\n",
    "\n",
    "- **Note**: The prompt template can reference fields from our seed dataset:\n",
    "  - `{{ diagnosis }}` - the medical diagnosis from the seed data\n",
    "  - `{{ patient_summary }}` - the symptom description from the seed data\n"
   ]
  },
  {
   "cell_type": "code",
   "execution_count": null,
   "metadata": {},
   "outputs": [],
   "source": [
    "config_builder.add_column(\n",
    "    name=\"patient_sampler\",\n",
    "    column_type=\"sampler\",\n",
    "    sampler_type=\"person\",\n",
    "    drop=True,\n",
    ")\n",
    "\n",
    "config_builder.add_column(\n",
    "    name=\"doctor_sampler\",\n",
    "    column_type=\"sampler\",\n",
    "    sampler_type=\"person\",\n",
    "    drop=True,\n",
    ")\n",
    "\n",
    "config_builder.add_column(\n",
    "    name=\"patient_id\",\n",
    "    column_type=\"sampler\",\n",
    "    sampler_type=\"uuid\",\n",
    "    params={\n",
    "        \"prefix\": \"PT-\",\n",
    "        \"short_form\": True,\n",
    "        \"uppercase\": True,\n",
    "    },\n",
    ")\n",
    "\n",
    "config_builder.add_column(\n",
    "    name=\"first_name\",\n",
    "    column_type=\"expression\",\n",
    "    expr=\"{{ patient_sampler.first_name}}\",\n",
    ")\n",
    "\n",
    "config_builder.add_column(\n",
    "    name=\"last_name\",\n",
    "    column_type=\"expression\",\n",
    "    expr=\"{{ patient_sampler.last_name }}\",\n",
    ")\n",
    "\n",
    "\n",
    "config_builder.add_column(\n",
    "    name=\"dob\",\n",
    "    column_type=\"expression\",\n",
    "    expr=\"{{ patient_sampler.birth_date }}\",\n",
    ")\n",
    "\n",
    "\n",
    "config_builder.add_column(\n",
    "    name=\"patient_email\",\n",
    "    column_type=\"expression\",\n",
    "    expr=\"{{ patient_sampler.email_address }}\",\n",
    ")\n",
    "\n",
    "\n",
    "config_builder.add_column(\n",
    "    name=\"symptom_onset_date\",\n",
    "    column_type=\"sampler\",\n",
    "    sampler_type=\"datetime\",\n",
    "    params={\"start\": \"2024-01-01\", \"end\": \"2024-12-31\"},\n",
    ")\n",
    "\n",
    "config_builder.add_column(\n",
    "    name=\"date_of_visit\",\n",
    "    column_type=\"sampler\",\n",
    "    sampler_type=\"timedelta\",\n",
    "    params={\"dt_min\": 1, \"dt_max\": 30, \"reference_column_name\": \"symptom_onset_date\"},\n",
    ")\n",
    "\n",
    "config_builder.add_column(\n",
    "    name=\"physician\",\n",
    "    column_type=\"expression\",\n",
    "    expr=\"Dr. {{ doctor_sampler.last_name }}\",\n",
    ")\n",
    "\n",
    "config_builder.add_column(\n",
    "    name=\"physician_notes\",\n",
    "    column_type=\"llm-text\",\n",
    "    prompt=\"\"\"\\\n",
    "You are a primary-care physician who just had an appointment with {{ first_name }} {{ last_name }},\n",
    "who has been struggling with symptoms from {{ diagnosis }} since {{ symptom_onset_date }}.\n",
    "The date of today's visit is {{ date_of_visit }}.\n",
    "\n",
    "{{ patient_summary }}\n",
    "\n",
    "Write careful notes about your visit with {{ first_name }},\n",
    "as Dr. {{ doctor_sampler.first_name }} {{ doctor_sampler.last_name }}.\n",
    "\n",
    "Format the notes as a busy doctor might.\n",
    "\"\"\",\n",
    "    model_alias=MODEL_ALIAS,\n",
    "    system_prompt=SYSTEM_PROMPT,\n",
    ")\n",
    "\n",
    "config_builder.validate()"
   ]
  },
  {
   "cell_type": "markdown",
   "metadata": {},
   "source": [
    "### 🔁 Iteration is key – preview the dataset!\n",
    "\n",
    "1. Use the `preview` method to generate a sample of records quickly.\n",
    "\n",
    "2. Inspect the results for quality and format issues.\n",
    "\n",
    "3. Adjust column configurations, prompts, or parameters as needed.\n",
    "\n",
    "4. Re-run the preview until satisfied.\n"
   ]
  },
  {
   "cell_type": "code",
   "execution_count": null,
   "metadata": {},
   "outputs": [],
   "source": [
    "preview = data_designer_client.preview(config_builder)"
   ]
  },
  {
   "cell_type": "code",
   "execution_count": null,
   "metadata": {},
   "outputs": [],
   "source": [
    "# Run this cell multiple times to cycle through the 10 preview records.\n",
    "preview.display_sample_record()"
   ]
  },
  {
   "cell_type": "code",
   "execution_count": null,
   "metadata": {},
   "outputs": [],
   "source": [
    "# The preview dataset is available as a pandas DataFrame.\n",
    "preview.dataset"
   ]
  },
  {
   "cell_type": "markdown",
   "metadata": {},
   "source": [
    "### 📊 Analyze the generated data\n",
    "\n",
    "- Data Designer automatically generates a basic statistical analysis of the generated data.\n",
    "\n",
    "- This analysis is available via the `analysis` property of generation result objects.\n"
   ]
  },
  {
   "cell_type": "code",
   "execution_count": null,
   "metadata": {},
   "outputs": [],
   "source": [
    "# Print the analysis as a table.\n",
    "preview.analysis.to_report()"
   ]
  },
  {
   "cell_type": "markdown",
   "metadata": {},
   "source": [
    "### 🆙 Scale up!\n",
    "\n",
    "- Happy with your preview data?\n",
    "\n",
    "- Use the `create` method to submit larger Data Designer generation jobs.\n"
   ]
  },
  {
   "cell_type": "code",
   "execution_count": null,
   "metadata": {},
   "outputs": [],
   "source": [
    "job_results = data_designer_client.create(config_builder, num_records=20)\n",
    "\n",
    "# This will block until the job is complete.\n",
    "job_results.wait_until_done()"
   ]
  },
  {
   "cell_type": "code",
   "execution_count": null,
   "metadata": {},
   "outputs": [],
   "source": [
    "# Load the generated dataset as a pandas DataFrame.\n",
    "dataset = job_results.load_dataset()\n",
    "\n",
    "dataset.head()"
   ]
  },
  {
   "cell_type": "code",
   "execution_count": null,
   "metadata": {},
   "outputs": [],
   "source": [
    "# Load the analysis results into memory.\n",
    "analysis = job_results.load_analysis()\n",
    "\n",
    "analysis.to_report()"
   ]
  },
  {
   "cell_type": "code",
   "execution_count": null,
   "metadata": {},
   "outputs": [],
   "source": [
    "TUTORIAL_OUTPUT_PATH = \"data-designer-tutorial-output\"\n",
    "\n",
    "# Download the job artifacts and save them to disk.\n",
    "job_results.download_artifacts(\n",
    "    output_path=TUTORIAL_OUTPUT_PATH,\n",
    "    artifacts_folder_name=\"artifacts-3-seeding-with-a-dataset\",\n",
    ");"
   ]
  },
  {
   "cell_type": "markdown",
   "metadata": {},
   "source": [
    "## ⏭️ Next Steps\n",
    "\n",
    "Use Data Designer to generate synthetic data for your specific use case!\n"
   ]
  }
 ],
 "metadata": {
  "kernelspec": {
   "display_name": ".venv",
   "language": "python",
   "name": "python3"
  },
  "language_info": {
   "codemirror_mode": {
    "name": "ipython",
    "version": 3
   },
   "file_extension": ".py",
   "mimetype": "text/x-python",
   "name": "python",
   "nbconvert_exporter": "python",
   "pygments_lexer": "ipython3",
   "version": "3.11.9"
  }
 },
 "nbformat": 4,
 "nbformat_minor": 2
}
