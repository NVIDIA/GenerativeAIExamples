{
 "cells": [
  {
   "cell_type": "markdown",
   "metadata": {},
   "source": [
    "# 🎨 NeMo Data Designer 101: Structured Outputs and Jinja Expressions\n",
    "\n",
    "> ⚠️ **Warning**: NeMo Data Designer is currently in Early Release and is not recommended for production use.\n",
    "\n",
    "#### 📚 What you'll learn\n",
    "\n",
    "In this notebook, we will continue our exploration of Data Designer, demonstrating more advanced data generation using structured outputs and Jinja expressions.\n",
    "\n",
    "If this is your first time using Data Designer, we recommend starting with the [first notebook](./1-the-basics.ipynb) in this 101 series.\n",
    "\n",
    "<br>\n",
    "\n",
    "> 👋 **IMPORTANT** – Environment Setup\n",
    ">\n",
    "> - If you haven't already, follow the instructions in the [README](../README.md) to install the necessary dependencies.\n",
    ">\n",
    "> - You may need to restart your notebook's kernel after setting up the environment.\n",
    "> - In this notebook, we assume you have a self-hosted instance of Data Designer up and running.\n",
    ">\n",
    "> - For deployment instructions, see the [Installation Options](https://docs.nvidia.com/nemo/microservices/latest/design-synthetic-data-from-scratch-or-seeds/index.html#installation-options) section of the [NeMo Data Designer documentation](https://docs.nvidia.com/nemo/microservices/latest/design-synthetic-data-from-scratch-or-seeds/index.html).\n"
   ]
  },
  {
   "cell_type": "markdown",
   "metadata": {},
   "source": [
    "### 📦 Import the essentials\n",
    "\n",
    "- The `data_designer` module of `nemo_microservices` exposes Data Designer's high-level SDK.\n",
    "\n",
    "- The `essentials` module provides quick access to the most commonly used objects.\n"
   ]
  },
  {
   "cell_type": "code",
   "execution_count": null,
   "metadata": {},
   "outputs": [],
   "source": [
    "from nemo_microservices.data_designer.essentials import (\n",
    "    CategorySamplerParams,\n",
    "    DataDesignerConfigBuilder,\n",
    "    ExpressionColumnConfig,\n",
    "    InferenceParameters,\n",
    "    LLMStructuredColumnConfig,\n",
    "    ModelConfig,\n",
    "    NeMoDataDesignerClient,\n",
    "    PersonSamplerParams,\n",
    "    SamplerColumnConfig,\n",
    "    SamplerType,\n",
    "    SubcategorySamplerParams,\n",
    ")"
   ]
  },
  {
   "cell_type": "markdown",
   "metadata": {},
   "source": [
    "### ⚙️ Initialize the NeMo Data Designer Client\n",
    "\n",
    "- `NeMoDataDesignerClient` is responsible for submitting generation requests to the microservice.\n"
   ]
  },
  {
   "cell_type": "code",
   "execution_count": null,
   "metadata": {},
   "outputs": [],
   "source": [
    "NEMO_MICROSERVICES_BASE_URL = \"http://localhost:8080\"\n",
    "\n",
    "data_designer_client = NeMoDataDesignerClient(base_url=NEMO_MICROSERVICES_BASE_URL)"
   ]
  },
  {
   "cell_type": "markdown",
   "metadata": {},
   "source": [
    "### 🎛️ Define model configurations\n",
    "\n",
    "- Each `ModelConfig` defines a model that can be used during the generation process.\n",
    "\n",
    "- The \"model alias\" is used to reference the model in the Data Designer config (as we will see below).\n",
    "\n",
    "- The \"model provider\" is the external service that hosts the model (see [the model config docs](https://docs.nvidia.com/nemo/microservices/latest/design-synthetic-data-from-scratch-or-seeds/configure-models.html) for more details).\n",
    "\n",
    "- By default, the microservice uses [build.nvidia.com](https://build.nvidia.com/models) as the model provider.\n"
   ]
  },
  {
   "cell_type": "code",
   "execution_count": null,
   "metadata": {},
   "outputs": [],
   "source": [
    "# This name is set in the microservice deployment configuration.\n",
    "MODEL_PROVIDER = \"nvidiabuild\"\n",
    "\n",
    "# The model ID is from build.nvidia.com.\n",
    "MODEL_ID = \"nvidia/nvidia-nemotron-nano-9b-v2\"\n",
    "\n",
    "# We choose this alias to be descriptive for our use case.\n",
    "MODEL_ALIAS = \"nemotron-nano-v2\"\n",
    "\n",
    "# This sets reasoning to False for the nemotron-nano-v2 model.\n",
    "SYSTEM_PROMPT = \"/no_think\"\n",
    "\n",
    "model_configs = [\n",
    "    ModelConfig(\n",
    "        alias=MODEL_ALIAS,\n",
    "        model=MODEL_ID,\n",
    "        provider=MODEL_PROVIDER,\n",
    "        inference_parameters=InferenceParameters(\n",
    "            temperature=0.5,\n",
    "            top_p=1.0,\n",
    "            max_tokens=1024,\n",
    "        ),\n",
    "    )\n",
    "]"
   ]
  },
  {
   "cell_type": "markdown",
   "metadata": {},
   "source": [
    "### 🏗️ Initialize the Data Designer Config Builder\n",
    "\n",
    "- The Data Designer config defines the dataset schema and generation process.\n",
    "\n",
    "- The config builder provides an intuitive interface for building this configuration.\n",
    "\n",
    "- The list of model configs is provided to the builder at initialization.\n"
   ]
  },
  {
   "cell_type": "code",
   "execution_count": null,
   "metadata": {},
   "outputs": [],
   "source": [
    "config_builder = DataDesignerConfigBuilder(model_configs=model_configs)"
   ]
  },
  {
   "cell_type": "markdown",
   "metadata": {},
   "source": [
    "### 🧑‍🎨 Designing our data\n",
    "\n",
    "- We will again create a product review dataset, but this time we will use structured outputs and Jinja expressions.\n",
    "\n",
    "- Structured outputs let you specify the exact schema of the data you want to generate.\n",
    "\n",
    "- Data Designer supports schemas specified using either json schema or Pydantic data models (recommended).\n",
    "\n",
    "<br>\n",
    "\n",
    "We'll define our structured outputs using [Pydantic](https://docs.pydantic.dev/latest/) data models\n",
    "\n",
    "> 💡 **Why Pydantic?**\n",
    ">\n",
    "> - Pydantic models provide better IDE support and type validation.\n",
    ">\n",
    "> - They are more Pythonic than raw JSON schemas.\n",
    ">\n",
    "> - They integrate seamlessly with Data Designer's structured output system.\n"
   ]
  },
  {
   "cell_type": "code",
   "execution_count": null,
   "metadata": {},
   "outputs": [],
   "source": [
    "from decimal import Decimal\n",
    "from typing import Literal\n",
    "from pydantic import BaseModel, Field\n",
    "\n",
    "\n",
    "# We define a Product schema so that the name, description, and price are generated\n",
    "# in one go, with the types and constraints specified.\n",
    "class Product(BaseModel):\n",
    "    name: str = Field(description=\"The name of the product\")\n",
    "    description: str = Field(description=\"A description of the product\")\n",
    "    price: Decimal = Field(\n",
    "        description=\"The price of the product\", ge=10, le=1000, decimal_places=2\n",
    "    )\n",
    "\n",
    "\n",
    "class ProductReview(BaseModel):\n",
    "    rating: int = Field(description=\"The rating of the product\", ge=1, le=5)\n",
    "    customer_mood: Literal[\"irritated\", \"mad\", \"happy\", \"neutral\", \"excited\"] = Field(\n",
    "        description=\"The mood of the customer\"\n",
    "    )\n",
    "    review: str = Field(description=\"A review of the product\")"
   ]
  },
  {
   "cell_type": "markdown",
   "metadata": {},
   "source": [
    "Next, let's design our product review dataset using a few more tricks compared to the previous notebook.\n",
    "\n",
    "> ⚡ **Advanced Feature**:\n",
    ">\n",
    "> - Conditional parameters let you modify sampler behavior\n",
    ">   based on other column values.\n",
    ">\n",
    "> - Notice how `review_style` changes when `target_age_range == '18-25'`.\n"
   ]
  },
  {
   "cell_type": "code",
   "execution_count": null,
   "metadata": {},
   "outputs": [],
   "source": [
    "# Since we often only want a few attributes from Person objects, we can\n",
    "# set drop=True in the column config to drop the column from the final dataset.\n",
    "config_builder.add_column(\n",
    "    SamplerColumnConfig(\n",
    "        name=\"customer\",\n",
    "        sampler_type=SamplerType.PERSON,\n",
    "        params=PersonSamplerParams(age_range=[18, 65]),\n",
    "        drop=True,\n",
    "    )\n",
    ")\n",
    "\n",
    "config_builder.add_column(\n",
    "    SamplerColumnConfig(\n",
    "        name=\"product_category\",\n",
    "        sampler_type=SamplerType.CATEGORY,\n",
    "        params=CategorySamplerParams(\n",
    "            values=[\n",
    "                \"Electronics\",\n",
    "                \"Clothing\",\n",
    "                \"Home & Kitchen\",\n",
    "                \"Books\",\n",
    "                \"Home Office\",\n",
    "            ],\n",
    "        ),\n",
    "    )\n",
    ")\n",
    "\n",
    "config_builder.add_column(\n",
    "    SamplerColumnConfig(\n",
    "        name=\"product_subcategory\",\n",
    "        sampler_type=SamplerType.SUBCATEGORY,\n",
    "        params=SubcategorySamplerParams(\n",
    "            category=\"product_category\",\n",
    "            values={\n",
    "                \"Electronics\": [\n",
    "                    \"Smartphones\",\n",
    "                    \"Laptops\",\n",
    "                    \"Headphones\",\n",
    "                    \"Cameras\",\n",
    "                    \"Accessories\",\n",
    "                ],\n",
    "                \"Clothing\": [\n",
    "                    \"Men's Clothing\",\n",
    "                    \"Women's Clothing\",\n",
    "                    \"Winter Coats\",\n",
    "                    \"Activewear\",\n",
    "                    \"Accessories\",\n",
    "                ],\n",
    "                \"Home & Kitchen\": [\n",
    "                    \"Appliances\",\n",
    "                    \"Cookware\",\n",
    "                    \"Furniture\",\n",
    "                    \"Decor\",\n",
    "                    \"Organization\",\n",
    "                ],\n",
    "                \"Books\": [\n",
    "                    \"Fiction\",\n",
    "                    \"Non-Fiction\",\n",
    "                    \"Self-Help\",\n",
    "                    \"Textbooks\",\n",
    "                    \"Classics\",\n",
    "                ],\n",
    "                \"Home Office\": [\n",
    "                    \"Desks\",\n",
    "                    \"Chairs\",\n",
    "                    \"Storage\",\n",
    "                    \"Office Supplies\",\n",
    "                    \"Lighting\",\n",
    "                ],\n",
    "            },\n",
    "        ),\n",
    "    )\n",
    ")\n",
    "\n",
    "config_builder.add_column(\n",
    "    SamplerColumnConfig(\n",
    "        name=\"target_age_range\",\n",
    "        sampler_type=SamplerType.CATEGORY,\n",
    "        params=CategorySamplerParams(\n",
    "            values=[\"18-25\", \"25-35\", \"35-50\", \"50-65\", \"65+\"]\n",
    "        ),\n",
    "    )\n",
    ")\n",
    "\n",
    "# Sampler columns support conditional params, which are used if the condition is met.\n",
    "# In this example, we set the review style to rambling if the target age range is 18-25.\n",
    "# Note conditional parameters are only supported for Sampler column types.\n",
    "config_builder.add_column(\n",
    "    SamplerColumnConfig(\n",
    "        name=\"review_style\",\n",
    "        sampler_type=SamplerType.CATEGORY,\n",
    "        params=CategorySamplerParams(\n",
    "            values=[\"rambling\", \"brief\", \"detailed\", \"structured with bullet points\"],\n",
    "            weights=[1, 2, 2, 1],\n",
    "        ),\n",
    "        conditional_params={\n",
    "            \"target_age_range == '18-25'\": CategorySamplerParams(values=[\"rambling\"]),\n",
    "        },\n",
    "    )\n",
    ")\n",
    "\n",
    "# Optionally validate that the columns are configured correctly.\n",
    "config_builder.validate()"
   ]
  },
  {
   "cell_type": "markdown",
   "metadata": {},
   "source": [
    "Next, we will use more advanced Jinja expressions to create new columns.\n",
    "\n",
    "Jinja expressions let you:\n",
    "\n",
    "- Access nested attributes: `{{ customer.first_name }}`\n",
    "\n",
    "- Combine values: `{{ customer.first_name }} {{ customer.last_name }}`\n",
    "\n",
    "- Use conditional logic: `{% if condition %}...{% endif %}`\n"
   ]
  },
  {
   "cell_type": "code",
   "execution_count": null,
   "metadata": {},
   "outputs": [],
   "source": [
    "# We can create new columns using Jinja expressions that reference\n",
    "# existing columns, including attributes of nested objects.\n",
    "config_builder.add_column(\n",
    "    ExpressionColumnConfig(\n",
    "        name=\"customer_name\", expr=\"{{ customer.first_name }} {{ customer.last_name }}\"\n",
    "    )\n",
    ")\n",
    "\n",
    "config_builder.add_column(\n",
    "    ExpressionColumnConfig(name=\"customer_age\", expr=\"{{ customer.age }}\")\n",
    ")\n",
    "\n",
    "config_builder.add_column(\n",
    "    LLMStructuredColumnConfig(\n",
    "        name=\"product\",\n",
    "        prompt=(\n",
    "            \"Create a product in the '{{ product_category }}' category, focusing on products  \"\n",
    "            \"related to '{{ product_subcategory }}'. The target age range of the ideal customer is \"\n",
    "            \"{{ target_age_range }} years old. The product should be priced between $10 and $1000.\"\n",
    "        ),\n",
    "        system_prompt=SYSTEM_PROMPT,\n",
    "        output_format=Product,\n",
    "        model_alias=MODEL_ALIAS,\n",
    "    )\n",
    ")\n",
    "\n",
    "# We can even use if/else logic in our Jinja expressions to create more complex prompt patterns.\n",
    "config_builder.add_column(\n",
    "    LLMStructuredColumnConfig(\n",
    "        name=\"customer_review\",\n",
    "        prompt=(\n",
    "            \"Your task is to write a review for the following product:\\n\\n\"\n",
    "            \"Product Name: {{ product.name }}\\n\"\n",
    "            \"Product Description: {{ product.description }}\\n\"\n",
    "            \"Price: {{ product.price }}\\n\\n\"\n",
    "            \"Imagine your name is {{ customer_name }} and you are from {{ customer.city }}, {{ customer.state }}. \"\n",
    "            \"Write the review in a style that is '{{ review_style }}'.\"\n",
    "            \"{% if target_age_range == '18-25' %}\"\n",
    "            \"Make sure the review is more informal and conversational.\"\n",
    "            \"{% else %}\"\n",
    "            \"Make sure the review is more formal and structured.\"\n",
    "            \"{% endif %}\"\n",
    "        ),\n",
    "        system_prompt=SYSTEM_PROMPT,\n",
    "        output_format=ProductReview,\n",
    "        model_alias=MODEL_ALIAS,\n",
    "    )\n",
    ")\n",
    "\n",
    "config_builder.validate()"
   ]
  },
  {
   "cell_type": "markdown",
   "metadata": {},
   "source": [
    "### 🔁 Iteration is key – preview the dataset!\n",
    "\n",
    "1. Use the `preview` method to generate a sample of records quickly.\n",
    "\n",
    "2. Inspect the results for quality and format issues.\n",
    "\n",
    "3. Adjust column configurations, prompts, or parameters as needed.\n",
    "\n",
    "4. Re-run the preview until satisfied.\n"
   ]
  },
  {
   "cell_type": "code",
   "execution_count": null,
   "metadata": {},
   "outputs": [],
   "source": [
    "preview = data_designer_client.preview(config_builder)"
   ]
  },
  {
   "cell_type": "code",
   "execution_count": null,
   "metadata": {},
   "outputs": [],
   "source": [
    "# Run this cell multiple times to cycle through the 10 preview records.\n",
    "preview.display_sample_record()"
   ]
  },
  {
   "cell_type": "code",
   "execution_count": null,
   "metadata": {},
   "outputs": [],
   "source": [
    "# The preview dataset is available as a pandas DataFrame.\n",
    "preview.dataset"
   ]
  },
  {
   "cell_type": "markdown",
   "metadata": {},
   "source": [
    "### 📊 Analyze the generated data\n",
    "\n",
    "- Data Designer automatically generates a basic statistical analysis of the generated data.\n",
    "\n",
    "- This analysis is available via the `analysis` property of generation result objects.\n"
   ]
  },
  {
   "cell_type": "code",
   "execution_count": null,
   "metadata": {},
   "outputs": [],
   "source": [
    "# Print the analysis as a table.\n",
    "preview.analysis.to_report()"
   ]
  },
  {
   "cell_type": "markdown",
   "metadata": {},
   "source": [
    "### 🆙 Scale up!\n",
    "\n",
    "- Happy with your preview data?\n",
    "\n",
    "- Use the `create` method to submit larger Data Designer generation jobs.\n"
   ]
  },
  {
   "cell_type": "code",
   "execution_count": null,
   "metadata": {},
   "outputs": [],
   "source": [
    "job_results = data_designer_client.create(config_builder, num_records=20)\n",
    "\n",
    "# This will block until the job is complete.\n",
    "job_results.wait_until_done()"
   ]
  },
  {
   "cell_type": "code",
   "execution_count": null,
   "metadata": {},
   "outputs": [],
   "source": [
    "# Load the generated dataset as a pandas DataFrame.\n",
    "dataset = job_results.load_dataset()\n",
    "\n",
    "dataset.head()"
   ]
  },
  {
   "cell_type": "code",
   "execution_count": null,
   "metadata": {},
   "outputs": [],
   "source": [
    "# Load the analysis results into memory.\n",
    "analysis = job_results.load_analysis()\n",
    "\n",
    "analysis.to_report()"
   ]
  },
  {
   "cell_type": "code",
   "execution_count": null,
   "metadata": {},
   "outputs": [],
   "source": [
    "TUTORIAL_OUTPUT_PATH = \"data-designer-tutorial-output\"\n",
    "\n",
    "# Download the job artifacts and save them to disk.\n",
    "job_results.download_artifacts(\n",
    "    output_path=TUTORIAL_OUTPUT_PATH,\n",
    "    artifacts_folder_name=\"artifacts-2-structured-outputs-and-jinja-expressions\",\n",
    ");"
   ]
  },
  {
   "cell_type": "markdown",
   "metadata": {},
   "source": [
    "## ⏭️ Next Steps\n",
    "\n",
    "Check out the following notebook to learn more about:\n",
    "\n",
    "- [Seeding synthetic data generation with an external dataset](./3-seeding-with-a-dataset.ipynb)\n"
   ]
  }
 ],
 "metadata": {
  "kernelspec": {
   "display_name": ".venv",
   "language": "python",
   "name": "python3"
  },
  "language_info": {
   "codemirror_mode": {
    "name": "ipython",
    "version": 3
   },
   "file_extension": ".py",
   "mimetype": "text/x-python",
   "name": "python",
   "nbconvert_exporter": "python",
   "pygments_lexer": "ipython3",
   "version": "3.11.9"
  }
 },
 "nbformat": 4,
 "nbformat_minor": 2
}
