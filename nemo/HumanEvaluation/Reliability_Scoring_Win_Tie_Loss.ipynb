{
 "cells": [
  {
   "cell_type": "markdown",
   "metadata": {},
   "source": [
    "# Reliability scoring example for Win-Tie-Loss human evaluation"
   ]
  },
  {
   "cell_type": "markdown",
   "metadata": {},
   "source": [
    "## Overall logic for Reliability scoring (REL)\n",
    "\n",
    "REL can be seen as accuracy against a trusted annotation - **Subject Matter Expert (SME) or Quality Control (QC)**.  \n",
    "\n",
    "From an annotator standpoint, we calculate all correct matches from their annotations against QC and compute the accuracy.  \n",
    "\n",
    "Given that some annotations are hierarchical by definition - first annotators decide if a prompt can be rated, then perform annotation - there can be a mismatch between QC and annotator \"matchability\".  \n",
    "For instance, if an annotator flags the prompt as NSFW, the annotator will not have the chance to select the best response. However, if QC does not flag as NSFW, QC will select a response and annotator will be penalized by incorrect response, even if the error was in the first level (flagging). Thus we need to calculate this error separately so there are no confounding factors.  \n",
    "As an example, an annotator can perform poorly in NSFW flagging, but be extremely aligned with QC when selecting the best response. This annotator would then have low overall reliability if the first level (flagging) is not treated separately.\n",
    "\n",
    "Below are some details about the logic.\n",
    "\n",
    "#### Numerator\n",
    "\n",
    "The numerator part of REL is straighforward. It is calculated as the total correct matches between annotator versus QC.\n",
    "\n",
    "#### Denominator\n",
    "\n",
    "As previously introduced, there are some adjustments (deductions) needed in the denominator part of REL, so that we do not overpenalize mistakes such as incorrect prompt flagging.\n",
    "\n",
    "---\n",
    "\n",
    "### **Why Adjust the Denominator?**\n",
    "This part explains the logic and rationale behind **denominator deductions** in reliability calculations.\n",
    "\n",
    "In reliability calculations, the denominator represents the **total number of opportunities to provide a correct annotation**. However, not all opportunities are valid. Adjusting the denominator excludes irrelevant or invalid cases, ensuring the metric reflects only meaningful data.\n",
    "\n",
    "### **Reasons for Adjustments**\n",
    "Below are somme examples that could be reasons to adjust the denominator.\n",
    "\n",
    "1. **Invalid Prompts**:\n",
    "   - If a prompt is flagged as not being suitable, such as requesting PII, medical advice or other reasons for being flagged, this prompt should not be considered for downstream annotation. In this example, the selection of best response.\n",
    "\n",
    "2. **Skipped Cases**:\n",
    "   - Cases marked as skipped by annotators or QCs indicate that there could be an error or undefined edge-case during annotation, such as non-rendered Markdown, unexpected language, etc.\n",
    "       - This is a very conservative approach.\n",
    "       - This case will not be addressed in this example.\n",
    "\n",
    "3. **No Consensus**:\n",
    "   - For consensus-based evaluations, cases without consensus are unsuitable for reliability calculations. E.g. for binary ranking, if annotators say `[A,B,Tie]` there's no consensus.\n",
    "      - This case will not be addressed in this example.\n"
   ]
  },
  {
   "cell_type": "markdown",
   "metadata": {},
   "source": [
    "## Steps"
   ]
  },
  {
   "cell_type": "markdown",
   "metadata": {},
   "source": [
    "Importing relevant libraries"
   ]
  },
  {
   "cell_type": "code",
   "execution_count": 1,
   "metadata": {},
   "outputs": [],
   "source": [
    "import json\n",
    "import matplotlib.pyplot as plt\n",
    "import matplotlib.colors as mcolors\n",
    "import pandas as pd"
   ]
  },
  {
   "cell_type": "markdown",
   "metadata": {},
   "source": [
    "In case you have your data in a json file, you can load it with the following code:"
   ]
  },
  {
   "cell_type": "code",
   "execution_count": 2,
   "metadata": {},
   "outputs": [],
   "source": [
    "#data_path = 'your_file_here.json'\n",
    "#with open(data_path, 'r') as f:\n",
    "#    data = json.load(f)"
   ]
  },
  {
   "cell_type": "markdown",
   "metadata": {},
   "source": [
    "Here we are going to use a toy sample of data to test the code:"
   ]
  },
  {
   "cell_type": "code",
   "execution_count": 3,
   "metadata": {},
   "outputs": [],
   "source": [
    "data = [{\"output_values\": {\"13612529\": {\"item_flag\": \"No\", \"best\": \"tie\"}, \"48728677\": {\"item_flag\": \"No\", \"best\": \"response_1\"}, \"80596315\": {\"item_flag\": \"No\", \"best\": \"response_2\"}}, \"QC\": {\"39418189\": {\"item_flag\": \"No\", \"best\": \"response_2\"}}},\n",
    "{\"output_values\": {\"13612529\": {\"item_flag\": \"No\", \"best\": \"tie\"}, \"48728677\": {\"item_flag\": \"No\", \"best\": \"response_1\"}, \"80596315\": {\"item_flag\": \"No\", \"best\": \"tie\"}}, \"QC\": {\"39418189\": {\"item_flag\": \"No\", \"best\": \"response_1\"}}},\n",
    "{\"output_values\": {\"13612529\": {\"item_flag\": \"No\", \"best\": \"response_1\"}, \"48728677\": {\"item_flag\": \"No\", \"best\": \"response_1\"}, \"80596315\": {\"item_flag\": \"No\", \"best\": \"response_1\"}}, \"QC\": {\"39418189\": {\"item_flag\": \"No\", \"best\": \"response_1\"}}},\n",
    "{\"output_values\": {\"13612529\": {\"item_flag\": \"No\", \"best\": \"response_1\"}, \"48728677\": {\"item_flag\": \"No\", \"best\": \"response_1\"}, \"83438993\": {\"item_flag\": \"No\", \"best\": \"response_1\"}}, \"QC\": {\"97242374\": {\"item_flag\": \"No\", \"best\": \"response_1\"}}},\n",
    "{\"output_values\": {\"13612529\": {\"item_flag\": \"No\", \"best\": \"tie\"}, \"48728677\": {\"item_flag\": \"No\", \"best\": \"response_1\"}, \"80596315\": {\"item_flag\": \"No\", \"best\": \"response_1\"}}, \"QC\": {\"39418189\": {\"item_flag\": \"No\", \"best\": \"tie\"}}},\n",
    "{\"output_values\": {\"13612529\": {\"item_flag\": \"No\", \"best\": \"response_2\"}, \"48728677\": {\"item_flag\": \"No\", \"best\": \"response_1\"}, \"83438993\": {\"item_flag\": \"No\", \"best\": \"response_1\"}}, \"QC\": {\"39418189\": {\"item_flag\": \"No\", \"best\": \"response_2\"}}},\n",
    "{\"output_values\": {\"13612529\": {\"item_flag\": \"No\", \"best\": \"response_2\"}, \"48728677\": {\"item_flag\": \"No\", \"best\": \"response_2\"}, \"80596315\": {\"item_flag\": \"No\", \"best\": \"response_2\"}}, \"QC\": {\"39418189\": {\"item_flag\": \"No\", \"best\": \"response_2\"}}},\n",
    "{\"output_values\": {\"13612529\": {\"item_flag\": \"No\", \"best\": \"response_2\"}, \"48728677\": {\"item_flag\": \"No\", \"best\": \"response_1\"}, \"80596315\": {\"item_flag\": \"No\", \"best\": \"response_1\"}}, \"QC\": {\"84961759\": {\"item_flag\": \"No\", \"best\": \"response_2\"}}},\n",
    "{\"output_values\": {\"13612529\": {\"item_flag\": \"No\", \"best\": \"response_1\"}, \"48728677\": {\"item_flag\": \"No\", \"best\": \"response_2\"}, \"80596315\": {\"item_flag\": \"No\", \"best\": \"response_2\"}}, \"QC\": {\"39418189\": {\"item_flag\": \"No\", \"best\": \"response_2\"}}},\n",
    "{\"output_values\": {\"13612529\": {\"item_flag\": \"No\", \"best\": \"response_1\"}, \"48728677\": {\"item_flag\": \"No\", \"best\": \"tie\"}, \"80596315\": {\"item_flag\": \"No\", \"best\": \"tie\"}}, \"QC\": {\"39418189\": {\"item_flag\": \"No\", \"best\": \"response_1\"}}},\n",
    "{\"output_values\": {\"32829317\": {\"item_flag\": \"No\", \"best\": \"tie\"}, \"83438993\": {\"item_flag\": \"No\", \"best\": \"response_1\"}, \"96639812\": {\"item_flag\": \"No\", \"best\": \"response_1\"}}, \"QC\": {\"39418189\": {\"item_flag\": \"No\", \"best\": \"response_1\"}}},\n",
    "{\"output_values\": {\"32829317\": {\"item_flag\": \"No\", \"best\": \"response_2\"}, \"83438993\": {\"item_flag\": \"No\", \"best\": \"response_2\"}, \"96639812\": {\"item_flag\": \"No\", \"best\": \"response_2\"}}, \"QC\": {\"39418189\": {\"item_flag\": \"No\", \"best\": \"response_2\"}}},\n",
    "{\"output_values\": {\"32829317\": {\"item_flag\": \"No\", \"best\": \"response_2\"}, \"83438993\": {\"item_flag\": \"No\", \"best\": \"response_2\"}, \"96639812\": {\"item_flag\": \"No\", \"best\": \"response_2\"}}, \"QC\": {\"97242374\": {\"item_flag\": \"No\", \"best\": \"response_2\"}}},\n",
    "{\"output_values\": {\"32829317\": {\"item_flag\": \"No\", \"best\": \"response_2\"}, \"83438993\": {\"item_flag\": \"No\", \"best\": \"response_2\"}, \"96639812\": {\"item_flag\": \"No\", \"best\": \"response_2\"}}, \"QC\": {\"97242374\": {\"item_flag\": \"No\", \"best\": \"response_2\"}}},\n",
    "{\"output_values\": {\"87945218\": {\"item_flag\": \"No\", \"best\": \"response_2\"}, \"49457445\": {\"item_flag\": \"No\", \"best\": \"response_2\"}, \"96639812\": {\"item_flag\": \"No\", \"best\": \"response_2\"}}, \"QC\": {\"84961759\": {\"item_flag\": \"No\", \"best\": \"response_2\"}}},\n",
    "{\"output_values\": {\"87945218\": {\"item_flag\": \"No\", \"best\": \"response_1\"}, \"21985388\": {\"item_flag\": \"No\", \"best\": \"response_1\"}, \"96639812\": {\"item_flag\": \"No\", \"best\": \"tie\"}}, \"QC\": {\"84961759\": {\"item_flag\": \"No\", \"best\": \"response_2\"}}},\n",
    "{\"output_values\": {\"87945218\": {\"item_flag\": \"No\", \"best\": \"response_2\"}, \"21985388\": {\"item_flag\": \"No\", \"best\": \"response_1\"}, \"96639812\": {\"item_flag\": \"No\", \"best\": \"response_2\"}}, \"QC\": {\"84961759\": {\"item_flag\": \"No\", \"best\": \"response_2\"}}},\n",
    "{\"output_values\": {\"87945218\": {\"item_flag\": \"No\", \"best\": \"response_1\"}, \"21985388\": {\"item_flag\": \"No\", \"best\": \"response_1\"}, \"96639812\": {\"item_flag\": \"No\", \"best\": \"response_2\"}}, \"QC\": {\"84961759\": {\"item_flag\": \"No\", \"best\": \"response_2\"}}}]"
   ]
  },
  {
   "cell_type": "markdown",
   "metadata": {},
   "source": [
    "### Computing the metrics for Reliability"
   ]
  },
  {
   "cell_type": "markdown",
   "metadata": {},
   "source": [
    "Here we are going to define the function that computes the metrics for Reliability.\n",
    "The main goal is to compute the following metrics for each evaluator:\n",
    "- Reliability: Fraction of applicable items (both QC and evaluator have \"item_flag\" == \"No\")\n",
    "  where evaluator’s choice equals QC’s choice.\n",
    "- Flag Mismatch %: Percentage of items where evaluator's \"item_flag\" differs from QC's \"item_flag\".\n",
    "  Here \"item_flag\" refers to the case where item is flagged as NSFW\n",
    "- Total Items: Total number of items evaluated.\n"
   ]
  },
  {
   "cell_type": "code",
   "execution_count": 4,
   "metadata": {},
   "outputs": [],
   "source": [
    "def compute_metrics_for_plot(data):\n",
    "    \"\"\"\n",
    "    Processes multiple items and computes, for each evaluator:\n",
    "      - Reliability: Fraction of applicable items (both QC and evaluator have \"item_flag\" == \"No\")\n",
    "        where evaluator’s choice equals QC’s choice.\n",
    "      - Flag Mismatch %: Percentage of items where evaluator's \"item_flag\" differs from QC's \"item_flag\".\n",
    "        Here \"item_flag\" refers to the case where item is flagged as NSFW\n",
    "      - Total Items: Total number of items evaluated.\n",
    "    \n",
    "    Also computes overall metrics:\n",
    "      - Overall QC 'Yes' Percentage (across all items).\n",
    "      - Overall Reliability (aggregated across evaluator responses).\n",
    "      - Overall Flag Mismatch % (aggregated over all evaluators).\n",
    "      - Overall Total Items (sum of evaluator items).\n",
    "    \n",
    "    Returns:\n",
    "      - df: A DataFrame with evaluator IDs as the index (plus an extra \"Overall\" row) and columns:\n",
    "            \"Reliability\", \"Flag Mismatch %\", \"Total Items\".\n",
    "      - qc_yes_percentage: Overall percentage of items where QC's \"item_flag\" is \"Yes\".\n",
    "      - overall_accuracy: Overall reliability aggregated across evaluators.\n",
    "    \"\"\"\n",
    "    evaluator_metrics = {}\n",
    "    total_items = 0\n",
    "    qc_yes_count_global = 0\n",
    "    overall_best_correct = 0\n",
    "    overall_best_total = 0\n",
    "\n",
    "    for item in data:\n",
    "        total_items += 1\n",
    "        \n",
    "        # Extract the QC judgment (assumes one key in the QC dict)\n",
    "        qc_judgment = list(item[\"QC\"].values())[0]\n",
    "        qc_flag = qc_judgment.get(\"item_flag\")\n",
    "        qc_best = qc_judgment.get(\"best\")\n",
    "        \n",
    "        if qc_flag == \"Yes\": # Here if an item is \"flagged\" it means that item is unratable or NSFW\n",
    "            qc_yes_count_global += 1\n",
    "\n",
    "        # Process each evaluator's response in the item\n",
    "        for evaluator_id, eval_judgment in item[\"output_values\"].items():\n",
    "            if evaluator_id not in evaluator_metrics:\n",
    "                evaluator_metrics[evaluator_id] = {\n",
    "                    \"best_total\": 0,    # Count of applicable items for best comparison\n",
    "                    \"best_correct\": 0,  # Count where evaluator's best equals QC's best\n",
    "                    \"flag_mismatch\": 0, # Count of items with item_flag mismatch\n",
    "                    \"total_items\": 0    # Total items evaluated by this evaluator\n",
    "                }\n",
    "            evaluator_metrics[evaluator_id][\"total_items\"] += 1\n",
    "\n",
    "            evaluator_flag = eval_judgment.get(\"item_flag\")\n",
    "            evaluator_best = eval_judgment.get(\"best\")\n",
    "            \n",
    "            # Count mismatch in item_flag between evaluator and QC\n",
    "            if evaluator_flag != qc_flag:\n",
    "                evaluator_metrics[evaluator_id][\"flag_mismatch\"] += 1\n",
    "\n",
    "            # Only compare \"best\" when both QC and evaluator have \"item_flag\" == \"No\"\n",
    "            if qc_flag == \"No\" and evaluator_flag == \"No\":\n",
    "                evaluator_metrics[evaluator_id][\"best_total\"] += 1\n",
    "                if evaluator_best == qc_best:\n",
    "                    evaluator_metrics[evaluator_id][\"best_correct\"] += 1\n",
    "\n",
    "    result = {}\n",
    "    total_eval_items = 0\n",
    "    total_flag_mismatch = 0\n",
    "    for evaluator_id, metrics in evaluator_metrics.items():\n",
    "        total = metrics[\"total_items\"]\n",
    "        total_eval_items += total\n",
    "        flag_mismatch_percentage = (metrics[\"flag_mismatch\"] / total) * 100 if total > 0 else None\n",
    "        best_accuracy = (metrics[\"best_correct\"] / metrics[\"best_total\"]) if metrics[\"best_total\"] > 0 else None\n",
    "        \n",
    "        # Aggregate for overall reliability\n",
    "        overall_best_correct += metrics[\"best_correct\"]\n",
    "        overall_best_total += metrics[\"best_total\"]\n",
    "        total_flag_mismatch += metrics[\"flag_mismatch\"]\n",
    "        \n",
    "        result[evaluator_id] = {\n",
    "            \"Reliability\": best_accuracy,\n",
    "            \"Flag Mismatch %\": flag_mismatch_percentage,\n",
    "            \"Total Items\": total\n",
    "        }\n",
    "        \n",
    "    df = pd.DataFrame.from_dict(result, orient='index')\n",
    "    qc_yes_percentage = (qc_yes_count_global / total_items) * 100 if total_items > 0 else None\n",
    "    overall_accuracy = overall_best_correct / overall_best_total if overall_best_total > 0 else None\n",
    "    overall_flag_mismatch_pct = (total_flag_mismatch / total_eval_items) * 100 if total_eval_items > 0 else None\n",
    "\n",
    "    # Create an \"Overall\" row\n",
    "    overall_row = {\n",
    "        \"Reliability\": overall_accuracy,\n",
    "        \"Flag Mismatch %\": overall_flag_mismatch_pct,\n",
    "        \"Total Items\": total_eval_items\n",
    "    }\n",
    "    # Append the overall row to the DataFrame\n",
    "    df.loc[\"Overall\"] = overall_row\n",
    "\n",
    "    return df, qc_yes_percentage, overall_accuracy\n",
    "\n",
    "\n"
   ]
  },
  {
   "cell_type": "markdown",
   "metadata": {},
   "source": [
    "### Generating the matrix plot for better visualization"
   ]
  },
  {
   "cell_type": "markdown",
   "metadata": {},
   "source": [
    "Here we are going to define the function that generates the matrix plot using the dataframe resulting from the compute_metrics_for_plot function."
   ]
  },
  {
   "cell_type": "code",
   "execution_count": 5,
   "metadata": {},
   "outputs": [],
   "source": [
    "def plot_metrics(df):\n",
    "    \"\"\"\n",
    "    Creates a matrix plot (colored table) from the Reliability DataFrame.\n",
    "    - \"Reliability\": colored from red (low) to green (high).\n",
    "    - \"Flag Mismatch %\": colored from green (low) to red (high).\n",
    "    - \"Total Items\": not colored.\n",
    "    \"\"\"\n",
    "    fig, ax = plt.subplots(figsize=(8, len(df)*0.3 + 0))\n",
    "    ax.axis('off')  # Hide axes\n",
    "\n",
    "    table = ax.table(cellText=df.values,\n",
    "                     rowLabels=df.index,\n",
    "                     colLabels=df.columns,\n",
    "                     loc='center',\n",
    "                     cellLoc='center')\n",
    "    \n",
    "    # Colormap for Reliability: higher is better → green; lower → red.\n",
    "    cmap_accuracy = plt.cm.RdYlGn\n",
    "    norm_accuracy = mcolors.Normalize(vmin=0, vmax=1)\n",
    "    \n",
    "    # Colormap for Flag Mismatch %: lower is better → green; higher → red.\n",
    "    cmap_mismatch = plt.cm.RdYlGn_r\n",
    "    norm_mismatch = mcolors.Normalize(vmin=0, vmax=100)\n",
    "    \n",
    "    # Loop over table cells to set background colors.\n",
    "    for (row, col), cell in table.get_celld().items():\n",
    "        # Skip header row and row labels.\n",
    "        if row == 0 or col == -1:\n",
    "            continue\n",
    "        col_name = df.columns[col]\n",
    "        value = df.iloc[row-1, col]\n",
    "        if col_name == \"Reliability\":\n",
    "            if pd.notnull(value):\n",
    "                color = cmap_accuracy(norm_accuracy(value))\n",
    "                cell.set_facecolor(color)\n",
    "                cell.get_text().set_text(f\"{value*100:.0f}%\")\n",
    "            else:\n",
    "                cell.set_facecolor(\"white\")\n",
    "                cell.get_text().set_text(\"N/A\")\n",
    "        elif col_name == \"Flag Mismatch %\":\n",
    "            if pd.notnull(value):\n",
    "                color = cmap_mismatch(norm_mismatch(value))\n",
    "                cell.set_facecolor(color)\n",
    "                cell.get_text().set_text(f\"{value:.0f}%\")\n",
    "            else:\n",
    "                cell.set_facecolor(\"white\")\n",
    "                cell.get_text().set_text(\"N/A\")\n",
    "        elif col_name == \"Total Items\":\n",
    "            # Do not color the \"Total Items\" column.\n",
    "            cell.set_facecolor(\"white\")\n",
    "    \n",
    "    plt.tight_layout()\n",
    "    plt.show()\n"
   ]
  },
  {
   "cell_type": "markdown",
   "metadata": {},
   "source": [
    "### Putting all together\n",
    "Here we are going to put all the functions together and compute the metrics and generate the matrix plot.\n"
   ]
  },
  {
   "cell_type": "code",
   "execution_count": 6,
   "metadata": {},
   "outputs": [],
   "source": [
    "df, qc_yes_percentage, overall_accuracy = compute_metrics_for_plot(data)"
   ]
  },
  {
   "cell_type": "code",
   "execution_count": 7,
   "metadata": {},
   "outputs": [
    {
     "name": "stdout",
     "output_type": "stream",
     "text": [
      "Overall prompts flagged as non-ratable (NSFW) by QC: 0.00%\n"
     ]
    }
   ],
   "source": [
    "print(f\"Overall prompts flagged as non-ratable (NSFW) by QC: {qc_yes_percentage:.2f}%\")"
   ]
  },
  {
   "cell_type": "code",
   "execution_count": 8,
   "metadata": {},
   "outputs": [
    {
     "name": "stdout",
     "output_type": "stream",
     "text": [
      "Overall Reliability across all evaluators: 62.96%\n"
     ]
    }
   ],
   "source": [
    "print(f\"Overall Reliability across all evaluators: {overall_accuracy*100:.2f}%\")"
   ]
  },
  {
   "cell_type": "markdown",
   "metadata": {},
   "source": [
    "Here is the plot showing the reliability of each evaluator, the percentage disagreement between evaluators and QC in the ratability of the prompts, and the total number of prompts evaluated by each evaluator."
   ]
  },
  {
   "cell_type": "markdown",
   "metadata": {},
   "source": [
    "**It is extremely important to always check the scores having the total items evaluated by each evaluator in mind.**  \n",
    "Evaluators with low number of total items might have high reliability scores just by chance."
   ]
  },
  {
   "cell_type": "code",
   "execution_count": 9,
   "metadata": {},
   "outputs": [
    {
     "data": {
      "image/png": "[encoded data removed]",
      "text/plain": [
       "<Figure size 800x300 with 1 Axes>"
      ]
     },
     "metadata": {},
     "output_type": "display_data"
    }
   ],
   "source": [
    "plot_metrics(df)"
   ]
  }
 ],
 "metadata": {
  "kernelspec": {
   "display_name": "peft",
   "language": "python",
   "name": "python3"
  },
  "language_info": {
   "codemirror_mode": {
    "name": "ipython",
    "version": 3
   },
   "file_extension": ".py",
   "mimetype": "text/x-python",
   "name": "python",
   "nbconvert_exporter": "python",
   "pygments_lexer": "ipython3",
   "version": "3.9.18"
  }
 },
 "nbformat": 4,
 "nbformat_minor": 2
}
