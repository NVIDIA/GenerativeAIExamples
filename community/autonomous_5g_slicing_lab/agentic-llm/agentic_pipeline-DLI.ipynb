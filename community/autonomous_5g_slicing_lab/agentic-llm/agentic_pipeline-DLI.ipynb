{
 "cells": [
  {
   "cell_type": "markdown",
   "metadata": {},
   "source": [
    "![Nvidia Logo](./images/nvidia.png)  "
   ]
  },
  {
   "cell_type": "markdown",
   "metadata": {},
   "source": [
    "## 5G Network Configuration Agent\n",
    "\n",
    "### Overview  \n",
    "This notebook outlines how the 5G network configuration works—how it detects SDU buffer full errors and reconfigures the network. We will use concepts demonstrated in [intro_agents.ipynb](intro_agents.ipynb) to build this agent using LangGraph and LangChain.\n",
    "\n",
    "### Table of Contents\n",
    "1. Architecture Overview\n",
    "2. File Descriptions\n",
    "3. Define and run the Agent\n",
    "4. Streamlit UI implementation\n",
    "\n",
    "### 1. Architecture Overview\n",
    "\n",
    "![Architecture diagram](./images/architecture_diagram.png)  \n",
    "\n",
    "#### Key Components:  \n",
    "\n",
    "**Agents**:\n",
    "1. **Monitoring Agent**:  \n",
    "    - Continuously reads gNodeB logs from `../llm-slicing-5g-lab/logs/gNodeB.log`.  \n",
    "    - Analyzes each chunk for SDU buffer full errors.  \n",
    "    - Routes to the Configuration Agent if an error is detected.  \n",
    "\n",
    "2. **Configuration Agent**:  \n",
    "    - Called when an error is detected in the gNodeB logs.  \n",
    "    - Has two tools bound to it: `get_packet_loss` and `reconfigure_network`.  \n",
    "    - First, retrieves the latest packet loss logs from the database using the `get_packet_loss` tool.  \n",
    "    - Analyzes the logs and determines which UE needs more bandwidth. Based on this, it assigns higher bandwidth to the selected UE.  \n",
    "    - Calls the `reconfigure_network` tool to use xAPP and reconfigure the network.  \n",
    "    - Returns control to the Monitoring Agent to continue monitoring.  \n",
    "\n",
    "**Tools**:\n",
    "1. **`get_packet_loss`**: Queries the database and retrieves a DataFrame containing per-UE packet loss statistics.  \n",
    "2. **`reconfigure_network`**: Calls the xAPP with optimized slicing parameters to adjust network configurations.  \n",
    "\n",
    "#### Example Error Logs  \n",
    "\n",
    "```md\n",
    "[RLC]   /home/nvidia/llm-slicing-5g-lab/openairinterface5g/openair2/LAYER2/nr_rlc/nr_rlc_entity_am.c:1769:nr_rlc_entity_am_recv_sdu: warning: 195 SDU rejected, SDU buffer full\n",
    "                [NR_MAC]   Frame.Slot 896.0\n",
    "                UE RNTI c1f9 CU-UE-ID 1 in-sync PH 0 dB PCMAX 0 dBm, average RSRP -44 (16 meas)\n",
    "                UE c1f9: UL-RI 1, TPMI 0\n",
    "                UE c1f9: dlsch_rounds 23415/1/0/0, dlsch_errors 0, pucch0_DTX 0, BLER 0.00000 MCS (0) 28\n",
    "                UE c1f9: ulsch_rounds 8560/0/0/0, ulsch_errors 0, ulsch_DTX 0, BLER 0.00000 MCS (0) 9\n",
    "                UE c1f9: MAC:    TX      177738642 RX         612401 bytes\n",
    "                UE c1f9: LCID 1: TX           1022 RX            325 bytes\n",
    "```\n",
    "  \n",
    "### 2. Files to Refer  \n",
    "\n",
    "- **[agents.py](./agents.py)** – Contains code for Monitoring and Configuration Agents.  \n",
    "- **[tools.py](./tools.py)** – Implements the tools used by the agents.  \n",
    "- **[langgraph_agent.py](./langgraph_agent.py)** – Defines the LangGraph agent workflow.  \n",
    "- **[chatbot_DLI.py](./chatbot_DLI.py)** – Implementation for the Streamlit UI.  \n",
    "\n",
    "\n",
    "#### Expected Output  \n",
    "\n",
    "By the end of this notebook, you will have:  \n",
    "- A functional LangGraph workflow connected to the 5g slicing lab, that detects network issues and triggers reconfiguration.  \n",
    "- A pipeline capable of analyzing logs, querying packet loss data, and adjusting slicing parameters dynamically.  "
   ]
  },
  {
   "cell_type": "markdown",
   "metadata": {},
   "source": [
    "### Creating a LangGraph Workflow  "
   ]
  },
  {
   "cell_type": "markdown",
   "metadata": {},
   "source": [
    "We have defined two agents—the **Monitoring Agent** and the **Configuration Agent**—as combinations of a model and the tool(s) they have access to. This is achieved using LangGraph's `create_react_agent()` function, which creates an agent that employs ReAct prompting.\n",
    "\n",
    "**States in Graph**  \n",
    "        - A state represents the evolving context of execution, maintaining data across multiple steps.  \n",
    "        - It stores intermediate results, tool outputs, and agent decisions.  \n",
    "        - States enable reasoning over past interactions, ensuring continuity in the workflow.  \n",
    "\n",
    "**Nodes and Edges in LangGraph**  \n",
    "        - **Nodes** represent agents, tool calls, or decision steps in the workflow.  \n",
    "        - **Edges** define the flow between nodes, determining execution order based on conditions.  \n",
    "        - This structure allows dynamic decision-making and parallel execution where needed.  \n",
    "\n",
    "Refer [this](https://langchain-ai.github.io/langgraph/concepts/low_level/) for more information.\n",
    "\n",
    "The workflow has been defined in [langgraph_agent.py](langgraph_agent.py), please refer it for implementation details. "
   ]
  },
  {
   "cell_type": "markdown",
   "metadata": {},
   "source": [
    "### Running the Streamlit User Interface\n",
    "\n",
    "We provide a predefined Streamlit-based user interface for monitoring the system in real time. This interface allows users to interact with the monitoring software efficiently and gain insights into its operation.\n",
    "\n",
    "#### About Streamlit:\n",
    "[Streamlit](https://streamlit.io/) is a lightweight Python framework for building interactive web applications with minimal effort. It enables users to create and deploy data-driven dashboards and tools using simple Python scripts.\n",
    "\n",
    "#### Features of the UI:\n",
    "- Real-time Log Monitoring – View live logs generated by the agent.\n",
    "- Packet Loss Visualization – Monitor real-time packet loss of UE1 and UE2 using dynamic charts.\n",
    "- Agent Control – Start and stop the agent directly through the UI."
   ]
  },
  {
   "cell_type": "code",
   "execution_count": 1,
   "metadata": {},
   "outputs": [
    {
     "data": {
      "application/javascript": [
       "var url = 'http://'+window.location.host+'/dashboard';\n",
       "element.innerHTML = '<a style=\"color:#76b900;\" target=\"_blank\" href='+url+'><h2>< Link To Streamlit Frontend ></h2></a>';\n"
      ],
      "text/plain": [
       "<IPython.core.display.Javascript object>"
      ]
     },
     "metadata": {},
     "output_type": "display_data"
    }
   ],
   "source": [
    "%%js\n",
    "var url = 'http://'+window.location.host+'/dashboard';\n",
    "element.innerHTML = '<a style=\"color:#76b900;\" target=\"_blank\" href='+url+'><h2>< Link To Streamlit Frontend ></h2></a>';"
   ]
  },
  {
   "cell_type": "code",
   "execution_count": null,
   "metadata": {},
   "outputs": [
    {
     "name": "stdout",
     "output_type": "stream",
     "text": [
      "\n",
      "Collecting usage statistics. To deactivate, set browser.gatherUsageStats to false.\n",
      "\u001b[0m\n",
      "\u001b[0m\n",
      "\u001b[34m\u001b[1m  You can now view your Streamlit app in your browser.\u001b[0m\n",
      "\u001b[0m\n",
      "\u001b[34m  Local URL: \u001b[0m\u001b[1mhttp://localhost:8501\u001b[0m\n",
      "\u001b[34m  Network URL: \u001b[0m\u001b[1mhttp://172.27.19.176:8501\u001b[0m\n",
      "\u001b[34m  External URL: \u001b[0m\u001b[1mhttp://204.52.26.81:8501\u001b[0m\n",
      "\u001b[0m\n"
     ]
    }
   ],
   "source": [
    "!~/.local/bin/streamlit run chatbot_DLI.py --server.enableCORS=false --server.enableXsrfProtection=false"
   ]
  },
  {
   "cell_type": "markdown",
   "metadata": {},
   "source": [
    "### Running Langgraph Agent"
   ]
  },
  {
   "cell_type": "markdown",
   "metadata": {},
   "source": [
    "The streamlit UI calls langgraph_agent.py in the background. The agent logs its outputs to agent.log, which are in turn displayed on the UI. You may run the script to see how the agent works. Log files are written to in the `/llm-slicing-5g-lab/logs` directory. Run the following commands in separate terminals to stream logs for agent, UE1 and UE2 respectively.\n",
    "\n",
    "```sh\n",
    "tail -f /llm-slicing-5g-lab/logs/agent.log\n",
    "tail -f /llm-slicing-5g-lab/logs/UE2_iperfc.log\n",
    "tail -f /llm-slicing-5g-lab/logs/UE1_iperfc.log\n",
    "```\n",
    "\n"
   ]
  },
  {
   "cell_type": "code",
   "execution_count": null,
   "metadata": {},
   "outputs": [],
   "source": [
    "!python3 langgraph_agent.py"
   ]
  }
 ],
 "metadata": {
  "kernelspec": {
   "display_name": "Python 3 (ipykernel)",
   "language": "python",
   "name": "python3"
  },
  "language_info": {
   "codemirror_mode": {
    "name": "ipython",
    "version": 3
   },
   "file_extension": ".py",
   "mimetype": "text/x-python",
   "name": "python",
   "nbconvert_exporter": "python",
   "pygments_lexer": "ipython3",
   "version": "3.10.12"
  }
 },
 "nbformat": 4,
 "nbformat_minor": 4
}
