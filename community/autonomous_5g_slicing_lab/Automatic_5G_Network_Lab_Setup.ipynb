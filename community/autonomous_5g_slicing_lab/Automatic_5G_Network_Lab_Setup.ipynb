{
 "cells": [
  {
   "cell_type": "markdown",
   "id": "16b65cd9-dcb9-4b32-b7ac-ae152db55c00",
   "metadata": {},
   "source": [
    "### 1. Automate 5G Network Configurations with NVIDIA AI LLM Agents and Kinetica Accelerated Database"
   ]
  },
  {
   "cell_type": "markdown",
   "id": "b08157d5-eeea-463b-927b-10792da54d18",
   "metadata": {},
   "source": [
    "This DLI introduces an Agentic Generative AI solution designed to address bandwidth allocation challenges in 5G networks. It is divided into two parts that guide you through setting up and managing a 5G network."
   ]
  },
  {
   "cell_type": "code",
   "execution_count": null,
   "id": "64f0e900-6e16-4054-b124-820a5dae11eb",
   "metadata": {},
   "outputs": [],
   "source": [
    "!git clone https://github.com/NVIDIA/GenerativeAIExamples.git"
   ]
  },
  {
   "cell_type": "markdown",
   "id": "7eb5c629-44da-4d33-97d0-40717c65c6a6",
   "metadata": {},
   "source": [
    "### 2. Insert your API Key in the next cell to get it stored for the application\n",
    "Before running any services, export your NVIDIA API key and prepare the local cache. If you do not have the NVIDIA API key, please follow these steps to create one:\n",
    "\n",
    "- Visit build.nvidia.com\n",
    "- Create an account\n",
    "- Click your account icon in the screen upper corner\n",
    "- Select API keys from the menu\n",
    " -Press Generate API key\n",
    "\n",
    "Once you have a valid API key, edit the /Telco-Network-Configuration/config.yaml and add the NVIDIA API KEY. Also review the other configuration parameters for the blueprint."
   ]
  },
  {
   "cell_type": "code",
   "execution_count": 7,
   "id": "fffa0783-c270-4ed6-9b4b-1f5040341f4f",
   "metadata": {},
   "outputs": [
    {
     "name": "stdin",
     "output_type": "stream",
     "text": [
      "Enter your API Key:  ········\n"
     ]
    },
    {
     "name": "stdout",
     "output_type": "stream",
     "text": [
      "✅ API Key successfully saved to config.yaml\n"
     ]
    }
   ],
   "source": [
    "import yaml\n",
    "from getpass import getpass\n",
    "from pathlib import Path\n",
    "\n",
    "# Prompt for API Key securely (input not shown)\n",
    "api_key = getpass(\"Enter your API Key: \")\n",
    "\n",
    "# Define the path to the YAML file\n",
    "yaml_path = Path(\"./agentic-llm/config.yaml\")\n",
    "\n",
    "# Read existing YAML if it exists, otherwise start fresh\n",
    "if yaml_path.exists():\n",
    "    with open(yaml_path, 'r') as file:\n",
    "        try:\n",
    "            config = yaml.safe_load(file) or {}\n",
    "        except yaml.YAMLError:\n",
    "            config = {}\n",
    "else:\n",
    "    config = {}\n",
    "\n",
    "# Insert or update the API_KEY\n",
    "config['API_KEY'] = api_key\n",
    "\n",
    "# Write the updated configuration back to the YAML file\n",
    "with open(yaml_path, 'w') as file:\n",
    "    yaml.safe_dump(config, file)\n",
    "\n",
    "print(\"✅ API Key successfully saved to config.yaml\")\n"
   ]
  },
  {
   "cell_type": "markdown",
   "id": "a77a79b9-644e-4b4f-b781-ea6810a99980",
   "metadata": {},
   "source": [
    "### Agentic LLMs for 5G Section\n",
    "\n",
    "Once you have the **5G Lab GitHub** repository cloned, you can proceed to the **Agentic LLMs** section. This part of the lab demonstrates how to deploy an agentic workflow to monitor network performance and dynamically adjust bandwidth allocation.\n",
    "\n",
    "- **Part A – Setup of 5G Lab environment**  \n",
    "  Located at: `./autonomous5g_slicing_lab/llm-slicing-5g-lab/DLI_Lab_Setup.ipynb`  \n",
    "  Provides instructions to set up a 5G Network Software Stack in your environemnt.\n",
    "\n",
    "- **Part B – 5G Network Agent Workflow**  \n",
    "  Located at: `./autonomous5g_slicing_lab/agentic-llm/agentic_pipeline_DLI.ipynb`  \n",
    "  Explains the agentic pipeline in **LangGraph** for managing 5G network slicing and bandwidth allocation.\n"
   ]
  }
 ],
 "metadata": {
  "kernelspec": {
   "display_name": "Python 3 (ipykernel)",
   "language": "python",
   "name": "python3"
  },
  "language_info": {
   "codemirror_mode": {
    "name": "ipython",
    "version": 3
   },
   "file_extension": ".py",
   "mimetype": "text/x-python",
   "name": "python",
   "nbconvert_exporter": "python",
   "pygments_lexer": "ipython3",
   "version": "3.10.12"
  }
 },
 "nbformat": 4,
 "nbformat_minor": 5
}
