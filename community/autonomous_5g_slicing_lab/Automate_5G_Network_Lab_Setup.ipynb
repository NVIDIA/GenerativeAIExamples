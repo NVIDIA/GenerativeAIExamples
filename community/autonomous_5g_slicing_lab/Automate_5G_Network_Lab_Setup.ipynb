{
 "cells": [
  {
   "cell_type": "markdown",
   "id": "16b65cd9-dcb9-4b32-b7ac-ae152db55c00",
   "metadata": {},
   "source": [
    "### Automate 5G Network Configurations with NVIDIA AI LLM Agents and Kinetica Accelerated Database"
   ]
  },
  {
   "cell_type": "markdown",
   "id": "b08157d5-eeea-463b-927b-10792da54d18",
   "metadata": {},
   "source": [
    "This DLI introduces an Agentic Generative AI solution designed to address bandwidth allocation challenges in 5G networks. It is divided into two parts that guide you through setting up and managing a 5G network."
   ]
  },
  {
   "cell_type": "code",
   "execution_count": 1,
   "id": "64f0e900-6e16-4054-b124-820a5dae11eb",
   "metadata": {},
   "outputs": [
    {
     "name": "stdout",
     "output_type": "stream",
     "text": [
      "Cloning into 'autonomous_5g_slicing_lab'...\n",
      "remote: Enumerating objects: 9025, done.\u001b[K\n",
      "remote: Counting objects: 100% (9025/9025), done.\u001b[K\n",
      "remote: Compressing objects: 100% (4230/4230), done.\u001b[K\n",
      "remote: Total 9025 (delta 4692), reused 8969 (delta 4650), pack-reused 0 (from 0)\u001b[K\n",
      "Receiving objects: 100% (9025/9025), 33.87 MiB | 55.32 MiB/s, done.\n",
      "Resolving deltas: 100% (4692/4692), done.\n"
     ]
    }
   ],
   "source": [
    "!git clone https://github.com/acanaveras/autonomous_5g_slicing_lab.git\n"
   ]
  },
  {
   "cell_type": "markdown",
   "id": "7eb5c629-44da-4d33-97d0-40717c65c6a6",
   "metadata": {},
   "source": [
    "Insert your API Key in the next cell to get it stored for the application"
   ]
  },
  {
   "cell_type": "code",
   "execution_count": 2,
   "id": "fffa0783-c270-4ed6-9b4b-1f5040341f4f",
   "metadata": {},
   "outputs": [
    {
     "name": "stdin",
     "output_type": "stream",
     "text": [
      "Enter your API Key:  ········\n"
     ]
    },
    {
     "ename": "FileNotFoundError",
     "evalue": "[Errno 2] No such file or directory: '/autonomous_5g_slicing_lab/agentic-llm/config.yaml'",
     "output_type": "error",
     "traceback": [
      "\u001b[0;31m---------------------------------------------------------------------------\u001b[0m",
      "\u001b[0;31mFileNotFoundError\u001b[0m                         Traceback (most recent call last)",
      "Cell \u001b[0;32mIn[2], line 25\u001b[0m\n\u001b[1;32m     22\u001b[0m config[\u001b[38;5;124m'\u001b[39m\u001b[38;5;124mAPI_KEY\u001b[39m\u001b[38;5;124m'\u001b[39m] \u001b[38;5;241m=\u001b[39m api_key\n\u001b[1;32m     24\u001b[0m \u001b[38;5;66;03m# Write the updated configuration back to the YAML file\u001b[39;00m\n\u001b[0;32m---> 25\u001b[0m \u001b[38;5;28;01mwith\u001b[39;00m \u001b[38;5;28;43mopen\u001b[39;49m\u001b[43m(\u001b[49m\u001b[43myaml_path\u001b[49m\u001b[43m,\u001b[49m\u001b[43m \u001b[49m\u001b[38;5;124;43m'\u001b[39;49m\u001b[38;5;124;43mw\u001b[39;49m\u001b[38;5;124;43m'\u001b[39;49m\u001b[43m)\u001b[49m \u001b[38;5;28;01mas\u001b[39;00m file:\n\u001b[1;32m     26\u001b[0m     yaml\u001b[38;5;241m.\u001b[39msafe_dump(config, file)\n\u001b[1;32m     28\u001b[0m \u001b[38;5;28mprint\u001b[39m(\u001b[38;5;124m\"\u001b[39m\u001b[38;5;124m✅ API Key successfully saved to config.yaml\u001b[39m\u001b[38;5;124m\"\u001b[39m)\n",
      "File \u001b[0;32m/usr/local/lib/python3.10/dist-packages/IPython/core/interactiveshell.py:324\u001b[0m, in \u001b[0;36m_modified_open\u001b[0;34m(file, *args, **kwargs)\u001b[0m\n\u001b[1;32m    317\u001b[0m \u001b[38;5;28;01mif\u001b[39;00m file \u001b[38;5;129;01min\u001b[39;00m {\u001b[38;5;241m0\u001b[39m, \u001b[38;5;241m1\u001b[39m, \u001b[38;5;241m2\u001b[39m}:\n\u001b[1;32m    318\u001b[0m     \u001b[38;5;28;01mraise\u001b[39;00m \u001b[38;5;167;01mValueError\u001b[39;00m(\n\u001b[1;32m    319\u001b[0m         \u001b[38;5;124mf\u001b[39m\u001b[38;5;124m\"\u001b[39m\u001b[38;5;124mIPython won\u001b[39m\u001b[38;5;124m'\u001b[39m\u001b[38;5;124mt let you open fd=\u001b[39m\u001b[38;5;132;01m{\u001b[39;00mfile\u001b[38;5;132;01m}\u001b[39;00m\u001b[38;5;124m by default \u001b[39m\u001b[38;5;124m\"\u001b[39m\n\u001b[1;32m    320\u001b[0m         \u001b[38;5;124m\"\u001b[39m\u001b[38;5;124mas it is likely to crash IPython. If you know what you are doing, \u001b[39m\u001b[38;5;124m\"\u001b[39m\n\u001b[1;32m    321\u001b[0m         \u001b[38;5;124m\"\u001b[39m\u001b[38;5;124myou can use builtins\u001b[39m\u001b[38;5;124m'\u001b[39m\u001b[38;5;124m open.\u001b[39m\u001b[38;5;124m\"\u001b[39m\n\u001b[1;32m    322\u001b[0m     )\n\u001b[0;32m--> 324\u001b[0m \u001b[38;5;28;01mreturn\u001b[39;00m \u001b[43mio_open\u001b[49m\u001b[43m(\u001b[49m\u001b[43mfile\u001b[49m\u001b[43m,\u001b[49m\u001b[43m \u001b[49m\u001b[38;5;241;43m*\u001b[39;49m\u001b[43margs\u001b[49m\u001b[43m,\u001b[49m\u001b[43m \u001b[49m\u001b[38;5;241;43m*\u001b[39;49m\u001b[38;5;241;43m*\u001b[39;49m\u001b[43mkwargs\u001b[49m\u001b[43m)\u001b[49m\n",
      "\u001b[0;31mFileNotFoundError\u001b[0m: [Errno 2] No such file or directory: '/autonomous_5g_slicing_lab/agentic-llm/config.yaml'"
     ]
    }
   ],
   "source": [
    "import yaml\n",
    "from getpass import getpass\n",
    "from pathlib import Path\n",
    "\n",
    "# Prompt for API Key securely (input not shown)\n",
    "api_key = getpass(\"Enter your API Key: \")\n",
    "\n",
    "# Define the path to the YAML file\n",
    "yaml_path = Path(\"./autonomous_5g_slicing_lab/agentic-llm/config.yaml\")\n",
    "\n",
    "# Read existing YAML if it exists, otherwise start fresh\n",
    "if yaml_path.exists():\n",
    "    with open(yaml_path, 'r') as file:\n",
    "        try:\n",
    "            config = yaml.safe_load(file) or {}\n",
    "        except yaml.YAMLError:\n",
    "            config = {}\n",
    "else:\n",
    "    config = {}\n",
    "\n",
    "# Insert or update the API_KEY\n",
    "config['API_KEY'] = api_key\n",
    "\n",
    "# Write the updated configuration back to the YAML file\n",
    "with open(yaml_path, 'w') as file:\n",
    "    yaml.safe_dump(config, file)\n",
    "\n",
    "print(\"✅ API Key successfully saved to config.yaml\")\n"
   ]
  },
  {
   "cell_type": "markdown",
   "id": "a77a79b9-644e-4b4f-b781-ea6810a99980",
   "metadata": {},
   "source": [
    "### Agentic LLMs for 5G Section\n",
    "\n",
    "Once you have the **5G Lab GitHub** repository cloned, you can proceed to the **Agentic LLMs** section. This part of the lab demonstrates how to deploy an agentic workflow to monitor network performance and dynamically adjust bandwidth allocation.\n",
    "\n",
    "- **Part A – Setup of 5G Lab environment**  \n",
    "  Located at: `./autonomous5g_slicing_lab/llm-slicing-5g-lab/DLI_Lab_Setup.ipynb`  \n",
    "  Provides instructions to set up a 5G Network Software Stack in your environemnt.\n",
    "\n",
    "- **Part B – 5G Network Agent Workflow**  \n",
    "  Located at: `./autonomous5g_slicing_lab/agentic-llm/agentic_pipeline_DLI.ipynb`  \n",
    "  Explains the agentic pipeline in **LangGraph** for managing 5G network slicing and bandwidth allocation.\n"
   ]
  }
 ],
 "metadata": {
  "kernelspec": {
   "display_name": "Python 3 (ipykernel)",
   "language": "python",
   "name": "python3"
  },
  "language_info": {
   "codemirror_mode": {
    "name": "ipython",
    "version": 3
   },
   "file_extension": ".py",
   "mimetype": "text/x-python",
   "name": "python",
   "nbconvert_exporter": "python",
   "pygments_lexer": "ipython3",
   "version": "3.10.12"
  }
 },
 "nbformat": 4,
 "nbformat_minor": 5
}
