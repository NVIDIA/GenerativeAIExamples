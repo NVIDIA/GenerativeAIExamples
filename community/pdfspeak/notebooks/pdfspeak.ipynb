{
 "cells": [
  {
   "cell_type": "code",
   "execution_count": null,
   "metadata": {},
   "outputs": [],
   "source": [
    "# SPDX-FileCopyrightText: Copyright (c) 2023-2024 NVIDIA CORPORATION & AFFILIATES. All rights reserved.\n",
    "# SPDX-License-Identifier: Apache-2.0\n",
    "#\n",
    "# Licensed under the Apache License, Version 2.0 (the \"License\");\n",
    "# you may not use this file except in compliance with the License.\n",
    "# You may obtain a copy of the License at\n",
    "#\n",
    "# http://www.apache.org/licenses/LICENSE-2.0\n",
    "#\n",
    "# Unless required by applicable law or agreed to in writing, software\n",
    "# distributed under the License is distributed on an \"AS IS\" BASIS,\n",
    "# WITHOUT WARRANTIES OR CONDITIONS OF ANY KIND, either express or implied.\n",
    "# See the License for the specific language governing permissions and\n",
    "# limitations under the License."
   ]
  },
  {
   "cell_type": "markdown",
   "metadata": {
    "vscode": {
     "languageId": "plaintext"
    }
   },
   "source": [
    "# Try out the NVIDIA Multimodal PDF Data Extraction Blueprint!\n",
    "\n",
    "Welcome!\n",
    "\n",
    "PDFSpeak is an innovative approach to interacting with complex PDF documents using NVIDIA's cutting-edge AI technologies through speech, vision, and text. In this notebook, we will walk through the components of the PDFSpeak solution.\n",
    "\n",
    "\n",
    "**Important Notes**: \n",
    "1. In order to run this notebook, you need to visit NGC and get a key.\n",
    "2. **Because this solution uses a 3xA100 cluster, it can get expensive to leave on for a long time.**\n",
    "3. This notebook is based on the [NVIDIA Multimodal PDF Data Extraction Blueprint Notebook](https://github.com/NVIDIA/nv-ingest/blob/main/deploy/pdf-blueprint.ipynb)."
   ]
  },
  {
   "cell_type": "markdown",
   "metadata": {},
   "source": [
    "# Introduction\n",
    "\n",
    "It is a cohesive solution enabling you to talk to your PDFs with a familiar chat UI webapp that allows you to upload your own PDF. You can then ask your queries aloud, which are then converted to prompts by [RIVA ASR pipeline](https://docs.nvidia.com/deeplearning/riva/user-guide/docs/asr/asr-overview.html), a GPU-accelerated compute pipeline with optimized performance and accuracy. After this step, the prompt, along with the the PDF, reaches NV-Ingest. \n",
    "\n",
    "[NVIDIA-Ingest](https://github.com/NVIDIA/nv-ingest/tree/main) is a scalable, performance-oriented document content and metadata extraction microservice. It enables parallelization of the process of splitting documents into pages where contents are classified (as tables, charts, images, text), extracted into discrete content, and further contextualized via optical character recognition (OCR) into a well defined JSON schema. From there, NVIDIA Ingest can optionally manage computation of embeddings for the extracted content, and also optionally manage storing into a vector database [Milvus](https://milvus.io/).\n",
    "\n",
    "The textual response from NV-Ingest then goes to [RIVA TTS pipeline](https://docs.nvidia.com/deeplearning/riva/user-guide/docs/asr/asr-overview.html), a two-stage pipeline that generates a mel-spectrogram using the first model, and then generates speech using the second model. This speech response is further processed by the PDFSpeak webapp to be played back to you.\n"
   ]
  },
  {
   "cell_type": "markdown",
   "metadata": {
    "vscode": {
     "languageId": "plaintext"
    }
   },
   "source": [
    "# Architecture\n",
    "\n",
    "This blueprint is comprised of multiple pieces that come together to form a powerful multi-modal RAG solution\n",
    "\n",
    "![arch](pdfspeak_architecture.png)"
   ]
  },
  {
   "cell_type": "markdown",
   "metadata": {
    "vscode": {
     "languageId": "plaintext"
    }
   },
   "source": [
    "# Prerequisites"
   ]
  },
  {
   "cell_type": "markdown",
   "metadata": {},
   "source": [
    "### Hardware\n",
    "\n",
    "| GPU | Family | Memory | # of GPUs (min.) |\n",
    "| ------ | ------ | ------ | ------ |\n",
    "| A100 | SXM or PCIe | 80GB | 3 |\n",
    "\n",
    "### Software\n",
    "\n",
    "- Linux operating systems (Ubuntu 22.04 or later recommended)\n",
    "- [Docker](https://docs.docker.com/engine/install/)\n",
    "- [Docker Compose](https://docs.docker.com/compose/install/)\n",
    "- [CUDA Toolkit](https://developer.nvidia.com/cuda-downloads) (NVIDIA Driver >= `550`, CUDA >= `12.6`)\n",
    "- [NVIDIA Container Toolkit](https://docs.nvidia.com/datacenter/cloud-native/container-toolkit/latest/install-guide.html)\n",
    "\n"
   ]
  },
  {
   "cell_type": "markdown",
   "metadata": {},
   "source": [
    "# Running PDFSpeak"
   ]
  },
  {
   "cell_type": "markdown",
   "metadata": {},
   "source": [
    "## Sanity Checks"
   ]
  },
  {
   "cell_type": "markdown",
   "metadata": {},
   "source": [
    "Run the following commands, if either of them fail then please skip to the \"Step 0\" section and follow the directions there."
   ]
  },
  {
   "cell_type": "markdown",
   "metadata": {},
   "source": [
    "1.Run the following command to check if all components of `NV-Ingest` are up and healthy:"
   ]
  },
  {
   "cell_type": "code",
   "execution_count": 33,
   "metadata": {},
   "outputs": [
    {
     "name": "stdout",
     "output_type": "stream",
     "text": [
      "{\"ready\":true}"
     ]
    }
   ],
   "source": [
    "!curl -X 'GET' 'http://172.17.0.1:7670/v1/health/ready'"
   ]
  },
  {
   "cell_type": "markdown",
   "metadata": {},
   "source": [
    "2. To access the UI. Go to https://172.17.0.1:3002. Click on Advanced and Proceed (Unsafe) option [This warning can be safely ignored as it shows up if a self signed certificate is used on X-platform CORS]. "
   ]
  },
  {
   "cell_type": "markdown",
   "metadata": {},
   "source": [
    "## A Closer Look at PDFSpeak\n",
    "\n",
    "The next section is entirely optional, but will allow you to interact with different components of PDFSpeak directly to understand how the application is working behind the scenes. We will include "
   ]
  },
  {
   "cell_type": "markdown",
   "metadata": {},
   "source": [
    "### Interacting with NV-Ingest\n",
    "[NVIDIA-Ingest](https://github.com/NVIDIA/nv-ingest) is a scalable, performance-oriented document content and metadata extraction microservice. Including support for parsing PDFs, Word and PowerPoint documents, it uses specialized NVIDIA NIM microservices to find, contextualize, and extract text, tables, charts and images for use in downstream generative applications. \n",
    "\n",
    "`nv-ingest` is a key component of PDFSpeak.There are 2 ways to interact with `nv-ingest`,a python client and a CLI. We will focus on using the Python Client API."
   ]
  },
  {
   "cell_type": "markdown",
   "metadata": {},
   "source": [
    "### Using the python client "
   ]
  },
  {
   "cell_type": "markdown",
   "metadata": {},
   "source": [
    "Each ingest job will include a set of stages. These stages define and configure the operations that will be performed during ingestion of the specified input files.\n",
    "\n",
    "- `extract` : Performs multimodal extractions from a document, including text, images, and tables.\n",
    "- `split` : Chunk the text into smaller chunks, useful for storing in a vector database for retrieval applications.\n",
    "- `dedup` : Identifies duplicate images in document that can be filtered to remove data redundancy.\n",
    "- `filter` : Filters out images that are likely not useful using some heuristics, including size and aspect ratio.\n",
    "- `embed` : Pass the text or table extractions through `\"nvidia/nv-embedqa-e5-v5` NIM to obtain its embeddings.\n",
    "- `store` : Save the extracted tables or images to MinIO, Milvus's storage system."
   ]
  },
  {
   "cell_type": "code",
   "execution_count": 34,
   "metadata": {},
   "outputs": [],
   "source": [
    "from nv_ingest_client.client import Ingestor\n",
    "\n",
    "# Load a sample PDF to demonstrate NV-Ingest usage.\n",
    "ingestor = ( \n",
    "    Ingestor(message_client_hostname=\"172.17.0.1\", message_client_port=7670)\n",
    "    .files(\"./woods_frost.pdf\") # can be a list of files, or contain wildcards i.e. /some/path/*.pdf\n",
    "    .extract(\n",
    "        extract_text=True,\n",
    "        extract_tables=True,\n",
    "        extract_charts=True,\n",
    "        extract_images=True,\n",
    "    ).split(\n",
    "        split_by=\"word\",\n",
    "        split_length=300,\n",
    "        split_overlap=10,\n",
    "        max_character_length=5000,\n",
    "        sentence_window_size=0,\n",
    "    ).embed( # whether to compute embeddings\n",
    "        text=True, tables=True\n",
    "    ) \n",
    ")\n",
    "\n",
    "# Result is a List[List[Dict]] - Each outer list Item [] is a file and each inner list Item [][] is an element in that file\n",
    "generated_metadata = ingestor.ingest()"
   ]
  },
  {
   "cell_type": "code",
   "execution_count": 35,
   "metadata": {},
   "outputs": [
    {
     "data": {
      "text/plain": [
       "\"Stopping by Woods on a Snowy Evening, By Robert Frost\\r\\nFigure 1: Snowy Woods\\r\\nWhose woods these are I think I know. His house is in the village though; He will not see me \\r\\nstopping here; To watch his woods fill up with snow. \\r\\nMy little horse must think it queer; To stop without a farmhouse near; Between the woods and \\r\\nfrozen lake; The darkest evening of the year. \\r\\nHe gives his harness bells a shake; To ask if there is some mistake. The only other sound’s the \\r\\nsweep; Of easy wind and downy flake. \\r\\nThe woods are lovely, dark and deep, But I have promises to keep, And miles to go before I \\r\\nsleep, And miles to go before I sleep.\\r\\nFrost’s Collections\\r\\nFigure 2: Robert Frost # Collection Year 1 A Boy's Will 1913 2 North of Boston 1914 3 Mountain Interval 1916 4 New Hampshire 1923 5 West Running Brook 1928 6 A Further Range 1937 7 A Witness Tree 1942 8 In the Clearing 1962 9 Steeple Bush 1947\\r\\n10 An Afterwordunknown\\nimage_caption:[]\\nimage_caption:[]\\n# Collection Year 1 A Boy's Will 1913 2 North of Boston 1914 3 Mountain Interval 1916 4 New Hampshire 1923 5 West Running Brook 1928 6 A Further Range 1937 7 A Witness Tree 1942 8 In the Clearing 1962 9 1947 Steeple Bush 10 An Afterword unknown\\n\""
      ]
     },
     "execution_count": 35,
     "metadata": {},
     "output_type": "execute_result"
    }
   ],
   "source": [
    "from nv_ingest_client.util.process_json_files import ingest_json_results_to_blob\n",
    "\n",
    "# generated_metadata is the result of a batch of submitted files. We sample the first file metadata here for demonstration purposes.\n",
    "ingest_json_results_to_blob(generated_metadata[0])"
   ]
  },
  {
   "cell_type": "markdown",
   "metadata": {},
   "source": [
    "### Explore the Outputs\n",
    "\n",
    "Let's explore elements of the NV-Ingest output. When data flows through an NV-Ingest pipeline, a number of extractions and transformations are performed. As the data is enriched, it is stored in rich metadata hierarchy. In the end, there will be a list of dictionaries, each of which represents a extracted type of information. The most common elements to extract from a dictionary in this hierarchy are the extracted content and the text representation of this content. The next few cells will demonstrate interacting with the metadata, pulling out these elements, and visualizing them. Note, when there is a -1 value present, this represents non-applicable positional resolution. Positive numbers represent valid positional data.\n",
    "\n",
    "For a more complete description of metadata elements, view the data dictionary.\n",
    "\n",
    "https://github.com/NVIDIA/nv-ingest/blob/main/docs/content-metadata.md"
   ]
  },
  {
   "cell_type": "code",
   "execution_count": 36,
   "metadata": {},
   "outputs": [],
   "source": [
    "def redact_metadata_helper(metadata: dict) -> dict:\n",
    "    \"\"\"A simple helper function to redact `metadata[\"content\"]` and metadata[\"embedding\"]' to improve readability.\"\"\"\n",
    "    \n",
    "    text_metadata_redact = metadata.copy()\n",
    "    text_metadata_redact[\"metadata\"][\"content\"] = \"<---Redacted for readability--->\"\n",
    "    text_metadata_redact[\"metadata\"][\"embedding\"] = \"<---Redacted for readability--->\"\n",
    "    \n",
    "    return text_metadata_redact"
   ]
  },
  {
   "cell_type": "markdown",
   "metadata": {},
   "source": [
    "### Explore Output - Text\n",
    "\n",
    "This cell depicts the full metadata hierarchy for a text extraction with redacted content to ease readability. Notice the following sections are populated with information:\n",
    "\n",
    "- `content` - The raw extracted content, text in this case - this section will always be populated with a successful job.\n",
    "- `content_metadata` - Describes the type of extraction and its position in the broader document - this section will always be populated with a successful job.\n",
    "- `source_metadata` - Describes the source document that is the basis of the ingest job.\n",
    "- `text_metadata` - Contain information about the text extraction, including detected language, among others - this section will only exist when `metadata['content_metadata']['document_type'] == 'text'`"
   ]
  },
  {
   "cell_type": "code",
   "execution_count": 37,
   "metadata": {},
   "outputs": [
    {
     "data": {
      "text/plain": [
       "{'document_type': 'text',\n",
       " 'metadata': {'chart_metadata': None,\n",
       "  'content': '<---Redacted for readability--->',\n",
       "  'content_metadata': {'description': 'Unstructured text from PDF document.',\n",
       "   'hierarchy': {'block': -1,\n",
       "    'line': -1,\n",
       "    'nearby_objects': {'images': {'bbox': [], 'content': []},\n",
       "     'structured': {'bbox': [], 'content': []},\n",
       "     'text': {'bbox': [], 'content': []}},\n",
       "    'page': -1,\n",
       "    'page_count': 2,\n",
       "    'span': -1},\n",
       "   'page_number': -1,\n",
       "   'subtype': '',\n",
       "   'type': 'text'},\n",
       "  'debug_metadata': None,\n",
       "  'embedding': '<---Redacted for readability--->',\n",
       "  'error_metadata': None,\n",
       "  'image_metadata': None,\n",
       "  'info_message_metadata': None,\n",
       "  'raise_on_failure': False,\n",
       "  'source_metadata': {'access_level': 1,\n",
       "   'collection_id': '',\n",
       "   'date_created': '2024-04-30T18:02:30',\n",
       "   'last_modified': '2024-04-30T18:02:32',\n",
       "   'partition_id': -1,\n",
       "   'source_id': './woods_frost.pdf',\n",
       "   'source_location': '',\n",
       "   'source_name': './woods_frost.pdf',\n",
       "   'source_type': 'PDF',\n",
       "   'summary': ''},\n",
       "  'table_metadata': None,\n",
       "  'text_metadata': {'keywords': '',\n",
       "   'language': 'en',\n",
       "   'summary': '',\n",
       "   'text_location': [-1, -1, -1, -1],\n",
       "   'text_type': 'document'}}}"
      ]
     },
     "execution_count": 37,
     "metadata": {},
     "output_type": "execute_result"
    }
   ],
   "source": [
    "redacted_text_metadata = redact_metadata_helper(generated_metadata[0][0])  # First file, first element of elements found within file [0][0]. There are 9 total\n",
    "redacted_text_metadata"
   ]
  },
  {
   "cell_type": "markdown",
   "metadata": {},
   "source": [
    "### Explore Output - Tables\n",
    "\n",
    "This cell depicts the full metadata hierarchy for a table extraction with redacted content to ease readability. Notice the following sections are populated with information:\n",
    "\n",
    "- `content` - The raw extracted content, a base64 encoded image of the extracted table in this case - this section will always be populated with a successful job.\n",
    "- `content_metadata` - Describes the type of extraction and its position in the broader document - this section will always be populated with a successful job.\n",
    "- `source_metadata` - Describes the source and storage path of an extracted table in an S3 compliant object store.\n",
    "- `table_metadata` - Contains the text representation of the table, positional data, and other useful elements - this section will only exist when `metadata['content_metadata']['document_type'] == 'structured'`.\n",
    "\n",
    "Note, `table_metadata` will store chart and table extractions. The are distringuished by `metadata['content_metadata']['subtype']`"
   ]
  },
  {
   "cell_type": "code",
   "execution_count": 38,
   "metadata": {},
   "outputs": [
    {
     "data": {
      "text/plain": [
       "{'document_type': 'image',\n",
       " 'metadata': {'chart_metadata': None,\n",
       "  'content': '<---Redacted for readability--->',\n",
       "  'content_metadata': {'description': 'Image extracted from PDF document.',\n",
       "   'hierarchy': {'block': -1,\n",
       "    'line': -1,\n",
       "    'nearby_objects': {'images': {'bbox': [], 'content': []},\n",
       "     'structured': {'bbox': [], 'content': []},\n",
       "     'text': {'bbox': [], 'content': []}},\n",
       "    'page': 0,\n",
       "    'page_count': 2,\n",
       "    'span': -1},\n",
       "   'page_number': 0,\n",
       "   'subtype': '',\n",
       "   'type': 'image'},\n",
       "  'debug_metadata': None,\n",
       "  'embedding': '<---Redacted for readability--->',\n",
       "  'error_metadata': None,\n",
       "  'image_metadata': {'caption': '',\n",
       "   'height': 597,\n",
       "   'image_location': [72.0,\n",
       "    121.49464416503906,\n",
       "    201.7196044921875,\n",
       "    315.69464111328125],\n",
       "   'image_location_max_dimensions': [612.0, 792.0],\n",
       "   'image_type': 'PNG',\n",
       "   'structured_image_type': 'image_type_1',\n",
       "   'text': '',\n",
       "   'uploaded_image_url': '',\n",
       "   'width': 0},\n",
       "  'info_message_metadata': None,\n",
       "  'raise_on_failure': False,\n",
       "  'source_metadata': {'access_level': 1,\n",
       "   'collection_id': '',\n",
       "   'date_created': '2024-04-30T18:02:30',\n",
       "   'last_modified': '2024-04-30T18:02:32',\n",
       "   'partition_id': -1,\n",
       "   'source_id': './woods_frost.pdf',\n",
       "   'source_location': '',\n",
       "   'source_name': './woods_frost.pdf',\n",
       "   'source_type': 'PDF',\n",
       "   'summary': ''},\n",
       "  'table_metadata': None,\n",
       "  'text_metadata': None}}"
      ]
     },
     "execution_count": 38,
     "metadata": {},
     "output_type": "execute_result"
    }
   ],
   "source": [
    "redacted_table_metadata = redact_metadata_helper(generated_metadata[0][2])  # First file, third element within file [0][2]. There are 9 total\n",
    "redacted_table_metadata"
   ]
  },
  {
   "cell_type": "markdown",
   "metadata": {},
   "source": [
    "# Building an E2E reranking and retreival pipeline\n",
    "\n",
    "Reranking is crucial for achieving high accuracy and efficiency in retrieval pipelines. It plays a vital role, particularly when the pipeline incorporates citations from diverse datastores, where each datastore may employ its own unique similarity scoring algorithm. Reranking serves two primary purposes:\n",
    "\n",
    "1. Improving accuracy for individual citations within each datastore.\n",
    "2. Integrating results from multiple datastores to provide a cohesive and relevant set of citations.\n",
    "\n",
    "We'll be using a couple different NIMs for this pipeline. These are a combination of models running locally and hosted on [build.nvidia.com]. However, all of these can be self hosted!\n",
    "1. `nv-embedqa-e5-v5`: this will serve as our embedding model. `nv-ingest` will use this in the `VdbUploadTask`\n",
    "2. `nv-rerankqa-mistral-4b-v3`: this will be our reranking model\n",
    "3. `llama-3.1-nemotron-70b-instruct`: NVIDIA's new SOTA model for our LLM\n",
    "\n",
    "For this example, lets use the table in the `woods_frost.pdf`. For reference, here it is \n",
    "\n",
    "| # | Collection | Year |\n",
    "|---|------------|------|\n",
    "| 1 | A Boy's Will | 1913 |\n",
    "| 2 | North of Boston | 1914 |\n",
    "| 3 | Mountain Interval | 1916 |\n",
    "| 4 | New Hampshire | 1923 |\n",
    "| 5 | West Running Brook | 1928 |\n",
    "| 6 | A Further Range | 1937 |\n",
    "| 7 | A Witness Tree | 1942 |\n",
    "| 8 | In the Clearing | 1962 |\n",
    "| 9 | Steeple Bush | 1947 |\n",
    "| 10 | An Afterword | unknown |\n",
    "\n",
    "This table lists various poetry collections by Robert Frost, along with their publication years. Note that the year for \"An Afterword\" is listed as unknown.\n",
    "\n",
    "Note: this demo is hosted live on  [build.nvidia.com](https://build.nvidia.com/nvidia/multimodal-pdf-data-extraction-for-enterprise-rag)"
   ]
  },
  {
   "cell_type": "code",
   "execution_count": 39,
   "metadata": {},
   "outputs": [
    {
     "name": "stdout",
     "output_type": "stream",
     "text": [
      "Here are the poetry collections of Robert Frost, listed in chronological order by publication year:\n",
      "\n",
      "'s Will** (1913)\n",
      " of Boston** (1914)\n",
      " Interval** (1924)\n",
      "** (1923) *won the Pulitzer Prize for Poetry in 1924*\n",
      " Poems** (1930)\n",
      " Range** (1936)\n",
      " Range (including Collected Poems)** (1937) *updated edition*\n",
      "** (1942)tness Tree\n",
      " and Other Poems** (1943)\n",
      " **Steeple Bush** (1947)\n",
      ". **Complete Poems of Robert Frost, 1949** (1949)\n",
      " Clearing** (1962)\n",
      "\n",
      " Collections:**\n",
      "\n",
      "** (1979) *edited by Edward Connery Lathem*\n",
      "lected Poems, Prose, and Plays** (1995) *edited by Richard Poirier and Mark Richardson*\n",
      " Frost** (2006) *edited by Robert Faggen*"
     ]
    }
   ],
   "source": [
    "from openai import OpenAI\n",
    "\n",
    "client = OpenAI(\n",
    "  base_url = \"https://integrate.api.nvidia.com/v1\"\n",
    ")\n",
    "\n",
    "completion = client.chat.completions.create(\n",
    "  model=\"nvidia/llama-3.1-nemotron-70b-instruct\",\n",
    "  messages=[{\"role\":\"user\",\"content\":\"What are Robert Frosts poetry collections. Provide the name and year.\"}],\n",
    "  temperature=0.5,\n",
    "  top_p=1,\n",
    "  max_tokens=1024,\n",
    "  stream=True\n",
    ")\n",
    "\n",
    "for chunk in completion:\n",
    "  if chunk.choices[0].delta.content is not None:\n",
    "    print(chunk.choices[0].delta.content, end=\"\")"
   ]
  },
  {
   "cell_type": "markdown",
   "metadata": {},
   "source": [
    "## Testing with no pipeline\n",
    "\n",
    "Lets see what our LLM knows about Robert Frost's poetry"
   ]
  },
  {
   "cell_type": "code",
   "execution_count": 40,
   "metadata": {},
   "outputs": [
    {
     "name": "stdout",
     "output_type": "stream",
     "text": [
      "Here are the poetry collections of Robert Frost, listed in chronological order by publication year:\n",
      "\n",
      "** (1913)y's Will\n",
      " (1914)rth of Boston**\n",
      "4) **Mountain Interval** (192\n",
      " *won the Pulitzer Prize for Poetry in 1924*\n",
      "5. **Collected Poems** (1930)\n",
      "6. **Further Range** (1936)\n",
      " **A Further Range (including Collected Poems)** (1937) *updated edition*\n",
      " Tree** (1942)\n",
      " and Other Poems** (1943)\n",
      "Steeple Bush** (1947)\n",
      "Complete Poems of Robert Frost, 1949** (1949)\n",
      "1962)*In the Clearing** (\n",
      "\n",
      "**Posthumous Collections:**\n",
      "\n",
      " **The Poetry of Robert Frost** (1979) *edited by Edward Connery Lathem*\n",
      "Robert Frost: Collected Poems, Prose, and Plays** (1995) *edited by Richard Poirier and Mark Richardson*\n",
      " Robert Frost** (2006) *edited by Robert Faggen*"
     ]
    }
   ],
   "source": [
    "from openai import OpenAI\n",
    "\n",
    "client = OpenAI(\n",
    "  base_url = \"https://integrate.api.nvidia.com/v1\"\n",
    ")\n",
    "\n",
    "completion = client.chat.completions.create(\n",
    "  model=\"nvidia/llama-3.1-nemotron-70b-instruct\",\n",
    "  messages=[{\"role\":\"user\",\"content\":\"What are Robert Frosts poetry collections. Provide the name and year.\"}],\n",
    "  temperature=0.5,\n",
    "  top_p=1,\n",
    "  max_tokens=1024,\n",
    "  stream=True\n",
    ")\n",
    "\n",
    "for chunk in completion:\n",
    "  if chunk.choices[0].delta.content is not None:\n",
    "    print(chunk.choices[0].delta.content, end=\"\")"
   ]
  },
  {
   "cell_type": "markdown",
   "metadata": {},
   "source": [
    "## With pipeline\n",
    "\n",
    "Our model got some of them but also included some selected works that we were not looking for. Lets see if we can improve this response"
   ]
  },
  {
   "cell_type": "markdown",
   "metadata": {},
   "source": [
    "### Pipeline section 1: Extraction\n",
    "\n",
    "We first extract the document metadata using nv-ingest."
   ]
  },
  {
   "cell_type": "code",
   "execution_count": 41,
   "metadata": {},
   "outputs": [],
   "source": [
    "from nv_ingest_client.client import Ingestor\n",
    "from nv_ingest_client.util.file_processing.extract import extract_file_content\n",
    "\n",
    "file_content, file_type = extract_file_content(\"./woods_frost.pdf\")\n",
    "\n",
    "# Load a sample PDF to demonstrate NV-Ingest usage.\n",
    "ingestor = (\n",
    "    Ingestor(message_client_hostname=\"172.17.0.1\", message_client_port=7670)\n",
    "    .files(\"./woods_frost.pdf\") # can be a list of files, or contain wildcards i.e. /some/path/*.pdf\n",
    "    .extract(\n",
    "        extract_text=True,\n",
    "        extract_tables=True,\n",
    "        extract_charts=True,\n",
    "        extract_images=True,\n",
    "    ).split(\n",
    "        split_by=\"word\",\n",
    "        split_length=300,\n",
    "        split_overlap=10,\n",
    "        max_character_length=5000,\n",
    "        sentence_window_size=0,\n",
    "    ).embed( # whether to compute embeddings\n",
    "        text=True, tables=True\n",
    "    )\n",
    ")\n",
    "\n",
    "generated_metadata = ingestor.ingest()"
   ]
  },
  {
   "cell_type": "markdown",
   "metadata": {},
   "source": [
    "### Pipeline section 2: Visualize metadata \n",
    "\n",
    "Below we provide some helper functions that can be used to analyze the metadata"
   ]
  },
  {
   "cell_type": "code",
   "execution_count": 42,
   "metadata": {},
   "outputs": [],
   "source": [
    "from collections import Counter\n",
    "from typing import List, Dict, Any\n",
    "from base64 import b64decode\n",
    "from IPython.display import display, Image\n",
    "\n",
    "def count_metadata_types(metadata: List[Dict[str, Any]]) -> Dict[str, int]:\n",
    "    \"\"\"\n",
    "    Count the number of each metadata type in the generated metadata.\n",
    "    \"\"\"\n",
    "    return dict(Counter(item['document_type'] for item in metadata))\n",
    "\n",
    "def analyze_text_metadata(metadata: List[Dict[str, Any]]) -> Dict[str, Any]:\n",
    "    \"\"\"\n",
    "    Analyze text metadata and return key information.\n",
    "    \"\"\"\n",
    "    text_items = [item for item in metadata if item['document_type'] == 'text']\n",
    "    if not text_items:\n",
    "        return {\"error\": \"No text metadata found\"}\n",
    "    \n",
    "    text_item = text_items[0]['metadata']\n",
    "    return {\n",
    "        \"language\": text_item['text_metadata']['language'],\n",
    "        \"page_count\": text_item['content_metadata']['hierarchy']['page_count'],\n",
    "        \"source_name\": text_item['source_metadata']['source_name'],\n",
    "        \"content_preview\": text_item['content'][:200] + \"...\"  # First 200 characters\n",
    "    }\n",
    "\n",
    "def analyze_table_metadata(metadata: List[Dict[str, Any]]) -> List[Dict[str, Any]]:\n",
    "    \"\"\"\n",
    "    Analyze table metadata and return key information for each table.\n",
    "    \"\"\"\n",
    "    table_items = [item['metadata'] for item in metadata \n",
    "                   if item['document_type'] == 'structured' \n",
    "                   and item['metadata']['content_metadata']['subtype'] == 'table']\n",
    "    \n",
    "    return [{\n",
    "        \"content_preview\": table['table_metadata']['table_content'][:100] + \"...\",\n",
    "        \"location\": table['table_metadata']['table_location'],\n",
    "        \"page_number\": table['content_metadata']['page_number']\n",
    "    } for table in table_items]\n",
    "\n",
    "def analyze_chart_metadata(metadata: List[Dict[str, Any]]) -> List[Dict[str, Any]]:\n",
    "    \"\"\"\n",
    "    Analyze chart metadata and return key information for each chart.\n",
    "    \"\"\"\n",
    "    chart_items = [item['metadata'] for item in metadata \n",
    "                   if item['document_type'] == 'structured' \n",
    "                   and item['metadata']['content_metadata']['subtype'] == 'chart']\n",
    "    \n",
    "    return [{\n",
    "        \"content_preview\": chart['table_metadata']['table_content'][:100] + \"...\",\n",
    "        \"location\": chart['table_metadata']['table_location'],\n",
    "        \"page_number\": chart['content_metadata']['page_number']\n",
    "    } for chart in chart_items]\n",
    "\n",
    "def analyze_image_metadata(metadata: List[Dict[str, Any]]) -> List[Dict[str, Any]]:\n",
    "    \"\"\"\n",
    "    Analyze image metadata and return key information for each image.\n",
    "    \"\"\"\n",
    "    image_items = [item['metadata'] for item in metadata if item['document_type'] == 'image']\n",
    "    \n",
    "    return [{\n",
    "        \"image_type\": img['image_metadata']['image_type'],\n",
    "        \"dimensions\": f\"{img['image_metadata']['width']}x{img['image_metadata']['height']}\",\n",
    "        \"location\": img['image_metadata']['image_location'],\n",
    "        \"page_number\": img['content_metadata']['page_number']\n",
    "    } for img in image_items]\n",
    "\n",
    "def display_image(metadata: List[Dict[str, Any]], index: int = 0):\n",
    "    \"\"\"\n",
    "    Display an image from the metadata at the specified index.\n",
    "    \"\"\"\n",
    "    image_items = [item for item in metadata if item['document_type'] == 'image']\n",
    "    if index < 0 or index >= len(image_items):\n",
    "        print(f\"Invalid index. There are {len(image_items)} images.\")\n",
    "        return\n",
    "    \n",
    "    image_data = b64decode(image_items[index]['metadata']['content'])\n",
    "    display(Image(image_data))\n",
    "\n",
    "def comprehensive_metadata_analysis(metadata: List[Dict[str, Any]]) -> Dict[str, Any]:\n",
    "    \"\"\"\n",
    "    Perform a comprehensive analysis of the metadata and return a summary.\n",
    "    \"\"\"\n",
    "    return {\n",
    "        \"type_counts\": count_metadata_types(metadata),\n",
    "        \"text_analysis\": analyze_text_metadata(metadata),\n",
    "        \"table_analysis\": analyze_table_metadata(metadata),\n",
    "        \"chart_analysis\": analyze_chart_metadata(metadata),\n",
    "        \"image_analysis\": analyze_image_metadata(metadata)\n",
    "    }\n",
    "\n",
    "def print_metadata_summary(analysis: Dict[str, Any]):\n",
    "    \"\"\"\n",
    "    Print a formatted summary of the metadata analysis.\n",
    "    \"\"\"\n",
    "    print(\"NV-Ingest Metadata Analysis Summary\")\n",
    "    print(\"===================================\")\n",
    "    \n",
    "    print(\"\\nMetadata Type Counts:\")\n",
    "    for doc_type, count in analysis['type_counts'].items():\n",
    "        print(f\"  {doc_type}: {count}\")\n",
    "    \n",
    "    print(\"\\nText Analysis:\")\n",
    "    text_analysis = analysis['text_analysis']\n",
    "    print(f\"  Language: {text_analysis['language']}\")\n",
    "    print(f\"  Page Count: {text_analysis['page_count']}\")\n",
    "    print(f\"  Source Name: {text_analysis['source_name']}\")\n",
    "    print(f\"  Content Preview: {text_analysis['content_preview']}\")\n",
    "    \n",
    "    print(\"\\nTable Analysis:\")\n",
    "    for i, table in enumerate(analysis['table_analysis'], 1):\n",
    "        print(f\"  Table {i}:\")\n",
    "        print(f\"    Content Preview: {table['content_preview']}\")\n",
    "        print(f\"    Location: {table['location']}\")\n",
    "        print(f\"    Page Number: {table['page_number']}\")\n",
    "    \n",
    "    print(\"\\nChart Analysis:\")\n",
    "    for i, chart in enumerate(analysis['chart_analysis'], 1):\n",
    "        print(f\"  Chart {i}:\")\n",
    "        print(f\"    Content Preview: {chart['content_preview']}\")\n",
    "        print(f\"    Location: {chart['location']}\")\n",
    "        print(f\"    Page Number: {chart['page_number']}\")\n",
    "    \n",
    "    print(\"\\nImage Analysis:\")\n",
    "    for i, image in enumerate(analysis['image_analysis'], 1):\n",
    "        print(f\"  Image {i}:\")\n",
    "        print(f\"    Type: {image['image_type']}\")\n",
    "        print(f\"    Dimensions: {image['dimensions']}\")\n",
    "        print(f\"    Location: {image['location']}\")\n",
    "        print(f\"    Page Number: {image['page_number']}\")"
   ]
  },
  {
   "cell_type": "code",
   "execution_count": 43,
   "metadata": {},
   "outputs": [
    {
     "name": "stdout",
     "output_type": "stream",
     "text": [
      "NV-Ingest Metadata Analysis Summary\n",
      "===================================\n",
      "\n",
      "Metadata Type Counts:\n",
      "  text: 1\n",
      "  structured: 1\n",
      "  image: 2\n",
      "\n",
      "Text Analysis:\n",
      "  Language: en\n",
      "  Page Count: 2\n",
      "  Source Name: ./woods_frost.pdf\n",
      "  Content Preview: Stopping by Woods on a Snowy Evening, By Robert Frost\n",
      "Figure 1: Snowy Woods\n",
      "Whose woods these are I think I know. His house is in the village though; He will not see me \n",
      "stopping here; To watch his...\n",
      "\n",
      "Table Analysis:\n",
      "  Table 1:\n",
      "    Content Preview: # Collection Year 1 A Boy's Will 1913 2 North of Boston 1914 3 Mountain Interval 1916 4 New Hampshir...\n",
      "    Location: [51.916799999999995, 134.6058, 565.248, 1051.0884999999998]\n",
      "    Page Number: 1\n",
      "\n",
      "Chart Analysis:\n",
      "\n",
      "Image Analysis:\n",
      "  Image 1:\n",
      "    Type: PNG\n",
      "    Dimensions: 0x563\n",
      "    Location: [72.0, 534.174560546875, 299.99114990234375, 700.8745727539062]\n",
      "    Page Number: 0\n",
      "  Image 2:\n",
      "    Type: PNG\n",
      "    Dimensions: 0x597\n",
      "    Location: [72.0, 121.49464416503906, 201.7196044921875, 315.69464111328125]\n",
      "    Page Number: 0\n"
     ]
    },
    {
     "data": {
      "image/png": "[encoded data removed]",
      "text/plain": [
       "<IPython.core.display.Image object>"
      ]
     },
     "metadata": {},
     "output_type": "display_data"
    }
   ],
   "source": [
    "analysis = comprehensive_metadata_analysis(generated_metadata[0])  # One analyze first file result\n",
    "print_metadata_summary(analysis)\n",
    "\n",
    "# To display an image:\n",
    "display_image(generated_metadata[0], 0)  # Display the first image"
   ]
  },
  {
   "cell_type": "markdown",
   "metadata": {},
   "source": [
    "### Pipeline section 3: Embedding, Storage, and Saving to a Vector DB\n",
    "\n",
    "We now create our Milvus collection and bulk upload our nv-ingest `generated_metadata` to the collection from Minio."
   ]
  },
  {
   "cell_type": "code",
   "execution_count": 44,
   "metadata": {},
   "outputs": [],
   "source": [
    "from nv_ingest_client.util.milvus import create_nvingest_collection, write_to_nvingest_collection\n",
    "\n",
    "sparse = False\n",
    "COLLECTION_NAME=\"nv_ingest_collection_test\"\n",
    "\n",
    "# Create the Milvus collection\n",
    "schema = create_nvingest_collection(COLLECTION_NAME, f\"http://milvus:19530\", sparse=sparse, dense_dim=1024)"
   ]
  },
  {
   "cell_type": "code",
   "execution_count": 45,
   "metadata": {},
   "outputs": [
    {
     "name": "stdout",
     "output_type": "stream",
     "text": [
      "Wrote data to: [['b198226d-8980-4d5f-b282-51025f38818c/1.parquet']]\n",
      "Start time: 2025-03-05 00:39:30\n",
      "Imported row count: 2\n",
      "Bulk nv_ingest_collection_test upload took 16.03606677055359 s\n"
     ]
    }
   ],
   "source": [
    "# Index the nv-ingest generated_metadata to the Milvus collection\n",
    "write_to_nvingest_collection(generated_metadata, COLLECTION_NAME, sparse=sparse, milvus_uri=f\"http://milvus:19530\", minio_endpoint=\"minio:9000\")"
   ]
  },
  {
   "cell_type": "markdown",
   "metadata": {},
   "source": [
    "### Pipeline section 4: Connect to MilvusDB and the embedding model to start querying"
   ]
  },
  {
   "cell_type": "code",
   "execution_count": 46,
   "metadata": {},
   "outputs": [],
   "source": [
    "import os\n",
    "from langchain_nvidia_ai_endpoints import NVIDIAEmbeddings, NVIDIARerank, ChatNVIDIA\n",
    "from langchain_milvus import Milvus\n",
    "\n",
    "\n",
    "embedding = NVIDIAEmbeddings(model=\"nvidia/nv-embedqa-e5-v5\")\n",
    "\n",
    "reranker = NVIDIARerank(model=\"nvidia/nv-rerankqa-mistral-4b-v3\")\n",
    "\n",
    "llm = ChatNVIDIA(model=\"nvidia/llama-3.1-nemotron-70b-instruct\")\n",
    "\n",
    "\n",
    "vectorstore = Milvus(\n",
    "    embedding_function=embedding,\n",
    "    collection_name=COLLECTION_NAME,\n",
    "    primary_field = \"pk\",\n",
    "    vector_field = \"vector\",\n",
    "    text_field=\"text\",\n",
    "    connection_args={\"uri\": \"http://172.17.0.1:19530\"},\n",
    ")\n",
    "retriever = vectorstore.as_retriever()"
   ]
  },
  {
   "cell_type": "code",
   "execution_count": 23,
   "metadata": {},
   "outputs": [
    {
     "name": "stdout",
     "output_type": "stream",
     "text": [
      "Based on the retrieved context, here are Robert Frost's poetry collections with their corresponding years:\n",
      "\n",
      "1. **A Boy's Will** - 1913\n",
      "2. **North of Boston** - 1914\n",
      "3. **Mountain Interval** - 1916\n",
      "4. **New Hampshire** - 1923\n",
      "5. **West Running Brook** - 1928\n",
      "6. **A Further Range** - 1937\n",
      "7. **A Witness Tree** - 1942\n",
      "8. **Steeple Bush** - 1947\n",
      "9. **In the Clearing** - 1962\n",
      "10. **An Afterword** - **Unknown** (year not specified)\n"
     ]
    }
   ],
   "source": [
    "from langchain_core.prompts import PromptTemplate\n",
    "from langchain_core.runnables import RunnablePassthrough\n",
    "from langchain_core.output_parsers import StrOutputParser\n",
    "\n",
    "template = (\n",
    "    \"You are an assistant for question-answering tasks. \"\n",
    "    \"Use the following pieces of retrieved context to answer \"\n",
    "    \"the question. If you don't know the answer, say that you \"\n",
    "    \"don't know. Keep the answer concise.\"\n",
    "    \"\\n\\n\"\n",
    "    \"{context}\"\n",
    "    \"Question: {question}\"\n",
    ")\n",
    "\n",
    "prompt = PromptTemplate.from_template(template)\n",
    "\n",
    "rag_chain = (\n",
    "    {\"context\": retriever, \"question\": RunnablePassthrough()}\n",
    "    | prompt\n",
    "    | llm\n",
    "    | StrOutputParser()\n",
    ")\n",
    "resp=rag_chain.invoke(\"What are Robert Frosts poetry collections. Provide the name and year.?\")\n",
    "\n",
    "print(resp)"
   ]
  },
  {
   "cell_type": "markdown",
   "metadata": {},
   "source": [
    "### Interacting with NVIDIA Riva\n",
    "\n",
    "[NVIDIA® Riva](https://www.nvidia.com/en-us/ai-data-science/products/riva/) is a set of GPU-accelerated multilingual speech and translation microservices for building fully customizable, real-time conversational AI pipelines. Riva includes automatic speech recognition (ASR), text-to-speech (TTS), and neural machine translation (NMT) and is deployable in all clouds, in data centers, at the edge, and on embedded devices.\n",
    "\n",
    "NVIDIA Riva is another key component of PDFSpeak, enabling the ASR and TTS components used in the application. Let's check that the RIVA components are ready-to-use. You will be able to interact with the Riva components directly in the PDFSpeak application launched on port 3002."
   ]
  },
  {
   "cell_type": "markdown",
   "metadata": {},
   "source": [
    "#### TTS"
   ]
  },
  {
   "cell_type": "code",
   "execution_count": 49,
   "metadata": {},
   "outputs": [
    {
     "name": "stdout",
     "output_type": "stream",
     "text": [
      "{\"status\":\"ready\"}"
     ]
    }
   ],
   "source": [
    "!curl -X 'GET' 'http://fastpitch-tts:9001/v1/health/ready'"
   ]
  },
  {
   "cell_type": "code",
   "execution_count": 50,
   "metadata": {},
   "outputs": [
    {
     "name": "stdout",
     "output_type": "stream",
     "text": [
      "Generating audio for request...\n",
      "Time spent: 0.195s\n"
     ]
    }
   ],
   "source": [
    "!python3 riva-examples/scripts/tts/talk.py --server fastpitch-tts:50052 --text \"Welcome to Nvidia GTC 2025\" --language-code en-US --output output.wav "
   ]
  },
  {
   "cell_type": "markdown",
   "metadata": {},
   "source": [
    "#### ASR"
   ]
  },
  {
   "cell_type": "code",
   "execution_count": 51,
   "metadata": {},
   "outputs": [
    {
     "name": "stdout",
     "output_type": "stream",
     "text": [
      "{\"status\":\"ready\"}"
     ]
    }
   ],
   "source": [
    "!curl -X 'GET' 'http://parakeet-asr:9099/v1/health/ready'"
   ]
  },
  {
   "cell_type": "code",
   "execution_count": 52,
   "metadata": {},
   "outputs": [
    {
     "name": "stdout",
     "output_type": "stream",
     "text": [
      "## welcome to nvidia gtc twenty twenty five \n"
     ]
    }
   ],
   "source": [
    "!python3 riva-examples/scripts/asr/transcribe_file.py --server parakeet-asr:50051 --input-file output.wav --language-code en-US "
   ]
  },
  {
   "cell_type": "markdown",
   "metadata": {},
   "source": [
    "## Putting It All Together"
   ]
  },
  {
   "cell_type": "markdown",
   "metadata": {},
   "source": [
    "Now that we have reviewed the NV-Ingest components and Riva components, let's start putting it all together by converting the text answer of the query to speech using TTS."
   ]
  },
  {
   "cell_type": "markdown",
   "metadata": {},
   "source": [
    "> [NOTE] If you have trouble playing the `.wav` file generated above, try downloading it and playing it on your personal machine."
   ]
  },
  {
   "cell_type": "code",
   "execution_count": 53,
   "metadata": {},
   "outputs": [],
   "source": [
    "from riva.client import Auth, SpeechSynthesisService\n",
    "import wave\n",
    "import os\n",
    "\n",
    "def get_riva_tts_service():\n",
    "    RIVA_URI = \"fastpitch-hifigan-tts:50052\"\n",
    "    auth = Auth(uri=RIVA_URI)\n",
    "    tts_service = SpeechSynthesisService(auth)\n",
    "    os.makedirs(\"audio_outputs\", exist_ok=True)\n",
    "    return tts_service\n",
    "\n",
    "def generate_tts(text, filename=\"assistant_output.wav\"):\n",
    "    try:\n",
    "        print(\"[INFO] Generate TTS Start\")\n",
    "        tts_service = get_riva_tts_service()\n",
    "        response = tts_service.synthesize(\n",
    "            text=text,\n",
    "            voice_name=\"English-US.Female-1\",\n",
    "            language_code=\"en-US\",\n",
    "            sample_rate_hz=44100\n",
    "        )\n",
    "        \n",
    "        audio_path = f\"audio_outputs/{filename}\"\n",
    "        \n",
    "\n",
    "        with wave.open(audio_path, 'wb') as wav_file:\n",
    "            wav_file.setnchannels(1)  \n",
    "            wav_file.setsampwidth(2)  \n",
    "            wav_file.setframerate(44100)\n",
    "            \n",
    "\n",
    "            wav_file.writeframes(response.audio)\n",
    "        print(\"[INFO]  Generate TTS End: \",audio_path)\n",
    "            \n",
    "        return audio_path\n",
    "        \n",
    "    except Exception as e:\n",
    "        print(f\"TTS Generation Error: {str(e)}\")\n",
    "        return None"
   ]
  },
  {
   "cell_type": "code",
   "execution_count": 54,
   "metadata": {},
   "outputs": [
    {
     "name": "stdout",
     "output_type": "stream",
     "text": [
      "Based on the retrieved context, Figure 1 is described as:\n",
      "**Figure 1: Snowy Woods** \n",
      "\n",
      "Therefore, the answer is: **Snowy Woods** (presumably an image, but the actual image content is not provided in the text).\n",
      "[INFO] Generate TTS Start\n",
      "[INFO]  Generate TTS End:  audio_outputs/assistant_output.wav\n"
     ]
    },
    {
     "data": {
      "text/plain": [
       "'audio_outputs/assistant_output.wav'"
      ]
     },
     "execution_count": 54,
     "metadata": {},
     "output_type": "execute_result"
    }
   ],
   "source": [
    "from langchain_core.prompts import PromptTemplate\n",
    "from langchain_core.runnables import RunnablePassthrough\n",
    "from langchain_core.output_parsers import StrOutputParser\n",
    "\n",
    "template = (\n",
    "    \"You are an assistant for question-answering tasks. \"\n",
    "    \"Use the following pieces of retrieved context to answer \"\n",
    "    \"the question. If you don't know the answer, say that you \"\n",
    "    \"don't know. Keep the answer concise.\"\n",
    "    \"\\n\\n\"\n",
    "    \"{context}\"\n",
    "    \"Question: {question}\"\n",
    ")\n",
    "\n",
    "prompt = PromptTemplate.from_template(template)\n",
    "\n",
    "rag_chain = (\n",
    "    {\"context\": retriever, \"question\": RunnablePassthrough()}\n",
    "    | prompt\n",
    "    | llm\n",
    "    | StrOutputParser()\n",
    ")\n",
    "resp=rag_chain.invoke(\"What does Figure 1 show?\")\n",
    "print(resp)\n",
    "generate_tts(resp)"
   ]
  },
  {
   "cell_type": "markdown",
   "metadata": {},
   "source": [
    "By taking the pipeline that we've generated above, scaling it, and combining it with a custom user interface and ASR (which is run within the UI components), you can generate custom application demo like the one shown below."
   ]
  },
  {
   "cell_type": "markdown",
   "metadata": {},
   "source": [
    "## Interacting with PDFSpeak\n",
    "\n",
    "To access the UI, go to [https://localhost:3002/]. Click on Advanced and Proceed (Unsafe) option [This warning can be safely ignored as it shows up if a self signed certificate is used on X-platform CORS]. \n",
    "\n",
    "# <font color=\"Purple\">Time to get speaking!</font>"
   ]
  }
 ],
 "metadata": {
  "kernelspec": {
   "display_name": "Python 3 (ipykernel)",
   "language": "python",
   "name": "python3"
  },
  "language_info": {
   "codemirror_mode": {
    "name": "ipython",
    "version": 3
   },
   "file_extension": ".py",
   "mimetype": "text/x-python",
   "name": "python",
   "nbconvert_exporter": "python",
   "pygments_lexer": "ipython3",
   "version": "3.13.2"
  }
 },
 "nbformat": 4,
 "nbformat_minor": 4
}
