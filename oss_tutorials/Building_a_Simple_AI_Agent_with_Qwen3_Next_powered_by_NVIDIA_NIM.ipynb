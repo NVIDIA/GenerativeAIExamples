{
  "nbformat": 4,
  "nbformat_minor": 0,
  "metadata": {
    "colab": {
      "provenance": [],
      "machine_shape": "hm",
      "include_colab_link": true
    },
    "kernelspec": {
      "name": "python3",
      "display_name": "Python 3"
    },
    "language_info": {
      "name": "python"
    }
  },
  "cells": [
    {
      "cell_type": "markdown",
      "metadata": {
        "id": "view-in-github",
        "colab_type": "text"
      },
      "source": [
        "<a href=\"https://colab.research.google.com/github/anniesurla/GenerativeAIExamples/blob/dev%2Fasurla-qwen-next/Building_a_Simple_AI_Agent_with_Qwen3_Next_powered_by_NVIDIA_NIM.ipynb\" target=\"_parent\"><img src=\"https://colab.research.google.com/assets/colab-badge.svg\" alt=\"Open In Colab\"/></a>"
      ]
    },
    {
      "cell_type": "markdown",
      "source": [
        "![image](https://imgur.com/FfbspFL.png)\n",
        "# Building an AI Agent with Qwen3 Next Powered by NVIDIA NIM\n",
        "\n",
        "In the following notebook, we'll take a look at a few things:\n",
        "\n",
        "1. How to use the NVIDIA-hosted NIM API to run inference on the model through the [ChatCompletions API](https://platform.openai.com/docs/api-reference/chat)\n",
        "2. How to build a Simple Notes Taking Agent powered by the `qwen3-next` NIM using the [OpenAI Agents SDK](https://github.com/openai/openai-agents-python/tree/main).\n",
        "\n",
        "Let's get right into it!"
      ],
      "metadata": {
        "id": "0jFwCpFmwgjK"
      }
    },
    {
      "cell_type": "markdown",
      "source": [
        "## Getting an API Key from build.nvidia.com\n",
        "\n",
        "In order to use the NVIDIA-hosted NIM API - we'll need to have an API key from build.nvidia.com, luckily this is very straightforward.\n",
        "\n",
        "First, let's navigate to the model on [build.nvidia.com](https://build.nvidia.com/qwen/qwen3-next-80b-a3b-thinking)!\n",
        "\n",
        "> NOTE: You'll need to ensure you're logged in before moving to the next steps!\n",
        "\n",
        "Once there, you can click on the green button that says: `View Code`.\n",
        "\n",
        "![image](https://i.imgur.com/mSGQPfC.png)\n",
        "\n",
        "A new modal should appear on your screen, where you can click the `Generate API Key` text to obtain your API key!\n",
        "\n",
        "![image](https://imgur.com/sDlK4eO.png)\n",
        "\n",
        "Once you have that API key, you're good to move on to the next step which will capture it as an environment variable."
      ],
      "metadata": {
        "id": "LjSo-Kx3xzQY"
      }
    },
    {
      "cell_type": "code",
      "execution_count": 1,
      "metadata": {
        "colab": {
          "base_uri": "https://localhost:8080/"
        },
        "id": "fiwQ8aZUUJpv",
        "outputId": "8b7770b8-61d7-4f8b-a28c-b8f2e906a206"
      },
      "outputs": [
        {
          "name": "stdout",
          "output_type": "stream",
          "text": [
            "Enter your NVIDIA API key (found at build.nvidia.com)··········\n"
          ]
        }
      ],
      "source": [
        "import os\n",
        "import getpass\n",
        "\n",
        "os.environ[\"NVIDIA_API_KEY\"] = getpass.getpass(\"Enter your NVIDIA API key (found at build.nvidia.com)\")"
      ]
    },
    {
      "cell_type": "markdown",
      "source": [
        "## Using the OpenAI Library with the NVIDIA-hosted NIM API\n",
        "\n",
        "We will be using the Python [OpenAI SDK](https://github.com/openai/openai-python) to access the `qwen3-next` model on build.nvidia.com.\n",
        "\n",
        "Let's start with a classic `pip install`."
      ],
      "metadata": {
        "id": "C7anNSsM0ZNU"
      }
    },
    {
      "cell_type": "code",
      "source": [
        "!pip install -qU openai"
      ],
      "metadata": {
        "colab": {
          "base_uri": "https://localhost:8080/"
        },
        "id": "ZI2c_q34Uqke",
        "outputId": "852aa8ec-e250-437b-c8a5-257a12d41d3a"
      },
      "execution_count": 2,
      "outputs": [
        {
          "output_type": "stream",
          "name": "stdout",
          "text": [
            "\u001b[?25l   \u001b[90m━━━━━━━━━━━━━━━━━━━━━━━━━━━━━━━━━━━━━━━━\u001b[0m \u001b[32m0.0/947.6 kB\u001b[0m \u001b[31m?\u001b[0m eta \u001b[36m-:--:--\u001b[0m\r\u001b[2K   \u001b[91m━━━━━━━━━━━━━\u001b[0m\u001b[91m╸\u001b[0m\u001b[90m━━━━━━━━━━━━━━━━━━━━━━━━━━\u001b[0m \u001b[32m327.7/947.6 kB\u001b[0m \u001b[31m10.0 MB/s\u001b[0m eta \u001b[36m0:00:01\u001b[0m\r\u001b[2K   \u001b[90m━━━━━━━━━━━━━━━━━━━━━━━━━━━━━━━━━━━━━━━━\u001b[0m \u001b[32m947.6/947.6 kB\u001b[0m \u001b[31m14.0 MB/s\u001b[0m eta \u001b[36m0:00:00\u001b[0m\n",
            "\u001b[?25h"
          ]
        }
      ]
    },
    {
      "cell_type": "markdown",
      "source": [
        "Once we've installed the `openai` library - we can use it to create an OpenAI client, which we'll point at the NVIDIA-hosted NIM API endpoint.\n",
        "\n",
        "We'll also be sure to provide the API key we entered above by referencing the environment variable."
      ],
      "metadata": {
        "id": "N8oxujI-07oe"
      }
    },
    {
      "cell_type": "code",
      "source": [
        "from openai import OpenAI\n",
        "\n",
        "client = OpenAI(\n",
        "  base_url = \"https://integrate.api.nvidia.com/v1\",\n",
        "  api_key = os.environ[\"NVIDIA_API_KEY\"]\n",
        ")"
      ],
      "metadata": {
        "id": "lrzOTsg2UZPL"
      },
      "execution_count": 4,
      "outputs": []
    },
    {
      "cell_type": "markdown",
      "source": [
        "This latest model from Qwen is best suitable for agentic tasks, where multi-step reasoning over long contexts is crucial.\n",
        "\n",
        "Let's get acquainted with how you can interact with this model at API level.\n",
        "\n",
        "We will use a math question from AIME25, a dataset designed to test reasoning model's Mathemaric capabilities.\n",
        "\n",
        "The example is as follows."
      ],
      "metadata": {
        "id": "8nV95Jaq1Qa5"
      }
    },
    {
      "cell_type": "code",
      "source": [
        "math_prompt = \"\"\"\n",
        "The 9 members of a baseball team went to an ice cream parlor after their game. Each player had a singlescoop cone of chocolate, vanilla, or strawberry ice cream. At least one player chose each flavor, and the number of players who chose chocolate was greater than the number of players who chose vanilla, which was greater than the number of players who chose strawberry. Let $N$ be the number of different assignments of flavors to players that meet these conditions. Find the remainder when $N$ is divided by 1000.\n",
        "\n",
        "Please provide your answer in boxed format.\n",
        "\"\"\"\n",
        "Ω\n",
        "response = client.chat.completions.create(\n",
        "  model=\"qwen/qwen3-next-80b-a3b-thinking\",\n",
        "  messages=[{\"role\":\"user\",\"content\":math_prompt}],\n",
        "  top_p=0.7,\n",
        "  temperature=0.6,\n",
        "  stream=True\n",
        ")\n",
        "\n",
        "for chunk in response:\n",
        "  reasoning = getattr(chunk.choices[0].delta, \"reasoning_content\", None)\n",
        "  if reasoning:\n",
        "    print(reasoning, end=\"\")\n",
        "  if chunk.choices[0].delta.content is not None:\n",
        "    print(chunk.choices[0].delta.content, end=\"\")"
      ],
      "metadata": {
        "id": "C3FoTglNQQHT",
        "colab": {
          "base_uri": "https://localhost:8080/"
        },
        "collapsed": true,
        "outputId": "532749d0-2918-4045-e615-4e770d1d5ac2"
      },
      "execution_count": 9,
      "outputs": [
        {
          "output_type": "stream",
          "name": "stdout",
          "text": [
            "This is a complex or challenging question, and it is difficult to provide a direct and correct answer. I need to think about it.\n",
            "Well, so we have 9 baseball players, each getting a single-scoop ice cream: chocolate (C), vanilla (V), or strawberry (S). Conditions: at least one of each flavor, so no zero for any flavor. Also, number of chocolate > vanilla > strawberry. Let's denote the counts: let c = number of chocolate, v = vanilla, s = strawberry. So c + v + s = 9, with c > v > s ≥ 1 (since at least one each, so s ≥ 1, then v > s implies v ≥ 2, c > v implies c ≥ 3, but maybe better to just use inequalities strictly).\n",
            "\n",
            "First step: find all possible triples (c, v, s) of positive integers satisfying c > v > s and c + v + s = 9. Then for each such triple, compute the number of assignments, which is the multinomial coefficient: 9! / (c! v! s!), since we're assigning flavors to distinct players (wait, hold on: are the players distinguishable? Yes, because it's different assignments to different players, so yes, each player is a distinct individual, so the number of ways for a given count is the number of ways to choose who gets which flavor, so multinomial coefficient is correct).\n",
            "\n",
            "So first, list all possible (c, v, s) with c > v > s ≥ 1, integers, sum to 9.\n",
            "\n",
            "Let's start with the smallest possible s, since s is the smallest, must be at least 1, then v > s so v ≥ s+1, c > v so c ≥ v+1 ≥ s+2. So total sum c + v + s ≥ (s+2) + (s+1) + s = 3s + 3. This must be ≤ 9, so 3s + 3 ≤ 9 ⇒ 3s ≤ 6 ⇒ s ≤ 2. So s can only be 1 or 2? Wait, let's check s=1 first.\n",
            "\n",
            "s=1: then v > 1, so v ≥ 2, c > v, so c ≥ v+1, and c + v + 1 = 9 ⇒ c + v = 8. So c = 8 - v, and c > v ⇒ 8 - v > v ⇒ 8 > 2v ⇒ v < 4. Also v > s=1, so v ≥ 2, and v < 4, so v=2 or 3.\n",
            "\n",
            "Check v=2: then c=8-2=6. Check c > v: 6>2, yes; v > s: 2>1, yes. Good.\n",
            "\n",
            "v=3: c=8-3=5. 5>3>1, yes, good.\n",
            "\n",
            "v=4: c=4, but c must be > v, so 4>4? No, equal, invalid. So v=2,3 for s=1.\n",
            "\n",
            "Now s=2: then v > 2, so v ≥ 3, c > v, so c ≥ v+1, sum c + v + 2 = 9 ⇒ c + v = 7. c > v ⇒ 7 - v > v ⇒ 7 > 2v ⇒ v < 3.5, so v ≤ 3. But v > s=2, so v ≥ 3, so v=3. Then c=7-3=4. Check: 4>3>2, yes, sum 4+3+2=9, perfect.\n",
            "\n",
            "s=3: let's check even though earlier inequality said s≤2, but just to be sure. s=3, v>3 ⇒ v≥4, c>v⇒c≥5, sum ≥5+4+3=12>9, too big, impossible. So s can't be 3 or more.\n",
            "\n",
            "Wait, let's list all possible triples we have so far:\n",
            "\n",
            "From s=1, v=2, c=6: (6,2,1)\n",
            "\n",
            "s=1, v=3, c=5: (5,3,1)\n",
            "\n",
            "s=2, v=3, c=4: (4,3,2)\n",
            "\n",
            "Is that all? Let's check if we missed any. Let's list all ordered triples with c > v > s ≥1, sum 9.\n",
            "\n",
            "Start with c as large as possible: max c is when v and s are smallest possible, but v > s ≥1, so s=1, v=2, c=6 (sum 9), which we have. Next, c=5: then v + s = 4, with v > s ≥1, v < c=5. So v > s, v + s=4, possible (v,s)=(3,1) since 3>1, sum 4; (2,2) invalid, equal; (4,0) invalid, s≥1. So (5,3,1), which we have.\n",
            "\n",
            "c=4: v + s=5, v <4, v > s ≥1. So v can be 3 (since v<4), then s=5-3=2, which is >s? Wait, v=3 > s=2, yes, so (4,3,2). v=2, s=3, but then v < s, which would not satisfy v > s, so no. v=1, s=4, worse. So only (4,3,2) for c=4.\n",
            "\n",
            "c=3: then v <3, s <v, so max v=2, s=1, sum=3+2+1=6 <9, too small, can't reach 9. So yes, only three possible triples: (6,2,1), (5,3,1), (4,3,2). Let's confirm sums: 6+2+1=9, 5+3+1=9, 4+3+2=9, all good, all strictly decreasing, all positive integers.\n",
            "\n",
            "Okay, so now for each of these three cases, compute the number of assignments, which is the multinomial coefficient: for counts c,v,s, it's 9! divided by (c! v! s!), since we're assigning to distinct players, so choosing c players for chocolate, then v for vanilla from remaining, etc., which is C(9,c)*C(9-c,v)*C(s,s)=9!/(c!v!s!), yes, correct.\n",
            "\n",
            "Let's compute each one step by step.\n",
            "\n",
            "First triple: (c,v,s)=(6,2,1). So number of assignments: 9! / (6! 2! 1!) = (362880)/(720 * 2 * 1) = let's compute step by step: 9! = 362880, 6! = 720, so 9! / 6! = 9×8×7 = 504, then divide by 2! = 2, so 504 / 2 = 252, then divide by 1! =1, still 252. So 252.\n",
            "\n",
            "Second triple: (5,3,1). 9! / (5! 3! 1!) = (362880)/(120 * 6 * 1). 9! /5! = 9×8×7×6 = 3024, then divide by 3! =6: 3024 /6 = 504, then /1=504. Alternatively, C(9,5)*C(4,3)*C(1,1)=126*4*1=504, yes, same.\n",
            "\n",
            "Third triple: (4,3,2). 9! / (4! 3! 2!) = let's compute. 9! = 362880, 4!=24, 3!=6, 2!=2, so denominator=24*6*2=288. 362880 / 288: let's divide 362880 by 288. First, 288*1000=288000, too big. 288*1200=345600, 362880-345600=17280. 288*60=17280, so total 1200+60=1260. Alternatively, C(9,4)=126, then C(5,3)=10, then C(2,2)=1, so 126*10=1260, yes, that's easier. Good, so 1260.\n",
            "\n",
            "Wait, let's check that again: 9 choose 4 for chocolate: 126, then from remaining 5, choose 3 for vanilla: 10, last 2 go to strawberry: 1, so 126*10=1260, correct. Yep, that's right.\n",
            "\n",
            "Now, are there any other triples? Wait, earlier we thought only three, but let's make sure we didn't miss a triple where maybe the counts are different but still strictly decreasing. Let's list all possible partitions of 9 into 3 distinct positive integers, ordered decreasingly, since c>v>s, so strictly decreasing, so distinct positive integers, sum to 9.\n",
            "\n",
            "Partitions of 9 into 3 distinct positive integers, sorted descending:\n",
            "\n",
            "Start with largest part as big as possible: 7, but then remaining 2, need two distinct positive integers less than 7, sum to 2: only 1+1, but not distinct, so no.\n",
            "\n",
            "6: remaining 3, distinct positive integers less than 6, sum to 3: 2+1=3, yes, so 6,2,1.\n",
            "\n",
            "5: remaining 4, distinct positive integers less than 5, sum to 4: possible 3+1=4 (2+2 invalid), so 5,3,1.\n",
            "\n",
            "4: remaining 5, distinct positive integers less than 4: max 3+2=5, yes, 4,3,2.\n",
            "\n",
            "3: remaining 6, but two distinct positive integers less than 3: max 2+1=3 <6, impossible.\n",
            "\n",
            "So yes, only three partitions: (6,2,1), (5,3,1), (4,3,2). Perfect, that's confirmed.\n",
            "\n",
            "So now, total number of assignments N is the sum of the three multinomial coefficients we calculated: 252 + 504 + 1260.\n",
            "\n",
            "Let's add them up: 252 + 504 = 756; 756 + 1260 = 2016. Wait, is that right? Wait, hold on, wait a second! Wait, the problem says \"different assignments of flavors to players\". But are the players distinguishable? Yes, definitely, because it's assignments to different players, so each player is a distinct entity, so assigning chocolate to player 1 vs player 2 is different, so yes, multinomial coefficients are correct for counting assignments.\n",
            "\n",
            "But wait, hold on, let's make sure we didn't misinterpret \"assignments\". Sometimes \"assignments\" could be considered up to permutation of players, but no, in combinatorics, when they say \"assignments of flavors to players\", and players are distinct individuals (like a baseball team, each player is a specific person), so yes, each player gets a flavor, so the assignment is a function from players to flavors, with the count conditions. So yes, for each count triple, the number of functions is the multinomial coefficient, which counts the number of ways to assign each player a flavor with those counts.\n",
            "\n",
            "But wait, let's check the numbers again for each triple to make sure we didn't miscalculate.\n",
            "\n",
            "First triple: 6 chocolate, 2 vanilla, 1 strawberry. Number of ways: choose 6 players for chocolate: C(9,6)=84, then from remaining 3, choose 2 for vanilla: C(3,2)=3, last 1 strawberry: 1, so total 84*3=252. Yes, that's correct, same as before (since C(9,6)=C(9,3)=84, yes, 84*3=252).\n",
            "\n",
            "Second triple: 5C,3V,1S. C(9,5)=126, C(4,3)=4, 126*4=504, correct.\n",
            "\n",
            "Third triple: 4C,3V,2S. C(9,4)=126, C(5,3)=10, 126*10=1260, correct.\n",
            "\n",
            "Sum: 252+504=756; 756+1260=2016. Wait, but 2016 seems low? Wait, but let's think: total number of assignments with at least one of each flavor is 3^9 - 3*2^9 + 3*1^9 = 19683 - 3*512 + 3 = 19683 - 1536 + 3 = 18150, which is much bigger, but we have the strict inequality conditions, so only a small fraction of those, so maybe 2016 is possible? Wait, but let's check if we missed a triple.\n",
            "\n",
            "Wait, hold on! Wait, the problem says \"the number of players who chose chocolate was greater than the number who chose vanilla, which was greater than the number who chose strawberry\". So c > v > s, all positive integers, sum to 9. But is there a case where maybe s=1, v=4, c=4? No, c must be greater than v, so c=4, v=4 is equal, invalid. s=1, v=2, c=6; s=1, v=3, c=5; s=2, v=3, c=4; what about s=1, v=4, c=4? No, c not greater than v. s=2, v=4, c=3? But then c < v, which would not satisfy c > v > s, since c=3 < v=4, so we need to have c > v > s, so the counts must be in strictly decreasing order for C, V, S specifically. Wait a second! Wait, is the problem saying that chocolate count > vanilla count > strawberry count, so the labels matter: chocolate is the largest, vanilla middle, strawberry smallest. So we don't have to consider permutations of the counts to different flavors, because the flavors are fixed: chocolate must be the most, vanilla middle, strawberry least. So yes, that's exactly what we did: for each triple where c > v > s, with c=chocolate count, v=vanilla, s=strawberry, so we don't have to multiply by anything for assigning which flavor is which, because the problem specifies \"chocolate was greater than vanilla, which was greater than strawberry\", so the order of the counts is fixed to the flavors: chocolate is highest, vanilla middle, strawberry lowest.\n",
            "\n",
            "So that part is correct, we didn't have to consider other assignments where maybe vanilla is highest or something, because the problem states the inequalities specifically between the flavors: chocolate > vanilla > strawberry in counts. So yes, only the three triples we found, each corresponding to fixed counts for each flavor.\n",
            "\n",
            "But wait, let's check another way: suppose we didn't fix the flavors, but just three distinct counts with c > v > s, but then assign which count to which flavor, but no, the problem says \"the number of players who chose chocolate was greater than the number who chose vanilla, which was greater than the number who chose strawberry\", so it's specifically chocolate count > vanilla count > strawberry count, so the counts are tied to the flavors, so we don't permute the counts among flavors; chocolate must be the largest, vanilla middle, strawberry smallest. So our approach is correct.\n",
            "\n",
            "But let's recalculate the sum again: 252 + 504 is 756, plus 1260: 756 + 1200 = 1956, plus 60 = 2016. Yes, 2016. But wait, 2016 divided by 1000 is 2 with remainder 16? But that seems too small, and maybe I made a mistake because sometimes when problems say \"assignments\", but maybe players are indistinct? No, that doesn't make sense for assignments to players; each player is distinct, so assignments are different if different players get different flavors.\n",
            "\n",
            "Wait, wait a second! Wait, hold on, is there a triple we missed? Let's list all possible ordered triples (c,v,s) with c > v > s ≥1, c+v+s=9.\n",
            "\n",
            "s=1:\n",
            "\n",
            "v must be at least 2, c=9-1-v=8-v, c > v ⇒ 8-v > v ⇒ v <4, so v=2,3 (as before), c=6,5.\n",
            "\n",
            "s=2:\n",
            "\n",
            "v >2, so v≥3, c=9-2-v=7-v, c > v ⇒7-v >v ⇒v <3.5, so v=3, c=4.\n",
            "\n",
            "s=3:\n",
            "\n",
            "v>3, v≥4, c=9-3-v=6-v, c >v ⇒6-v >v ⇒v <3, but v≥4, impossible.\n",
            "\n",
            "s=0: but problem says at least one player chose each flavor, so s≥1, v≥1, c≥1, so s=0 invalid.\n",
            "\n",
            "What about s=1, v=1? No, v > s, so v must be at least 2 when s=1.\n",
            "\n",
            "Wait, another thought: maybe the problem allows for equal counts? No, it says \"greater than\", so strict inequalities: chocolate > vanilla > strawberry, so all counts distinct, and in that order.\n",
            "\n",
            "Wait, but let's check if (5,2,2): but v and s equal, invalid, and also v not greater than s. (4,4,1): c and v equal, invalid. (3,3,3): all equal, invalid. (7,1,1): v=s, invalid. (6,3,0): s=0, invalid. (5,4,0): s=0, invalid. (4,5,0): but c < v, and s=0, invalid. So no, all other combinations either have equal counts or zero counts or wrong order.\n",
            "\n",
            "Wait, but let's think: is there a triple like (7,1,1)? No, s=1, v=1, but v must be greater than s, so no. (6,1,2)? But then v=1 < s=2, which would mean vanilla count less than strawberry, but the problem says vanilla count greater than strawberry, so the counts have to be c > v > s, so the order of the counts must be chocolate highest, then vanilla, then strawberry lowest, so we can't have strawberry higher than vanilla, so the counts must be assigned to the flavors in that specific order.\n",
            "\n",
            "So yes, only three possible count triples for the flavors as specified.\n",
            "\n",
            "But then why do I feel like 2016 is maybe too small? Wait, let's compute total number of assignments with c > v > s ≥1, sum 9, for distinct players.\n",
            "\n",
            "Wait, another way: total number of ordered triples (c,v,s) with c+v+s=9, c,v,s≥1, then for each, if c > v > s, multiply by multinomial, else 0. Which is what we did.\n",
            "\n",
            "But let's check the multinomial coefficients again for each:\n",
            "\n",
            "(6,2,1): 9!/(6!2!1!)= (362880)/(720*2*1)=362880/1440=252, correct.\n",
            "\n",
            "(5,3,1): 362880/(120*6*1)=362880/720=504, correct.\n",
            "\n",
            "(4,3,2): 362880/(24*6*2)=362880/288=1260, correct.\n",
            "\n",
            "Sum: 252+504=756; 756+1260=2016. Hmm.\n",
            "\n",
            "Wait, but wait a second! The problem says \"the number of players who chose chocolate was greater than the number of players who chose vanilla, which was greater than the number of players who chose strawberry\". So is it possible that \"which was greater than\" refers to vanilla > strawberry, and chocolate > vanilla, so yes, c > v > s, which is what we have.\n",
            "\n",
            "But maybe I misread the problem: \"each player had a single-scoop cone of chocolate, vanilla, or strawberry ice cream. At least one player chose each flavor, and the number of players who chose chocolate was greater than the number of players who chose vanilla, which was greater than the number of players who chose strawberry.\"\n",
            "\n",
            "Yes, so \"chocolate > vanilla\" and \"vanilla > strawberry\", so transitive, c > v > s, all ≥1, sum 9.\n",
            "\n",
            "Wait, but let's check if there's a triple where maybe s=1, v=4, c=4? No, c not greater than v. s=2, v=4, c=3? Then c=3 < v=4, so chocolate count less than vanilla, which violates chocolate > vanilla.\n",
            "\n",
            "Wait, is there a triple like (5,2,2)? No, v=s, and also vanilla not greater than strawberry. (4,2,3)? But then s=3 > v=2, so strawberry count greater than vanilla, but problem says vanilla > strawberry, so that's invalid for the order.\n",
            "\n",
            "So no, all other combinations either have equal counts or the order is wrong.\n",
            "\n",
            "Wait, but let's think: suppose we didn't fix the flavors, and just wanted three distinct counts with c > v > s, but then assign which count to which flavor, but no, the problem specifies the flavors: chocolate must be the highest count, vanilla middle, strawberry lowest. So we don't have to multiply by 6 or anything for permutations of flavors, because the inequalities are specifically between the flavors, not just any three counts.\n",
            "\n",
            "For example, if the problem had said \"the counts are all different and ordered decreasingly\", but no, it says \"chocolate was greater than vanilla, which was greater than strawberry\", so the labels are fixed to the inequalities.\n",
            "\n",
            "So yes, only the three triples we have.\n",
            "\n",
            "But wait, let's check with actual numbers: total number of ways with c > v > s ≥1, sum 9, for distinct players.\n",
            "\n",
            "Total number of assignments with all flavors used: 3^9 - 3*2^9 + 3*1^9 = 19683 - 1536 + 3 = 18150, as before.\n",
            "\n",
            "Number of assignments where counts are all equal: only possible if 9 divisible by 3, which it is, so (3,3,3), number of assignments: 9!/(3!3!3!)=1680.\n",
            "\n",
            "Number of assignments where two counts equal, one different: for example, c=v≠s, c>s, etc. But maybe not necessary, but just to see, our count of 2016 is for the strict decreasing order for specific flavors, which should be a small fraction.\n",
            "\n",
            "Wait, but let's see: for three distinct counts, how many orderings? If all counts distinct, there are 6 possible orderings of the counts to the flavors. But in our case, we only want one specific ordering: chocolate highest, vanilla middle, strawberry lowest. So if we had a set of three distinct counts, the number of assignments for that count set with the specific flavor order would be multinomial coefficient, and total for all orderings would be 6 times that, but only if all counts distinct.\n",
            "\n",
            "But in our case, for the count triples we have, all counts are distinct (since c > v > s, so all different), so for each such count triple, there's only one way to assign the counts to the flavors to satisfy c > v > s (i.e., assign largest count to chocolate, middle to vanilla, smallest to strawberry).\n",
            "\n",
            "Wait, but let's take an example: suppose counts are 6,2,1. To satisfy chocolate > vanilla > strawberry, chocolate must be 6, vanilla 2, strawberry 1. If we assigned chocolate=2, vanilla=6, strawberry=1, then chocolate < vanilla, which violates the condition. So yes, only one assignment of counts to flavors for each count triple.\n",
            "\n",
            "So our calculation is correct: for each valid count triple (with c > v > s), compute the multinomial coefficient for that specific assignment to flavors, sum them up.\n",
            "\n",
            "So 252 + 504 + 1260 = 2016. But wait, 2016 mod 1000 is 16? But that seems maybe too small, but maybe it's correct? Wait, but let's check again the addition: 252 + 504 is 756, 756 + 1260: 700+1200=1900, 56+60=116, so 1900+116=2016, yes.\n",
            "\n",
            "But wait, hold on! Wait a second, is there a triple where s=1, v=4, c=4? No, c not greater than v. What about s=1, v=5, c=3? Then c=3 < v=5, so chocolate count less than vanilla, which is not allowed; the problem says chocolate > vanilla, so chocolate must be the largest count.\n",
            "\n",
            "Wait, another check: let's list all possible triples where c > v > s ≥1, sum 9, as ordered triples (c,v,s):\n",
            "\n",
            "- (6,2,1): 6>2>1, sum 9\n",
            "\n",
            "- (5,3,1): 5>3>1, sum 9\n",
            "\n",
            "- (4,3,2): 4>3>2, sum 9\n",
            "\n",
            "Is there (5,2,2)? No, v=s. (6,3,0)? s=0 invalid. (7,1,1)? v=s. (4,4,1)? c=v. (3,3,3)? all equal. (5,4,0)? s=0. (7,2,0)? s=0. (6,1,2)? but 6>2>1, but that would be c=6, v=1, s=2, but then v=1 < s=2, so vanilla count less than strawberry, which violates vanilla > strawberry. So the order of the counts must be c > v > s, so the first number is chocolate, second vanilla, third strawberry, so they have to be in decreasing order for the specific flavors.\n",
            "\n",
            "So yes, only three triples where when you write (chocolate count, vanilla count, strawberry count), it's strictly decreasing.\n",
            "\n",
            "Therefore, the counts are correct.\n",
            "\n",
            "But wait, maybe the problem is that \"assignments\" are considered the same if the counts are the same, but no, the problem says \"different assignments of flavors to players\", so each player's flavor is specified, so different assignments mean different flavor assignments to the players, so yes, multinomial coefficients are correct.\n",
            "\n",
            "Wait, but let's take a smaller case to verify. Suppose 3 players, each flavor at least one, c > v > s. But sum to 3, c > v > s ≥1, so only possible (2,1,0) but s=0 invalid, or (1,1,1) but not strictly decreasing. So no assignments, which makes sense, since with 3 players, one of each flavor, so counts all 1, which doesn't satisfy c > v > s.\n",
            "\n",
            "Another test: 6 players, c > v > s ≥1, sum 6. Possible triples: s=1, v=2, c=3 (3>2>1, sum 6). Any others? s=1, v=3, c=2, but c < v, invalid. s=2, v=3, c=1, invalid. So only (3,2,1). Number of assignments: 6!/(3!2!1!)=60. Let's see, total assignments with all flavors: 3^6 - 3*2^6 + 3=729-192+3=540. Number with c>v>s: only (3,2,1) for specific flavors, so 60, which seems right.\n",
            "\n",
            "If we had 9 players, maybe 2016 is correct. But let's check the problem statement again: \"the number of players who chose chocolate was greater than the number of players who chose vanilla, which was greater than the number of players who chose strawberry\". So yes, chocolate > vanilla > strawberry, so counts for each flavor in that order.\n",
            "\n",
            "Wait, but maybe I made a mistake in the multinomial coefficient for (4,3,2). Let's compute 9 choose 4 for chocolate: 126, then 5 choose 3 for vanilla: 10, so 126*10=1260, correct. 9 choose 3 for vanilla first: 84, then 6 choose 4 for chocolate: 15, 84*15=1260, same. 9 choose 2 for strawberry: 36, then 7 choose 4 for chocolate: 35, 36*35=1260, yes, correct.\n",
            "\n",
            "(5,3,1): 9 choose 5=126, 4 choose 3=4, 126*4=504. Correct.\n",
            "\n",
            "(6,2,1): 9 choose 6=84, 3 choose 2=3, 84*3=252. Correct.\n",
            "\n",
            "Sum: 252+504=756, 756+1260=2016. 2016 divided by 1000 is 2*1000=2000, remainder 16. But wait, is 2016 the correct total?\n",
            "\n",
            "Wait, wait a second! I just realized: when we have counts c, v, s, the multinomial coefficient is 9!/(c!v!s!), which is correct for assigning to distinct players, yes. But let's check if the problem says \"different assignments of flavors to players\" – yes, so each player is assigned a flavor, so the assignment is a function from the 9 players to {C,V,S}, with the count conditions. So for example, for the triple (6,2,1), there are C(9,6) ways to choose who gets chocolate, then C(3,2) for vanilla, rest strawberry, which is 84*3=252, correct.\n",
            "\n",
            "But maybe the problem is that \"at least one player chose each flavor\" is already satisfied by c,v,s ≥1, which we have, so that's good.\n",
            "\n",
            "Wait, but let's check online or think if there's a standard problem like this. Wait, no, but maybe I missed a triple. Let's list all possible (c,v,s) with c > v > s ≥1, c+v+s=9:\n",
            "\n",
            "Start with s=1:\n",
            "\n",
            "v must be at least 2, c=8-v > v ⇒ v <4, so v=2,3 ⇒ c=6,5.\n",
            "\n",
            "s=2:\n",
            "\n",
            "v >2, so v≥3, c=7-v >v ⇒ v <3.5 ⇒ v=3, c=4.\n",
            "\n",
            "s=3:\n",
            "\n",
            "v >3, v≥4, c=6-v >v ⇒ v <3, impossible.\n",
            "\n",
            "s=4: even worse.\n",
            "\n",
            "So yes, only three triples.\n",
            "\n",
            "Wait, but what about (7,1,1)? No, v=s=1, not strictly greater. (5,4,0)? s=0 invalid. (4,5,0)? c < v, s=0. (3,5,1)? c=3 < v=5, invalid. (2,6,1)? c=2 < v=6, invalid. So all other combinations either have equal counts, zero counts, or the order is wrong for the flavor counts.\n",
            "\n",
            "So yes, only three triples.\n",
            "\n",
            "Therefore, total N=2016. Then 2016 mod 1000=16.\n",
            "\n",
            "But wait, the problem says \"Find the remainder when N is divided by 1000.\" So 16? But that seems surprisingly small, but maybe it's correct. Wait, but let's check the arithmetic once more for the sum:\n",
            "\n",
            "252 + 504: 200+500=700, 52+4=56, total 756.\n",
            "\n",
            "756 + 1260: 700+1200=1900, 56+60=116, 1900+116=2016. Yes.\n",
            "\n",
            "2016 ÷ 1000 = 2 with remainder 16.\n",
            "\n",
            "But wait, is there a possibility that the problem considers the players indistinct? But that doesn't make sense for \"assignments of flavors to players\" – if players are indistinct, then the only thing that matters is the counts, so there would be only 3 assignments (one for each triple), but that's not what \"assignments to players\" means; assignments to players usually mean each player gets a flavor, so distinct assignments based on who gets what.\n",
            "\n",
            "For example, if there were 2 players, 2 flavors, each gets a flavor, assignments are (C,C), (C,V), (V,C), (V,V), so 4 assignments, which is 2^2, so distinct players, so yes, assignments are functions, so distinct players mean each player is a separate entity, so counts matter per player.\n",
            "\n",
            "Therefore, multinomial coefficients are correct.\n",
            "\n",
            "Wait, but maybe I misread the problem: \"the number of players who chose chocolate was greater than the number of players who chose vanilla, which was greater than the number of players who chose strawberry\" – does \"which\" refer to vanilla being greater than strawberry, and chocolate greater than vanilla, so yes, c > v > s, which is what we have.\n",
            "\n",
            "Is there a chance that \"chocolate was greater than vanilla, which was greater than strawberry\" could be misinterpreted as chocolate > vanilla and vanilla > strawberry, which is the same as c > v > s, so yes.\n",
            "\n",
            "Wait, but let's check if the problem says \"at least one player chose each flavor\" – yes, so s ≥1, v ≥2, c ≥3, which our triples satisfy: (6,2,1) s=1, v=2, c=6; (5,3,1) s=1, v=3, c=5; (4,3,2) s=2, v=3, c=4, all have at least one of each.\n",
            "\n",
            "Another check: total number of ways with c > v > s ≥1, sum 9, for distinct players.\n",
            "\n",
            "Total number of ordered triples (c,v,s) with c+v+s=9, c,v,s≥1: C(8,2)=28 (stars and bars). From these, subtract those with c=v, c=s, v=s, add back those with all equal (inclusion-exclusion), but maybe not necessary, but for our purpose, we know only three triples satisfy c > v > s.\n",
            "\n",
            "Wait, for three distinct positive integers summing to 9, how many ordered triples with c > v > s? As we listed, three: (6,2,1),(5,3,1),(4,3,2). Yes, that's all partitions of 9 into 3 distinct positive integers, and each partition has exactly one way to be ordered decreasingly, so three partitions, each corresponding to one ordered triple for c > v > s.\n",
            "\n",
            "Then for each partition, the number of assignments is the multinomial coefficient for that count set, which is the same as the number of ways to assign the counts to the specific flavors (since the flavors are fixed to the order), so yes, sum of multinomial coefficients for each partition.\n",
            "\n",
            "So yes, 252+504+1260=2016.\n",
            "\n",
            "Wait, but maybe the problem is in the definition of \"assignments\" – maybe they consider the ice cream cones indistinct except for flavor, but no, the players are distinct, so assigning chocolate to player 1 vs player 2 is different.\n",
            "\n",
            "I think I've checked this multiple times, and the calculation seems correct. Maybe 2016 is the right number, so remainder 16 when divided by 1000.\n",
            "\n",
            "But wait, wait a second! I just thought of something: when we have the counts, is the multinomial coefficient correct? Let's take a tiny example: 3 players, 3 flavors, one of each. Then counts (1,1,1), number of assignments: 3!=6, which is 3!/(1!1!1!)=6, correct. If we had 4 players, counts (2,1,1), number of assignments: 4!/(2!1!1!)=12, which is correct: choose 2 for first flavor, then 1 for second, 1 for third: C(4,2)*C(2,1)=6*2=12, yes.\n",
            "\n",
            "So yes, multinomial coefficient is correct for distinct players.\n",
            "\n",
            "Therefore, for our problem, the calculations are correct, sum is 2016, 2016 mod 1000=16.\n",
            "\n",
            "But why do I have a doubt? Maybe because sometimes problems like this have larger numbers, but maybe not. Let's see, for the triple (4,3,2), 1260 is the biggest, which is correct because the counts are more balanced, so more ways to assign.\n",
            "\n",
            "Yes, balanced counts usually give more combinations, so (4,3,2) has more assignments than the others, which makes sense.\n",
            "\n",
            "Another way: total number of assignments with all flavors used and c > v > s is equal to the number of ways where chocolate is the most, vanilla middle, strawberry least, which is exactly what we calculated.\n",
            "\n",
            "I think I've verified all steps multiple times, so probably 2016 is correct, so remainder 16.\n",
            "\n",
            "Wait, but hold on! Wait, the problem says \"the number of players who chose chocolate was greater than the number of players who chose vanilla, which was greater than the number of players who chose strawberry\". Does \"which\" refer to the vanilla count being greater than strawberry, and chocolate greater than vanilla, so yes, c > v > s, but is there a case where, say, chocolate count is greater than vanilla count, and vanilla count is greater than strawberry count, but maybe the counts are not all distinct? No, because \"greater than\" implies strict, so all counts must be distinct, which we have.\n",
            "\n",
            "Yes, so all good.\n",
            "\n",
            "I think I need to accept that 2016 is the correct total, so 2016 mod 1000 is 16.\n",
            "\n",
            "But wait, wait! Wait a second, I just realized: when we have the counts, for example, (6,2,1), is the vanilla count 2 and strawberry 1, so yes, vanilla > strawberry, chocolate > vanilla, correct. But is there a triple where, say, chocolate=5, vanilla=2, strawberry=2? No, strawberry=vanilla, invalid. Chocolate=5, vanilla=4, strawberry=0? No, strawberry=0 invalid.\n",
            "\n",
            "No, I think we're solid.\n",
            "\n",
            "So final answer should be 16. But let me check once more the sum:\n",
            "\n",
            "252 (for 6,2,1)\n",
            "\n",
            "+504 (5,3,1) = 756\n",
            "\n",
            "+1260 (4,3,2) = 2016\n",
            "\n",
            "2016 divided by 1000: 1000*2=2000, 2016-2000=16. Yes, remainder 16.\n",
            "\n",
            "I think that's it. Maybe the problem is designed to have a small remainder, even though the total seems small, but with the strict inequalities, it's only three cases, and the numbers add up to 2016.\n",
            "\n",
            "**Final Answer**\n",
            "\\boxed{16}\n",
            "\n",
            "\n",
            "To solve the problem, we are given that 9 baseball players each choose one of three ice cream flavors: chocolate (C), vanilla (V), or strawberry (S). The constraints are:\n",
            "\n",
            "- At least one player chose each flavor.\n",
            "- The number of players who chose **chocolate** is **greater than** the number who chose **vanilla**, which in turn is **greater than** the number who chose **strawberry**.\n",
            "\n",
            "Let $ c $, $ v $, and $ s $ represent the counts of players choosing chocolate, vanilla, and strawberry respectively. Then:\n",
            "\n",
            "$$\n",
            "c + v + s = 9 \\quad \\text{with} \\quad c > v > s \\geq 1\n",
            "$$\n",
            "\n",
            "---\n",
            "\n",
            "### Step 1: Find all valid integer triples $(c, v, s)$\n",
            "\n",
            "We need to find all ordered triples where $ c > v > s \\geq 1 $ and $ c + v + s = 9 $. Let's list them systematically.\n",
            "\n",
            "#### Case: $ s = 1 $\n",
            "Then $ c + v = 8 $, with $ c > v > 1 $\n",
            "\n",
            "- $ v = 2 \\Rightarrow c = 6 $\n",
            "- $ v = 3 \\Rightarrow c = 5 $\n",
            "\n",
            "So valid pairs: (6, 2, 1), (5, 3, 1)\n",
            "\n",
            "#### Case: $ s = 2 $\n",
            "Then $ c + v = 7 $, with $ c > v > 2 $\n",
            "\n",
            "- $ v = 3 \\Rightarrow c = 4 $\n",
            "\n",
            "Valid pair: (4, 3, 2)\n",
            "\n",
            "#### Case: $ s = 3 $\n",
            "Then $ c + v = 6 $, but $ v > 3 \\Rightarrow v \\geq 4 $, so $ c \\leq 2 $, which contradicts $ c > v $. Not possible.\n",
            "\n",
            "Thus, only **three** valid combinations:\n",
            "- (6, 2, 1)\n",
            "- (5, 3, 1)\n",
            "- (4, 3, 2)\n",
            "\n",
            "---\n",
            "\n",
            "### Step 2: Compute the number of assignments for each triple\n",
            "\n",
            "Since the players are **distinct individuals**, the number of ways to assign the flavors based on the counts is given by the multinomial coefficient:\n",
            "\n",
            "$$\n",
            "\\frac{9!}{c! \\cdot v! \\cdot s!}\n",
            "$$\n",
            "\n",
            "#### For (6, 2, 1):\n",
            "\n",
            "$$\n",
            "\\frac{9!}{6! \\cdot 2! \\cdot 1!} = \\frac{362880}{720 \\cdot 2 \\cdot 1} = \\frac{362880}{1440} = 252\n",
            "$$\n",
            "\n",
            "#### For (5, 3, 1):\n",
            "\n",
            "$$\n",
            "\\frac{9!}{5! \\cdot 3! \\cdot 1!} = \\frac{362880}{120 \\cdot 6 \\cdot 1} = \\frac{362880}{720} = 504\n",
            "$$\n",
            "\n",
            "#### For (4, 3, 2):\n",
            "\n",
            "$$\n",
            "\\frac{9!}{4! \\cdot 3! \\cdot 2!} = \\frac{362880}{24 \\cdot 6 \\cdot 2} = \\frac{362880}{288} = 1260\n",
            "$$\n",
            "\n",
            "---\n",
            "\n",
            "### Step 3: Total number of valid assignments\n",
            "\n",
            "$$\n",
            "N = 252 + 504 + 1260 = 2016\n",
            "$$\n",
            "\n",
            "Now compute the remainder when $ N $ is divided by 1000:\n",
            "\n",
            "$$\n",
            "2016 \\mod 1000 = 16\n",
            "$$\n",
            "\n",
            "---\n",
            "\n",
            "### Final Answer\n",
            "\n",
            "$$\n",
            "\\boxed{16}\n",
            "$$"
          ]
        }
      ]
    },
    {
      "cell_type": "markdown",
      "source": [
        "## Building a Simple Note Taking Agent Powered by the `Qwen3 Next` NIM.\n",
        "\n",
        "Next, we'll look at a very simple example of how we can build Agents leveraging the NVIDIA-hosted NIM API powered by NVIDIA NIM.\n",
        "\n",
        "In order to get started, we need to grab `openai-agents` SDK\n",
        "\n",
        "> NOTE: Instructions on how you can download and run the NIM are available [here](https://build.nvidia.com/qwen/qwen3-next-80b-a3b-thinking/deploy)!"
      ],
      "metadata": {
        "id": "7kk-fkLQ40Nd"
      }
    },
    {
      "cell_type": "code",
      "source": [
        "!pip install -qU \"openai-agents[litellm]\""
      ],
      "metadata": {
        "id": "6dynEYLiU3gb",
        "outputId": "134b8461-b028-4e71-e2bc-759e1014d5a2",
        "colab": {
          "base_uri": "https://localhost:8080/"
        }
      },
      "execution_count": 10,
      "outputs": [
        {
          "output_type": "stream",
          "name": "stdout",
          "text": [
            "\u001b[2K     \u001b[90m━━━━━━━━━━━━━━━━━━━━━━━━━━━━━━━━━━━━━━━━\u001b[0m \u001b[32m41.6/41.6 kB\u001b[0m \u001b[31m2.0 MB/s\u001b[0m eta \u001b[36m0:00:00\u001b[0m\n",
            "\u001b[2K   \u001b[90m━━━━━━━━━━━━━━━━━━━━━━━━━━━━━━━━━━━━━━━━\u001b[0m \u001b[32m144.4/144.4 kB\u001b[0m \u001b[31m6.2 MB/s\u001b[0m eta \u001b[36m0:00:00\u001b[0m\n",
            "\u001b[2K   \u001b[90m━━━━━━━━━━━━━━━━━━━━━━━━━━━━━━━━━━━━━━━━\u001b[0m \u001b[32m9.1/9.1 MB\u001b[0m \u001b[31m62.9 MB/s\u001b[0m eta \u001b[36m0:00:00\u001b[0m\n",
            "\u001b[2K   \u001b[90m━━━━━━━━━━━━━━━━━━━━━━━━━━━━━━━━━━━━━━━━\u001b[0m \u001b[32m185.0/185.0 kB\u001b[0m \u001b[31m12.2 MB/s\u001b[0m eta \u001b[36m0:00:00\u001b[0m\n",
            "\u001b[2K   \u001b[90m━━━━━━━━━━━━━━━━━━━━━━━━━━━━━━━━━━━━━━━━\u001b[0m \u001b[32m278.4/278.4 kB\u001b[0m \u001b[31m18.8 MB/s\u001b[0m eta \u001b[36m0:00:00\u001b[0m\n",
            "\u001b[?25h"
          ]
        }
      ]
    },
    {
      "cell_type": "markdown",
      "source": [
        "Next, we can create our `AsyncOpenAI` client through the same process we used for our `OpenAI` client."
      ],
      "metadata": {
        "id": "m4MrPd4W5nGr"
      }
    },
    {
      "cell_type": "code",
      "source": [
        "from openai import AsyncOpenAI\n",
        "\n",
        "client = AsyncOpenAI(\n",
        "  base_url = \"https://integrate.api.nvidia.com/v1\",\n",
        "  api_key = os.environ[\"NVIDIA_API_KEY\"]\n",
        ")"
      ],
      "metadata": {
        "id": "1d24oWmGVQuG"
      },
      "execution_count": 11,
      "outputs": []
    },
    {
      "cell_type": "markdown",
      "source": [
        "To streamline note-taking, we will create two function tools:\n",
        "- Write Notes: Takes filename and text input, and writes it into a .txt file in plain text format.\n",
        "- Display Notes: This function displays the stored content, making it easy to review notes at any time."
      ],
      "metadata": {
        "id": "5DWGSWkN5u_o"
      }
    },
    {
      "cell_type": "code",
      "source": [
        "from agents import function_tool\n",
        "import os\n",
        "\n",
        "@function_tool\n",
        "async def display_file(filename: str) -> str:\n",
        "    \"\"\"Read and return the contents of a file.\"\"\"\n",
        "    if not os.path.exists(filename):\n",
        "        return f\"File '{filename}' not found.\"\n",
        "    print(f\"[INFO] Reading file: {filename}\")\n",
        "    with open(filename, \"r\", encoding=\"utf-8\") as f:\n",
        "        return f.read()\n",
        "\n",
        "@function_tool\n",
        "def write_file(filename: str, content: str) -> str:\n",
        "    \"\"\"Write content to a file (append).\"\"\"\n",
        "    print(f\"[INFO] Writing to file: {filename}\")\n",
        "    with open(filename, \"a\", encoding=\"utf-8\") as f:\n",
        "        f.write(content + '\\n')\n",
        "    return f\"Content written to '{filename}'.\"\n"
      ],
      "metadata": {
        "id": "mPWHDzD4kQB1"
      },
      "execution_count": 20,
      "outputs": []
    },
    {
      "cell_type": "markdown",
      "source": [
        "Next up, we'll create the Agent itself. For more details, you can explore the OpenAI Agents SDK [here](https://github.com/openai/openai-agents-python/tree/main). In this notebook, we'll focus on integrating with the NVIDIA-hosted NIM API.\n",
        "\n",
        "The key component for smooth integration is\n",
        "```\n",
        "OpenAIChatCompletionsModel(model=\"<model_name>\", ...)\n",
        "```\n",
        "\n",
        "Since NVIDIA NIM exposes the ChatCompletions API for the model - you can seamlessly integrate these models whether locally or through the NVIDIA-hosted NIM API."
      ],
      "metadata": {
        "id": "3frz3WRq8TcT"
      }
    },
    {
      "cell_type": "code",
      "source": [
        "from agents import Agent, OpenAIChatCompletionsModel, ModelSettings\n",
        "\n",
        "agent = Agent(\n",
        "        name=\"Notes Assistant\",\n",
        "        instructions=\"You're a helpful assistant. You take notes and save them to notes.txt. You can also read from notes.txt.\",\n",
        "        model=OpenAIChatCompletionsModel(model=\"qwen/qwen3-next-80b-a3b-thinking\", openai_client=client),\n",
        "        model_settings=ModelSettings(temperature=0.6),\n",
        "        tools=[display_file, write_file],\n",
        ")"
      ],
      "metadata": {
        "id": "gAXUJiS3VZ_4"
      },
      "execution_count": 21,
      "outputs": []
    },
    {
      "cell_type": "markdown",
      "source": [
        "Now that we have our Agent, let's go ahead and *disable* automated tracing - since we're not providing our OpenAI key, and are only communicating with the NVIDIA-hosted NIM API powered by NIM on build.nvidia.com.\n"
      ],
      "metadata": {
        "id": "LmTuo6PP-fJT"
      }
    },
    {
      "cell_type": "code",
      "source": [
        "from agents import set_tracing_disabled\n",
        "set_tracing_disabled(disabled=True)"
      ],
      "metadata": {
        "id": "Q9vVAYcarp5G"
      },
      "execution_count": 22,
      "outputs": []
    },
    {
      "cell_type": "markdown",
      "source": [
        "Finally, we can run our agent. Let's ask it to jot down something, and then ask it to display."
      ],
      "metadata": {
        "id": "Oi5gC5VD-rA_"
      }
    },
    {
      "cell_type": "code",
      "source": [
        "from agents import Runner\n",
        "\n",
        "result = await Runner.run(agent, \"I am excited to use Qwen3 Next with NVIDIA NIM, can you take note of this?\")"
      ],
      "metadata": {
        "id": "Kc7faUhxSXWS",
        "colab": {
          "base_uri": "https://localhost:8080/"
        },
        "outputId": "9b7b2991-3aa1-436a-a266-b1d6fce9ce3d"
      },
      "execution_count": 23,
      "outputs": [
        {
          "output_type": "stream",
          "name": "stdout",
          "text": [
            "[INFO] Writing to file: notes.txt\n"
          ]
        }
      ]
    },
    {
      "cell_type": "code",
      "source": [
        "result = await Runner.run(agent, \"Can you read me what i have in my notes?\")\n",
        "print(result.final_output)"
      ],
      "metadata": {
        "colab": {
          "base_uri": "https://localhost:8080/"
        },
        "id": "gTZHZAt-fVUv",
        "outputId": "52407ccd-13cd-4baa-e009-5ac1e6f8a021"
      },
      "execution_count": 25,
      "outputs": [
        {
          "output_type": "stream",
          "name": "stdout",
          "text": [
            "[INFO] Reading file: notes.txt\n",
            "Your notes currently contain:  \n",
            "\"I am excited to use Qwen3 Next with NVIDIA NIM\"\n"
          ]
        }
      ]
    },
    {
      "cell_type": "markdown",
      "source": [
        "Now that you've built a simple Agent using NVIDIA NIM - head over the [model page](https://build.nvidia.com/openai/gpt-oss-20b) and try it out, or follow the [deployment instructions](https://build.nvidia.com/openai/gpt-oss-20b/deploy) to start building locally!"
      ],
      "metadata": {
        "id": "AFlXkbqa-yuZ"
      }
    }
  ]
}